{
  "nbformat": 4,
  "nbformat_minor": 0,
  "metadata": {
    "colab": {
      "name": "Prophet pilot.ipynb",
      "provenance": []
    },
    "kernelspec": {
      "name": "python3",
      "display_name": "Python 3"
    },
    "language_info": {
      "name": "python"
    }
  },
  "cells": [
    {
      "cell_type": "markdown",
      "metadata": {
        "id": "O96S8VwXZvoZ"
      },
      "source": [
        "## 데이콘 비트코인 가격 예측 - Prophet pilot"
      ]
    },
    {
      "cell_type": "markdown",
      "metadata": {
        "id": "L3rlbQTrakRJ"
      },
      "source": [
        "### google drive mount"
      ]
    },
    {
      "cell_type": "code",
      "metadata": {
        "colab": {
          "base_uri": "https://localhost:8080/"
        },
        "id": "_KXCuk9-Zsqv",
        "outputId": "051fdaed-faad-4c68-c7d0-f0d6d089be89"
      },
      "source": [
        "# colab drive mount \n",
        "import os\n",
        "from google.colab import drive\n",
        "from google.colab import files\n",
        "\n",
        "drive.mount('/content/drive')"
      ],
      "execution_count": null,
      "outputs": [
        {
          "output_type": "stream",
          "text": [
            "Mounted at /content/drive\n"
          ],
          "name": "stdout"
        }
      ]
    },
    {
      "cell_type": "code",
      "metadata": {
        "colab": {
          "base_uri": "https://localhost:8080/"
        },
        "id": "8UoW_wTEaZ2r",
        "outputId": "34c4e903-9c35-4c75-9310-8c6b14ce8d6f"
      },
      "source": [
        "\n",
        "# 폴더 path 설정 및 working directory 변경\n",
        "folder_path = './drive/MyDrive'\n",
        "os.chdir(folder_path)\n",
        "\n",
        "\n",
        "# current working directory 확인\n",
        "print(os.getcwd())\n",
        "''' 정상 경로 : /content/drive/My Drive '''\n",
        "\n",
        "\n",
        "# data uploading folder create\n",
        "dir_name = 'bitcoin_dataset'\n",
        "\n",
        "def make_dir(dir_name):\n",
        "    try:\n",
        "        # Create target Directory\n",
        "        os.mkdir(dir_name)\n",
        "        print(\"Directory \" , dir_name ,  \" Created \") \n",
        "    except FileExistsError:\n",
        "        print(\"Directory \" , dir_name ,  \" already exists\")\n",
        "\n",
        "# 폴더 생성\n",
        "make_dir(dir_name)\n",
        "\n",
        "# 폴더 생성됬는 지 확인 \n",
        "print(os.listdir())\n",
        "\n",
        "# 업로드할 디렉토리 변경\n",
        "os.chdir('./bitcoin_dataset/')\n",
        "\n",
        "# current working directroy confirm\n",
        "print(os.getcwd())"
      ],
      "execution_count": null,
      "outputs": [
        {
          "output_type": "stream",
          "text": [
            "/content/drive/MyDrive\n",
            "Directory  bitcoin_dataset  already exists\n",
            "['Colab Notebooks', '산갱', 'somethings', '.ipynb_checkpoints', '블로그 방문관련 이슈 조사.gform', '제목 없는 설문지.gform', 'bitcoin_dataset', '인증.png']\n",
            "/content/drive/MyDrive/bitcoin_dataset\n"
          ],
          "name": "stdout"
        }
      ]
    },
    {
      "cell_type": "markdown",
      "metadata": {
        "id": "KpBIug3_avYD"
      },
      "source": [
        "### library import and data upload"
      ]
    },
    {
      "cell_type": "code",
      "metadata": {
        "id": "Zq5CSSJFan7y"
      },
      "source": [
        "# !pip install statsmodels==0.11.1\n",
        "# !pip install fbprophet==0.7.1"
      ],
      "execution_count": null,
      "outputs": []
    },
    {
      "cell_type": "code",
      "metadata": {
        "colab": {
          "base_uri": "https://localhost:8080/"
        },
        "id": "EjqlvobNauDS",
        "outputId": "a3d9244c-ae65-436d-af08-15cc640a96f4"
      },
      "source": [
        "# import library\n",
        "import pandas as pd\n",
        "import numpy as np\n",
        "import matplotlib.pyplot as plt\n",
        "import datetime\n",
        "from statsmodels.tsa.arima.model import ARIMA\n",
        "import datetime\n",
        "from fbprophet import Prophet\n",
        "\n",
        "# 데이터 확인\n",
        "print(os.listdir())\n",
        "\n",
        "# read file\n",
        "train_x_df = pd.read_csv(\"./train_x_df.csv\")\n",
        "train_y_df = pd.read_csv(\"./train_y_df.csv\")\n",
        "print(\"Reading Complete!\")"
      ],
      "execution_count": null,
      "outputs": [
        {
          "output_type": "stream",
          "text": [
            "['train_x_df.csv', 'train_y_df.csv', 'merged_data.h5', 'vanilla_GRU_model.h5', 'Bidirectional_GRU_model.h5']\n",
            "Reading Complete!\n"
          ],
          "name": "stdout"
        }
      ]
    },
    {
      "cell_type": "markdown",
      "metadata": {
        "id": "kseXJpYfd3CQ"
      },
      "source": [
        "### 함수 정의"
      ]
    },
    {
      "cell_type": "code",
      "metadata": {
        "id": "35fMwyFua6rb"
      },
      "source": [
        "# numpy arrary conversion\n",
        "\n",
        "def df2d_to_array3d(df_2d):\n",
        "    # 입력 받은 2차원 데이터 프레임을 3차원 numpy array로 변경하는 함수\n",
        "    feature_size = df_2d.iloc[:,2:].shape[1]\n",
        "    time_size = len(df_2d.time.value_counts())\n",
        "    sample_size = len(df_2d.sample_id.value_counts())\n",
        "    sample_index = df_2d.sample_id.value_counts().index\n",
        "    array_3d = df_2d.iloc[:,2:].values.reshape([sample_size, time_size, feature_size])\n",
        "    return array_3d\n",
        "\n",
        "    # 샘플 확인\n",
        "\n",
        "def plot_series(x_series, y_series):\n",
        "    #입력 series와 출력 series를 연속적으로 연결하여 시각적으로 보여주는 코드 입니다.\n",
        "    plt.plot(x_series, label = 'input_series')\n",
        "    plt.plot(np.arange(len(x_series), len(x_series)+len(y_series)),\n",
        "             y_series, label = 'output_series')\n",
        "    plt.axhline(1, c = 'red')\n",
        "    plt.legend()"
      ],
      "execution_count": null,
      "outputs": []
    },
    {
      "cell_type": "markdown",
      "metadata": {
        "id": "83sayHXid6Gm"
      },
      "source": [
        "### data reshaping"
      ]
    },
    {
      "cell_type": "code",
      "metadata": {
        "colab": {
          "base_uri": "https://localhost:8080/"
        },
        "id": "j_6bGLRzbFaj",
        "outputId": "a4933135-75e2-47ca-9133-ca1048981a53"
      },
      "source": [
        "train_x_array = df2d_to_array3d(train_x_df)\n",
        "train_y_array = df2d_to_array3d(train_y_df)\n",
        "\n",
        "idx = 7657 #coin num = 9, sammple id = 7657 \n",
        "data_col_idx = 1 # 1 open, 2 high\n",
        "\n",
        "# open 가격만 가지고 arima 시행\n",
        "x_series = train_x_array[idx,:,data_col_idx] \n",
        "y_series = train_y_array[idx,:,data_col_idx]\n",
        "\n",
        "print(f'''\n",
        "\n",
        "train_x_array {x_series.shape}\n",
        "train_y_array {y_series.shape}\n",
        "\n",
        "''')"
      ],
      "execution_count": null,
      "outputs": [
        {
          "output_type": "stream",
          "text": [
            "\n",
            "\n",
            "train_x_array (1380,)\n",
            "train_y_array (120,)\n",
            "\n",
            "\n"
          ],
          "name": "stdout"
        }
      ]
    },
    {
      "cell_type": "markdown",
      "metadata": {
        "id": "Rqbxg_n1eAJL"
      },
      "source": [
        "### data prepreocess for prophet"
      ]
    },
    {
      "cell_type": "code",
      "metadata": {
        "colab": {
          "base_uri": "https://localhost:8080/",
          "height": 204
        },
        "id": "lFuBlCsdbt6L",
        "outputId": "76502cbb-e576-40ed-d8d5-2e00382834cd"
      },
      "source": [
        "start_time = '2021-01-31 00:00:00'\n",
        "start_dt = datetime.datetime.strptime(start_time, '%Y-%m-%d %H:%M:%S')\n",
        "\n",
        "# datafram 만들기\n",
        "x_df = pd.DataFrame()\n",
        "# 분당 시간 데이터 시리즈 입력\n",
        "x_df['ds'] = [start_dt + datetime.timedelta(minutes = time_min) for time_min in np.arange(1, x_series.shape[0]+1).tolist()]\n",
        "# 가격 데이터 시리즈 입력\n",
        "x_df['y'] = x_series.tolist()\n",
        "\n",
        "x_df.head()"
      ],
      "execution_count": null,
      "outputs": [
        {
          "output_type": "execute_result",
          "data": {
            "text/html": [
              "<div>\n",
              "<style scoped>\n",
              "    .dataframe tbody tr th:only-of-type {\n",
              "        vertical-align: middle;\n",
              "    }\n",
              "\n",
              "    .dataframe tbody tr th {\n",
              "        vertical-align: top;\n",
              "    }\n",
              "\n",
              "    .dataframe thead th {\n",
              "        text-align: right;\n",
              "    }\n",
              "</style>\n",
              "<table border=\"1\" class=\"dataframe\">\n",
              "  <thead>\n",
              "    <tr style=\"text-align: right;\">\n",
              "      <th></th>\n",
              "      <th>ds</th>\n",
              "      <th>y</th>\n",
              "    </tr>\n",
              "  </thead>\n",
              "  <tbody>\n",
              "    <tr>\n",
              "      <th>0</th>\n",
              "      <td>2021-01-31 00:01:00</td>\n",
              "      <td>1.005326</td>\n",
              "    </tr>\n",
              "    <tr>\n",
              "      <th>1</th>\n",
              "      <td>2021-01-31 00:02:00</td>\n",
              "      <td>1.005043</td>\n",
              "    </tr>\n",
              "    <tr>\n",
              "      <th>2</th>\n",
              "      <td>2021-01-31 00:03:00</td>\n",
              "      <td>1.004912</td>\n",
              "    </tr>\n",
              "    <tr>\n",
              "      <th>3</th>\n",
              "      <td>2021-01-31 00:04:00</td>\n",
              "      <td>1.002846</td>\n",
              "    </tr>\n",
              "    <tr>\n",
              "      <th>4</th>\n",
              "      <td>2021-01-31 00:05:00</td>\n",
              "      <td>1.002171</td>\n",
              "    </tr>\n",
              "  </tbody>\n",
              "</table>\n",
              "</div>"
            ],
            "text/plain": [
              "                   ds         y\n",
              "0 2021-01-31 00:01:00  1.005326\n",
              "1 2021-01-31 00:02:00  1.005043\n",
              "2 2021-01-31 00:03:00  1.004912\n",
              "3 2021-01-31 00:04:00  1.002846\n",
              "4 2021-01-31 00:05:00  1.002171"
            ]
          },
          "metadata": {
            "tags": []
          },
          "execution_count": 10
        }
      ]
    },
    {
      "cell_type": "markdown",
      "metadata": {
        "id": "hyDl4sRoeFbG"
      },
      "source": [
        "### modeling & prediciton"
      ]
    },
    {
      "cell_type": "code",
      "metadata": {
        "colab": {
          "base_uri": "https://localhost:8080/"
        },
        "id": "oRIct8ppcKJ7",
        "outputId": "73d9df17-f382-4f92-e890-9acce21fd33a"
      },
      "source": [
        "prophet= Prophet(seasonality_mode='multiplicative',\n",
        "                  yearly_seasonality='auto',\n",
        "                  weekly_seasonality='auto', daily_seasonality='auto',\n",
        "                  changepoint_range=0.9,  \n",
        "                  changepoint_prior_scale=0.1  # 오버피팅, 언더피팅을 피하기 위해 조정\n",
        "                )\n",
        "\n",
        "prophet.add_seasonality(name='first_seasonality', period=1/12, fourier_order=7) # seasonality 추가\n",
        "prophet.add_seasonality(name='second_seasonality', period=1/8, fourier_order=15) # seasonality 추가\n",
        "\n",
        "prophet.fit(x_df)\n",
        "\n",
        "future_data = prophet.make_future_dataframe(periods=120, freq='min')\n",
        "forecast_data = prophet.predict(future_data)\n"
      ],
      "execution_count": null,
      "outputs": [
        {
          "output_type": "stream",
          "text": [
            "INFO:fbprophet:Disabling yearly seasonality. Run prophet with yearly_seasonality=True to override this.\n",
            "INFO:fbprophet:Disabling weekly seasonality. Run prophet with weekly_seasonality=True to override this.\n",
            "INFO:fbprophet:Disabling daily seasonality. Run prophet with daily_seasonality=True to override this.\n"
          ],
          "name": "stderr"
        }
      ]
    },
    {
      "cell_type": "code",
      "metadata": {
        "colab": {
          "base_uri": "https://localhost:8080/",
          "height": 265
        },
        "id": "FUSMdnpycLs0",
        "outputId": "4cdf9c0d-601e-4c14-f107-04bedf414a0b"
      },
      "source": [
        "pred_by_prophet = forecast_data.yhat.values[-120:]\n",
        "\n",
        "plot_series(x_series, y_series)\n",
        "plt.plot(np.arange(1380, 1380+120), pred_by_prophet, label = 'Prophet prediction')\n",
        "plt.legend()\n",
        "plt.show()"
      ],
      "execution_count": null,
      "outputs": [
        {
          "output_type": "display_data",
          "data": {
            "image/png": "[encoded data removed]",
            "text/plain": [
              "<Figure size 432x288 with 1 Axes>"
            ]
          },
          "metadata": {
            "tags": [],
            "needs_background": "light"
          }
        }
      ]
    },
    {
      "cell_type": "code",
      "metadata": {
        "colab": {
          "base_uri": "https://localhost:8080/",
          "height": 265
        },
        "id": "qMNo3zivdT3E",
        "outputId": "6a70550f-6c77-4fa0-b871-0735fdf80e4a"
      },
      "source": [
        "plt.plot(np.arange(1380, 1380+120), pred_by_prophet, label = 'Prophet prediction')\n",
        "plt.plot(np.arange(1380, 1380+120), y_series, label ='True series')\n",
        "plt.legend()\n",
        "plt.show()"
      ],
      "execution_count": null,
      "outputs": [
        {
          "output_type": "display_data",
          "data": {
            "image/png": "[encoded data removed]",
            "text/plain": [
              "<Figure size 432x288 with 1 Axes>"
            ]
          },
          "metadata": {
            "tags": [],
            "needs_background": "light"
          }
        }
      ]
    },
    {
      "cell_type": "code",
      "metadata": {
        "colab": {
          "base_uri": "https://localhost:8080/",
          "height": 265
        },
        "id": "eMj2AYgwcXzc",
        "outputId": "f9094950-af5d-4c95-b756-b12ead8063e7"
      },
      "source": [
        "pred_y = forecast_data.yhat.values[-120:]\n",
        "pred_y_lower = forecast_data.yhat_lower.values[-120:]\n",
        "pred_y_upper = forecast_data.yhat_upper.values[-120:]\n",
        "\n",
        "plt.plot(np.arange(1380, 1380+120), y_series, label ='True series')\n",
        "plt.plot(np.arange(1380, 1380+120), pred_y, label = 'prediction')\n",
        "plt.plot(np.arange(1380, 1380+120), pred_y_lower, label = 'prediction_lower')\n",
        "plt.plot(np.arange(1380, 1380+120), pred_y_upper, label = 'prediction_upper')\n",
        "plt.legend()\n",
        "plt.show()"
      ],
      "execution_count": null,
      "outputs": [
        {
          "output_type": "display_data",
          "data": {
            "image/png": "[encoded data removed]",
            "text/plain": [
              "<Figure size 432x288 with 1 Axes>"
            ]
          },
          "metadata": {
            "tags": [],
            "needs_background": "light"
          }
        }
      ]
    }
  ]
}