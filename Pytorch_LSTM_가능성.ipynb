{
 "cells": [
  {
   "cell_type": "code",
   "execution_count": 1,
   "id": "35fb535a",
   "metadata": {},
   "outputs": [
    {
     "name": "stdout",
     "output_type": "stream",
     "text": [
      "1.6.0+cpu\n",
      "Populating the interactive namespace from numpy and matplotlib\n"
     ]
    }
   ],
   "source": [
    "import pandas as pd\n",
    "import numpy as np\n",
    "import argparse\n",
    "import datetime\n",
    "from copy import deepcopy # Add Deepcopy for args\n",
    "import pickle \n",
    "import seaborn as sns \n",
    "import matplotlib.pyplot as plt\n",
    "\n",
    "from sklearn.metrics import mean_absolute_error\n",
    "from statsmodels.tsa.api import SimpleExpSmoothing\n",
    "from sklearn.model_selection import train_test_split\n",
    "\n",
    "# pytorch\n",
    "import torch\n",
    "import torch.nn as nn\n",
    "from torch.utils.data import Dataset, DataLoader\n",
    "import torch.optim as optim\n",
    " \n",
    " \n",
    "print(torch.__version__)\n",
    "%matplotlib inline\n",
    "%pylab inline\n",
    "pylab.rcParams['figure.figsize'] = (8, 6)"
   ]
  },
  {
   "cell_type": "code",
   "execution_count": 3,
   "id": "8b0cf3af",
   "metadata": {},
   "outputs": [
    {
     "name": "stdout",
     "output_type": "stream",
     "text": [
      "Read files Complete!\n"
     ]
    }
   ],
   "source": [
    "# read file\n",
    "raw_x_df = pd.read_csv('./data/train_x_df.csv')\n",
    "raw_y_df = pd.read_csv('./data/train_y_df.csv')\n",
    "\n",
    "print('Read files Complete!')"
   ]
  },
  {
   "cell_type": "code",
   "execution_count": 4,
   "id": "5f0a09f3",
   "metadata": {},
   "outputs": [
    {
     "name": "stdout",
     "output_type": "stream",
     "text": [
      "\n",
      "    Train & Test split Complete!\n",
      "    Train set length is (1208, 1208),\n",
      "    \n"
     ]
    }
   ],
   "source": [
    "train_x_df = raw_x_df[raw_x_df.coin_index == 9]\n",
    "train_y_df = raw_y_df[raw_y_df.coin_index == 9]\n",
    "\n",
    "# ================================================= #\n",
    "# test_sample_list = [4176, 601, 1934, 947, 5025]\n",
    "\n",
    "# test set split into X df\n",
    "# test_x_df = raw_x_df[raw_x_df.sample_id.isin(test_sample_list)]\n",
    "# train_x_df =  raw_x_df[~raw_x_df.sample_id.isin(test_sample_list)]\n",
    "\n",
    "# test set split into y df\n",
    "# test_y_df = raw_y_df[raw_y_df.sample_id.isin(test_sample_list)]\n",
    "# train_y_df =  raw_y_df[~raw_y_df.sample_id.isin(test_sample_list)]\n",
    "\n",
    "print(\n",
    "    f'''\n",
    "    Train & Test split Complete!\n",
    "    Train set length is {int(len(train_x_df)/1380), int(len(train_y_df) / 120)},\n",
    "    '''\n",
    "#     Test set length is {int(len(test_x_df) / 1380), int(len(test_y_df) / 120)}\n",
    ")"
   ]
  },
  {
   "cell_type": "code",
   "execution_count": 5,
   "id": "5f5e7839",
   "metadata": {},
   "outputs": [
    {
     "name": "stdout",
     "output_type": "stream",
     "text": [
      "\n",
      "    train x shape is (1208, 1380, 10),\n",
      "    train y shape is (1208, 120, 10),\n",
      "    \n"
     ]
    }
   ],
   "source": [
    "# ================================================= #\n",
    "def df2d_to_array3d(df_2d):\n",
    "    \n",
    "    # 입력 받은 2차원 데이터 프레임을 3차원 numpy array로 변경하는 함수\n",
    "    feature_size = df_2d.iloc[:,2:].shape[1]\n",
    "    time_size = len(df_2d.time.value_counts())\n",
    "    sample_size = len(df_2d.sample_id.value_counts())\n",
    "    array_3d = df_2d.iloc[:,2:].values.reshape([sample_size, time_size, feature_size])\n",
    "    \n",
    "    return array_3d\n",
    "# ================================================= #\n",
    "\n",
    "\n",
    "# train set\n",
    "train_x_arr = df2d_to_array3d(train_x_df)\n",
    "train_y_arr = df2d_to_array3d(train_y_df)\n",
    "\n",
    "# test set\n",
    "# test_x_arr = df2d_to_array3d(test_x_df)\n",
    "# test_y_arr = df2d_to_array3d(test_y_df)\n",
    "\n",
    "print(\n",
    "    f'''\n",
    "    train x shape is {train_x_arr.shape},\n",
    "    train y shape is {train_y_arr.shape},\n",
    "    '''\n",
    "#     test x shape is {test_x_arr.shape},\n",
    "#     test y shape is {test_y_arr.shape}\n",
    ")"
   ]
  },
  {
   "cell_type": "code",
   "execution_count": null,
   "id": "66160026",
   "metadata": {},
   "outputs": [],
   "source": [
    "from sklearn.preprocessing import StandardScaler\n",
    "\n",
    "y_scaler = StandardScaler()\n",
    "y_scaler.fit(train_y_df)"
   ]
  },
  {
   "cell_type": "code",
   "execution_count": null,
   "id": "a05ca5a6",
   "metadata": {},
   "outputs": [],
   "source": [
    "train_y_df"
   ]
  },
  {
   "cell_type": "code",
   "execution_count": 47,
   "id": "0868a228",
   "metadata": {},
   "outputs": [
    {
     "data": {
      "text/plain": [
       "(1208, 120, 10)"
      ]
     },
     "execution_count": 47,
     "metadata": {},
     "output_type": "execute_result"
    }
   ],
   "source": [
    "train_x_mean = train_X.mean(axis=(0, 1))\n",
    "train_x_std = train_X.std(axis=(0, 1))\n",
    "\n",
    "train_X = (train_X - train_x_mean) / train_x_std\n",
    "val_X = (val_X - train_x_mean) / train_x_std\n",
    "# test_X = (test_X - train_x_mean) / train_x_std"
   ]
  },
  {
   "cell_type": "code",
   "execution_count": 6,
   "id": "738673cf",
   "metadata": {},
   "outputs": [],
   "source": [
    "# ================================================= #\n",
    "\n",
    "def simple_exponetial_smoothing_fory(arr, alpha=0.3):\n",
    "    \n",
    "    y_series = list()\n",
    "\n",
    "    for temp_arr in arr:\n",
    "        target_series = temp_arr[:, 1].reshape(-1) # open col is 1 index\n",
    "\n",
    "        smoother = SimpleExpSmoothing(target_series, initialization_method=\"heuristic\").fit(smoothing_level=alpha,optimized=False)\n",
    "        smoothing_series = smoother.fittedvalues\n",
    "\n",
    "        y_series.append(smoothing_series)\n",
    "            \n",
    "    return np.array(y_series)\n",
    "\n",
    "# ================================================= #\n",
    "\n",
    "def simple_exponetial_smoothing_forX(arr, alpha=0.3):\n",
    "    \n",
    "    # initialization\n",
    "    sample_size = int(arr.shape[0])\n",
    "    time_size = int(arr.shape[1])\n",
    "    feature_size = int(arr.shape[2])\n",
    "    \n",
    "    # create empty array\n",
    "    smoothing_arr = np.zeros((sample_size, time_size, feature_size - 1))\n",
    "\n",
    "    for idx, temp_arr in enumerate(arr):\n",
    "        for col in range(1, feature_size): # open col is 1 index\n",
    "            if col < 5:\n",
    "\n",
    "                temp_series = temp_arr[:, col].reshape(-1) \n",
    "                smoother = SimpleExpSmoothing(temp_series, initialization_method=\"heuristic\").fit(smoothing_level=0.3,optimized=False)\n",
    "                temp_smoothing_series = smoother.fittedvalues\n",
    "                smoothing_arr[idx, :, col-1] = temp_smoothing_series\n",
    "\n",
    "            else:\n",
    "                \n",
    "                pass_series = temp_arr[:, col].reshape(-1)\n",
    "                smoothing_arr[idx, :, col-1] = pass_series\n",
    "\n",
    "    return smoothing_arr\n",
    "\n",
    "# ================================================= #"
   ]
  },
  {
   "cell_type": "code",
   "execution_count": 7,
   "id": "b1c84bbd",
   "metadata": {},
   "outputs": [],
   "source": [
    "def getWeights_FFD(d, size, thres):\n",
    "    w = [1.]  # w의 초깃값 = 1\n",
    "\n",
    "    for k in range(1, size):\n",
    "        w_ = -w[-1] * (d - k + 1) / k  # 식 2)를 사용했다.\n",
    "        if abs(w[-1]) >= thres and abs(w_) <= thres:\n",
    "            break\n",
    "\n",
    "        else:\n",
    "            w.append(w_)\n",
    "\n",
    "    # w의 inverse\n",
    "    w = np.array(w[::-1]).reshape(-1, 1)\n",
    "\n",
    "    return w\n",
    "\n",
    "\n",
    "def fracDiff_FFD(series, d, thres=0.002):\n",
    "    '''\n",
    "\n",
    "    Constant width window (new solution)\n",
    "\n",
    "    Note 1: thres determines the cut-off weight for the window\n",
    "\n",
    "    Note 2: d can be any positive fractional, not necessarily bounded [0,1]\n",
    "\n",
    "    '''\n",
    "\n",
    "    # 1) Compute weights for the longest series\n",
    "    w = getWeights_FFD(d, series.shape[0], thres)\n",
    "    width = len(w) - 1\n",
    "\n",
    "    # 2) Apply weights to values\n",
    "    df = []\n",
    "    seriesF = series\n",
    "\n",
    "    for iloc in range(len(w), seriesF.shape[0]):\n",
    "        k = np.dot(w.T[::-1], seriesF[iloc - len(w):iloc])\n",
    "        df.append(k)\n",
    "\n",
    "    df = np.array(df)\n",
    "\n",
    "    return df, w"
   ]
  },
  {
   "cell_type": "code",
   "execution_count": 8,
   "id": "b064560c",
   "metadata": {},
   "outputs": [],
   "source": [
    "# # train set smoothing\n",
    "# train_x_arr = simple_exponetial_smoothing_forX(train_x_arr)\n",
    "# train_y_arr = simple_exponetial_smoothing_fory(train_y_arr)\n",
    "\n",
    "# # test set smoothing \n",
    "# test_x_arr = simple_exponetial_smoothing_forX(test_x_arr)\n",
    "# print('simple exponetial smoothing Complete!!!')"
   ]
  },
  {
   "cell_type": "code",
   "execution_count": 9,
   "id": "81bff392",
   "metadata": {},
   "outputs": [],
   "source": [
    "# newarray = np.zeros((1208,1343,1))\n",
    "# for idx in range(coin9_x_array.shape[0]):\n",
    "#     fdiff, w = fracDiff_FFD(train_x_array[idx,:,1], d=0.35, thres=0.002)\n",
    "#     newarray[idx,:,:] = fdiff\n",
    "    \n",
    "# frac_x_arr, w = fracDiff_FFD(train_x_arr[1, :, 1], d=0.35, thres=0.002)"
   ]
  },
  {
   "cell_type": "code",
   "execution_count": 10,
   "id": "514fd6c8",
   "metadata": {},
   "outputs": [],
   "source": [
    "def train_val_test_spliter(arr):\n",
    "    \n",
    "    n = len(arr)\n",
    "    num_features = arr.shape[2] - 1\n",
    "    \n",
    "    train_arr = arr[0:int(n*0.8), :, 1:]\n",
    "    val_arr = arr[int(n*0.8):, :, 1:]\n",
    "    \n",
    "    n2 = len(train_arr) + len(val_arr)\n",
    "    \n",
    "    print(\n",
    "    f'''\n",
    "    ======================================================\n",
    "    Origin length is {n}, then total split length is {n2}\n",
    "    ======================================================\n",
    "    train length is {train_arr.shape},\n",
    "    val length is {val_arr.shape},\n",
    "    num_features is ({num_features})\n",
    "    '''\n",
    "    )\n",
    "    \n",
    "    return train_arr, val_arr"
   ]
  },
  {
   "cell_type": "code",
   "execution_count": 11,
   "id": "1c33ee50",
   "metadata": {},
   "outputs": [
    {
     "name": "stdout",
     "output_type": "stream",
     "text": [
      "\n",
      "    train x shape is (1208, 1380, 10),\n",
      "    train y shape is (1208, 120, 10),\n",
      "    \n"
     ]
    }
   ],
   "source": [
    "print(\n",
    "    f'''\n",
    "    train x shape is {train_x_arr.shape},\n",
    "    train y shape is {train_y_arr.shape},\n",
    "    '''\n",
    "    \n",
    "#     test x shape is {test_x_arr.shape},\n",
    "#     test y shape is {test_y_arr.shape},\n",
    "\n",
    ")"
   ]
  },
  {
   "cell_type": "code",
   "execution_count": 16,
   "id": "a28e5d55",
   "metadata": {},
   "outputs": [],
   "source": [
    "# arounding data\n",
    "train_y_arr = np.around(train_y_arr, 3)"
   ]
  },
  {
   "cell_type": "code",
   "execution_count": null,
   "id": "7f1c2f34",
   "metadata": {},
   "outputs": [],
   "source": [
    "train_x_arr"
   ]
  },
  {
   "cell_type": "code",
   "execution_count": 27,
   "id": "96003793",
   "metadata": {},
   "outputs": [],
   "source": [
    "# train & val set\n",
    "train_X, val_X, train_y, val_y = train_test_split(train_x_arr[:, :, 1:], train_y_arr[:, :, 1], test_size=0.2, shuffle=False)\n",
    "\n",
    "# test set\n",
    "# test_X = test_x_arr[:, :, 1:] # open col\n",
    "# test_y = test_y_arr"
   ]
  },
  {
   "cell_type": "code",
   "execution_count": 28,
   "id": "fb3b376f",
   "metadata": {},
   "outputs": [
    {
     "name": "stdout",
     "output_type": "stream",
     "text": [
      "\n",
      "======================================================\n",
      "Origin length is 1208, then total split length is 966\n",
      "======================================================\n",
      "train X length is (966, 1380, 9), train y length is (966, 120),\n",
      "val X length is (242, 1380, 9), val y length is (242, 120),\n",
      "\n"
     ]
    }
   ],
   "source": [
    "print(\n",
    "f'''\n",
    "======================================================\n",
    "Origin length is {len(train_x_arr)}, then total split length is {len(train_X)}\n",
    "======================================================\n",
    "train X length is {train_X.shape}, train y length is {train_y.shape},\n",
    "val X length is {val_X.shape}, val y length is {val_y.shape},\n",
    "'''\n",
    "# test X length is {test_X.shape}, test y length is {test_y.shape}\n",
    ")\n"
   ]
  },
  {
   "cell_type": "code",
   "execution_count": 29,
   "id": "9581e934",
   "metadata": {},
   "outputs": [],
   "source": [
    "train_x_mean = train_X.mean(axis=(0, 1))\n",
    "train_x_std = train_X.std(axis=(0, 1))\n",
    "\n",
    "train_X = (train_X - train_x_mean) / train_x_std\n",
    "val_X = (val_X - train_x_mean) / train_x_std\n",
    "# test_X = (test_X - train_x_mean) / train_x_std"
   ]
  },
  {
   "cell_type": "code",
   "execution_count": 42,
   "id": "2bedde48",
   "metadata": {},
   "outputs": [
    {
     "name": "stdout",
     "output_type": "stream",
     "text": [
      "device is cpu\n"
     ]
    }
   ],
   "source": [
    "# ====== initialization\n",
    "parser = argparse.ArgumentParser()\n",
    "args = parser.parse_args(\"\")\n",
    "args.device = 'cuda' if torch.cuda.is_available() else 'cpu'\n",
    "print(\"device is\",args.device)\n",
    "\n",
    "seed = 777\n",
    "np.random.seed(seed)\n",
    "torch.manual_seed(seed)\n",
    "\n",
    "\n",
    "# ====== Model Capacity options ===== #\n",
    "args.input_dim = 9\n",
    "args.hidden_dim = 50\n",
    "args.output_dim = 1\n",
    "args.n_layers = 1\n",
    "args.batch_size = 8\n",
    "args.dropout = 0.2\n",
    "args.use_bn = True\n",
    "\n",
    "# ====== Dataset Generating options ====== #\n",
    "args.x_frames = 255\n",
    "args.y_frames = 120\n",
    "\n",
    "# ====== Model training options ===== #\n",
    "args.num_epoch = 50\n",
    "args.learning_rate = 0.0001\n",
    "args.L2_rate = 0.00001\n"
   ]
  },
  {
   "cell_type": "code",
   "execution_count": 43,
   "id": "94f62eb5",
   "metadata": {},
   "outputs": [],
   "source": [
    "class WindowGenerator():\n",
    "    ''' Dataset Generate'''\n",
    "    def __init__(self, X_arr, y_arr, x_frames):\n",
    "    \n",
    "        self.X_arr = X_arr\n",
    "        self.y_arr = y_arr\n",
    "        self.x_frames = x_frames\n",
    "        \n",
    "        \n",
    "    def __repr__(self):\n",
    "        return '\\n'.join([\n",
    "            f'Input indices: {self.X_arr.shape}',\n",
    "            f'Label indices: {len(self.y_arr)}',\n",
    "            f'Current column name(s): {self.x_frames}'\n",
    "        ])\n",
    "\n",
    "    def __len__(self):\n",
    "        return len(self.y_arr)\n",
    "\n",
    "    def __getitem__(self, idx):\n",
    "        \n",
    "        X = self.X_arr[idx, -self.x_frames:, :]\n",
    "        y = self.y_arr[idx, :]\n",
    "\n",
    "        return X, y"
   ]
  },
  {
   "cell_type": "code",
   "execution_count": 44,
   "id": "7c71beb2",
   "metadata": {},
   "outputs": [],
   "source": [
    "class LSTM(nn.Module):\n",
    "    \n",
    "    def __init__(self, input_dim, hidden_dim, output_dim, num_layers, dropout, use_bn):\n",
    "        super(LSTM, self).__init__()\n",
    "        self.input_dim = input_dim \n",
    "        self.hidden_dim = hidden_dim\n",
    "        self.output_dim = output_dim\n",
    "        self.num_layers = num_layers\n",
    "\n",
    "        self.dropout = dropout\n",
    "        self.use_bn = use_bn \n",
    "        self.lstm = nn.LSTM(self.input_dim, self.hidden_dim, self.num_layers)\n",
    "\n",
    "        self.regressor = self.make_regressor()\n",
    "        \n",
    "    def init_hidden(self, batch_size):\n",
    "        return (torch.zeros(self.num_layers, batch_size, self.hidden_dim),\n",
    "                torch.zeros(self.num_layers, batch_size, self.hidden_dim))\n",
    "    \n",
    "    def make_regressor(self):\n",
    "        layers = []\n",
    "        if self.use_bn:\n",
    "            layers.append(nn.BatchNorm1d(self.hidden_dim))\n",
    "        layers.append(nn.Dropout(self.dropout))\n",
    "        \n",
    "        layers.append(nn.Linear(self.hidden_dim, 200))\n",
    "        layers.append(nn.ReLU())\n",
    "        layers.append(nn.Linear(200, self.output_dim))\n",
    "        regressor = nn.Sequential(*layers)\n",
    "        return regressor\n",
    "    \n",
    "    def forward(self, X):\n",
    "        lstm_out, self.hidden = self.lstm(X)\n",
    "        y_pred = self.regressor(lstm_out[-1].view(X.shape[1], -1))\n",
    "        return y_pred\n",
    "    \n",
    "\n",
    "\n",
    "    \n",
    "def train(model, partition, optimizer, loss_fn, args):\n",
    "    ''' model training '''\n",
    "   \n",
    "    # data load\n",
    "    trainloader = DataLoader(partition['train'],\n",
    "                             batch_size = args.batch_size,\n",
    "                             shuffle = True, drop_last = True)\n",
    "    \n",
    "    # model's mode setting\n",
    "    model.train()\n",
    "    model.zero_grad()\n",
    "    \n",
    "    train_loss = 0.0\n",
    "    \n",
    "    for i, (X, y) in enumerate(trainloader):\n",
    "    \n",
    "        X = X.transpose(0, 1).float().to(args.device)\n",
    "        y_true = y.float().to(args.device)\n",
    "        \n",
    "#         print(X.shape, y_true.shape)\n",
    "        \n",
    "        # zero the gradient\n",
    "        optimizer.zero_grad()\n",
    "\n",
    "        model.hidden = model.init_hidden(X.shape[1])\n",
    "\n",
    "        y_pred = model(X)\n",
    "#         print(y_pred.shape)\n",
    "        \n",
    "        loss = loss_fn(y_true.view(-1), y_pred.view(-1))\n",
    "        loss.backward()\n",
    "        optimizer.step()\n",
    "        \n",
    "        # get the batch loss\n",
    "        train_loss += loss.item()\n",
    "        \n",
    "    train_loss = train_loss / len(trainloader)\n",
    "    # train_loss = train_loss*10E5\n",
    "    return model, train_loss\n",
    "\n",
    "\n",
    "def validate(model, partition, loss_fn, args):\n",
    "    ''' model validate '''\n",
    "    \n",
    "    # data load\n",
    "    valloader = DataLoader(partition['val'], \n",
    "                           batch_size = args.batch_size, \n",
    "                           shuffle = False, drop_last = True)\n",
    "    \n",
    "    # model's mode setting\n",
    "    model.eval()\n",
    "    val_loss = 0.0\n",
    "    \n",
    "    # evaluate\n",
    "    with torch.no_grad():\n",
    "        for i, (X, y) in enumerate(valloader):\n",
    "            \n",
    "            X = X.transpose(0, 1).float().to(args.device)\n",
    "            y_true = y.float().to(args.device)\n",
    "            \n",
    "            model.hidden = model.init_hidden(X.shape[1])\n",
    "            # en-decoder outputs tensor \n",
    "            y_pred = model(X)\n",
    "            # compute the loss \n",
    "            loss = loss_fn(y_true.view(-1), y_pred.view(-1))\n",
    "\n",
    "            # get the batch loss\n",
    "            val_loss += loss.item()\n",
    "            \n",
    "    val_loss = val_loss / len(valloader)\n",
    "    # val_loss = val_loss * 10E5\n",
    "    return val_loss\n",
    "\n",
    "\n",
    "\n",
    "def experiment(partition, args):\n",
    "\n",
    "\n",
    "    model = LSTM(args.input_dim, args.hidden_dim, args.y_frames, args.n_layers, args.dropout, args.use_bn)\n",
    "    model.to(args.device)\n",
    "    \n",
    "    loss_fn = nn.MSELoss()\n",
    "    optimizer = optim.Adam(model.parameters(), lr=args.learning_rate, weight_decay=args.L2_rate)\n",
    "    \n",
    "    # epoch-wise loss\n",
    "    train_losses = []\n",
    "    val_losses = []\n",
    "\n",
    "    for epoch in range(args.num_epoch):\n",
    "        \n",
    "        start_time = time.time()\n",
    "        model, train_loss = train(model, partition, optimizer, loss_fn, args)\n",
    "        val_loss = validate(model, partition, loss_fn, args)\n",
    "        end_time = time.time()\n",
    "        \n",
    "        # add epoch loss\n",
    "        train_losses.append(train_loss)\n",
    "        val_losses.append(val_loss)\n",
    "        \n",
    "        print('Epoch {},Loss(train/val) {:.3f}/{:.3f}. Took {:.2f} sec'.format(epoch+1, train_loss * 10E3, val_loss * 10E3, end_time-start_time))\n",
    "    \n",
    "    \n",
    "    # ======= Add Result to Dictionary ======= #\n",
    "    result = {}\n",
    "    \n",
    "    result['train_losses'] = train_losses #epoch 수에 의존\n",
    "    result['val_losses'] = val_losses \n",
    "     \n",
    "    return vars(args), result, model"
   ]
  },
  {
   "cell_type": "code",
   "execution_count": 45,
   "id": "c82ac6dc",
   "metadata": {},
   "outputs": [],
   "source": [
    "trainset = WindowGenerator(train_X, train_y, x_frames = args.x_frames)\n",
    "valset = WindowGenerator(val_X, val_y, x_frames = args.x_frames)\n",
    "# testset = WindowGenerator(test_X, test_y, x_frames = args.x_frames)\n",
    "\n",
    "partition = {'train': trainset, 'val':valset}"
   ]
  },
  {
   "cell_type": "code",
   "execution_count": 46,
   "id": "7069f619",
   "metadata": {},
   "outputs": [
    {
     "name": "stdout",
     "output_type": "stream",
     "text": [
      "Namespace(L2_rate=1e-05, batch_size=8, device='cpu', dropout=0.2, hidden_dim=50, input_dim=9, learning_rate=0.0001, n_layers=1, num_epoch=50, output_dim=1, use_bn=True, x_frames=255, y_frames=120)\n",
      "Epoch 1,Loss(train/val) 6409.901/3685.064. Took 14.78 sec\n",
      "Epoch 2,Loss(train/val) 1984.229/1940.992. Took 17.43 sec\n",
      "Epoch 3,Loss(train/val) 1175.681/1391.815. Took 20.80 sec\n",
      "Epoch 4,Loss(train/val) 853.994/1047.556. Took 21.01 sec\n",
      "Epoch 5,Loss(train/val) 678.974/772.183. Took 16.54 sec\n",
      "Epoch 6,Loss(train/val) 591.891/504.728. Took 15.45 sec\n",
      "Epoch 7,Loss(train/val) 515.044/703.341. Took 14.83 sec\n",
      "Epoch 8,Loss(train/val) 463.351/616.744. Took 13.80 sec\n",
      "Epoch 9,Loss(train/val) 445.263/510.318. Took 13.82 sec\n",
      "Epoch 10,Loss(train/val) 389.533/716.502. Took 14.19 sec\n",
      "Epoch 11,Loss(train/val) 375.192/475.140. Took 13.33 sec\n",
      "Epoch 12,Loss(train/val) 339.000/370.972. Took 12.90 sec\n",
      "Epoch 13,Loss(train/val) 328.726/519.603. Took 12.64 sec\n",
      "Epoch 14,Loss(train/val) 292.243/359.306. Took 13.32 sec\n",
      "Epoch 15,Loss(train/val) 268.082/290.763. Took 12.97 sec\n",
      "Epoch 16,Loss(train/val) 284.418/383.720. Took 13.46 sec\n",
      "Epoch 17,Loss(train/val) 245.110/367.909. Took 12.81 sec\n",
      "Epoch 18,Loss(train/val) 231.268/383.805. Took 12.63 sec\n",
      "Epoch 19,Loss(train/val) 249.870/372.635. Took 12.74 sec\n",
      "Epoch 20,Loss(train/val) 206.183/497.929. Took 14.87 sec\n",
      "Epoch 21,Loss(train/val) 225.832/254.890. Took 13.76 sec\n",
      "Epoch 22,Loss(train/val) 199.920/389.725. Took 13.14 sec\n",
      "Epoch 23,Loss(train/val) 178.917/257.039. Took 15.19 sec\n",
      "Epoch 24,Loss(train/val) 185.663/326.848. Took 13.20 sec\n"
     ]
    },
    {
     "ename": "KeyboardInterrupt",
     "evalue": "",
     "output_type": "error",
     "traceback": [
      "\u001b[1;31m---------------------------------------------------------------------------\u001b[0m",
      "\u001b[1;31mKeyboardInterrupt\u001b[0m                         Traceback (most recent call last)",
      "\u001b[1;32m<ipython-input-46-1629c9e68dc6>\u001b[0m in \u001b[0;36m<module>\u001b[1;34m\u001b[0m\n\u001b[0;32m      1\u001b[0m \u001b[0mprint\u001b[0m\u001b[1;33m(\u001b[0m\u001b[0margs\u001b[0m\u001b[1;33m)\u001b[0m\u001b[1;33m\u001b[0m\u001b[1;33m\u001b[0m\u001b[0m\n\u001b[1;32m----> 2\u001b[1;33m \u001b[0msetting\u001b[0m\u001b[1;33m,\u001b[0m \u001b[0mresult\u001b[0m\u001b[1;33m,\u001b[0m \u001b[0mmodel\u001b[0m \u001b[1;33m=\u001b[0m \u001b[0mexperiment\u001b[0m\u001b[1;33m(\u001b[0m\u001b[0mpartition\u001b[0m\u001b[1;33m,\u001b[0m \u001b[0mdeepcopy\u001b[0m\u001b[1;33m(\u001b[0m\u001b[0margs\u001b[0m\u001b[1;33m)\u001b[0m\u001b[1;33m)\u001b[0m\u001b[1;33m\u001b[0m\u001b[1;33m\u001b[0m\u001b[0m\n\u001b[0m",
      "\u001b[1;32m<ipython-input-44-db9b60bd435e>\u001b[0m in \u001b[0;36mexperiment\u001b[1;34m(partition, args)\u001b[0m\n\u001b[0;32m    129\u001b[0m \u001b[1;33m\u001b[0m\u001b[0m\n\u001b[0;32m    130\u001b[0m         \u001b[0mstart_time\u001b[0m \u001b[1;33m=\u001b[0m \u001b[0mtime\u001b[0m\u001b[1;33m.\u001b[0m\u001b[0mtime\u001b[0m\u001b[1;33m(\u001b[0m\u001b[1;33m)\u001b[0m\u001b[1;33m\u001b[0m\u001b[1;33m\u001b[0m\u001b[0m\n\u001b[1;32m--> 131\u001b[1;33m         \u001b[0mmodel\u001b[0m\u001b[1;33m,\u001b[0m \u001b[0mtrain_loss\u001b[0m \u001b[1;33m=\u001b[0m \u001b[0mtrain\u001b[0m\u001b[1;33m(\u001b[0m\u001b[0mmodel\u001b[0m\u001b[1;33m,\u001b[0m \u001b[0mpartition\u001b[0m\u001b[1;33m,\u001b[0m \u001b[0moptimizer\u001b[0m\u001b[1;33m,\u001b[0m \u001b[0mloss_fn\u001b[0m\u001b[1;33m,\u001b[0m \u001b[0margs\u001b[0m\u001b[1;33m)\u001b[0m\u001b[1;33m\u001b[0m\u001b[1;33m\u001b[0m\u001b[0m\n\u001b[0m\u001b[0;32m    132\u001b[0m         \u001b[0mval_loss\u001b[0m \u001b[1;33m=\u001b[0m \u001b[0mvalidate\u001b[0m\u001b[1;33m(\u001b[0m\u001b[0mmodel\u001b[0m\u001b[1;33m,\u001b[0m \u001b[0mpartition\u001b[0m\u001b[1;33m,\u001b[0m \u001b[0mloss_fn\u001b[0m\u001b[1;33m,\u001b[0m \u001b[0margs\u001b[0m\u001b[1;33m)\u001b[0m\u001b[1;33m\u001b[0m\u001b[1;33m\u001b[0m\u001b[0m\n\u001b[0;32m    133\u001b[0m         \u001b[0mend_time\u001b[0m \u001b[1;33m=\u001b[0m \u001b[0mtime\u001b[0m\u001b[1;33m.\u001b[0m\u001b[0mtime\u001b[0m\u001b[1;33m(\u001b[0m\u001b[1;33m)\u001b[0m\u001b[1;33m\u001b[0m\u001b[1;33m\u001b[0m\u001b[0m\n",
      "\u001b[1;32m<ipython-input-44-db9b60bd435e>\u001b[0m in \u001b[0;36mtrain\u001b[1;34m(model, partition, optimizer, loss_fn, args)\u001b[0m\n\u001b[0;32m     68\u001b[0m \u001b[1;33m\u001b[0m\u001b[0m\n\u001b[0;32m     69\u001b[0m         \u001b[0mloss\u001b[0m \u001b[1;33m=\u001b[0m \u001b[0mloss_fn\u001b[0m\u001b[1;33m(\u001b[0m\u001b[0my_true\u001b[0m\u001b[1;33m.\u001b[0m\u001b[0mview\u001b[0m\u001b[1;33m(\u001b[0m\u001b[1;33m-\u001b[0m\u001b[1;36m1\u001b[0m\u001b[1;33m)\u001b[0m\u001b[1;33m,\u001b[0m \u001b[0my_pred\u001b[0m\u001b[1;33m.\u001b[0m\u001b[0mview\u001b[0m\u001b[1;33m(\u001b[0m\u001b[1;33m-\u001b[0m\u001b[1;36m1\u001b[0m\u001b[1;33m)\u001b[0m\u001b[1;33m)\u001b[0m\u001b[1;33m\u001b[0m\u001b[1;33m\u001b[0m\u001b[0m\n\u001b[1;32m---> 70\u001b[1;33m         \u001b[0mloss\u001b[0m\u001b[1;33m.\u001b[0m\u001b[0mbackward\u001b[0m\u001b[1;33m(\u001b[0m\u001b[1;33m)\u001b[0m\u001b[1;33m\u001b[0m\u001b[1;33m\u001b[0m\u001b[0m\n\u001b[0m\u001b[0;32m     71\u001b[0m         \u001b[0moptimizer\u001b[0m\u001b[1;33m.\u001b[0m\u001b[0mstep\u001b[0m\u001b[1;33m(\u001b[0m\u001b[1;33m)\u001b[0m\u001b[1;33m\u001b[0m\u001b[1;33m\u001b[0m\u001b[0m\n\u001b[0;32m     72\u001b[0m \u001b[1;33m\u001b[0m\u001b[0m\n",
      "\u001b[1;32mC:\\Anaconda3\\envs\\venv\\lib\\site-packages\\torch\\tensor.py\u001b[0m in \u001b[0;36mbackward\u001b[1;34m(self, gradient, retain_graph, create_graph)\u001b[0m\n\u001b[0;32m    183\u001b[0m                 \u001b[0mproducts\u001b[0m\u001b[1;33m.\u001b[0m \u001b[0mDefaults\u001b[0m \u001b[0mto\u001b[0m\u001b[0;31m \u001b[0m\u001b[0;31m`\u001b[0m\u001b[0;31m`\u001b[0m\u001b[1;32mFalse\u001b[0m\u001b[0;31m`\u001b[0m\u001b[0;31m`\u001b[0m\u001b[1;33m.\u001b[0m\u001b[1;33m\u001b[0m\u001b[1;33m\u001b[0m\u001b[0m\n\u001b[0;32m    184\u001b[0m         \"\"\"\n\u001b[1;32m--> 185\u001b[1;33m         \u001b[0mtorch\u001b[0m\u001b[1;33m.\u001b[0m\u001b[0mautograd\u001b[0m\u001b[1;33m.\u001b[0m\u001b[0mbackward\u001b[0m\u001b[1;33m(\u001b[0m\u001b[0mself\u001b[0m\u001b[1;33m,\u001b[0m \u001b[0mgradient\u001b[0m\u001b[1;33m,\u001b[0m \u001b[0mretain_graph\u001b[0m\u001b[1;33m,\u001b[0m \u001b[0mcreate_graph\u001b[0m\u001b[1;33m)\u001b[0m\u001b[1;33m\u001b[0m\u001b[1;33m\u001b[0m\u001b[0m\n\u001b[0m\u001b[0;32m    186\u001b[0m \u001b[1;33m\u001b[0m\u001b[0m\n\u001b[0;32m    187\u001b[0m     \u001b[1;32mdef\u001b[0m \u001b[0mregister_hook\u001b[0m\u001b[1;33m(\u001b[0m\u001b[0mself\u001b[0m\u001b[1;33m,\u001b[0m \u001b[0mhook\u001b[0m\u001b[1;33m)\u001b[0m\u001b[1;33m:\u001b[0m\u001b[1;33m\u001b[0m\u001b[1;33m\u001b[0m\u001b[0m\n",
      "\u001b[1;32mC:\\Anaconda3\\envs\\venv\\lib\\site-packages\\torch\\autograd\\__init__.py\u001b[0m in \u001b[0;36mbackward\u001b[1;34m(tensors, grad_tensors, retain_graph, create_graph, grad_variables)\u001b[0m\n\u001b[0;32m    125\u001b[0m     Variable._execution_engine.run_backward(\n\u001b[0;32m    126\u001b[0m         \u001b[0mtensors\u001b[0m\u001b[1;33m,\u001b[0m \u001b[0mgrad_tensors\u001b[0m\u001b[1;33m,\u001b[0m \u001b[0mretain_graph\u001b[0m\u001b[1;33m,\u001b[0m \u001b[0mcreate_graph\u001b[0m\u001b[1;33m,\u001b[0m\u001b[1;33m\u001b[0m\u001b[1;33m\u001b[0m\u001b[0m\n\u001b[1;32m--> 127\u001b[1;33m         allow_unreachable=True)  # allow_unreachable flag\n\u001b[0m\u001b[0;32m    128\u001b[0m \u001b[1;33m\u001b[0m\u001b[0m\n\u001b[0;32m    129\u001b[0m \u001b[1;33m\u001b[0m\u001b[0m\n",
      "\u001b[1;31mKeyboardInterrupt\u001b[0m: "
     ]
    }
   ],
   "source": [
    "print(args)\n",
    "setting, result, model = experiment(partition, deepcopy(args))"
   ]
  }
 ],
 "metadata": {
  "kernelspec": {
   "display_name": "Python 3",
   "language": "python",
   "name": "python3"
  },
  "language_info": {
   "codemirror_mode": {
    "name": "ipython",
    "version": 3
   },
   "file_extension": ".py",
   "mimetype": "text/x-python",
   "name": "python",
   "nbconvert_exporter": "python",
   "pygments_lexer": "ipython3",
   "version": "3.7.10"
  }
 },
 "nbformat": 4,
 "nbformat_minor": 5
}
