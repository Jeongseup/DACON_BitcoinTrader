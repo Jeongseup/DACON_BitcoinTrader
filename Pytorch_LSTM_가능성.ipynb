{
 "cells": [
  {
   "cell_type": "code",
   "execution_count": 279,
   "id": "35fb535a",
   "metadata": {},
   "outputs": [
    {
     "name": "stdout",
     "output_type": "stream",
     "text": [
      "1.6.0+cpu\n",
      "Populating the interactive namespace from numpy and matplotlib\n"
     ]
    }
   ],
   "source": [
    "import pandas as pd\n",
    "import numpy as np\n",
    "import argparse\n",
    "import datetime\n",
    "from copy import deepcopy # Add Deepcopy for args\n",
    "import pickle \n",
    "import seaborn as sns \n",
    "import matplotlib.pyplot as plt\n",
    "\n",
    "from sklearn.metrics import mean_absolute_error\n",
    "from statsmodels.tsa.api import SimpleExpSmoothing\n",
    "from sklearn.model_selection import train_test_split\n",
    "\n",
    "# pytorch\n",
    "import torch\n",
    "import torch.nn as nn\n",
    "from torch.utils.data import Dataset, DataLoader\n",
    "import torch.optim as optim\n",
    " \n",
    " \n",
    "print(torch.__version__)\n",
    "%matplotlib inline\n",
    "%pylab inline\n",
    "pylab.rcParams['figure.figsize'] = (8, 6)\n"
   ]
  },
  {
   "cell_type": "code",
   "execution_count": 172,
   "id": "8b0cf3af",
   "metadata": {},
   "outputs": [
    {
     "name": "stdout",
     "output_type": "stream",
     "text": [
      "Read files Complete!\n"
     ]
    }
   ],
   "source": [
    "# read file\n",
    "raw_x_df = pd.read_csv('./data/train_x_df.csv')\n",
    "raw_y_df = pd.read_csv('./data/train_y_df.csv')\n",
    "\n",
    "print('Read files Complete!')"
   ]
  },
  {
   "cell_type": "code",
   "execution_count": 152,
   "id": "5f0a09f3",
   "metadata": {},
   "outputs": [
    {
     "name": "stdout",
     "output_type": "stream",
     "text": [
      "\n",
      "    Train & Test split Complete!\n",
      "    Train set length is (1203, 1203),\n",
      "    Test set length is (5, 5)\n",
      "    \n"
     ]
    }
   ],
   "source": [
    "raw_x_df = raw_x_df[raw_x_df.coin_index == 9]\n",
    "raw_y_df = raw_y_df[raw_y_df.coin_index == 9]\n",
    "\n",
    "# ================================================= #\n",
    "test_sample_list = [4176, 601, 1934, 947, 5025]\n",
    "\n",
    "# test set split into X df\n",
    "test_x_df = raw_x_df[raw_x_df.sample_id.isin(test_sample_list)]\n",
    "train_x_df =  raw_x_df[~raw_x_df.sample_id.isin(test_sample_list)]\n",
    "\n",
    "# test set split into y df\n",
    "test_y_df = raw_y_df[raw_y_df.sample_id.isin(test_sample_list)]\n",
    "train_y_df =  raw_y_df[~raw_y_df.sample_id.isin(test_sample_list)]\n",
    "\n",
    "print(\n",
    "    f'''\n",
    "    Train & Test split Complete!\n",
    "    Train set length is {int(len(train_x_df)/1380), int(len(train_y_df) / 120)},\n",
    "    Test set length is {int(len(test_x_df) / 1380), int(len(test_y_df) / 120)}\n",
    "    '''\n",
    ")"
   ]
  },
  {
   "cell_type": "code",
   "execution_count": 275,
   "id": "5f5e7839",
   "metadata": {},
   "outputs": [
    {
     "name": "stdout",
     "output_type": "stream",
     "text": [
      "\n",
      "    train x shape is (1203, 1380, 10),\n",
      "    train y shape is (1203, 120, 10),\n",
      "    test x shape is (5, 1380, 10),\n",
      "    test y shape is (5, 120, 10)\n",
      "    \n"
     ]
    }
   ],
   "source": [
    "\n",
    "# ================================================= #\n",
    "def df2d_to_array3d(df_2d):\n",
    "    \n",
    "    # 입력 받은 2차원 데이터 프레임을 3차원 numpy array로 변경하는 함수\n",
    "    feature_size = df_2d.iloc[:,2:].shape[1]\n",
    "    time_size = len(df_2d.time.value_counts())\n",
    "    sample_size = len(df_2d.sample_id.value_counts())\n",
    "    array_3d = df_2d.iloc[:,2:].values.reshape([sample_size, time_size, feature_size])\n",
    "    \n",
    "    return array_3d\n",
    "# ================================================= #\n",
    "\n",
    "\n",
    "# train set\n",
    "train_x_arr = df2d_to_array3d(train_x_df)\n",
    "train_y_arr = df2d_to_array3d(train_y_df)\n",
    "\n",
    "# test set\n",
    "test_x_arr = df2d_to_array3d(test_x_df)\n",
    "test_y_arr = df2d_to_array3d(test_y_df)\n",
    "\n",
    "\n",
    "print(\n",
    "    f'''\n",
    "    train x shape is {train_x_arr.shape},\n",
    "    train y shape is {train_y_arr.shape},\n",
    "    test x shape is {test_x_arr.shape},\n",
    "    test y shape is {test_y_arr.shape}\n",
    "    '''\n",
    ")"
   ]
  },
  {
   "cell_type": "code",
   "execution_count": 198,
   "id": "738673cf",
   "metadata": {},
   "outputs": [],
   "source": [
    "# ================================================= #\n",
    "\n",
    "def simple_exponetial_smoothing_fory(arr, alpha=0.3):\n",
    "    \n",
    "    y_series = list()\n",
    "\n",
    "    for temp_arr in arr:\n",
    "        target_series = temp_arr[:, 1].reshape(-1) # open col is 1 index\n",
    "\n",
    "        smoother = SimpleExpSmoothing(target_series, initialization_method=\"heuristic\").fit(smoothing_level=alpha,optimized=False)\n",
    "        smoothing_series = smoother.fittedvalues\n",
    "\n",
    "        y_series.append(smoothing_series)\n",
    "            \n",
    "    return np.array(y_series)\n",
    "\n",
    "# ================================================= #\n",
    "\n",
    "def simple_exponetial_smoothing_forX(arr, alpha=0.3):\n",
    "    \n",
    "    # initialization\n",
    "    sample_size = int(arr.shape[0])\n",
    "    time_size = int(arr.shape[1])\n",
    "    feature_size = int(arr.shape[2])\n",
    "    \n",
    "    # create empty array\n",
    "    smoothing_arr = np.zeros((sample_size, time_size, feature_size - 1))\n",
    "\n",
    "    for idx, temp_arr in enumerate(arr):\n",
    "        for col in range(1, feature_size): # open col is 1 index\n",
    "            if col < 5:\n",
    "\n",
    "                temp_series = temp_arr[:, col].reshape(-1) \n",
    "                smoother = SimpleExpSmoothing(temp_series, initialization_method=\"heuristic\").fit(smoothing_level=0.3,optimized=False)\n",
    "                temp_smoothing_series = smoother.fittedvalues\n",
    "                smoothing_arr[idx, :, col-1] = temp_smoothing_series\n",
    "\n",
    "            else:\n",
    "                \n",
    "                pass_series = temp_arr[:, col].reshape(-1)\n",
    "                smoothing_arr[idx, :, col-1] = pass_series\n",
    "\n",
    "    return smoothing_arr\n",
    "\n",
    "# ================================================= #"
   ]
  },
  {
   "cell_type": "code",
   "execution_count": 245,
   "id": "b1c84bbd",
   "metadata": {},
   "outputs": [],
   "source": [
    "def getWeights_FFD(d, size, thres):\n",
    "    w = [1.]  # w의 초깃값 = 1\n",
    "\n",
    "    for k in range(1, size):\n",
    "        w_ = -w[-1] * (d - k + 1) / k  # 식 2)를 사용했다.\n",
    "        if abs(w[-1]) >= thres and abs(w_) <= thres:\n",
    "            break\n",
    "\n",
    "        else:\n",
    "            w.append(w_)\n",
    "\n",
    "    # w의 inverse\n",
    "    w = np.array(w[::-1]).reshape(-1, 1)\n",
    "\n",
    "    return w\n",
    "\n",
    "\n",
    "def fracDiff_FFD(series, d, thres=0.002):\n",
    "    '''\n",
    "\n",
    "    Constant width window (new solution)\n",
    "\n",
    "    Note 1: thres determines the cut-off weight for the window\n",
    "\n",
    "    Note 2: d can be any positive fractional, not necessarily bounded [0,1]\n",
    "\n",
    "    '''\n",
    "\n",
    "    # 1) Compute weights for the longest series\n",
    "    w = getWeights_FFD(d, series.shape[0], thres)\n",
    "    width = len(w) - 1\n",
    "\n",
    "    # 2) Apply weights to values\n",
    "    df = []\n",
    "    seriesF = series\n",
    "\n",
    "    for iloc in range(len(w), seriesF.shape[0]):\n",
    "        k = np.dot(w.T[::-1], seriesF[iloc - len(w):iloc])\n",
    "        df.append(k)\n",
    "\n",
    "    df = np.array(df)\n",
    "\n",
    "    return df, w"
   ]
  },
  {
   "cell_type": "code",
   "execution_count": 190,
   "id": "b064560c",
   "metadata": {},
   "outputs": [
    {
     "name": "stdout",
     "output_type": "stream",
     "text": [
      "simple exponetial smoothing Complete!!!\n"
     ]
    }
   ],
   "source": [
    "# train set smoothing\n",
    "train_x_arr = simple_exponetial_smoothing_forX(train_x_arr)\n",
    "train_y_arr = simple_exponetial_smoothing_fory(train_y_arr)\n",
    "\n",
    "# test set smoothing \n",
    "test_x_arr = simple_exponetial_smoothing_forX(test_x_arr)\n",
    "print('simple exponetial smoothing Complete!!!')"
   ]
  },
  {
   "cell_type": "code",
   "execution_count": null,
   "id": "81bff392",
   "metadata": {},
   "outputs": [],
   "source": [
    "newarray = np.zeros((1208,1343,1))\n",
    "for idx in range(coin9_x_array.shape[0]):\n",
    "    fdiff, w = fracDiff_FFD(train_x_array[idx,:,1], d=0.35, thres=0.002)\n",
    "    newarray[idx,:,:] = fdiff"
   ]
  },
  {
   "cell_type": "code",
   "execution_count": 288,
   "id": "2af681e8",
   "metadata": {},
   "outputs": [],
   "source": [
    "frac_x_arr, w = fracDiff_FFD(train_x_arr[1, :, 1], d=0.35, thres=0.002)"
   ]
  },
  {
   "cell_type": "code",
   "execution_count": 289,
   "id": "3bff4cb5",
   "metadata": {},
   "outputs": [
    {
     "data": {
      "text/plain": [
       "[<matplotlib.lines.Line2D at 0x27dadbac148>]"
      ]
     },
     "execution_count": 289,
     "metadata": {},
     "output_type": "execute_result"
    },
    {
     "data": {
      "image/png": "[encoded data removed]",
      "text/plain": [
       "<Figure size 576x432 with 1 Axes>"
      ]
     },
     "metadata": {
      "needs_background": "light"
     },
     "output_type": "display_data"
    }
   ],
   "source": [
    "plt.plot(train_x_arr[1, :, 1])"
   ]
  },
  {
   "cell_type": "code",
   "execution_count": 290,
   "id": "39c34f3b",
   "metadata": {},
   "outputs": [
    {
     "data": {
      "image/png": "[encoded data removed]",
      "text/plain": [
       "<Figure size 576x432 with 1 Axes>"
      ]
     },
     "metadata": {
      "needs_background": "light"
     },
     "output_type": "display_data"
    }
   ],
   "source": [
    "# plt.plot(train_y_arr[0, :83, 1], label='0.3')\n",
    "plt.plot(frac_x_arr, label='origin')\n",
    "# plt.plot(example7[0, :], label='0.6')\n",
    "\n",
    "plt.legend()\n",
    "plt.show()"
   ]
  },
  {
   "cell_type": "code",
   "execution_count": 176,
   "id": "514fd6c8",
   "metadata": {},
   "outputs": [],
   "source": [
    "def train_val_test_spliter(arr):\n",
    "    \n",
    "    n = len(arr)\n",
    "    num_features = arr.shape[2] - 1\n",
    "    \n",
    "    train_arr = arr[0:int(n*0.8), :, 1:]\n",
    "    val_arr = arr[int(n*0.8):, :, 1:]\n",
    "    \n",
    "    n2 = len(train_arr) + len(val_arr)\n",
    "    \n",
    "    print(\n",
    "    f'''\n",
    "    ======================================================\n",
    "    Origin length is {n}, then total split length is {n2}\n",
    "    ======================================================\n",
    "    train length is {train_arr.shape},\n",
    "    val length is {val_arr.shape},\n",
    "    num_features is ({num_features})\n",
    "    '''\n",
    "    )\n",
    "    \n",
    "    return train_arr, val_arr"
   ]
  },
  {
   "cell_type": "code",
   "execution_count": 177,
   "id": "1c33ee50",
   "metadata": {},
   "outputs": [
    {
     "name": "stdout",
     "output_type": "stream",
     "text": [
      "\n",
      "    train x shape is (1203, 1380, 9),\n",
      "    train y shape is (1203, 120),\n",
      "\n",
      "    \n",
      "    test x shape is (5, 1380, 9),\n",
      "    test y shape is (5, 120),\n",
      "    \n"
     ]
    }
   ],
   "source": [
    "print(\n",
    "    f'''\n",
    "    train x shape is {train_x_arr.shape},\n",
    "    train y shape is {train_y_arr.shape},\n",
    "\n",
    "    \n",
    "    test x shape is {test_x_arr.shape},\n",
    "    test y shape is {test_y_arr.shape},\n",
    "    '''\n",
    ")"
   ]
  },
  {
   "cell_type": "code",
   "execution_count": 178,
   "id": "96003793",
   "metadata": {},
   "outputs": [],
   "source": [
    "# train & val set\n",
    "train_X, val_X, train_y, val_y = train_test_split(train_x_arr, train_y_arr, test_size=0.2, shuffle=False)\n",
    "\n",
    "# test set\n",
    "test_X = test_x_arr[:, :, 1:] # open col\n",
    "test_y = test_y_arr"
   ]
  },
  {
   "cell_type": "code",
   "execution_count": 179,
   "id": "fb3b376f",
   "metadata": {},
   "outputs": [
    {
     "name": "stdout",
     "output_type": "stream",
     "text": [
      "\n",
      "======================================================\n",
      "Origin length is 1203, then total split length is 962\n",
      "======================================================\n",
      "train X length is (962, 1380, 9), train y length is (962, 120),\n",
      "val X length is (241, 1380, 9), val y length is (241, 120),\n",
      "test X length is (5, 1380, 8), test y length is (5, 120)\n",
      "\n"
     ]
    }
   ],
   "source": [
    "print(\n",
    "f'''\n",
    "======================================================\n",
    "Origin length is {len(train_x_arr)}, then total split length is {len(train_X)}\n",
    "======================================================\n",
    "train X length is {train_X.shape}, train y length is {train_y.shape},\n",
    "val X length is {val_X.shape}, val y length is {val_y.shape},\n",
    "test X length is {test_X.shape}, test y length is {test_y.shape}\n",
    "'''\n",
    ")\n"
   ]
  },
  {
   "cell_type": "code",
   "execution_count": 180,
   "id": "9581e934",
   "metadata": {},
   "outputs": [],
   "source": [
    "train_x_mean = train_x_arr.mean(axis=(0, 1))\n",
    "train_x_std = train_x_arr.std(axis=(0, 1))\n",
    "\n",
    "train_x_arr = (train_x_arr - train_x_mean) / train_x_std\n",
    "val_x_arr = (val_x_arr - train_x_mean) / train_x_std\n",
    "test_x_arr = (test_x_arr - train_x_mean) / train_x_std"
   ]
  },
  {
   "cell_type": "code",
   "execution_count": null,
   "id": "43f15145",
   "metadata": {},
   "outputs": [],
   "source": []
  }
 ],
 "metadata": {
  "kernelspec": {
   "display_name": "Python 3",
   "language": "python",
   "name": "python3"
  },
  "language_info": {
   "codemirror_mode": {
    "name": "ipython",
    "version": 3
   },
   "file_extension": ".py",
   "mimetype": "text/x-python",
   "name": "python",
   "nbconvert_exporter": "python",
   "pygments_lexer": "ipython3",
   "version": "3.7.10"
  }
 },
 "nbformat": 4,
 "nbformat_minor": 5
}
