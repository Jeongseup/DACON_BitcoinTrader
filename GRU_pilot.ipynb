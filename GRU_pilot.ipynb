{
  "nbformat": 4,
  "nbformat_minor": 0,
  "metadata": {
    "colab": {
      "name": "GRU_pilot.ipynb",
      "provenance": [],
      "collapsed_sections": [],
      "toc_visible": true
    },
    "kernelspec": {
      "name": "python3",
      "display_name": "Python 3"
    },
    "language_info": {
      "name": "python"
    },
    "accelerator": "GPU"
  },
  "cells": [
    {
      "cell_type": "markdown",
      "metadata": {
        "id": "l5s55P2OV4ss"
      },
      "source": [
        "## 데이콘 비트코인 가격 예측 - Keras GRU & Bidirectional GRU\n",
        "런타임 유형 None -> GPU로 변경해서 실험할 것.\n",
        "\n",
        "\n",
        "\n"
      ]
    },
    {
      "cell_type": "code",
      "metadata": {
        "colab": {
          "base_uri": "https://localhost:8080/"
        },
        "id": "DJhmdrtfTtoy",
        "outputId": "f44f14d7-7ba8-4c0a-9c60-532ac36856b0"
      },
      "source": [
        "# colab drive mount \n",
        "import os\n",
        "from google.colab import drive\n",
        "from google.colab import files\n",
        "\n",
        "drive.mount('/content/drive')"
      ],
      "execution_count": null,
      "outputs": [
        {
          "output_type": "stream",
          "text": [
            "Mounted at /content/drive\n"
          ],
          "name": "stdout"
        }
      ]
    },
    {
      "cell_type": "code",
      "metadata": {
        "id": "5q1n3iFGpDZ_",
        "colab": {
          "base_uri": "https://localhost:8080/"
        },
        "outputId": "cfa3f97f-8e4c-483b-fe89-c49d59b71201"
      },
      "source": [
        "\n",
        "# 폴더 path 설정 및 working directory 변경\n",
        "folder_path = './drive/MyDrive'\n",
        "os.chdir(folder_path)\n",
        "\n",
        "\n",
        "# current working directory 확인\n",
        "print(os.getcwd())\n",
        "''' 정상 경로 : /content/drive/My Drive '''\n",
        "\n",
        "\n",
        "# data uploading folder create\n",
        "dir_name = 'bitcoin_dataset'\n",
        "\n",
        "def make_dir(dir_name):\n",
        "    try:\n",
        "        # Create target Directory\n",
        "        os.mkdir(dir_name)\n",
        "        print(\"Directory \" , dir_name ,  \" Created \") \n",
        "    except FileExistsError:\n",
        "        print(\"Directory \" , dir_name ,  \" already exists\")\n",
        "\n",
        "# 폴더 생성\n",
        "make_dir(dir_name)\n",
        "\n",
        "# 폴더 생성됬는 지 확인 \n",
        "print(os.listdir())\n",
        "\n",
        "# 업로드할 디렉토리 변경\n",
        "os.chdir('./bitcoin_dataset/')\n",
        "\n",
        "# current working directroy confirm\n",
        "print(os.getcwd())"
      ],
      "execution_count": null,
      "outputs": [
        {
          "output_type": "stream",
          "text": [
            "/content/drive/MyDrive\n",
            "Directory  bitcoin_dataset  already exists\n",
            "['Colab Notebooks', '산갱', 'somethings', '.ipynb_checkpoints', '블로그 방문관련 이슈 조사.gform', '제목 없는 설문지.gform', 'bitcoin_dataset', '인증.png']\n",
            "/content/drive/MyDrive/bitcoin_dataset\n"
          ],
          "name": "stdout"
        }
      ]
    },
    {
      "cell_type": "markdown",
      "metadata": {
        "id": "-eyABCLvVo2Z"
      },
      "source": [
        "### library import & data upload"
      ]
    },
    {
      "cell_type": "code",
      "metadata": {
        "colab": {
          "base_uri": "https://localhost:8080/"
        },
        "id": "Gpn_jsZ0VRGk",
        "outputId": "e032804b-d6f9-4f7b-ba64-d40697e0d9fc"
      },
      "source": [
        "# others\n",
        "# colab drive mount \n",
        "import pandas as pd\n",
        "import numpy as np\n",
        "import argparse\n",
        "import datetime\n",
        "from copy import deepcopy # Add Deepcopy for args\n",
        "import pickle \n",
        "import seaborn as sns \n",
        "import matplotlib.pyplot as plt\n",
        "%matplotlib inline\n",
        "%pylab inline\n",
        "\n",
        "# tensorflow\n",
        "import tensorflow as tf\n",
        "from tensorflow import keras\n",
        "from tensorflow.keras import layers\n",
        "\n",
        "print(f\"GPU 사용 체크 {tf.test.gpu_device_name()}\")\n",
        "seed = 777\n",
        "np.random.seed(seed)\n",
        "\n",
        "drive.mount('/content/drive')\n",
        "# read file\n",
        "df = pd.read_hdf('/content/drive/My Drive/bitcoin_dataset/merged_data.h5')"
      ],
      "execution_count": null,
      "outputs": [
        {
          "output_type": "stream",
          "text": [
            "Populating the interactive namespace from numpy and matplotlib\n",
            "GPU 사용 체크 /device:GPU:0\n",
            "Drive already mounted at /content/drive; to attempt to forcibly remount, call drive.mount(\"/content/drive\", force_remount=True).\n"
          ],
          "name": "stdout"
        },
        {
          "output_type": "stream",
          "text": [
            "/usr/local/lib/python3.7/dist-packages/IPython/core/magics/pylab.py:161: UserWarning: pylab import has clobbered these variables: ['seed']\n",
            "`%matplotlib` prevents importing * from pylab and numpy\n",
            "  \"\\n`%matplotlib` prevents importing * from pylab and numpy\"\n"
          ],
          "name": "stderr"
        }
      ]
    },
    {
      "cell_type": "markdown",
      "metadata": {
        "id": "QxVdg0i3yJNi"
      },
      "source": [
        "### data split\n",
        "임의적으로 진행함, 우선 200 sample만 가지고 되는지 확인해보려고 함"
      ]
    },
    {
      "cell_type": "code",
      "metadata": {
        "id": "psxkFLYzNthi"
      },
      "source": [
        "train_df = df[df.sample_id < 200]\n",
        "test_df = df[df.sample_id >= 1203]\n",
        "\n",
        "# val_df = df[(df.sample_id >= 1000) & (df.sample_id < 1108)]\n"
      ],
      "execution_count": null,
      "outputs": []
    },
    {
      "cell_type": "markdown",
      "metadata": {
        "id": "yy_MiT3Px1vM"
      },
      "source": [
        "### data preprocess"
      ]
    },
    {
      "cell_type": "code",
      "metadata": {
        "id": "ofOumBhn4G3k"
      },
      "source": [
        "# ====== Generating Dataset ====== #\n",
        "\n",
        "def open_data_generate(dataframe, col_name, x_frames, y_frames, print_mode = False):\n",
        "\n",
        "    ''' 설명 생략 '''\n",
        "\n",
        "    # grouping\n",
        "    grouped_df = dataframe.groupby('sample_id')\n",
        "    \n",
        "    # export unique sample ids\n",
        "    unique_sample_id_list = grouped_df.sample_id.unique()\n",
        "\n",
        "    # create new lists\n",
        "    X, y = list(), list()\n",
        "\n",
        "    ''' 샘플 하나 선택 loop '''\n",
        "    for sample_id in unique_sample_id_list:\n",
        "        \n",
        "        # get one sample_id in sample list\n",
        "        temp_sample_id = sample_id.item()\n",
        "\n",
        "        # get one group by temp_sample_id\n",
        "        temp_series = grouped_df.get_group(temp_sample_id)[col_name]\n",
        "\n",
        "        # 한 샘플당 몇 개의 arrset가 나오는 지 확인\n",
        "        count = 0\n",
        "        split_length = len(temp_series) - (x_frames + y_frames) + 1\n",
        "        \n",
        "        ''' 한 샘플 내 데이터 split loop '''\n",
        "        for time_idx in range(split_length):\n",
        "            \n",
        "            # index 변경\n",
        "            time_idx += x_frames\n",
        "            \n",
        "            # temp_data select\n",
        "            temp_arr = temp_series[time_idx - x_frames : time_idx + y_frames]\n",
        "\n",
        "            # get values\n",
        "            temp_x, temp_y = temp_arr.iloc[:x_frames].values, temp_arr.iloc[x_frames:].values\n",
        "\n",
        "            # appending\n",
        "            X.append(temp_x)\n",
        "            y.append(temp_y)\n",
        "            \n",
        "            # counter printing\n",
        "            count += 1\n",
        "            if (count == split_length) & (print_mode == True):\n",
        "                print(f'현재 sample id : {temp_sample_id}')\n",
        "                print(f'{temp_sample_id}번째 sample의 생성 array수 : {count}')\n",
        "            \n",
        "    return np.array(X), np.array(y)"
      ],
      "execution_count": null,
      "outputs": []
    },
    {
      "cell_type": "code",
      "metadata": {
        "id": "bDRYudehVfBR"
      },
      "source": [
        "#print mode = True로 바꾸면 데이터 어떻게 분할되는지 볼 수 있음\n",
        "x_frames = 60\n",
        "train_x, train_y = open_data_generate(train_df,col_name ='open', x_frames = x_frames, y_frames = 1, print_mode = False)"
      ],
      "execution_count": null,
      "outputs": []
    },
    {
      "cell_type": "code",
      "metadata": {
        "colab": {
          "base_uri": "https://localhost:8080/"
        },
        "id": "NjpYrcBf9ApI",
        "outputId": "eb959293-76b6-45b4-8b59-6e2da5933f24"
      },
      "source": [
        "\n",
        "print(\n",
        "    \"데이터 전처리 후 shape\\n\"\n",
        "    f'train x shape is {train_x.shape} \\n'\n",
        "    f'train y shape is {train_y.shape}'\n",
        ")"
      ],
      "execution_count": null,
      "outputs": [
        {
          "output_type": "stream",
          "text": [
            "데이터 전처리 후 shape\n",
            "train x shape is (288000, 60) \n",
            "train y shape is (288000, 1)\n"
          ],
          "name": "stdout"
        }
      ]
    },
    {
      "cell_type": "markdown",
      "metadata": {
        "id": "STIoXAOLzYSO"
      },
      "source": [
        "### data reshaping"
      ]
    },
    {
      "cell_type": "code",
      "metadata": {
        "id": "VvWrmx_d__Qy"
      },
      "source": [
        "\n",
        "# reshape from [samples, timesteps] into [samples, timesteps, features]\n",
        "n_features = 1  #open 데이터만 가지고 함.\n",
        "train_x = train_x.reshape((train_x.shape[0], train_x.shape[1], n_features))\n"
      ],
      "execution_count": null,
      "outputs": []
    },
    {
      "cell_type": "markdown",
      "metadata": {
        "id": "dpdIF8sXzzvs"
      },
      "source": [
        "### modeling & prediction"
      ]
    },
    {
      "cell_type": "markdown",
      "metadata": {
        "id": "6s1nobng0GiI"
      },
      "source": [
        "#### 1. simple GRU model"
      ]
    },
    {
      "cell_type": "code",
      "metadata": {
        "id": "QjsFEit4DCl4",
        "colab": {
          "base_uri": "https://localhost:8080/"
        },
        "outputId": "c4b50da3-89e6-468a-bd43-c55a31ff14df"
      },
      "source": [
        "model = keras.models.Sequential(\n",
        "    [\n",
        "     keras.layers.GRU(units = 50, input_shape=(x_frames, 1)),\n",
        "     keras.layers.Dense(1)\n",
        "    ]\n",
        ")\n",
        "model.compile(optimizer='adam', loss='mse')\n",
        "model.summary()"
      ],
      "execution_count": null,
      "outputs": [
        {
          "output_type": "stream",
          "text": [
            "Model: \"sequential_2\"\n",
            "_________________________________________________________________\n",
            "Layer (type)                 Output Shape              Param #   \n",
            "=================================================================\n",
            "gru_3 (GRU)                  (None, 50)                7950      \n",
            "_________________________________________________________________\n",
            "dense_2 (Dense)              (None, 1)                 51        \n",
            "=================================================================\n",
            "Total params: 8,001\n",
            "Trainable params: 8,001\n",
            "Non-trainable params: 0\n",
            "_________________________________________________________________\n"
          ],
          "name": "stdout"
        }
      ]
    },
    {
      "cell_type": "markdown",
      "metadata": {
        "id": "UCptjA8J0TGE"
      },
      "source": [
        "#### 2. Bidirectional GRU model"
      ]
    },
    {
      "cell_type": "code",
      "metadata": {
        "id": "CMVgv3sOeZrg",
        "colab": {
          "base_uri": "https://localhost:8080/"
        },
        "outputId": "67738204-1e5f-473b-a9d8-952007bfa134"
      },
      "source": [
        "model = keras.models.Sequential(\n",
        "    [\n",
        "     keras.layers.Bidirectional(layers.GRU(units = 50, return_sequences =True), input_shape=(x_frames, 1)), \n",
        "     keras.layers.GRU(units = 50),\n",
        "     keras.layers.Dense(1)\n",
        "    ]\n",
        ")\n",
        "\n",
        "model.compile(optimizer='adam', loss='mse')\n",
        "model.summary()"
      ],
      "execution_count": null,
      "outputs": [
        {
          "output_type": "stream",
          "text": [
            "Model: \"sequential_3\"\n",
            "_________________________________________________________________\n",
            "Layer (type)                 Output Shape              Param #   \n",
            "=================================================================\n",
            "bidirectional_1 (Bidirection (None, 60, 100)           15900     \n",
            "_________________________________________________________________\n",
            "gru_5 (GRU)                  (None, 50)                22800     \n",
            "_________________________________________________________________\n",
            "dense_3 (Dense)              (None, 1)                 51        \n",
            "=================================================================\n",
            "Total params: 38,751\n",
            "Trainable params: 38,751\n",
            "Non-trainable params: 0\n",
            "_________________________________________________________________\n"
          ],
          "name": "stdout"
        }
      ]
    },
    {
      "cell_type": "code",
      "metadata": {
        "colab": {
          "base_uri": "https://localhost:8080/"
        },
        "id": "5yJKZG-8YJMa",
        "outputId": "7323a479-8cee-400b-c8d6-651e0fd9d33a"
      },
      "source": [
        "model.fit(train_x, train_y, epochs=10, verbose=1)"
      ],
      "execution_count": null,
      "outputs": [
        {
          "output_type": "stream",
          "text": [
            "Epoch 1/10\n",
            "9000/9000 [==============================] - 72s 8ms/step - loss: 2.7725e-06\n",
            "Epoch 2/10\n",
            "9000/9000 [==============================] - 72s 8ms/step - loss: 2.7467e-06\n",
            "Epoch 3/10\n",
            "9000/9000 [==============================] - 73s 8ms/step - loss: 2.8116e-06\n",
            "Epoch 4/10\n",
            "9000/9000 [==============================] - 73s 8ms/step - loss: 2.7376e-06\n",
            "Epoch 5/10\n",
            "9000/9000 [==============================] - 73s 8ms/step - loss: 2.6750e-06\n",
            "Epoch 6/10\n",
            "9000/9000 [==============================] - 75s 8ms/step - loss: 2.6862e-06\n",
            "Epoch 7/10\n",
            "9000/9000 [==============================] - 73s 8ms/step - loss: 2.6720e-06\n",
            "Epoch 8/10\n",
            "9000/9000 [==============================] - 74s 8ms/step - loss: 2.6607e-06\n",
            "Epoch 9/10\n",
            "9000/9000 [==============================] - 74s 8ms/step - loss: 2.6689e-06\n",
            "Epoch 10/10\n",
            "9000/9000 [==============================] - 73s 8ms/step - loss: 2.6301e-06\n"
          ],
          "name": "stdout"
        },
        {
          "output_type": "execute_result",
          "data": {
            "text/plain": [
              "<tensorflow.python.keras.callbacks.History at 0x7ff9a2ee9ad0>"
            ]
          },
          "metadata": {
            "tags": []
          },
          "execution_count": 127
        }
      ]
    },
    {
      "cell_type": "markdown",
      "metadata": {
        "id": "WwvyNTHp1Cnb"
      },
      "source": [
        "### model save & load"
      ]
    },
    {
      "cell_type": "code",
      "metadata": {
        "id": "fsPweh44yAx1"
      },
      "source": [
        "# 모델 저장\n",
        "model_path = './Bidirectional_GRU_model.h5' # 모델명 알아서 적고, 확장자는 .h5\n",
        "model.save(model_path) \n",
        "\n",
        "# 모델 로드\n",
        "model = keras.models.load_model(model_path)"
      ],
      "execution_count": null,
      "outputs": []
    },
    {
      "cell_type": "markdown",
      "metadata": {
        "id": "HIQhmaAA3ATs"
      },
      "source": [
        "### prediction & plotting"
      ]
    },
    {
      "cell_type": "code",
      "metadata": {
        "id": "R7kPmvQw0F-V"
      },
      "source": [
        "def targetframes_predict(model = model,dataframe = test_df, test_id = 1207, x_frames = 60 , target_len = 120):\n",
        "\n",
        "    # list 만들고, 마지막 데이터 30개 추출\n",
        "    y_pred_list = list()\n",
        "    y_true_list = dataframe[dataframe.sample_id == test_id].reset_index(drop=True).open[1380:].values\n",
        "    \n",
        "    x_input = dataframe[dataframe.sample_id == test_id].reset_index(drop=True).open[1380 - x_frames :1380].values\n",
        "\n",
        "    for i in range(target_len):\n",
        "\n",
        "        yhat = model.predict(x_input.reshape((1, x_frames, 1)), verbose=0)\n",
        "        \n",
        "        # list append\n",
        "        y_pred = round(yhat.item(), 8)\n",
        "        y_pred_list.append(y_pred)\n",
        "\n",
        "        # exchage input data\n",
        "        x_input = np.append(x_input, y_pred)\n",
        "        x_input = np.delete(x_input, 0)\n",
        "\n",
        "\n",
        "    return np.array(y_pred_list), np.array(y_true_list)\n"
      ],
      "execution_count": null,
      "outputs": []
    },
    {
      "cell_type": "code",
      "metadata": {
        "id": "oc93ZDVIrV38"
      },
      "source": [
        "# test_df의 test_id = 1207이 실제 데이터에서의 7657 임, target_len는 반복 예측해야 할 구간 길이\n",
        "y_pred_arr, y_true_arr = targetframes_predict(model = model, dataframe = test_df, test_id = 1207, x_frames = x_frames , target_len = 120)"
      ],
      "execution_count": null,
      "outputs": []
    },
    {
      "cell_type": "code",
      "metadata": {
        "colab": {
          "base_uri": "https://localhost:8080/",
          "height": 537
        },
        "id": "RqYdMm7v7fYQ",
        "outputId": "a7895708-69f1-4498-a8f5-fe1734c4d0f1"
      },
      "source": [
        "# 모델 결과\n",
        "\n",
        "plt.plot(np.arange(1380, 1380+120), y_pred_arr, label = 'GRU prediction')\n",
        "plt.plot(np.arange(1380, 1380+120), y_true_arr, label = 'True')\n",
        "\n",
        "plt.legend()\n",
        "plt.show()"
      ],
      "execution_count": null,
      "outputs": [
        {
          "output_type": "display_data",
          "data": {
            "image/png": "[encoded data removed]",
            "text/plain": [
              "<Figure size 1080x648 with 1 Axes>"
            ]
          },
          "metadata": {
            "tags": [],
            "needs_background": "light"
          }
        }
      ]
    },
    {
      "cell_type": "code",
      "metadata": {
        "colab": {
          "base_uri": "https://localhost:8080/"
        },
        "id": "DNHViij8B9Og",
        "outputId": "d67d28f6-b4dd-41e0-9448-2bf872fac19e"
      },
      "source": [
        "# MSE 에러 계산\n",
        "from sklearn.metrics import mean_squared_error\n",
        "print(mean_squared_error(y_true_arr, y_pred_arr))"
      ],
      "execution_count": null,
      "outputs": [
        {
          "output_type": "stream",
          "text": [
            "2.3779854908904886e-05\n"
          ],
          "name": "stdout"
        }
      ]
    }
  ]
}