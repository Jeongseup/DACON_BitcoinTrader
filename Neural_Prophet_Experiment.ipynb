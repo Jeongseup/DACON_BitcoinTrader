{
 "cells": [
  {
   "cell_type": "markdown",
   "metadata": {
    "id": "O96S8VwXZvoZ"
   },
   "source": [
    "### 데이콘 비트코인 가격 예측 - Prophet"
   ]
  },
  {
   "cell_type": "code",
   "execution_count": 14,
   "metadata": {
    "colab": {
     "base_uri": "https://localhost:8080/"
    },
    "id": "_KXCuk9-Zsqv",
    "outputId": "051fdaed-faad-4c68-c7d0-f0d6d089be89"
   },
   "outputs": [],
   "source": [
    "import os, datetime\n",
    "import numpy as np\n",
    "import pandas as pd\n",
    "from tqdm import tqdm\n",
    "\n",
    "import IPython\n",
    "import IPython.display\n",
    "import matplotlib.pyplot as plt\n",
    "\n",
    "from neuralprophet import NeuralProphet\n",
    "import preprocessor, coin_simulation\n",
    "\n",
    "# modeling programing\n",
    "def neural_prophet_modeling(input_array):\n",
    "    ''' 함수 설명 : prophet fitting & prediction'''\n",
    "    \n",
    "    #미래 데이터 저장을 위한 빈 array 생성\n",
    "    valid_pred_array =  np.zeros([input_array.shape[0], 120])\n",
    "    error_counter = 0\n",
    "    \n",
    "    #모델 돌리기 및 결과 저장\n",
    "    for idx in tqdm(range(input_array.shape[0])):\n",
    "        try:\n",
    "            x_series = input_array[idx,:].reshape(-1)\n",
    "            x_df = prophet_preprocessor(x_series)\n",
    "\n",
    "            model = NeuralProphet(\n",
    "                          n_changepoints = 25,\n",
    "                          d_hidden = 30,\n",
    "                          changepoints_range = 0.97,\n",
    "                          num_hidden_layers = 2,\n",
    "\n",
    "                          learning_rate = 0.1, epochs=100, batch_size = 64, loss_func=\"Huber\",\n",
    "                          seasonality_mode = 'multiplicative',\n",
    "                          yearly_seasonality = 'auto', weekly_seasonality = 'auto', daily_seasonality = 'auto',\n",
    "                          normalize='off' # Type of normalization ('minmax', 'standardize', 'soft', 'off')\n",
    "                         )\n",
    "    \n",
    "            model.add_seasonality(name='first_seasonality', period=1/24, fourier_order= 7 ) \n",
    "            model.add_seasonality(name='second_seasonality', period=1/12, fourier_order= 15)\n",
    "\n",
    "            metrics = model.fit(x_df, freq=\"min\")\n",
    "\n",
    "            future = model.make_future_dataframe(x_df, periods=120)\n",
    "            forecast = model.predict(future)\n",
    "    \n",
    "            valid_pred_array[idx,:] = forecast.yhat1.values[-120:]\n",
    "            IPython.display.clear_output()\n",
    "            \n",
    "        except:\n",
    "            error_counter += 1\n",
    "            print(f'Neural Prophet modeling error!')\n",
    "            IPython.display.clear_output()\n",
    "            pass\n",
    "    \n",
    "    # clear display\n",
    "    IPython.display.clear_output()\n",
    "    print(f'''\n",
    "    NOTE : {len(input_array)}의 샘플 내 {error_counter}개의 샘플에서 에러가 발생했습니다.\\n\n",
    "    Prediction Complete!'\n",
    "    '''\n",
    "    )        \n",
    "\n",
    "    return valid_pred_array\n",
    "\n",
    "def prophet_preprocessor(x_series):\n",
    "    ''' 함수 설명 : 빈 x_df 만들기'''\n",
    "    # start time initialization\n",
    "    start_time = '2021-01-01 00:00:00'\n",
    "    start_dt = datetime.datetime.strptime(start_time, '%Y-%m-%d %H:%M:%S')\n",
    "\n",
    "    # datafram 만들기\n",
    "    x_df = pd.DataFrame()\n",
    "    # 분당 시간 데이터 시리즈 입력\n",
    "    x_df['ds'] = [start_dt + datetime.timedelta(minutes = time_min) for time_min in np.arange(1, x_series.shape[0]+1).tolist()]\n",
    "    # 가격 데이터 시리즈 입력\n",
    "    x_df['y'] = x_series.tolist()\n",
    "\n",
    "    return x_df"
   ]
  },
  {
   "cell_type": "code",
   "execution_count": 11,
   "metadata": {
    "colab": {
     "base_uri": "https://localhost:8080/",
     "height": 265
    },
    "id": "FUSMdnpycLs0",
    "outputId": "4cdf9c0d-601e-4c14-f107-04bedf414a0b"
   },
   "outputs": [
    {
     "name": "stdout",
     "output_type": "stream",
     "text": [
      "Reading Complete!\n"
     ]
    }
   ],
   "source": [
    "### ------------ Data upload part ---------------- ###\n",
    "\n",
    "# 데이터가 위치한 폴더 경로\n",
    "dir_path = './data'\n",
    "\n",
    "# 파일명 설정\n",
    "x_file_name, y_file_name = 'train_x_df.csv', 'train_y_df.csv'\n",
    "x_file_path = os.path.join(dir_path, x_file_name)\n",
    "y_file_path = os.path.join(dir_path, y_file_name)\n",
    "\n",
    "#파일 업로드\n",
    "train_x_df = pd.read_csv(x_file_path)\n",
    "train_y_df = pd.read_csv(y_file_path)\n",
    "print(\"Reading Complete!\")\n",
    "\n",
    "\n",
    "\n",
    "### --------------- Modeling part ---------------- ###\n",
    "\n",
    "# 데이터 전처리 1 : dafaframe to array \n",
    "train_x_array = preprocessor.df2d_to_array3d(train_x_df)\n",
    "train_y_array = preprocessor.df2d_to_array3d(train_y_df)\n",
    "\n",
    "# 데이터 전처리 2-2 : 비차분 open 데이터 추출\n",
    "normal_x_array = train_x_array[:383, :, 1].reshape(383, 1380, 1) # open col is 1"
   ]
  },
  {
   "cell_type": "code",
   "execution_count": 15,
   "metadata": {},
   "outputs": [
    {
     "name": "stderr",
     "output_type": "stream",
     "text": [
      " 97%|███████████████████████████████████████████████████▎ | 371/383 [35:00<01:03,  5.29s/it]WARNING: nprophet - fit: Parts of code may break if using other than daily data.\n",
      "INFO: nprophet.utils - set_auto_seasonalities: Disabling yearly seasonality. Run NeuralProphet with yearly_seasonality=True to override this.\n",
      "INFO: nprophet.utils - set_auto_seasonalities: Disabling weekly seasonality. Run NeuralProphet with weekly_seasonality=True to override this.\n",
      "INFO: nprophet.utils - set_auto_seasonalities: Disabling daily seasonality. Run NeuralProphet with daily_seasonality=True to override this.\n",
      "\n",
      "  0%|                                                               | 0/100 [00:00<?, ?it/s]\u001b[A\n",
      "Epoch[1/100]:   0%|                                                 | 0/100 [00:00<?, ?it/s]\u001b[A\n",
      "Epoch[1/100]:   0%|        | 0/100 [00:00<?, ?it/s, SmoothL1Loss=0.617, MAE=1.11, RegLoss=0]\u001b[A\n",
      "Epoch[2/100]:   0%|        | 0/100 [00:00<?, ?it/s, SmoothL1Loss=0.617, MAE=1.11, RegLoss=0]\u001b[A\n",
      "Epoch[2/100]:   0%|       | 0/100 [00:00<?, ?it/s, SmoothL1Loss=0.444, MAE=0.931, RegLoss=0]\u001b[A\n",
      "Epoch[2/100]:   2%| | 2/100 [00:00<00:06, 15.55it/s, SmoothL1Loss=0.444, MAE=0.931, RegLoss=\u001b[A\n",
      "Epoch[3/100]:   2%| | 2/100 [00:00<00:06, 15.55it/s, SmoothL1Loss=0.444, MAE=0.931, RegLoss=\u001b[A\n",
      "Epoch[3/100]:   2%| | 2/100 [00:00<00:06, 15.55it/s, SmoothL1Loss=0.347, MAE=0.779, RegLoss=\u001b[A\n",
      "Epoch[4/100]:   2%| | 2/100 [00:00<00:06, 15.55it/s, SmoothL1Loss=0.347, MAE=0.779, RegLoss=\u001b[A\n",
      "IOPub message rate exceeded.\n",
      "The notebook server will temporarily stop sending output\n",
      "to the client in order to avoid crashing it.\n",
      "To change this limit, set the config variable\n",
      "`--NotebookApp.iopub_msg_rate_limit`.\n",
      "\n",
      "Current values:\n",
      "NotebookApp.iopub_msg_rate_limit=1000.0 (msgs/sec)\n",
      "NotebookApp.rate_limit_window=3.0 (secs)\n",
      "\n"
     ]
    }
   ],
   "source": [
    "# 모델링 시작\n",
    "valid_pred_array = neural_prophet_modeling(normal_x_array)\n"
   ]
  },
  {
   "cell_type": "code",
   "execution_count": 16,
   "metadata": {},
   "outputs": [],
   "source": [
    "save_file_name = 'neural_prophet_result.csv'\n",
    "np.savetxt(save_file_name, valid_pred_array, delimiter = \",\")\n"
   ]
  },
  {
   "cell_type": "code",
   "execution_count": null,
   "metadata": {},
   "outputs": [],
   "source": []
  }
 ],
 "metadata": {
  "colab": {
   "name": "Prophet pilot.ipynb",
   "provenance": []
  },
  "kernelspec": {
   "display_name": "Python 3",
   "language": "python",
   "name": "python3"
  },
  "language_info": {
   "codemirror_mode": {
    "name": "ipython",
    "version": 3
   },
   "file_extension": ".py",
   "mimetype": "text/x-python",
   "name": "python",
   "nbconvert_exporter": "python",
   "pygments_lexer": "ipython3",
   "version": "3.7.10"
  }
 },
 "nbformat": 4,
 "nbformat_minor": 1
}
