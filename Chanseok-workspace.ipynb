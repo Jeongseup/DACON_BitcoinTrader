{
 "cells": [
  {
   "cell_type": "code",
   "execution_count": 2,
   "metadata": {},
   "outputs": [],
   "source": [
    "import os\n",
    "import torch\n",
    "import pandas as pd\n",
    "import numpy as np\n",
    "from torch.utils.data import Dataset, DataLoader\n",
    "from torchvision import transforms, utils\n",
    "from scipy import interpolate\n",
    "import torch.nn as nn\n",
    "import torch.optim as optim\n",
    "import torch.nn.functional as F"
   ]
  },
  {
   "cell_type": "code",
   "execution_count": 3,
   "metadata": {},
   "outputs": [],
   "source": [
    "class WearDataset(Dataset):\n",
    "    \"\"\"\n",
    "    PASS 단위로 데이터를 핸들링 하기 위한 데이터셋\n",
    "    확장성을 고려하지 않고 동일 조건 데이터셋에만 동작하도록 작성\n",
    "    다루는 데이터는 Pass는 Test당 15개, Test는 18개로 가정함\n",
    "    \n",
    "    \"\"\"\n",
    "    def __init__(self, date, usecols, transform=None, root_dir='data',pass_dir_name='split', wear_dir_name='wear', interpolate_option='spl'):\n",
    "        self.root_dir = root_dir\n",
    "        self.date = date\n",
    "        self.usecols = usecols\n",
    "        base_dir = os.path.join(os.getcwd(), root_dir, date)\n",
    "        self.pass_dir = os.path.join(base_dir, pass_dir_name)\n",
    "        \n",
    "        wear_fname = f'wear_{date}_{interpolate_option}.npy'\n",
    "        self.wear_path = os.path.join(base_dir, wear_dir_name, wear_fname)\n",
    "        self.y = np.load(self.wear_path)\n",
    "        \n",
    "        self.transform = transform\n",
    "        \n",
    "    def __len__(self):\n",
    "        return len(os.listdir(self.pass_dir)) # pass의 개수\n",
    "    \n",
    "    def __getitem__(self, idx):\n",
    "        \"\"\"\n",
    "        idx+1번째 pass의 데이터를 리턴한다.\n",
    "        -> pass단위로 파일을 잘라서 그때그때 idx에 따라 불러오는건?\n",
    "        \n",
    "        returns\n",
    "            X(dataframe) : idx에 대응하는 Pass 데이터\n",
    "            y(ndarray) : X에 대응하는 interpolate 된 VBMax값\n",
    "        \"\"\"\n",
    "        idx = idx+1\n",
    "    \n",
    "        if idx > len(self):\n",
    "            raise IndexError('Index out of range')\n",
    "        \n",
    "        # pass_idx starts with 1\n",
    "        f_name = f'{self.date}_{idx}.ftr'\n",
    "        f_path = os.path.join(self.pass_dir, f_name)\n",
    "        X = pd.read_feather(f_path, columns=self.usecols)[self.usecols]\n",
    "        \n",
    "        # interpolated wear_idx also starts with 1\n",
    "        y = self.y[idx]\n",
    "        \n",
    "        data = {'X':X, 'y':y}\n",
    "        \n",
    "        # transfom\n",
    "        if self.transform:\n",
    "            data = self.transform(data)\n",
    "        \n",
    "        return data\n",
    "        \n",
    "    "
   ]
  },
  {
   "cell_type": "code",
   "execution_count": 4,
   "metadata": {},
   "outputs": [],
   "source": [
    "import pickle\n",
    "\n",
    "class StatisticalTransform(object):\n",
    "    \"\"\"\n",
    "    주어진 데이터를 평균, 분산, 왜도, 첨도 등의 통계량으로 요약합니다.\n",
    "    \"\"\"\n",
    "    def __init__(self):\n",
    "        pass\n",
    "    \n",
    "    def __call__(self, data):\n",
    "        X, y = data['X'], data['y']\n",
    "        \n",
    "        rows, cols = X.shape\n",
    "\n",
    "        features = X.columns.tolist()\n",
    "        res = {}\n",
    "        stat_names = ['mean', 'std', 'median', 'min', 'max', 'skew', 'kurtosis']\n",
    "        for f_name in features:\n",
    "            col = X[f_name]\n",
    "            stats = [col.mean(), col.std(), np.median(col), col.min(), col.max(), col.skew(), col.kurtosis()]\n",
    "\n",
    "            for s_name, stat in zip(stat_names, stats):\n",
    "                res[f'{f_name}-{s_name}'] = [stat]\n",
    "        \n",
    "        df = pd.DataFrame(res)\n",
    "        \n",
    "        return {'X':df, 'y':y}\n",
    "    \n",
    "class ScalerTransform(object):\n",
    "    \"\"\"\n",
    "    미리 fitting 되어있는 standardscaler를 이용하여 transform을 진행합니다.\n",
    "    \"\"\"\n",
    "    def __init__(self, scaler_path, to_numpy=False):\n",
    "        \n",
    "        self.path = scaler_path\n",
    "        self.to_numpy = to_numpy\n",
    "        with open(self.path, 'rb') as f:\n",
    "            self.scaler = pickle.load(f)\n",
    "        \n",
    "    def __call__(self, data):\n",
    "        X, y = data['X'], data['y']\n",
    "        \n",
    "        scaled_X = self.scaler.transform(X.values)\n",
    "        \n",
    "        if self.to_numpy:\n",
    "            pass\n",
    "        else:\n",
    "            scaled_X = pd.DataFrame(scaled_X, index=X.index, columns=X.columns)\n",
    "        \n",
    "        return {'X':scaled_X, 'y':y}\n",
    "        \n",
    "    \n",
    "class WaveletTransform(object):\n",
    "    \"\"\"\n",
    "    주어진 데이터를 웨이블릿 변환하여 특정 통계량으로 요약합니다.\n",
    "    Args :\n",
    "        method('str') : 변환할 통계량\n",
    "                        기본적으로 MAD값을 사용합니다.\n",
    "    \"\"\"\n",
    "    def __init__(self, method):\n",
    "        self.method = method\n",
    "        pass\n",
    "    \n",
    "    def __call__(self, data):\n",
    "        X, y = data['X'], data['y']\n",
    "        \n",
    "        # do something\n",
    "        raise NotImplementedError()\n",
    "        \n",
    "        return {'X':X, 'y':y}\n",
    "    \n",
    "class FastFurierTransform(object):\n",
    "    \"\"\"\n",
    "    주어진 데이터에 대하여 고속 푸리에 변환을 수행합니다.\n",
    "    \"\"\"\n",
    "    def __init__(self):\n",
    "        pass\n",
    "    \n",
    "    def __call__(self, data):\n",
    "        X, y = data['X'], data['y']\n",
    "        \n",
    "        # do something\n",
    "        raise NotImplementedError()\n",
    "        \n",
    "        return {'X':X, 'y':y}\n",
    "\n",
    "class ToNumpy(object):\n",
    "    def __call__(self, data):\n",
    "        X, y = data['X'], data['y']\n",
    "            \n",
    "        return {'X':X.values, 'y':y}\n",
    "    \n",
    "class ToTensor(object):\n",
    "    \"\"\"numpy array를 tensor(torch)로 변환 시켜줍니다.\"\"\"\n",
    "\n",
    "    def __call__(self, data):\n",
    "        X, y = data['X'], data['y']\n",
    "            \n",
    "        return {'X':torch.from_numpy(X.values), 'y':torch.from_numpy(y)}\n",
    "    \n",
    "class LogYTransform(object):\n",
    "    def __call__(self, data):\n",
    "        X, y = data['X'], data['y']\n",
    "        \n",
    "        return {'X' : X, 'y':np.log(y)}"
   ]
  },
  {
   "cell_type": "code",
   "execution_count": 5,
   "metadata": {},
   "outputs": [],
   "source": [
    "# 절삭력 제거\n",
    "usecols = [\n",
    " 'x_acceleration',\n",
    " 'y_acceleration',\n",
    " 'sound',\n",
    " 'voltage_r',\n",
    " 'voltage_s',\n",
    " 'voltage_t',\n",
    " 'current_r',\n",
    " 'current_s',\n",
    " 'current_t',\n",
    " 'x_position',\n",
    " 'x_load',\n",
    " 'x_current',\n",
    " 'y_position',\n",
    " 'y_load',\n",
    " 'y_current',\n",
    " 'z_load',\n",
    " 'z_current']"
   ]
  },
  {
   "cell_type": "code",
   "execution_count": 6,
   "metadata": {},
   "outputs": [],
   "source": [
    "def load_dataloader(exp_name='d3', transformer=None):\n",
    "    standard_scaler_path = os.path.join('utils', 'scaler', f'{exp_name}_standard_scaler.pkl')\n",
    "    \n",
    "    if transformer is None:\n",
    "        transformer = transforms.Compose([ScalerTransform(standard_scaler_path), StatisticalTransform(),ToNumpy()])\n",
    "\n",
    "    D3 = WearDataset('5_07', usecols, transform=transformer)\n",
    "    D5 = WearDataset('6_24', usecols, transform=transformer)\n",
    "    D6 = WearDataset('6_28', usecols, transform=transformer)\n",
    "    D10 = WearDataset('9_17', usecols, transform=transformer)\n",
    "\n",
    "    # dataset for experiment d3\n",
    "    if exp_name == 'd3':\n",
    "        train_datasets = [D5, D10]\n",
    "        test_datasets = [D3]\n",
    "        validation_datasets = [D6]\n",
    "    elif exp_name == 'd5':\n",
    "        train_datasets = [D3, D10]\n",
    "        test_datasets = [D5]\n",
    "        validation_datasets = [D6]\n",
    "    elif exp_name == 'd10':\n",
    "        train_datasets = [D3, D5]\n",
    "        test_datasets = [D10]\n",
    "        validation_datasets = [D6]\n",
    "\n",
    "    train_dataset = torch.utils.data.ConcatDataset(train_datasets) \n",
    "    test_dataset = torch.utils.data.ConcatDataset(test_datasets) \n",
    "    validation_dataset = torch.utils.data.ConcatDataset(validation_datasets) \n",
    "    # DataLoader를 사용하기 위해서는 데이터가 numpy array/ tensor 형식이여야 함(dataframe 사용 안됨)\n",
    "    train_loader = DataLoader(train_dataset,batch_size=2,shuffle=True) \n",
    "    validation_loader = DataLoader(validation_dataset, batch_size=1, shuffle=False)\n",
    "    test_loader = DataLoader(test_dataset, batch_size=1, shuffle=False)\n",
    "    \n",
    "    return train_loader, validation_loader, test_loader"
   ]
  },
  {
   "cell_type": "code",
   "execution_count": 7,
   "metadata": {},
   "outputs": [],
   "source": [
    "class Net(nn.Module):\n",
    "    def __init__(self):\n",
    "        super(Net, self).__init__()\n",
    "        self.fc1 = nn.Linear(119,256)\n",
    "        self.fc2 = nn.Linear(256,128)\n",
    "        self.fc3 = nn.Linear(128,64)\n",
    "        self.fc4 = nn.Linear(64,1)\n",
    "        self.dropout = nn.Dropout(0.2)\n",
    "\n",
    "    def forward(self, x):\n",
    "        x = x.view(-1, 119)\n",
    "        x = F.relu(self.fc1(x))\n",
    "        x = self.dropout(x)\n",
    "        x = F.relu(self.fc2(x))\n",
    "        x = self.dropout(x)\n",
    "        x = F.relu(self.fc3(x))\n",
    "        x = self.dropout(x)\n",
    "      \n",
    "        x = self.fc4(x)\n",
    "        return x.view(-1)"
   ]
  },
  {
   "cell_type": "code",
   "execution_count": 8,
   "metadata": {},
   "outputs": [],
   "source": [
    "class SAE(nn.Module):\n",
    "    def __init__(self, ):\n",
    "        super(SAE, self).__init__()\n",
    "        self.fc1 = nn.Linear(119, 20)\n",
    "        self.fc2 = nn.Linear(20, 10)\n",
    "        self.fc3 = nn.Linear(10, 20)\n",
    "        self.fc4 = nn.Linear(20, 119)\n",
    "        self.activation = nn.Sigmoid()\n",
    "    def forward(self, x):\n",
    "        x = self.activation(self.fc1(x))\n",
    "        x = self.activation(self.fc2(x))\n",
    "        x = self.activation(self.fc3(x))\n",
    "        x = self.fc4(x)\n",
    "        return x"
   ]
  },
  {
   "cell_type": "code",
   "execution_count": 9,
   "metadata": {},
   "outputs": [
    {
     "name": "stdout",
     "output_type": "stream",
     "text": [
      "cuda\n"
     ]
    }
   ],
   "source": [
    "USE_CUDA = torch.cuda.is_available()\n",
    "DEVICE = torch.device(\"cuda\" if USE_CUDA else \"cpu\")\n",
    "print(DEVICE)"
   ]
  },
  {
   "cell_type": "code",
   "execution_count": 10,
   "metadata": {},
   "outputs": [
    {
     "name": "stdout",
     "output_type": "stream",
     "text": [
      "cuda\n"
     ]
    }
   ],
   "source": [
    "print(DEVICE)"
   ]
  },
  {
   "cell_type": "code",
   "execution_count": 10,
   "metadata": {},
   "outputs": [],
   "source": [
    "def train(model, train_loader, optimizer): # 1epoch만큼 학습시킴\n",
    "    model.train() # 학습 모드로 변경. 드롭아웃 등 train에서만 적용되는 옵션들이 적용됨\n",
    "    \n",
    "    for batch_idx, wear in enumerate(train_loader):\n",
    "        data, target = wear['X'].float().to(DEVICE), wear['y'].float().to(DEVICE) # data와 target을 DEVICE로 보냄 (cuda or cpu)\n",
    "     \n",
    "        optimizer.zero_grad() # 파라미터의 grad를 0으로 만들어줌\n",
    "        output = model(data)\n",
    "        loss = F.mse_loss(output, target)\n",
    "#         print(batch_idx, loss)\n",
    "        loss.backward()\n",
    "        optimizer.step()\n",
    "        \n",
    "    y_pred = list()\n",
    "    y_true = list()\n",
    "    model.eval()\n",
    "    with torch.no_grad():\n",
    "        for wear in train_loader:\n",
    "            data, target = wear['X'].float().to(DEVICE), wear['y'].float().to(DEVICE)\n",
    "            output = model(data)\n",
    "            for o in output.to('cpu').numpy():\n",
    "                y_pred.append(o)\n",
    "                \n",
    "            for t in target:\n",
    "                y_true.append(t)\n",
    "    \n",
    "    return y_pred, y_true\n",
    "\n",
    "def evaluate(model, test_loader):\n",
    "    model.eval()\n",
    "    y_pred = list()\n",
    "    y_true = list()\n",
    "    test_loss = 0\n",
    "\n",
    "    with torch.no_grad(): # 기울기 계산을 하지 않음\n",
    "        for wear in test_loader:\n",
    "            data, target = wear['X'].float().to(DEVICE), wear['y'].float().to(DEVICE)\n",
    "            output = model(data)\n",
    "            y_pred.append(output.item())\n",
    "            y_true.append(target.item())\n",
    "            loss = F.mse_loss(output, target, reduction='sum').item()\n",
    "            test_loss += loss\n",
    "    mse_avg = test_loss / len(test_loader)\n",
    "    return y_pred, y_true"
   ]
  },
  {
   "cell_type": "code",
   "execution_count": 11,
   "metadata": {},
   "outputs": [],
   "source": [
    "from sklearn.metrics import mean_squared_error"
   ]
  },
  {
   "cell_type": "code",
   "execution_count": 12,
   "metadata": {},
   "outputs": [],
   "source": [
    "def experiment(train_loader, val_loader, test_loader, epoch=20):\n",
    "    \n",
    "    model = Net().to(DEVICE) # to() : 어디서 연산을 할지 정할 수 있음. 모델의 가중치를 DEVICE로 보냄\n",
    "    print(model)\n",
    "    learning_rate = 1e-2\n",
    "    optimizer = torch.optim.Adam(model.parameters(), lr=learning_rate)\n",
    "    \n",
    "    train_losses = []\n",
    "    val_losses = []\n",
    "    for epoch in range(epoch):\n",
    "        y_pred_train, y_true_train = train(model, train_loader, optimizer)\n",
    "        train_loss = mean_squared_error(y_true_train, y_pred_train)\n",
    "        train_losses.append(train_loss)\n",
    "        \n",
    "        y_pred_val, y_true_val = evaluate(model, validation_loader)\n",
    "        val_loss = mean_squared_error(y_true_val, y_pred_val)\n",
    "        val_losses.append(val_loss.item())\n",
    "        \n",
    "        print('epoch',epoch, 'train_loss:', train_loss, 'val_loss:',val_loss)\n",
    "        \n",
    "    y_pred, y_true = evaluate(model, test_loader)\n",
    "    \n",
    "    return train_losses, val_losses, y_pred, y_true, model"
   ]
  },
  {
   "cell_type": "code",
   "execution_count": 11,
   "metadata": {},
   "outputs": [
    {
     "name": "stderr",
     "output_type": "stream",
     "text": [
      "C:\\ProgramData\\Anaconda3\\lib\\site-packages\\sklearn\\base.py:318: UserWarning: Trying to unpickle estimator StandardScaler from version 0.22.1 when using version 0.22.2.post1. This might lead to breaking code or invalid results. Use at your own risk.\n",
      "  UserWarning)\n"
     ]
    }
   ],
   "source": [
    "# logtransform\n",
    "# log_transformer = transforms.Compose([ScalerTransform(standard_scaler_path), StatisticalTransform(), LogYTransform(),ToNumpy()])\n",
    "train_loader, validation_loader, test_loader = load_dataloader(exp_name='d3', transformer=None)"
   ]
  },
  {
   "cell_type": "code",
   "execution_count": 12,
   "metadata": {},
   "outputs": [
    {
     "data": {
      "text/plain": [
       "<torch.utils.data.dataloader.DataLoader at 0x186593f4708>"
      ]
     },
     "execution_count": 12,
     "metadata": {},
     "output_type": "execute_result"
    }
   ],
   "source": [
    "train_loader\n"
   ]
  },
  {
   "cell_type": "code",
   "execution_count": 15,
   "metadata": {
    "scrolled": true
   },
   "outputs": [
    {
     "name": "stdout",
     "output_type": "stream",
     "text": [
      "Net(\n",
      "  (fc1): Linear(in_features=119, out_features=256, bias=True)\n",
      "  (fc2): Linear(in_features=256, out_features=128, bias=True)\n",
      "  (fc3): Linear(in_features=128, out_features=64, bias=True)\n",
      "  (fc4): Linear(in_features=64, out_features=1, bias=True)\n",
      "  (dropout): Dropout(p=0.2, inplace=False)\n",
      ")\n"
     ]
    },
    {
     "ename": "KeyboardInterrupt",
     "evalue": "",
     "output_type": "error",
     "traceback": [
      "\u001b[1;31m---------------------------------------------------------------------------\u001b[0m",
      "\u001b[1;31mKeyboardInterrupt\u001b[0m                         Traceback (most recent call last)",
      "\u001b[1;32m<ipython-input-15-dd3c22057cd9>\u001b[0m in \u001b[0;36m<module>\u001b[1;34m\u001b[0m\n\u001b[1;32m----> 1\u001b[1;33m \u001b[0mtrain_losses\u001b[0m\u001b[1;33m,\u001b[0m \u001b[0mval_losses\u001b[0m\u001b[1;33m,\u001b[0m \u001b[0my_pred\u001b[0m\u001b[1;33m,\u001b[0m \u001b[0my_true\u001b[0m\u001b[1;33m,\u001b[0m \u001b[0mmodel\u001b[0m \u001b[1;33m=\u001b[0m \u001b[0mexperiment\u001b[0m\u001b[1;33m(\u001b[0m\u001b[0mtrain_loader\u001b[0m\u001b[1;33m,\u001b[0m \u001b[0mvalidation_loader\u001b[0m\u001b[1;33m,\u001b[0m \u001b[0mtest_loader\u001b[0m\u001b[1;33m,\u001b[0m \u001b[0mepoch\u001b[0m\u001b[1;33m=\u001b[0m\u001b[1;36m30\u001b[0m\u001b[1;33m)\u001b[0m\u001b[1;33m\u001b[0m\u001b[1;33m\u001b[0m\u001b[0m\n\u001b[0m",
      "\u001b[1;32m<ipython-input-12-24c7edf0ae67>\u001b[0m in \u001b[0;36mexperiment\u001b[1;34m(train_loader, val_loader, test_loader, epoch)\u001b[0m\n\u001b[0;32m      9\u001b[0m     \u001b[0mval_losses\u001b[0m \u001b[1;33m=\u001b[0m \u001b[1;33m[\u001b[0m\u001b[1;33m]\u001b[0m\u001b[1;33m\u001b[0m\u001b[1;33m\u001b[0m\u001b[0m\n\u001b[0;32m     10\u001b[0m     \u001b[1;32mfor\u001b[0m \u001b[0mepoch\u001b[0m \u001b[1;32min\u001b[0m \u001b[0mrange\u001b[0m\u001b[1;33m(\u001b[0m\u001b[0mepoch\u001b[0m\u001b[1;33m)\u001b[0m\u001b[1;33m:\u001b[0m\u001b[1;33m\u001b[0m\u001b[1;33m\u001b[0m\u001b[0m\n\u001b[1;32m---> 11\u001b[1;33m         \u001b[0my_pred_train\u001b[0m\u001b[1;33m,\u001b[0m \u001b[0my_true_train\u001b[0m \u001b[1;33m=\u001b[0m \u001b[0mtrain\u001b[0m\u001b[1;33m(\u001b[0m\u001b[0mmodel\u001b[0m\u001b[1;33m,\u001b[0m \u001b[0mtrain_loader\u001b[0m\u001b[1;33m,\u001b[0m \u001b[0moptimizer\u001b[0m\u001b[1;33m)\u001b[0m\u001b[1;33m\u001b[0m\u001b[1;33m\u001b[0m\u001b[0m\n\u001b[0m\u001b[0;32m     12\u001b[0m         \u001b[0mtrain_loss\u001b[0m \u001b[1;33m=\u001b[0m \u001b[0mmean_squared_error\u001b[0m\u001b[1;33m(\u001b[0m\u001b[0my_true_train\u001b[0m\u001b[1;33m,\u001b[0m \u001b[0my_pred_train\u001b[0m\u001b[1;33m)\u001b[0m\u001b[1;33m\u001b[0m\u001b[1;33m\u001b[0m\u001b[0m\n\u001b[0;32m     13\u001b[0m         \u001b[0mtrain_losses\u001b[0m\u001b[1;33m.\u001b[0m\u001b[0mappend\u001b[0m\u001b[1;33m(\u001b[0m\u001b[0mtrain_loss\u001b[0m\u001b[1;33m)\u001b[0m\u001b[1;33m\u001b[0m\u001b[1;33m\u001b[0m\u001b[0m\n",
      "\u001b[1;32m<ipython-input-10-792d16148b35>\u001b[0m in \u001b[0;36mtrain\u001b[1;34m(model, train_loader, optimizer)\u001b[0m\n\u001b[0;32m     10\u001b[0m \u001b[1;31m#         print(batch_idx, loss)\u001b[0m\u001b[1;33m\u001b[0m\u001b[1;33m\u001b[0m\u001b[1;33m\u001b[0m\u001b[0m\n\u001b[0;32m     11\u001b[0m         \u001b[0mloss\u001b[0m\u001b[1;33m.\u001b[0m\u001b[0mbackward\u001b[0m\u001b[1;33m(\u001b[0m\u001b[1;33m)\u001b[0m\u001b[1;33m\u001b[0m\u001b[1;33m\u001b[0m\u001b[0m\n\u001b[1;32m---> 12\u001b[1;33m         \u001b[0moptimizer\u001b[0m\u001b[1;33m.\u001b[0m\u001b[0mstep\u001b[0m\u001b[1;33m(\u001b[0m\u001b[1;33m)\u001b[0m\u001b[1;33m\u001b[0m\u001b[1;33m\u001b[0m\u001b[0m\n\u001b[0m\u001b[0;32m     13\u001b[0m \u001b[1;33m\u001b[0m\u001b[0m\n\u001b[0;32m     14\u001b[0m     \u001b[0my_pred\u001b[0m \u001b[1;33m=\u001b[0m \u001b[0mlist\u001b[0m\u001b[1;33m(\u001b[0m\u001b[1;33m)\u001b[0m\u001b[1;33m\u001b[0m\u001b[1;33m\u001b[0m\u001b[0m\n",
      "\u001b[1;32mC:\\ProgramData\\Anaconda3\\lib\\site-packages\\torch\\autograd\\grad_mode.py\u001b[0m in \u001b[0;36mdecorate_context\u001b[1;34m(*args, **kwargs)\u001b[0m\n\u001b[0;32m     24\u001b[0m         \u001b[1;32mdef\u001b[0m \u001b[0mdecorate_context\u001b[0m\u001b[1;33m(\u001b[0m\u001b[1;33m*\u001b[0m\u001b[0margs\u001b[0m\u001b[1;33m,\u001b[0m \u001b[1;33m**\u001b[0m\u001b[0mkwargs\u001b[0m\u001b[1;33m)\u001b[0m\u001b[1;33m:\u001b[0m\u001b[1;33m\u001b[0m\u001b[1;33m\u001b[0m\u001b[0m\n\u001b[0;32m     25\u001b[0m             \u001b[1;32mwith\u001b[0m \u001b[0mself\u001b[0m\u001b[1;33m.\u001b[0m\u001b[0m__class__\u001b[0m\u001b[1;33m(\u001b[0m\u001b[1;33m)\u001b[0m\u001b[1;33m:\u001b[0m\u001b[1;33m\u001b[0m\u001b[1;33m\u001b[0m\u001b[0m\n\u001b[1;32m---> 26\u001b[1;33m                 \u001b[1;32mreturn\u001b[0m \u001b[0mfunc\u001b[0m\u001b[1;33m(\u001b[0m\u001b[1;33m*\u001b[0m\u001b[0margs\u001b[0m\u001b[1;33m,\u001b[0m \u001b[1;33m**\u001b[0m\u001b[0mkwargs\u001b[0m\u001b[1;33m)\u001b[0m\u001b[1;33m\u001b[0m\u001b[1;33m\u001b[0m\u001b[0m\n\u001b[0m\u001b[0;32m     27\u001b[0m         \u001b[1;32mreturn\u001b[0m \u001b[0mcast\u001b[0m\u001b[1;33m(\u001b[0m\u001b[0mF\u001b[0m\u001b[1;33m,\u001b[0m \u001b[0mdecorate_context\u001b[0m\u001b[1;33m)\u001b[0m\u001b[1;33m\u001b[0m\u001b[1;33m\u001b[0m\u001b[0m\n\u001b[0;32m     28\u001b[0m \u001b[1;33m\u001b[0m\u001b[0m\n",
      "\u001b[1;32mC:\\ProgramData\\Anaconda3\\lib\\site-packages\\torch\\optim\\adam.py\u001b[0m in \u001b[0;36mstep\u001b[1;34m(self, closure)\u001b[0m\n\u001b[0;32m    117\u001b[0m                    \u001b[0mgroup\u001b[0m\u001b[1;33m[\u001b[0m\u001b[1;34m'lr'\u001b[0m\u001b[1;33m]\u001b[0m\u001b[1;33m,\u001b[0m\u001b[1;33m\u001b[0m\u001b[1;33m\u001b[0m\u001b[0m\n\u001b[0;32m    118\u001b[0m                    \u001b[0mgroup\u001b[0m\u001b[1;33m[\u001b[0m\u001b[1;34m'weight_decay'\u001b[0m\u001b[1;33m]\u001b[0m\u001b[1;33m,\u001b[0m\u001b[1;33m\u001b[0m\u001b[1;33m\u001b[0m\u001b[0m\n\u001b[1;32m--> 119\u001b[1;33m                    \u001b[0mgroup\u001b[0m\u001b[1;33m[\u001b[0m\u001b[1;34m'eps'\u001b[0m\u001b[1;33m]\u001b[0m\u001b[1;33m\u001b[0m\u001b[1;33m\u001b[0m\u001b[0m\n\u001b[0m\u001b[0;32m    120\u001b[0m                    )\n\u001b[0;32m    121\u001b[0m         \u001b[1;32mreturn\u001b[0m \u001b[0mloss\u001b[0m\u001b[1;33m\u001b[0m\u001b[1;33m\u001b[0m\u001b[0m\n",
      "\u001b[1;32mC:\\ProgramData\\Anaconda3\\lib\\site-packages\\torch\\optim\\functional.py\u001b[0m in \u001b[0;36madam\u001b[1;34m(params, grads, exp_avgs, exp_avg_sqs, max_exp_avg_sqs, state_steps, amsgrad, beta1, beta2, lr, weight_decay, eps)\u001b[0m\n\u001b[0;32m     92\u001b[0m             \u001b[0mdenom\u001b[0m \u001b[1;33m=\u001b[0m \u001b[1;33m(\u001b[0m\u001b[0mmax_exp_avg_sq\u001b[0m\u001b[1;33m.\u001b[0m\u001b[0msqrt\u001b[0m\u001b[1;33m(\u001b[0m\u001b[1;33m)\u001b[0m \u001b[1;33m/\u001b[0m \u001b[0mmath\u001b[0m\u001b[1;33m.\u001b[0m\u001b[0msqrt\u001b[0m\u001b[1;33m(\u001b[0m\u001b[0mbias_correction2\u001b[0m\u001b[1;33m)\u001b[0m\u001b[1;33m)\u001b[0m\u001b[1;33m.\u001b[0m\u001b[0madd_\u001b[0m\u001b[1;33m(\u001b[0m\u001b[0meps\u001b[0m\u001b[1;33m)\u001b[0m\u001b[1;33m\u001b[0m\u001b[1;33m\u001b[0m\u001b[0m\n\u001b[0;32m     93\u001b[0m         \u001b[1;32melse\u001b[0m\u001b[1;33m:\u001b[0m\u001b[1;33m\u001b[0m\u001b[1;33m\u001b[0m\u001b[0m\n\u001b[1;32m---> 94\u001b[1;33m             \u001b[0mdenom\u001b[0m \u001b[1;33m=\u001b[0m \u001b[1;33m(\u001b[0m\u001b[0mexp_avg_sq\u001b[0m\u001b[1;33m.\u001b[0m\u001b[0msqrt\u001b[0m\u001b[1;33m(\u001b[0m\u001b[1;33m)\u001b[0m \u001b[1;33m/\u001b[0m \u001b[0mmath\u001b[0m\u001b[1;33m.\u001b[0m\u001b[0msqrt\u001b[0m\u001b[1;33m(\u001b[0m\u001b[0mbias_correction2\u001b[0m\u001b[1;33m)\u001b[0m\u001b[1;33m)\u001b[0m\u001b[1;33m.\u001b[0m\u001b[0madd_\u001b[0m\u001b[1;33m(\u001b[0m\u001b[0meps\u001b[0m\u001b[1;33m)\u001b[0m\u001b[1;33m\u001b[0m\u001b[1;33m\u001b[0m\u001b[0m\n\u001b[0m\u001b[0;32m     95\u001b[0m \u001b[1;33m\u001b[0m\u001b[0m\n\u001b[0;32m     96\u001b[0m         \u001b[0mstep_size\u001b[0m \u001b[1;33m=\u001b[0m \u001b[0mlr\u001b[0m \u001b[1;33m/\u001b[0m \u001b[0mbias_correction1\u001b[0m\u001b[1;33m\u001b[0m\u001b[1;33m\u001b[0m\u001b[0m\n",
      "\u001b[1;31mKeyboardInterrupt\u001b[0m: "
     ]
    }
   ],
   "source": [
    "train_losses, val_losses, y_pred, y_true, model = experiment(train_loader, validation_loader, test_loader, epoch=30)"
   ]
  },
  {
   "cell_type": "code",
   "execution_count": 20,
   "metadata": {},
   "outputs": [
    {
     "ename": "NameError",
     "evalue": "name 'train_losses' is not defined",
     "output_type": "error",
     "traceback": [
      "\u001b[1;31m---------------------------------------------------------------------------\u001b[0m",
      "\u001b[1;31mNameError\u001b[0m                                 Traceback (most recent call last)",
      "\u001b[1;32m<ipython-input-20-10e2cb1ae0c5>\u001b[0m in \u001b[0;36m<module>\u001b[1;34m\u001b[0m\n\u001b[1;32m----> 1\u001b[1;33m \u001b[0mtrain_losses\u001b[0m\u001b[1;33m\u001b[0m\u001b[1;33m\u001b[0m\u001b[0m\n\u001b[0m",
      "\u001b[1;31mNameError\u001b[0m: name 'train_losses' is not defined"
     ]
    }
   ],
   "source": [
    "train_losses"
   ]
  },
  {
   "cell_type": "code",
   "execution_count": null,
   "metadata": {},
   "outputs": [],
   "source": []
  },
  {
   "cell_type": "code",
   "execution_count": 57,
   "metadata": {},
   "outputs": [],
   "source": [
    "import matplotlib.pyplot as plt\n",
    "\n",
    "def plot_validation_curve(train_losses, validation_losses):\n",
    "    assert len(train_losses) == len(validation_losses)\n",
    "    \n",
    "    epoch = len(train_losses)\n",
    "    \n",
    "    plt.figure(figsize=(16,8))\n",
    "    \n",
    "    plt.title('Validation Curve')\n",
    "    plt.plot(range(1, epoch+1), train_losses, label='train_loss')\n",
    "    plt.plot(range(1, epoch+1), validation_losses, label='val_loss')\n",
    "    plt.xlabel('Epoch')\n",
    "    plt.ylabel('Loss')\n",
    "    plt.legend()\n",
    "    plt.show()\n",
    "    \n",
    "def plot_prediction(y_true, y_pred):\n",
    "    plt.figure(figsize=(16,8))\n",
    "    passes = len(y_true)\n",
    "    plt.title('Prediction Curve')\n",
    "    plt.plot(range(1, passes+1), y_true, 'o', label='y_true')\n",
    "    plt.plot(range(1, passes+1), y_pred, 'o',label='y_pred')\n",
    "    plt.xlabel('Pass')\n",
    "    plt.ylabel('VBmax(um)')\n",
    "    plt.legend()\n",
    "    plt.show()\n"
   ]
  },
  {
   "cell_type": "code",
   "execution_count": null,
   "metadata": {},
   "outputs": [],
   "source": [
    "from sklearn.metrics import r2_score, mean_squared_error\n",
    "\n",
    "def mean_absolute_percentage_error(y_true, y_pred): \n",
    "    y_true, y_pred = np.array(y_true), np.array(y_pred)\n",
    "    return np.mean(np.abs((y_true - y_pred) / y_true)) * 100\n",
    "\n",
    "def get_metrics(y_pred, y_true):\n",
    "    rmse = mean_squared_error(y_true, y_pred) ** 0.5\n",
    "    mape = mean_absolute_percentage_error(y_true, y_pred)\n",
    "    r_square = r2_score(y_true, y_pred)\n",
    "    \n",
    "    return rmse, mape, r_square"
   ]
  },
  {
   "cell_type": "code",
   "execution_count": null,
   "metadata": {},
   "outputs": [],
   "source": [
    "EPOCHS = 20\n",
    "BATCH_SIZE = 64"
   ]
  },
  {
   "cell_type": "code",
   "execution_count": null,
   "metadata": {},
   "outputs": [],
   "source": []
  },
  {
   "cell_type": "code",
   "execution_count": null,
   "metadata": {},
   "outputs": [],
   "source": []
  },
  {
   "cell_type": "code",
   "execution_count": null,
   "metadata": {},
   "outputs": [],
   "source": []
  },
  {
   "cell_type": "code",
   "execution_count": null,
   "metadata": {},
   "outputs": [],
   "source": []
  },
  {
   "cell_type": "code",
   "execution_count": null,
   "metadata": {},
   "outputs": [],
   "source": []
  },
  {
   "cell_type": "code",
   "execution_count": null,
   "metadata": {},
   "outputs": [],
   "source": []
  },
  {
   "cell_type": "code",
   "execution_count": null,
   "metadata": {},
   "outputs": [],
   "source": []
  },
  {
   "cell_type": "code",
   "execution_count": 25,
   "metadata": {},
   "outputs": [],
   "source": [
    "model = Net().to(DEVICE) # to() : 어디서 연산을 할지 정할 수 있음. 모델의 가중치를 DEVICE로 보냄"
   ]
  },
  {
   "cell_type": "code",
   "execution_count": 26,
   "metadata": {},
   "outputs": [],
   "source": [
    "learning_rate = 1e-4\n",
    "optimizer = torch.optim.Adam(model.parameters(), lr=learning_rate)\n",
    "# optimizer = optim.SGD(model.parameters(), lr=0.000001)"
   ]
  },
  {
   "cell_type": "code",
   "execution_count": 27,
   "metadata": {},
   "outputs": [
    {
     "name": "stdout",
     "output_type": "stream",
     "text": [
      "fc1.weight tensor([[ 0.0827, -0.0717, -0.0096,  ...,  0.0120, -0.0820,  0.0588],\n",
      "        [-0.0305,  0.0336,  0.0606,  ...,  0.0520, -0.0543,  0.0763],\n",
      "        [ 0.0033,  0.0021, -0.0623,  ...,  0.0179,  0.0424,  0.0459],\n",
      "        ...,\n",
      "        [ 0.0477,  0.0148,  0.0466,  ...,  0.0497,  0.0823, -0.0533],\n",
      "        [-0.0049, -0.0410,  0.0760,  ...,  0.0609,  0.0907,  0.0601],\n",
      "        [ 0.0660,  0.0533,  0.0124,  ..., -0.0211, -0.0074, -0.0361]],\n",
      "       device='cuda:0')\n",
      "fc1.bias tensor([-3.7685e-02,  3.8160e-02, -4.1242e-03,  3.7054e-02,  5.8663e-02,\n",
      "        -2.2212e-02, -3.4103e-02,  7.2521e-02, -8.7200e-02, -1.1020e-02,\n",
      "        -3.0434e-02,  6.1183e-02,  5.2330e-02,  4.4048e-02,  3.5811e-02,\n",
      "         6.2953e-02, -3.3086e-02, -2.7141e-02, -5.7668e-02,  8.8898e-02,\n",
      "         2.5654e-02, -8.1511e-02,  1.4289e-02,  5.6228e-02, -4.8041e-02,\n",
      "        -1.6412e-02,  5.4702e-02, -6.8928e-02, -6.6193e-02, -4.9782e-03,\n",
      "         7.5938e-02, -1.5211e-02, -1.4640e-02, -5.3393e-02, -2.1307e-02,\n",
      "         3.9183e-02,  1.6538e-02, -9.2192e-03,  5.2401e-02, -8.6501e-02,\n",
      "        -4.0761e-02,  4.6574e-02, -1.3299e-02,  4.7807e-02, -8.2518e-02,\n",
      "         3.3536e-02, -1.1631e-02,  8.9044e-02, -7.8638e-02,  4.4267e-02,\n",
      "         1.1051e-02, -7.2849e-02,  4.5787e-02,  5.0493e-02, -3.6645e-02,\n",
      "         3.5642e-02, -7.4385e-02, -6.0694e-03, -3.5317e-02, -4.6825e-02,\n",
      "         2.0459e-02, -3.0760e-02, -1.8839e-02, -5.2844e-02, -8.5959e-02,\n",
      "         4.1712e-02,  7.9256e-02,  5.6523e-02,  3.4224e-03,  1.8189e-02,\n",
      "        -5.7177e-02, -9.1392e-02,  5.2046e-02,  8.1925e-02,  7.0424e-02,\n",
      "        -4.0781e-02, -7.3142e-02,  4.5497e-03,  8.9726e-02, -8.0880e-02,\n",
      "        -7.8388e-02,  2.6299e-02, -5.7524e-02, -2.9741e-02,  4.0086e-02,\n",
      "        -8.2491e-02, -4.4141e-03, -2.4230e-02,  5.3066e-02,  8.1672e-02,\n",
      "        -2.6191e-02, -1.6643e-02,  4.9489e-02, -3.4085e-02, -2.1077e-02,\n",
      "         4.7077e-02, -8.7807e-02, -6.3154e-02, -1.9378e-02,  6.4573e-02,\n",
      "        -1.6159e-02,  4.4721e-02, -6.8741e-02,  8.1227e-02,  2.9204e-02,\n",
      "        -7.2462e-02,  7.0003e-02,  4.1568e-02, -6.0836e-02, -6.2568e-02,\n",
      "         4.2537e-02,  1.7121e-03,  4.4422e-02,  5.8875e-03,  5.5810e-02,\n",
      "        -3.6887e-02,  6.5419e-02, -2.1593e-03, -8.3508e-02, -3.6873e-02,\n",
      "         2.7820e-02, -7.2110e-02,  2.0465e-02,  2.5589e-02, -4.7555e-02,\n",
      "        -4.0403e-02,  1.8115e-02, -4.1121e-02, -8.3593e-02, -1.0276e-02,\n",
      "        -8.0720e-02, -4.8981e-02,  1.3491e-02, -4.1829e-02, -5.0650e-03,\n",
      "         5.3516e-02,  9.0535e-02, -8.0015e-02, -4.9640e-02, -1.9566e-02,\n",
      "        -7.0904e-02, -7.9087e-02,  4.9446e-02,  5.3885e-02,  3.3400e-02,\n",
      "        -3.3561e-02, -1.8359e-02, -8.9050e-02,  2.8861e-03, -4.5403e-02,\n",
      "        -3.3832e-02, -9.2775e-05, -3.5148e-02, -4.4072e-02, -8.9475e-02,\n",
      "         3.5656e-02, -6.3967e-02, -5.9974e-02, -4.0518e-02,  6.4976e-02,\n",
      "        -2.7400e-02,  1.7053e-03, -2.7125e-02,  5.0406e-02,  8.9592e-02,\n",
      "         8.1591e-02,  7.9321e-03, -7.5101e-02,  2.6774e-02,  7.4752e-02,\n",
      "         8.4137e-02,  5.3851e-02,  2.6279e-02,  6.9240e-02, -3.5135e-02,\n",
      "        -4.3255e-02, -8.1586e-02, -2.1495e-02,  1.3850e-02,  5.7145e-02,\n",
      "        -7.8295e-03,  8.3516e-02,  3.2578e-02, -8.7151e-02, -1.9009e-02,\n",
      "        -8.8185e-02,  6.4030e-03,  2.4807e-02,  1.2132e-02,  5.9331e-02,\n",
      "        -5.2555e-02,  1.5681e-02,  3.3588e-02, -6.9633e-02, -1.6916e-02,\n",
      "        -2.7092e-02,  8.9154e-02,  4.3212e-02,  9.0751e-02, -9.8969e-03,\n",
      "         5.2344e-02, -7.7247e-02, -3.2416e-02, -8.1545e-02,  4.4702e-02,\n",
      "         5.6861e-02,  7.9695e-03,  5.4996e-02, -3.7633e-03,  2.7326e-02,\n",
      "         3.2712e-03,  7.0866e-02,  7.9641e-02, -2.5440e-02,  9.0418e-02,\n",
      "        -7.1375e-02, -8.8388e-02, -8.1326e-02,  7.5457e-02,  4.0835e-02,\n",
      "         4.2435e-02, -4.5636e-02,  1.8803e-02, -5.4578e-02, -4.1766e-02,\n",
      "         1.2150e-03,  7.9420e-03,  5.3229e-02, -4.6496e-02, -2.4330e-02,\n",
      "        -4.4092e-02, -8.0979e-02,  4.5989e-02,  8.2820e-02, -2.3041e-02,\n",
      "         1.1607e-02, -2.5118e-02, -2.0321e-02, -2.6746e-02,  2.7140e-02,\n",
      "        -5.7754e-02,  3.0126e-02,  8.7450e-02,  6.2667e-02,  2.0869e-03,\n",
      "        -2.0963e-03,  5.5490e-03,  4.3934e-02, -2.2753e-03,  4.3737e-02,\n",
      "        -2.5617e-02, -5.2046e-02,  8.4517e-02,  9.0018e-02, -5.5700e-02,\n",
      "        -6.2642e-02], device='cuda:0')\n",
      "fc2.weight tensor([[ 0.0205,  0.0062, -0.0536,  ...,  0.0326,  0.0335, -0.0185],\n",
      "        [-0.0472, -0.0097,  0.0581,  ..., -0.0572,  0.0406,  0.0185],\n",
      "        [ 0.0229,  0.0181, -0.0623,  ..., -0.0523,  0.0580, -0.0477],\n",
      "        ...,\n",
      "        [ 0.0555,  0.0057,  0.0592,  ...,  0.0075, -0.0010, -0.0495],\n",
      "        [ 0.0510, -0.0252, -0.0367,  ...,  0.0288, -0.0155, -0.0258],\n",
      "        [ 0.0186, -0.0164,  0.0573,  ...,  0.0164,  0.0037,  0.0360]],\n",
      "       device='cuda:0')\n",
      "fc2.bias tensor([-0.0405, -0.0536, -0.0514,  0.0202, -0.0009, -0.0564, -0.0275, -0.0088,\n",
      "        -0.0399,  0.0196,  0.0575, -0.0472, -0.0591, -0.0406,  0.0024, -0.0065,\n",
      "        -0.0096, -0.0546, -0.0325,  0.0196, -0.0250,  0.0596, -0.0405, -0.0339,\n",
      "         0.0378,  0.0539,  0.0426, -0.0087,  0.0449, -0.0314,  0.0193, -0.0546,\n",
      "         0.0173,  0.0296,  0.0270, -0.0323,  0.0558, -0.0409,  0.0605, -0.0537,\n",
      "         0.0149, -0.0401, -0.0604, -0.0509,  0.0607,  0.0609,  0.0056,  0.0193,\n",
      "         0.0222, -0.0535, -0.0536,  0.0100, -0.0111, -0.0449,  0.0610, -0.0193,\n",
      "        -0.0351,  0.0114,  0.0064,  0.0473, -0.0122, -0.0584, -0.0242,  0.0430,\n",
      "        -0.0162, -0.0465,  0.0030,  0.0237,  0.0035, -0.0604,  0.0278,  0.0149,\n",
      "        -0.0545, -0.0514, -0.0593, -0.0215,  0.0015, -0.0475,  0.0288, -0.0453,\n",
      "        -0.0290, -0.0308, -0.0260,  0.0355,  0.0343,  0.0355,  0.0472, -0.0129,\n",
      "         0.0153, -0.0467,  0.0259,  0.0388, -0.0113, -0.0462,  0.0244,  0.0078,\n",
      "        -0.0183, -0.0344, -0.0255, -0.0528, -0.0424,  0.0459, -0.0253, -0.0163,\n",
      "        -0.0110,  0.0220,  0.0123,  0.0546, -0.0235,  0.0427,  0.0489,  0.0556,\n",
      "        -0.0353,  0.0205,  0.0471,  0.0312,  0.0056,  0.0075, -0.0150, -0.0329,\n",
      "         0.0421,  0.0021, -0.0236,  0.0023,  0.0072, -0.0612,  0.0328, -0.0606],\n",
      "       device='cuda:0')\n",
      "fc3.weight tensor([[-0.0823, -0.0782, -0.0441,  ...,  0.0874,  0.0491, -0.0573],\n",
      "        [-0.0542, -0.0006,  0.0483,  ..., -0.0241,  0.0547, -0.0440],\n",
      "        [ 0.0304,  0.0747, -0.0409,  ..., -0.0234, -0.0660, -0.0015],\n",
      "        ...,\n",
      "        [-0.0118, -0.0749,  0.0502,  ...,  0.0229,  0.0271, -0.0668],\n",
      "        [ 0.0248,  0.0045, -0.0607,  ..., -0.0853, -0.0454, -0.0098],\n",
      "        [-0.0804,  0.0155, -0.0508,  ...,  0.0026,  0.0583, -0.0715]],\n",
      "       device='cuda:0')\n",
      "fc3.bias tensor([-0.0788, -0.0653,  0.0445, -0.0379,  0.0049,  0.0357, -0.0125,  0.0650,\n",
      "        -0.0052,  0.0085, -0.0151,  0.0048, -0.0308,  0.0418,  0.0776, -0.0547,\n",
      "        -0.0754, -0.0445,  0.0072, -0.0763,  0.0342,  0.0553,  0.0253,  0.0560,\n",
      "         0.0371,  0.0063, -0.0250, -0.0043,  0.0868,  0.0379,  0.0381, -0.0628,\n",
      "        -0.0106,  0.0702, -0.0352,  0.0115, -0.0726, -0.0022,  0.0736, -0.0452,\n",
      "        -0.0063, -0.0184,  0.0729,  0.0840, -0.0379, -0.0793,  0.0418,  0.0456,\n",
      "         0.0258, -0.0074, -0.0750, -0.0567, -0.0049,  0.0805,  0.0324,  0.0274,\n",
      "        -0.0778,  0.0609, -0.0380,  0.0344,  0.0505, -0.0111, -0.0848,  0.0693],\n",
      "       device='cuda:0')\n",
      "fc4.weight tensor([[ 0.1209,  0.0490, -0.0240, -0.0814, -0.0513, -0.0501, -0.0247,  0.0140,\n",
      "          0.1144, -0.0612, -0.1127, -0.0898, -0.0592,  0.0830, -0.0033,  0.0261,\n",
      "          0.0576, -0.0143, -0.0413,  0.1087, -0.0836,  0.0149, -0.0507, -0.0558,\n",
      "         -0.0390,  0.1050,  0.1049,  0.0678, -0.0979,  0.1004,  0.0723, -0.0613,\n",
      "         -0.1009,  0.0475,  0.0946, -0.0191, -0.0455,  0.1043,  0.1173, -0.0710,\n",
      "          0.0147,  0.1151, -0.0961,  0.0884, -0.0452, -0.0104, -0.0991,  0.1069,\n",
      "         -0.0963,  0.0153,  0.1100,  0.0789,  0.0418, -0.1152,  0.0058, -0.0599,\n",
      "         -0.0710, -0.0507,  0.0461,  0.0688,  0.0296,  0.0039, -0.0935,  0.0781]],\n",
      "       device='cuda:0')\n",
      "fc4.bias tensor([-0.0751], device='cuda:0')\n"
     ]
    }
   ],
   "source": [
    "for name, param in model.named_parameters():\n",
    "    if param.requires_grad:\n",
    "        print(name, param.data)"
   ]
  },
  {
   "cell_type": "code",
   "execution_count": 58,
   "metadata": {},
   "outputs": [
    {
     "data": {
      "image/png": "[encoded data removed]",
      "text/plain": [
       "<Figure size 1152x576 with 1 Axes>"
      ]
     },
     "metadata": {
      "needs_background": "light"
     },
     "output_type": "display_data"
    }
   ],
   "source": [
    "plot_validation_curve(train_losses, val_losses)"
   ]
  },
  {
   "cell_type": "code",
   "execution_count": 59,
   "metadata": {},
   "outputs": [
    {
     "data": {
      "text/plain": [
       "(143.17718444161363, 41.76165399922615, 0.7323877332924715)"
      ]
     },
     "execution_count": 59,
     "metadata": {},
     "output_type": "execute_result"
    }
   ],
   "source": [
    "get_metrics(y_pred, y_true)"
   ]
  },
  {
   "cell_type": "code",
   "execution_count": 60,
   "metadata": {},
   "outputs": [
    {
     "data": {
      "image/png": "[encoded data removed]",
      "text/plain": [
       "<Figure size 1152x576 with 1 Axes>"
      ]
     },
     "metadata": {
      "needs_background": "light"
     },
     "output_type": "display_data"
    }
   ],
   "source": [
    "plot_prediction(y_true, y_pred)"
   ]
  },
  {
   "cell_type": "code",
   "execution_count": null,
   "metadata": {},
   "outputs": [],
   "source": []
  },
  {
   "cell_type": "code",
   "execution_count": null,
   "metadata": {},
   "outputs": [],
   "source": []
  }
 ],
 "metadata": {
  "kernelspec": {
   "display_name": "Python 3",
   "language": "python",
   "name": "python3"
  },
  "language_info": {
   "codemirror_mode": {
    "name": "ipython",
    "version": 3
   },
   "file_extension": ".py",
   "mimetype": "text/x-python",
   "name": "python",
   "nbconvert_exporter": "python",
   "pygments_lexer": "ipython3",
   "version": "3.7.4"
  },
  "varInspector": {
   "cols": {
    "lenName": 16,
    "lenType": 16,
    "lenVar": 40
   },
   "kernels_config": {
    "python": {
     "delete_cmd_postfix": "",
     "delete_cmd_prefix": "del ",
     "library": "var_list.py",
     "varRefreshCmd": "print(var_dic_list())"
    },
    "r": {
     "delete_cmd_postfix": ") ",
     "delete_cmd_prefix": "rm(",
     "library": "var_list.r",
     "varRefreshCmd": "cat(var_dic_list()) "
    }
   },
   "types_to_exclude": [
    "module",
    "function",
    "builtin_function_or_method",
    "instance",
    "_Feature"
   ],
   "window_display": false
  }
 },
 "nbformat": 4,
 "nbformat_minor": 4
}
