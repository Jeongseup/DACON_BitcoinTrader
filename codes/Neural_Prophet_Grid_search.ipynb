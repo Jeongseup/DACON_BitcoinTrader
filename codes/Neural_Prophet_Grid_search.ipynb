{
 "cells": [
  {
   "cell_type": "markdown",
   "metadata": {
    "id": "jjd_FYTo-5sJ"
   },
   "source": [
    "## 데이콘 비트코인 가격 예측 - Neural Prophet pilot"
   ]
  },
  {
   "cell_type": "markdown",
   "metadata": {
    "id": "gBfguJyLAHXi"
   },
   "source": [
    "### library install & import, data load"
   ]
  },
  {
   "cell_type": "code",
   "execution_count": 38,
   "metadata": {
    "colab": {
     "base_uri": "https://localhost:8080/"
    },
    "id": "iVWECeL7_r1k",
    "outputId": "d4b3618c-f231-45c6-a70f-3b63ac4eb470"
   },
   "outputs": [
    {
     "name": "stdout",
     "output_type": "stream",
     "text": [
      "Reading Complete!\n"
     ]
    }
   ],
   "source": [
    "# import library\n",
    "from datetime import timedelta, datetime\n",
    "from copy import deepcopy\n",
    "import datetime\n",
    "import argparse\n",
    "import random\n",
    "import warnings\n",
    "\n",
    "\n",
    "import pandas as pd\n",
    "import numpy as np\n",
    "\n",
    "from sklearn.metrics import mean_squared_error\n",
    "from sklearn.model_selection import ParameterGrid\n",
    "\n",
    "from tqdm import tqdm\n",
    "import matplotlib.pyplot as plt\n",
    "\n",
    "# model\n",
    "from neuralprophet import NeuralProphet\n",
    "from neuralprophet import set_random_seed\n",
    "\n",
    "\n",
    "%matplotlib inline\n",
    "warnings.filterwarnings(action = \"ignore\")\n",
    "\n",
    "# read file\n",
    "train_x_df = pd.read_csv(\"./data/train_x_df.csv\")\n",
    "train_y_df = pd.read_csv(\"./data/train_y_df.csv\")\n",
    "print(\"Reading Complete!\")\n"
   ]
  },
  {
   "cell_type": "markdown",
   "metadata": {
    "id": "dlz8emTXAazD"
   },
   "source": [
    "### data preprocess functions"
   ]
  },
  {
   "cell_type": "code",
   "execution_count": 39,
   "metadata": {
    "id": "lll_1nWKABKS"
   },
   "outputs": [],
   "source": [
    "def df2d_to_array3d(df_2d):\n",
    "\n",
    "    ''' 입력 받은 2차원 데이터 프레임을 3차원 numpy array로 변경하는 함수 '''\n",
    "\n",
    "    feature_size = df_2d.iloc[:,2:].shape[1]\n",
    "    time_size = len(df_2d.time.value_counts())\n",
    "    sample_size = len(df_2d.sample_id.value_counts())\n",
    "    array_3d = df_2d.iloc[:,2:].values.reshape([sample_size, time_size, feature_size])\n",
    "    \n",
    "    return array_3d\n",
    "    \n",
    "\n",
    "def coin_index_export(input_array, coin_num):\n",
    "\n",
    "    ''' 코인별 인덱스를 뽑아 list형식으로 만들어주는 함수 '''\n",
    "    \n",
    "    index = []\n",
    "    sample_id_len = input_array.shape[0]\n",
    "    coin_num_col = 0 \n",
    "\n",
    "    for sample_id in range(sample_id_len):\n",
    "        if input_array[sample_id, 0, coin_num_col] == coin_num:\n",
    "            #print(sample_id)\n",
    "            index.append(sample_id)\n",
    "    \n",
    "    return index\n",
    "\n",
    "\n",
    "def prophet_preprocessor(x_series):\n",
    "    \n",
    "    # start time initialization\n",
    "    start_time = '2021-01-01 00:00:00'\n",
    "    start_dt = datetime.datetime.strptime(start_time, '%Y-%m-%d %H:%M:%S')\n",
    "\n",
    "    # datafram 만들기\n",
    "    x_df = pd.DataFrame()\n",
    "    # 분당 시간 데이터 시리즈 입력\n",
    "    x_df['ds'] = [start_dt + datetime.timedelta(minutes = time_min) for time_min in np.arange(1, x_series.shape[0]+1).tolist()]\n",
    "    # 가격 데이터 시리즈 입력\n",
    "    x_df['y'] = x_series.tolist()\n",
    "\n",
    "    return x_df"
   ]
  },
  {
   "cell_type": "markdown",
   "metadata": {
    "id": "AtNfJy4jBPaZ"
   },
   "source": [
    "### parameter setting"
   ]
  },
  {
   "cell_type": "code",
   "execution_count": 43,
   "metadata": {},
   "outputs": [
    {
     "name": "stdout",
     "output_type": "stream",
     "text": [
      "Total Possible Models 108\n"
     ]
    }
   ],
   "source": [
    "params_grid = {'n_changepoints':[5, 10, 15, 20], #default 5\n",
    "                'changepoints_range' : [0.9, 0.95, 1.0], #defalut 0.8\n",
    "                'num_hidden_layers' : [0, 1, 2],\n",
    "                'd_hidden' : [10, 30, 50],\n",
    "\n",
    "}\n",
    "\n",
    "grid = ParameterGrid(params_grid)\n",
    "cnt = 0\n",
    "for parameters in grid:\n",
    "    cnt = cnt+1\n",
    "\n",
    "print('Total Possible Models',cnt)\n"
   ]
  },
  {
   "cell_type": "markdown",
   "metadata": {
    "id": "gNaL9Xl_B1AB"
   },
   "source": [
    "### grid_search"
   ]
  },
  {
   "cell_type": "code",
   "execution_count": 55,
   "metadata": {},
   "outputs": [],
   "source": [
    "# params_grid = {\n",
    "# 'seasonality_fourier_order' : [[1, 5], [5, 10], [10,15], [15, 20]],\n",
    "# 'seasonality_periods' : [[1/12, 1/8], [1/12, 1/6], [1/12, 1/4], [1/24, 1/16], [1/24, 1/12], [1/24, 1/8]]\n",
    "# }\n",
    "\n",
    "# grid = ParameterGrid(params_grid)\n",
    "# cnt = 0\n",
    "# for parameters in grid:\n",
    "#     cnt = cnt+1\n",
    "\n",
    "# print('Total Possible Models',cnt)\n"
   ]
  },
  {
   "cell_type": "code",
   "execution_count": 46,
   "metadata": {},
   "outputs": [],
   "source": [
    "def train(x_series, y_series, **paras):\n",
    "    \n",
    "    x_df = prophet_preprocessor(x_series)\n",
    "    \n",
    "    model = NeuralProphet(**paras,\n",
    "#                           n_changepoints = paras['n_changepoints'],\n",
    "#                           changepoints_range = paras['changepoints_range'],\n",
    "#                           num_hidden_layers = paras['num_hidden_layers'],\n",
    "#                             trend_reg = 0.05, seasonality_reg = 0.05,\n",
    "        \n",
    "                          learning_rate = 0.1, epochs=40, batch_size = 32, loss_func=\"Huber\",\n",
    "                          seasonality_mode = 'multiplicative',\n",
    "                          yearly_seasonality = False, weekly_seasonality = False, daily_seasonality = False,\n",
    "                          normalize='minmax'# Type of normalization ('minmax', 'standardize', 'soft', 'off')\n",
    "                         )\n",
    "    \n",
    "    model.add_seasonality(name='first_seasonality', period=1/24, fourier_order=5) \n",
    "    model.add_seasonality(name='second_seasonality', period=1/12, fourier_order=10)\n",
    "\n",
    "    metrics = model.fit(x_df, freq=\"min\")\n",
    "\n",
    "    future = model.make_future_dataframe(x_df, periods=120)\n",
    "    forecast = model.predict(future)\n",
    "    error = mean_squared_error(y_series, forecast.yhat1.values[-120:])\n",
    "\n",
    "    return error\n"
   ]
  },
  {
   "cell_type": "code",
   "execution_count": 47,
   "metadata": {},
   "outputs": [],
   "source": [
    "\n",
    "def experiment(train_x_array, train_y_array, args):\n",
    "    \n",
    "    sample_indices = coin_index_export(input_array = train_x_array, coin_num= args.coin_num)\n",
    "    args.sample_id_indices = random.sample(sample_indices, 5)\n",
    "    print(args.sample_id_indices)\n",
    "\n",
    "    \n",
    "    result = pd.DataFrame(columns = ['MSE*10E5', 'PARAMETERS'])\n",
    "\n",
    "    for paras in grid:\n",
    "        print(f'\\n current parameters is {paras}\\n')\n",
    "        total_mse = 0.0\n",
    "\n",
    "        for sample_id in args.sample_id_indices:\n",
    "\n",
    "            x_series = train_x_array[sample_id, :, args.data_col_idx] \n",
    "            y_series = train_y_array[sample_id, :, args.data_col_idx]\n",
    "\n",
    "            temp_mse = train(x_series, y_series, **paras)\n",
    "            total_mse += temp_mse * 10E5\n",
    "            \n",
    "        print('\\nTotal MSE Error------------------------------------', total_mse, end='\\n')\n",
    "        result = result.append({'MSE*10E5':total_mse, 'PARAMETERS':paras},ignore_index=True)\n",
    "\n",
    "\n",
    "    return result"
   ]
  },
  {
   "cell_type": "code",
   "execution_count": 48,
   "metadata": {},
   "outputs": [],
   "source": [
    "train_x_array = df2d_to_array3d(train_x_df)\n",
    "train_y_array = df2d_to_array3d(train_y_df)\n",
    "\n",
    "seed = 7\n",
    "\n",
    "np.random.seed(seed)\n",
    "set_random_seed(seed)\n",
    "random.seed(seed)\n",
    "\n",
    "parser = argparse.ArgumentParser()\n",
    "args = parser.parse_args(\"\")\n",
    "\n",
    "args.data_col_idx = 1 # 1 open, 2 high\n",
    "args.coin_num = 9\n"
   ]
  },
  {
   "cell_type": "code",
   "execution_count": 49,
   "metadata": {
    "tags": [
     "outputPrepend"
    ]
   },
   "outputs": [
    {
     "name": "stderr",
     "output_type": "stream",
     "text": [
      "WARNING: nprophet - fit: Parts of code may break if using other than daily data.\n",
      "Epoch[1/40]:   2%|▋                         | 1/40 [00:00<00:04,  7.96it/s, SmoothL1Loss=0.185, MAE=0.00607, RegLoss=0]"
     ]
    },
    {
     "name": "stdout",
     "output_type": "stream",
     "text": [
      "[4176, 1934, 5025, 601, 947]\n",
      "\n",
      " current parameters is {'changepoints_range': 0.9, 'd_hidden': 10, 'n_changepoints': 5, 'num_hidden_layers': 0}\n",
      "\n"
     ]
    },
    {
     "name": "stderr",
     "output_type": "stream",
     "text": [
      "Epoch[40/40]: 100%|██████████████████████| 40/40 [00:04<00:00,  9.65it/s, SmoothL1Loss=0.00757, MAE=0.00113, RegLoss=0]\n",
      "WARNING: nprophet - fit: Parts of code may break if using other than daily data.\n",
      "Epoch[40/40]: 100%|██████████████████████| 40/40 [00:04<00:00,  9.20it/s, SmoothL1Loss=0.00367, MAE=0.00478, RegLoss=0]\n",
      "WARNING: nprophet - fit: Parts of code may break if using other than daily data.\n",
      "Epoch[40/40]: 100%|██████████████████████| 40/40 [00:03<00:00, 11.46it/s, SmoothL1Loss=0.00368, MAE=0.00127, RegLoss=0]\n",
      "WARNING: nprophet - fit: Parts of code may break if using other than daily data.\n",
      "Epoch[40/40]: 100%|██████████████████████| 40/40 [00:04<00:00,  9.54it/s, SmoothL1Loss=0.00381, MAE=0.00262, RegLoss=0]\n",
      "WARNING: nprophet - fit: Parts of code may break if using other than daily data.\n",
      "Epoch[40/40]: 100%|██████████████████████| 40/40 [00:03<00:00, 11.03it/s, SmoothL1Loss=0.00234, MAE=0.00251, RegLoss=0]\n",
      "WARNING: nprophet - fit: Parts of code may break if using other than daily data.\n",
      "Epoch[2/40]:   0%|                                    | 0/40 [00:00<?, ?it/s, SmoothL1Loss=1.26, MAE=0.0204, RegLoss=0]"
     ]
    },
    {
     "name": "stdout",
     "output_type": "stream",
     "text": [
      "\n",
      "Total MSE Error------------------------------------ 149.7319014226228\n",
      "\n",
      " current parameters is {'changepoints_range': 0.9, 'd_hidden': 10, 'n_changepoints': 5, 'num_hidden_layers': 1}\n",
      "\n"
     ]
    },
    {
     "name": "stderr",
     "output_type": "stream",
     "text": [
      "Epoch[40/40]: 100%|██████████████████████| 40/40 [00:03<00:00, 11.72it/s, SmoothL1Loss=0.00794, MAE=0.00115, RegLoss=0]\n",
      "WARNING: nprophet - fit: Parts of code may break if using other than daily data.\n",
      "Epoch[40/40]: 100%|██████████████████████| 40/40 [00:03<00:00, 11.15it/s, SmoothL1Loss=0.00324, MAE=0.00438, RegLoss=0]\n",
      "WARNING: nprophet - fit: Parts of code may break if using other than daily data.\n",
      "Epoch[40/40]: 100%|██████████████████████| 40/40 [00:03<00:00, 11.76it/s, SmoothL1Loss=0.00407, MAE=0.00133, RegLoss=0]\n",
      "WARNING: nprophet - fit: Parts of code may break if using other than daily data.\n",
      "Epoch[40/40]: 100%|███████████████████████| 40/40 [00:03<00:00, 11.51it/s, SmoothL1Loss=0.0038, MAE=0.00261, RegLoss=0]\n",
      "WARNING: nprophet - fit: Parts of code may break if using other than daily data.\n",
      "Epoch[40/40]: 100%|███████████████████████| 40/40 [00:03<00:00, 10.72it/s, SmoothL1Loss=0.0022, MAE=0.00243, RegLoss=0]\n",
      "WARNING: nprophet - fit: Parts of code may break if using other than daily data.\n",
      "Epoch[1/40]:   2%|▋                          | 1/40 [00:00<00:04,  8.65it/s, SmoothL1Loss=0.14, MAE=0.00546, RegLoss=0]"
     ]
    },
    {
     "name": "stdout",
     "output_type": "stream",
     "text": [
      "\n",
      "Total MSE Error------------------------------------ 153.57185065951734\n",
      "\n",
      " current parameters is {'changepoints_range': 0.9, 'd_hidden': 10, 'n_changepoints': 5, 'num_hidden_layers': 2}\n",
      "\n"
     ]
    },
    {
     "name": "stderr",
     "output_type": "stream",
     "text": [
      "Epoch[40/40]: 100%|██████████████████████| 40/40 [00:03<00:00, 10.75it/s, SmoothL1Loss=0.00757, MAE=0.00113, RegLoss=0]\n",
      "WARNING: nprophet - fit: Parts of code may break if using other than daily data.\n",
      "Epoch[40/40]: 100%|██████████████████████| 40/40 [00:03<00:00, 10.85it/s, SmoothL1Loss=0.00354, MAE=0.00467, RegLoss=0]\n",
      "WARNING: nprophet - fit: Parts of code may break if using other than daily data.\n",
      "Epoch[40/40]: 100%|██████████████████████| 40/40 [00:03<00:00, 10.05it/s, SmoothL1Loss=0.00384, MAE=0.00129, RegLoss=0]\n",
      "WARNING: nprophet - fit: Parts of code may break if using other than daily data.\n",
      "Epoch[40/40]: 100%|██████████████████████| 40/40 [00:04<00:00,  9.01it/s, SmoothL1Loss=0.00402, MAE=0.00267, RegLoss=0]\n",
      "WARNING: nprophet - fit: Parts of code may break if using other than daily data.\n",
      "Epoch[40/40]: 100%|██████████████████████| 40/40 [00:04<00:00,  9.03it/s, SmoothL1Loss=0.00182, MAE=0.00216, RegLoss=0]\n",
      "WARNING: nprophet - fit: Parts of code may break if using other than daily data.\n",
      "  0%|                                                                                           | 0/40 [00:00<?, ?it/s]"
     ]
    },
    {
     "name": "stdout",
     "output_type": "stream",
     "text": [
      "\n",
      "Total MSE Error------------------------------------ 150.0235514303523\n",
      "\n",
      " current parameters is {'changepoints_range': 0.9, 'd_hidden': 10, 'n_changepoints': 10, 'num_hidden_layers': 0}\n",
      "\n"
     ]
    },
    {
     "name": "stderr",
     "output_type": "stream",
     "text": [
      "Epoch[40/40]: 100%|████████████████████████| 40/40 [00:04<00:00,  9.25it/s, SmoothL1Loss=0.00572, MAE=0.001, RegLoss=0]\n",
      "WARNING: nprophet - fit: Parts of code may break if using other than daily data.\n",
      "Epoch[40/40]: 100%|██████████████████████| 40/40 [00:04<00:00,  9.61it/s, SmoothL1Loss=0.00222, MAE=0.00362, RegLoss=0]\n",
      "WARNING: nprophet - fit: Parts of code may break if using other than daily data.\n",
      "Epoch[40/40]: 100%|██████████████████████| 40/40 [00:05<00:00,  7.90it/s, SmoothL1Loss=0.00339, MAE=0.00122, RegLoss=0]\n",
      "WARNING: nprophet - fit: Parts of code may break if using other than daily data.\n",
      "Epoch[40/40]: 100%|████████████████████████| 40/40 [00:04<00:00, 10.00it/s, SmoothL1Loss=0.0028, MAE=0.0023, RegLoss=0]\n",
      "WARNING: nprophet - fit: Parts of code may break if using other than daily data.\n",
      "Epoch[40/40]: 100%|██████████████████████| 40/40 [00:03<00:00, 10.93it/s, SmoothL1Loss=0.00139, MAE=0.00174, RegLoss=0]\n",
      "WARNING: nprophet - fit: Parts of code may break if using other than daily data.\n",
      "Epoch[2/40]:   0%|                                   | 0/40 [00:00<?, ?it/s, SmoothL1Loss=0.578, MAE=0.0112, RegLoss=0]"
     ]
    },
    {
     "name": "stdout",
     "output_type": "stream",
     "text": [
      "\n",
      "Total MSE Error------------------------------------ 101.06729998442523\n",
      "\n",
      " current parameters is {'changepoints_range': 0.9, 'd_hidden': 10, 'n_changepoints': 10, 'num_hidden_layers': 1}\n",
      "\n"
     ]
    },
    {
     "name": "stderr",
     "output_type": "stream",
     "text": [
      "Epoch[40/40]: 100%|███████████████████████| 40/40 [00:03<00:00, 11.40it/s, SmoothL1Loss=0.005, MAE=0.000934, RegLoss=0]\n",
      "WARNING: nprophet - fit: Parts of code may break if using other than daily data.\n",
      "Epoch[40/40]: 100%|██████████████████████| 40/40 [00:03<00:00, 10.41it/s, SmoothL1Loss=0.00263, MAE=0.00404, RegLoss=0]\n",
      "WARNING: nprophet - fit: Parts of code may break if using other than daily data.\n",
      "Epoch[40/40]: 100%|██████████████████████| 40/40 [00:03<00:00, 11.77it/s, SmoothL1Loss=0.00265, MAE=0.00108, RegLoss=0]\n",
      "WARNING: nprophet - fit: Parts of code may break if using other than daily data.\n",
      "Epoch[40/40]: 100%|██████████████████████| 40/40 [00:03<00:00, 11.97it/s, SmoothL1Loss=0.00221, MAE=0.00206, RegLoss=0]\n",
      "WARNING: nprophet - fit: Parts of code may break if using other than daily data.\n",
      "Epoch[40/40]: 100%|██████████████████████| 40/40 [00:03<00:00, 11.08it/s, SmoothL1Loss=0.00175, MAE=0.00202, RegLoss=0]\n",
      "WARNING: nprophet - fit: Parts of code may break if using other than daily data.\n",
      "Epoch[1/40]:   2%|▋                           | 1/40 [00:00<00:04,  8.33it/s, SmoothL1Loss=1.13, MAE=0.0187, RegLoss=0]"
     ]
    },
    {
     "name": "stdout",
     "output_type": "stream",
     "text": [
      "\n",
      "Total MSE Error------------------------------------ 101.60464203453986\n",
      "\n",
      " current parameters is {'changepoints_range': 0.9, 'd_hidden': 10, 'n_changepoints': 10, 'num_hidden_layers': 2}\n",
      "\n"
     ]
    },
    {
     "name": "stderr",
     "output_type": "stream",
     "text": [
      "Epoch[40/40]: 100%|██████████████████████| 40/40 [00:04<00:00,  8.64it/s, SmoothL1Loss=0.0055, MAE=0.000982, RegLoss=0]\n",
      "WARNING: nprophet - fit: Parts of code may break if using other than daily data.\n",
      "Epoch[40/40]: 100%|██████████████████████| 40/40 [00:03<00:00, 10.36it/s, SmoothL1Loss=0.00265, MAE=0.00405, RegLoss=0]\n",
      "WARNING: nprophet - fit: Parts of code may break if using other than daily data.\n",
      "Epoch[40/40]: 100%|███████████████████████| 40/40 [00:03<00:00, 10.66it/s, SmoothL1Loss=0.0026, MAE=0.00107, RegLoss=0]\n",
      "WARNING: nprophet - fit: Parts of code may break if using other than daily data.\n",
      "Epoch[40/40]: 100%|██████████████████████| 40/40 [00:03<00:00, 11.20it/s, SmoothL1Loss=0.00265, MAE=0.00224, RegLoss=0]\n",
      "WARNING: nprophet - fit: Parts of code may break if using other than daily data.\n",
      "Epoch[40/40]: 100%|██████████████████████| 40/40 [00:03<00:00, 10.91it/s, SmoothL1Loss=0.00205, MAE=0.00218, RegLoss=0]\n",
      "WARNING: nprophet - fit: Parts of code may break if using other than daily data.\n",
      "Epoch[2/40]:   5%|█▎                        | 2/40 [00:00<00:02, 14.52it/s, SmoothL1Loss=0.263, MAE=0.00766, RegLoss=0]"
     ]
    },
    {
     "name": "stdout",
     "output_type": "stream",
     "text": [
      "\n",
      "Total MSE Error------------------------------------ 101.75389178466898\n",
      "\n",
      " current parameters is {'changepoints_range': 0.9, 'd_hidden': 10, 'n_changepoints': 15, 'num_hidden_layers': 0}\n",
      "\n"
     ]
    },
    {
     "name": "stderr",
     "output_type": "stream",
     "text": [
      "Epoch[40/40]: 100%|█████████████████████| 40/40 [00:03<00:00, 10.37it/s, SmoothL1Loss=0.00543, MAE=0.000945, RegLoss=0]\n",
      "WARNING: nprophet - fit: Parts of code may break if using other than daily data.\n",
      "Epoch[40/40]: 100%|██████████████████████| 40/40 [00:03<00:00, 10.65it/s, SmoothL1Loss=0.00186, MAE=0.00333, RegLoss=0]\n",
      "WARNING: nprophet - fit: Parts of code may break if using other than daily data.\n",
      "Epoch[40/40]: 100%|██████████████████████| 40/40 [00:03<00:00, 10.35it/s, SmoothL1Loss=0.00255, MAE=0.00107, RegLoss=0]\n",
      "WARNING: nprophet - fit: Parts of code may break if using other than daily data.\n",
      "Epoch[40/40]: 100%|██████████████████████| 40/40 [00:03<00:00, 10.34it/s, SmoothL1Loss=0.00147, MAE=0.00166, RegLoss=0]\n",
      "WARNING: nprophet - fit: Parts of code may break if using other than daily data.\n",
      "Epoch[40/40]: 100%|████████████████████████| 40/40 [00:03<00:00, 11.64it/s, SmoothL1Loss=0.0015, MAE=0.0018, RegLoss=0]\n",
      "WARNING: nprophet - fit: Parts of code may break if using other than daily data.\n",
      "Epoch[1/40]:   0%|                                     | 0/40 [00:00<?, ?it/s, SmoothL1Loss=2.16, MAE=0.031, RegLoss=0]"
     ]
    },
    {
     "name": "stdout",
     "output_type": "stream",
     "text": [
      "\n",
      "Total MSE Error------------------------------------ 98.2589553719805\n",
      "\n",
      " current parameters is {'changepoints_range': 0.9, 'd_hidden': 10, 'n_changepoints': 15, 'num_hidden_layers': 1}\n",
      "\n"
     ]
    },
    {
     "name": "stderr",
     "output_type": "stream",
     "text": [
      "Epoch[40/40]: 100%|██████████████████████| 40/40 [00:03<00:00, 11.36it/s, SmoothL1Loss=0.0057, MAE=0.000964, RegLoss=0]\n",
      "WARNING: nprophet - fit: Parts of code may break if using other than daily data.\n",
      "Epoch[40/40]: 100%|██████████████████████| 40/40 [00:03<00:00, 11.35it/s, SmoothL1Loss=0.00193, MAE=0.00339, RegLoss=0]\n",
      "WARNING: nprophet - fit: Parts of code may break if using other than daily data.\n",
      "Epoch[40/40]: 100%|██████████████████████| 40/40 [00:06<00:00,  6.50it/s, SmoothL1Loss=0.00242, MAE=0.00103, RegLoss=0]\n",
      "WARNING: nprophet - fit: Parts of code may break if using other than daily data.\n",
      "Epoch[40/40]: 100%|██████████████████████| 40/40 [00:08<00:00,  4.62it/s, SmoothL1Loss=0.00198, MAE=0.00191, RegLoss=0]\n",
      "WARNING: nprophet - fit: Parts of code may break if using other than daily data.\n",
      "Epoch[40/40]: 100%|██████████████████████| 40/40 [00:06<00:00,  6.35it/s, SmoothL1Loss=0.00112, MAE=0.00152, RegLoss=0]\n",
      "WARNING: nprophet - fit: Parts of code may break if using other than daily data.\n",
      "  0%|                                                                                           | 0/40 [00:00<?, ?it/s]"
     ]
    },
    {
     "name": "stdout",
     "output_type": "stream",
     "text": [
      "\n",
      "Total MSE Error------------------------------------ 102.32803181654145\n",
      "\n",
      " current parameters is {'changepoints_range': 0.9, 'd_hidden': 10, 'n_changepoints': 15, 'num_hidden_layers': 2}\n",
      "\n"
     ]
    },
    {
     "name": "stderr",
     "output_type": "stream",
     "text": [
      "Epoch[40/40]: 100%|█████████████████████| 40/40 [00:10<00:00,  3.98it/s, SmoothL1Loss=0.00499, MAE=0.000901, RegLoss=0]\n",
      "WARNING: nprophet - fit: Parts of code may break if using other than daily data.\n",
      "Epoch[40/40]: 100%|██████████████████████| 40/40 [00:10<00:00,  3.82it/s, SmoothL1Loss=0.00164, MAE=0.00309, RegLoss=0]\n",
      "WARNING: nprophet - fit: Parts of code may break if using other than daily data.\n",
      "Epoch[40/40]: 100%|█████████████████████| 40/40 [00:08<00:00,  4.63it/s, SmoothL1Loss=0.00208, MAE=0.000962, RegLoss=0]\n",
      "WARNING: nprophet - fit: Parts of code may break if using other than daily data.\n",
      "Epoch[40/40]: 100%|██████████████████████| 40/40 [00:12<00:00,  3.27it/s, SmoothL1Loss=0.00156, MAE=0.00171, RegLoss=0]\n",
      "WARNING: nprophet - fit: Parts of code may break if using other than daily data.\n",
      "Epoch[40/40]: 100%|██████████████████████| 40/40 [00:08<00:00,  4.85it/s, SmoothL1Loss=0.00163, MAE=0.00189, RegLoss=0]\n",
      "WARNING: nprophet - fit: Parts of code may break if using other than daily data.\n",
      "Epoch[1/40]:   2%|▋                         | 1/40 [00:00<00:05,  7.43it/s, SmoothL1Loss=0.286, MAE=0.00774, RegLoss=0]"
     ]
    },
    {
     "name": "stdout",
     "output_type": "stream",
     "text": [
      "\n",
      "Total MSE Error------------------------------------ 105.09004422569723\n",
      "\n",
      " current parameters is {'changepoints_range': 0.9, 'd_hidden': 10, 'n_changepoints': 20, 'num_hidden_layers': 0}\n",
      "\n"
     ]
    },
    {
     "name": "stderr",
     "output_type": "stream",
     "text": [
      "Epoch[40/40]: 100%|█████████████████████| 40/40 [00:08<00:00,  4.89it/s, SmoothL1Loss=0.00342, MAE=0.000757, RegLoss=0]\n",
      "WARNING: nprophet - fit: Parts of code may break if using other than daily data.\n",
      "Epoch[40/40]: 100%|██████████████████████| 40/40 [00:12<00:00,  3.17it/s, SmoothL1Loss=0.00168, MAE=0.00308, RegLoss=0]\n",
      "WARNING: nprophet - fit: Parts of code may break if using other than daily data.\n",
      "Epoch[40/40]: 100%|█████████████████████| 40/40 [00:11<00:00,  3.49it/s, SmoothL1Loss=0.00201, MAE=0.000944, RegLoss=0]\n",
      "WARNING: nprophet - fit: Parts of code may break if using other than daily data.\n",
      "Epoch[40/40]: 100%|██████████████████████| 40/40 [00:09<00:00,  4.05it/s, SmoothL1Loss=0.00211, MAE=0.00195, RegLoss=0]\n",
      "WARNING: nprophet - fit: Parts of code may break if using other than daily data.\n",
      "Epoch[40/40]: 100%|██████████████████████| 40/40 [00:06<00:00,  5.89it/s, SmoothL1Loss=0.00113, MAE=0.00153, RegLoss=0]\n",
      "WARNING: nprophet - fit: Parts of code may break if using other than daily data.\n",
      "  0%|                                                                                           | 0/40 [00:00<?, ?it/s]"
     ]
    },
    {
     "name": "stdout",
     "output_type": "stream",
     "text": [
      "\n",
      "Total MSE Error------------------------------------ 109.22084480622348\n",
      "\n",
      " current parameters is {'changepoints_range': 0.9, 'd_hidden': 10, 'n_changepoints': 20, 'num_hidden_layers': 1}\n",
      "\n"
     ]
    },
    {
     "name": "stderr",
     "output_type": "stream",
     "text": [
      "Epoch[40/40]: 100%|█████████████████████| 40/40 [00:06<00:00,  6.19it/s, SmoothL1Loss=0.00468, MAE=0.000881, RegLoss=0]\n",
      "WARNING: nprophet - fit: Parts of code may break if using other than daily data.\n",
      "Epoch[40/40]: 100%|███████████████████████| 40/40 [00:04<00:00,  8.97it/s, SmoothL1Loss=0.00227, MAE=0.0037, RegLoss=0]\n",
      "WARNING: nprophet - fit: Parts of code may break if using other than daily data.\n",
      "Epoch[40/40]: 100%|██████████████████████| 40/40 [00:04<00:00,  9.33it/s, SmoothL1Loss=0.00282, MAE=0.00111, RegLoss=0]\n",
      "WARNING: nprophet - fit: Parts of code may break if using other than daily data.\n",
      "Epoch[40/40]: 100%|███████████████████████| 40/40 [00:03<00:00, 10.58it/s, SmoothL1Loss=0.0022, MAE=0.00199, RegLoss=0]\n",
      "WARNING: nprophet - fit: Parts of code may break if using other than daily data.\n",
      "Epoch[40/40]: 100%|██████████████████████| 40/40 [00:03<00:00, 10.95it/s, SmoothL1Loss=0.00125, MAE=0.00162, RegLoss=0]\n",
      "WARNING: nprophet - fit: Parts of code may break if using other than daily data.\n",
      "Epoch[2/40]:   5%|█▎                        | 2/40 [00:00<00:02, 13.14it/s, SmoothL1Loss=0.105, MAE=0.00474, RegLoss=0]"
     ]
    },
    {
     "name": "stdout",
     "output_type": "stream",
     "text": [
      "\n",
      "Total MSE Error------------------------------------ 102.00599686651631\n",
      "\n",
      " current parameters is {'changepoints_range': 0.9, 'd_hidden': 10, 'n_changepoints': 20, 'num_hidden_layers': 2}\n",
      "\n"
     ]
    },
    {
     "name": "stderr",
     "output_type": "stream",
     "text": [
      "Epoch[40/40]: 100%|█████████████████████| 40/40 [00:03<00:00, 11.27it/s, SmoothL1Loss=0.00374, MAE=0.000794, RegLoss=0]\n",
      "WARNING: nprophet - fit: Parts of code may break if using other than daily data.\n",
      "Epoch[40/40]: 100%|██████████████████████| 40/40 [00:03<00:00, 11.14it/s, SmoothL1Loss=0.00189, MAE=0.00334, RegLoss=0]\n",
      "WARNING: nprophet - fit: Parts of code may break if using other than daily data.\n",
      "Epoch[40/40]: 100%|██████████████████████| 40/40 [00:03<00:00, 11.01it/s, SmoothL1Loss=0.00281, MAE=0.00111, RegLoss=0]\n",
      "WARNING: nprophet - fit: Parts of code may break if using other than daily data.\n",
      "Epoch[40/40]: 100%|██████████████████████| 40/40 [00:03<00:00, 10.22it/s, SmoothL1Loss=0.00237, MAE=0.00206, RegLoss=0]\n",
      "WARNING: nprophet - fit: Parts of code may break if using other than daily data.\n",
      "Epoch[40/40]: 100%|███████████████████████| 40/40 [00:04<00:00,  9.74it/s, SmoothL1Loss=0.0018, MAE=0.00202, RegLoss=0]\n",
      "WARNING: nprophet - fit: Parts of code may break if using other than daily data.\n",
      "Epoch[1/40]:   2%|▋                         | 1/40 [00:00<00:03,  9.92it/s, SmoothL1Loss=0.361, MAE=0.00932, RegLoss=0]"
     ]
    },
    {
     "name": "stdout",
     "output_type": "stream",
     "text": [
      "\n",
      "Total MSE Error------------------------------------ 114.59926122488633\n",
      "\n",
      " current parameters is {'changepoints_range': 0.9, 'd_hidden': 30, 'n_changepoints': 5, 'num_hidden_layers': 0}\n",
      "\n"
     ]
    },
    {
     "name": "stderr",
     "output_type": "stream",
     "text": [
      "Epoch[40/40]: 100%|██████████████████████| 40/40 [00:04<00:00,  9.81it/s, SmoothL1Loss=0.00788, MAE=0.00115, RegLoss=0]\n",
      "WARNING: nprophet - fit: Parts of code may break if using other than daily data.\n",
      "Epoch[40/40]: 100%|███████████████████████| 40/40 [00:04<00:00,  9.44it/s, SmoothL1Loss=0.00345, MAE=0.0046, RegLoss=0]\n",
      "WARNING: nprophet - fit: Parts of code may break if using other than daily data.\n",
      "Epoch[40/40]: 100%|██████████████████████| 40/40 [00:04<00:00,  8.81it/s, SmoothL1Loss=0.00376, MAE=0.00128, RegLoss=0]\n",
      "WARNING: nprophet - fit: Parts of code may break if using other than daily data.\n",
      "Epoch[40/40]: 100%|███████████████████████| 40/40 [00:04<00:00,  8.91it/s, SmoothL1Loss=0.00376, MAE=0.0026, RegLoss=0]\n",
      "WARNING: nprophet - fit: Parts of code may break if using other than daily data.\n",
      "Epoch[40/40]: 100%|██████████████████████| 40/40 [00:04<00:00,  9.49it/s, SmoothL1Loss=0.00181, MAE=0.00213, RegLoss=0]\n",
      "WARNING: nprophet - fit: Parts of code may break if using other than daily data.\n",
      "Epoch[1/40]:   2%|▋                           | 1/40 [00:00<00:04,  8.04it/s, SmoothL1Loss=1.17, MAE=0.0189, RegLoss=0]"
     ]
    },
    {
     "name": "stdout",
     "output_type": "stream",
     "text": [
      "\n",
      "Total MSE Error------------------------------------ 152.03672036741733\n",
      "\n",
      " current parameters is {'changepoints_range': 0.9, 'd_hidden': 30, 'n_changepoints': 5, 'num_hidden_layers': 1}\n",
      "\n"
     ]
    },
    {
     "name": "stderr",
     "output_type": "stream",
     "text": [
      "Epoch[40/40]: 100%|██████████████████████| 40/40 [00:04<00:00,  9.40it/s, SmoothL1Loss=0.00811, MAE=0.00116, RegLoss=0]\n",
      "WARNING: nprophet - fit: Parts of code may break if using other than daily data.\n",
      "Epoch[40/40]: 100%|███████████████████████| 40/40 [00:03<00:00, 10.22it/s, SmoothL1Loss=0.0035, MAE=0.00463, RegLoss=0]\n",
      "WARNING: nprophet - fit: Parts of code may break if using other than daily data.\n",
      "Epoch[40/40]: 100%|██████████████████████| 40/40 [00:04<00:00,  8.96it/s, SmoothL1Loss=0.00385, MAE=0.00129, RegLoss=0]\n",
      "WARNING: nprophet - fit: Parts of code may break if using other than daily data.\n",
      "Epoch[40/40]: 100%|██████████████████████| 40/40 [00:03<00:00, 10.36it/s, SmoothL1Loss=0.00373, MAE=0.00259, RegLoss=0]\n",
      "WARNING: nprophet - fit: Parts of code may break if using other than daily data.\n",
      "Epoch[40/40]: 100%|███████████████████████| 40/40 [00:03<00:00, 10.54it/s, SmoothL1Loss=0.0019, MAE=0.00221, RegLoss=0]\n",
      "WARNING: nprophet - fit: Parts of code may break if using other than daily data.\n",
      "Epoch[1/40]:   0%|                                     | 0/40 [00:00<?, ?it/s, SmoothL1Loss=1.01, MAE=0.017, RegLoss=0]"
     ]
    },
    {
     "name": "stdout",
     "output_type": "stream",
     "text": [
      "\n",
      "Total MSE Error------------------------------------ 147.58554484011196\n",
      "\n",
      " current parameters is {'changepoints_range': 0.9, 'd_hidden': 30, 'n_changepoints': 5, 'num_hidden_layers': 2}\n",
      "\n"
     ]
    },
    {
     "name": "stderr",
     "output_type": "stream",
     "text": [
      "Epoch[40/40]: 100%|██████████████████████| 40/40 [00:03<00:00, 10.94it/s, SmoothL1Loss=0.00786, MAE=0.00115, RegLoss=0]\n",
      "WARNING: nprophet - fit: Parts of code may break if using other than daily data.\n",
      "Epoch[40/40]: 100%|██████████████████████| 40/40 [00:03<00:00, 10.90it/s, SmoothL1Loss=0.00349, MAE=0.00463, RegLoss=0]\n",
      "WARNING: nprophet - fit: Parts of code may break if using other than daily data.\n",
      "Epoch[40/40]: 100%|███████████████████████| 40/40 [00:03<00:00, 10.00it/s, SmoothL1Loss=0.00448, MAE=0.0014, RegLoss=0]\n",
      "WARNING: nprophet - fit: Parts of code may break if using other than daily data.\n",
      "Epoch[40/40]: 100%|██████████████████████| 40/40 [00:04<00:00,  9.06it/s, SmoothL1Loss=0.00375, MAE=0.00261, RegLoss=0]\n",
      "WARNING: nprophet - fit: Parts of code may break if using other than daily data.\n",
      "Epoch[40/40]: 100%|██████████████████████| 40/40 [00:04<00:00,  9.21it/s, SmoothL1Loss=0.00185, MAE=0.00217, RegLoss=0]\n",
      "WARNING: nprophet - fit: Parts of code may break if using other than daily data.\n",
      "Epoch[1/40]:   0%|                                  | 0/40 [00:00<?, ?it/s, SmoothL1Loss=0.099, MAE=0.00428, RegLoss=0]"
     ]
    },
    {
     "name": "stdout",
     "output_type": "stream",
     "text": [
      "\n",
      "Total MSE Error------------------------------------ 151.0748781569167\n",
      "\n",
      " current parameters is {'changepoints_range': 0.9, 'd_hidden': 30, 'n_changepoints': 10, 'num_hidden_layers': 0}\n",
      "\n"
     ]
    },
    {
     "name": "stderr",
     "output_type": "stream",
     "text": [
      "Epoch[40/40]: 100%|█████████████████████| 40/40 [00:04<00:00,  9.74it/s, SmoothL1Loss=0.00452, MAE=0.000884, RegLoss=0]\n",
      "WARNING: nprophet - fit: Parts of code may break if using other than daily data.\n",
      "Epoch[40/40]: 100%|██████████████████████| 40/40 [00:04<00:00,  9.67it/s, SmoothL1Loss=0.00251, MAE=0.00391, RegLoss=0]\n",
      "WARNING: nprophet - fit: Parts of code may break if using other than daily data.\n",
      "Epoch[40/40]: 100%|██████████████████████| 40/40 [00:04<00:00,  9.42it/s, SmoothL1Loss=0.00315, MAE=0.00118, RegLoss=0]\n",
      "WARNING: nprophet - fit: Parts of code may break if using other than daily data.\n",
      "Epoch[40/40]: 100%|██████████████████████| 40/40 [00:03<00:00, 10.10it/s, SmoothL1Loss=0.00259, MAE=0.00222, RegLoss=0]\n",
      "WARNING: nprophet - fit: Parts of code may break if using other than daily data.\n",
      "Epoch[40/40]: 100%|██████████████████████| 40/40 [00:04<00:00,  9.70it/s, SmoothL1Loss=0.00172, MAE=0.00198, RegLoss=0]\n",
      "WARNING: nprophet - fit: Parts of code may break if using other than daily data.\n",
      "Epoch[1/40]:   2%|▋                          | 1/40 [00:00<00:05,  7.41it/s, SmoothL1Loss=0.642, MAE=0.0132, RegLoss=0]"
     ]
    },
    {
     "name": "stdout",
     "output_type": "stream",
     "text": [
      "\n",
      "Total MSE Error------------------------------------ 97.512120665281\n",
      "\n",
      " current parameters is {'changepoints_range': 0.9, 'd_hidden': 30, 'n_changepoints': 10, 'num_hidden_layers': 1}\n",
      "\n"
     ]
    },
    {
     "name": "stderr",
     "output_type": "stream",
     "text": [
      "Epoch[40/40]: 100%|█████████████████████| 40/40 [00:04<00:00,  9.09it/s, SmoothL1Loss=0.00529, MAE=0.000965, RegLoss=0]\n",
      "WARNING: nprophet - fit: Parts of code may break if using other than daily data.\n",
      "Epoch[40/40]: 100%|██████████████████████| 40/40 [00:04<00:00,  8.98it/s, SmoothL1Loss=0.00221, MAE=0.00359, RegLoss=0]\n",
      "WARNING: nprophet - fit: Parts of code may break if using other than daily data.\n",
      "Epoch[40/40]: 100%|███████████████████████| 40/40 [00:04<00:00,  8.30it/s, SmoothL1Loss=0.00274, MAE=0.0011, RegLoss=0]\n",
      "WARNING: nprophet - fit: Parts of code may break if using other than daily data.\n",
      "Epoch[40/40]: 100%|██████████████████████| 40/40 [00:09<00:00,  4.19it/s, SmoothL1Loss=0.00237, MAE=0.00213, RegLoss=0]\n",
      "WARNING: nprophet - fit: Parts of code may break if using other than daily data.\n",
      "Epoch[40/40]: 100%|███████████████████████| 40/40 [00:06<00:00,  6.33it/s, SmoothL1Loss=0.00156, MAE=0.0019, RegLoss=0]\n",
      "WARNING: nprophet - fit: Parts of code may break if using other than daily data.\n",
      "  0%|                                                                                           | 0/40 [00:00<?, ?it/s]"
     ]
    },
    {
     "name": "stdout",
     "output_type": "stream",
     "text": [
      "\n",
      "Total MSE Error------------------------------------ 103.2226151368812\n",
      "\n",
      " current parameters is {'changepoints_range': 0.9, 'd_hidden': 30, 'n_changepoints': 10, 'num_hidden_layers': 2}\n",
      "\n"
     ]
    },
    {
     "name": "stderr",
     "output_type": "stream",
     "text": [
      "Epoch[40/40]: 100%|█████████████████████| 40/40 [00:05<00:00,  7.76it/s, SmoothL1Loss=0.00453, MAE=0.000883, RegLoss=0]\n",
      "WARNING: nprophet - fit: Parts of code may break if using other than daily data.\n",
      "Epoch[40/40]: 100%|██████████████████████| 40/40 [00:05<00:00,  7.87it/s, SmoothL1Loss=0.00227, MAE=0.00366, RegLoss=0]\n",
      "WARNING: nprophet - fit: Parts of code may break if using other than daily data.\n",
      "Epoch[40/40]: 100%|██████████████████████| 40/40 [00:05<00:00,  7.67it/s, SmoothL1Loss=0.00265, MAE=0.00107, RegLoss=0]\n",
      "WARNING: nprophet - fit: Parts of code may break if using other than daily data.\n",
      "Epoch[40/40]: 100%|███████████████████████| 40/40 [00:05<00:00,  7.39it/s, SmoothL1Loss=0.0027, MAE=0.00226, RegLoss=0]\n",
      "WARNING: nprophet - fit: Parts of code may break if using other than daily data.\n",
      "Epoch[40/40]: 100%|██████████████████████| 40/40 [00:04<00:00,  8.88it/s, SmoothL1Loss=0.00132, MAE=0.00167, RegLoss=0]\n",
      "WARNING: nprophet - fit: Parts of code may break if using other than daily data.\n",
      "Epoch[1/40]:   0%|                                                                              | 0/40 [00:00<?, ?it/s]"
     ]
    },
    {
     "name": "stdout",
     "output_type": "stream",
     "text": [
      "\n",
      "Total MSE Error------------------------------------ 96.3181102953273\n",
      "\n",
      " current parameters is {'changepoints_range': 0.9, 'd_hidden': 30, 'n_changepoints': 15, 'num_hidden_layers': 0}\n",
      "\n"
     ]
    },
    {
     "name": "stderr",
     "output_type": "stream",
     "text": [
      "Epoch[40/40]: 100%|██████████████████████| 40/40 [00:04<00:00,  8.84it/s, SmoothL1Loss=0.00544, MAE=0.00095, RegLoss=0]\n",
      "WARNING: nprophet - fit: Parts of code may break if using other than daily data.\n",
      "Epoch[40/40]: 100%|██████████████████████| 40/40 [00:04<00:00,  8.11it/s, SmoothL1Loss=0.00179, MAE=0.00325, RegLoss=0]\n",
      "WARNING: nprophet - fit: Parts of code may break if using other than daily data.\n",
      "Epoch[40/40]: 100%|█████████████████████| 40/40 [00:05<00:00,  7.64it/s, SmoothL1Loss=0.00194, MAE=0.000922, RegLoss=0]\n",
      "WARNING: nprophet - fit: Parts of code may break if using other than daily data.\n",
      "Epoch[40/40]: 100%|██████████████████████| 40/40 [00:05<00:00,  7.72it/s, SmoothL1Loss=0.00234, MAE=0.00206, RegLoss=0]\n",
      "WARNING: nprophet - fit: Parts of code may break if using other than daily data.\n",
      "Epoch[40/40]: 100%|██████████████████████| 40/40 [00:05<00:00,  6.77it/s, SmoothL1Loss=0.00147, MAE=0.00179, RegLoss=0]\n",
      "WARNING: nprophet - fit: Parts of code may break if using other than daily data.\n",
      "Epoch[1/40]:   0%|                                                                              | 0/40 [00:00<?, ?it/s]"
     ]
    },
    {
     "name": "stdout",
     "output_type": "stream",
     "text": [
      "\n",
      "Total MSE Error------------------------------------ 105.65070666199694\n",
      "\n",
      " current parameters is {'changepoints_range': 0.9, 'd_hidden': 30, 'n_changepoints': 15, 'num_hidden_layers': 1}\n",
      "\n"
     ]
    },
    {
     "name": "stderr",
     "output_type": "stream",
     "text": [
      "Epoch[40/40]: 100%|█████████████████████| 40/40 [00:04<00:00,  8.00it/s, SmoothL1Loss=0.00446, MAE=0.000841, RegLoss=0]\n",
      "WARNING: nprophet - fit: Parts of code may break if using other than daily data.\n",
      "Epoch[40/40]: 100%|██████████████████████| 40/40 [00:03<00:00, 10.17it/s, SmoothL1Loss=0.00188, MAE=0.00335, RegLoss=0]\n",
      "WARNING: nprophet - fit: Parts of code may break if using other than daily data.\n",
      "Epoch[40/40]: 100%|██████████████████████| 40/40 [00:04<00:00,  8.80it/s, SmoothL1Loss=0.00278, MAE=0.00111, RegLoss=0]\n",
      "WARNING: nprophet - fit: Parts of code may break if using other than daily data.\n",
      "Epoch[40/40]: 100%|██████████████████████| 40/40 [00:03<00:00, 10.82it/s, SmoothL1Loss=0.00202, MAE=0.00193, RegLoss=0]\n",
      "WARNING: nprophet - fit: Parts of code may break if using other than daily data.\n",
      "Epoch[40/40]: 100%|██████████████████████| 40/40 [00:04<00:00,  8.45it/s, SmoothL1Loss=0.00104, MAE=0.00145, RegLoss=0]\n",
      "WARNING: nprophet - fit: Parts of code may break if using other than daily data.\n",
      "Epoch[1/40]:   2%|▋                           | 1/40 [00:00<00:04,  8.87it/s, SmoothL1Loss=0.73, MAE=0.0138, RegLoss=0]"
     ]
    },
    {
     "name": "stdout",
     "output_type": "stream",
     "text": [
      "\n",
      "Total MSE Error------------------------------------ 98.25700361082781\n",
      "\n",
      " current parameters is {'changepoints_range': 0.9, 'd_hidden': 30, 'n_changepoints': 15, 'num_hidden_layers': 2}\n",
      "\n"
     ]
    },
    {
     "name": "stderr",
     "output_type": "stream",
     "text": [
      "Epoch[40/40]: 100%|█████████████████████| 40/40 [00:04<00:00,  9.34it/s, SmoothL1Loss=0.00546, MAE=0.000949, RegLoss=0]\n",
      "WARNING: nprophet - fit: Parts of code may break if using other than daily data.\n",
      "Epoch[40/40]: 100%|██████████████████████| 40/40 [00:03<00:00, 10.96it/s, SmoothL1Loss=0.00217, MAE=0.00364, RegLoss=0]\n",
      "WARNING: nprophet - fit: Parts of code may break if using other than daily data.\n",
      "Epoch[40/40]: 100%|██████████████████████| 40/40 [00:03<00:00, 11.10it/s, SmoothL1Loss=0.00253, MAE=0.00106, RegLoss=0]\n",
      "WARNING: nprophet - fit: Parts of code may break if using other than daily data.\n",
      "Epoch[40/40]: 100%|██████████████████████| 40/40 [00:03<00:00, 10.15it/s, SmoothL1Loss=0.00191, MAE=0.00188, RegLoss=0]\n",
      "WARNING: nprophet - fit: Parts of code may break if using other than daily data.\n",
      "Epoch[40/40]: 100%|██████████████████████| 40/40 [00:04<00:00,  9.35it/s, SmoothL1Loss=0.00116, MAE=0.00154, RegLoss=0]\n",
      "WARNING: nprophet - fit: Parts of code may break if using other than daily data.\n",
      "Epoch[2/40]:   5%|█▎                        | 2/40 [00:00<00:03, 12.46it/s, SmoothL1Loss=0.108, MAE=0.00443, RegLoss=0]"
     ]
    },
    {
     "name": "stdout",
     "output_type": "stream",
     "text": [
      "\n",
      "Total MSE Error------------------------------------ 94.84206200015163\n",
      "\n",
      " current parameters is {'changepoints_range': 0.9, 'd_hidden': 30, 'n_changepoints': 20, 'num_hidden_layers': 0}\n",
      "\n"
     ]
    },
    {
     "name": "stderr",
     "output_type": "stream",
     "text": [
      "Epoch[40/40]: 100%|███████████████████████| 40/40 [00:03<00:00, 10.36it/s, SmoothL1Loss=0.0044, MAE=0.00086, RegLoss=0]\n",
      "WARNING: nprophet - fit: Parts of code may break if using other than daily data.\n",
      "Epoch[40/40]: 100%|██████████████████████| 40/40 [00:05<00:00,  7.29it/s, SmoothL1Loss=0.00181, MAE=0.00324, RegLoss=0]\n",
      "WARNING: nprophet - fit: Parts of code may break if using other than daily data.\n",
      "Epoch[40/40]: 100%|█████████████████████| 40/40 [00:05<00:00,  6.92it/s, SmoothL1Loss=0.00157, MAE=0.000831, RegLoss=0]\n",
      "WARNING: nprophet - fit: Parts of code may break if using other than daily data.\n",
      "Epoch[40/40]: 100%|██████████████████████| 40/40 [00:05<00:00,  7.29it/s, SmoothL1Loss=0.00163, MAE=0.00174, RegLoss=0]\n",
      "WARNING: nprophet - fit: Parts of code may break if using other than daily data.\n",
      "Epoch[40/40]: 100%|██████████████████████| 40/40 [00:04<00:00,  8.01it/s, SmoothL1Loss=0.000958, MAE=0.0014, RegLoss=0]\n",
      "WARNING: nprophet - fit: Parts of code may break if using other than daily data.\n",
      "Epoch[1/40]:   0%|                                   | 0/40 [00:00<?, ?it/s, SmoothL1Loss=0.584, MAE=0.0124, RegLoss=0]"
     ]
    },
    {
     "name": "stdout",
     "output_type": "stream",
     "text": [
      "\n",
      "Total MSE Error------------------------------------ 102.16963516086821\n",
      "\n",
      " current parameters is {'changepoints_range': 0.9, 'd_hidden': 30, 'n_changepoints': 20, 'num_hidden_layers': 1}\n",
      "\n"
     ]
    },
    {
     "name": "stderr",
     "output_type": "stream",
     "text": [
      "Epoch[40/40]: 100%|█████████████████████| 40/40 [00:05<00:00,  7.25it/s, SmoothL1Loss=0.00436, MAE=0.000855, RegLoss=0]\n",
      "WARNING: nprophet - fit: Parts of code may break if using other than daily data.\n",
      "Epoch[40/40]: 100%|██████████████████████| 40/40 [00:04<00:00,  8.90it/s, SmoothL1Loss=0.00213, MAE=0.00358, RegLoss=0]\n",
      "WARNING: nprophet - fit: Parts of code may break if using other than daily data.\n",
      "Epoch[40/40]: 100%|██████████████████████| 40/40 [00:04<00:00,  8.17it/s, SmoothL1Loss=0.0021, MAE=0.000957, RegLoss=0]\n",
      "WARNING: nprophet - fit: Parts of code may break if using other than daily data.\n",
      "Epoch[40/40]: 100%|████████████████████████| 40/40 [00:05<00:00,  7.95it/s, SmoothL1Loss=0.00224, MAE=0.002, RegLoss=0]\n",
      "WARNING: nprophet - fit: Parts of code may break if using other than daily data.\n",
      "Epoch[40/40]: 100%|██████████████████████| 40/40 [00:04<00:00,  8.34it/s, SmoothL1Loss=0.00115, MAE=0.00155, RegLoss=0]\n",
      "WARNING: nprophet - fit: Parts of code may break if using other than daily data.\n",
      "Epoch[1/40]:   0%|                                  | 0/40 [00:00<?, ?it/s, SmoothL1Loss=0.112, MAE=0.00483, RegLoss=0]"
     ]
    },
    {
     "name": "stdout",
     "output_type": "stream",
     "text": [
      "\n",
      "Total MSE Error------------------------------------ 103.91334739612266\n",
      "\n",
      " current parameters is {'changepoints_range': 0.9, 'd_hidden': 30, 'n_changepoints': 20, 'num_hidden_layers': 2}\n",
      "\n"
     ]
    },
    {
     "name": "stderr",
     "output_type": "stream",
     "text": [
      "Epoch[40/40]: 100%|█████████████████████| 40/40 [00:05<00:00,  7.79it/s, SmoothL1Loss=0.00329, MAE=0.000746, RegLoss=0]\n",
      "WARNING: nprophet - fit: Parts of code may break if using other than daily data.\n",
      "Epoch[40/40]: 100%|███████████████████████| 40/40 [00:05<00:00,  6.88it/s, SmoothL1Loss=0.00165, MAE=0.0031, RegLoss=0]\n",
      "WARNING: nprophet - fit: Parts of code may break if using other than daily data.\n",
      "Epoch[40/40]: 100%|█████████████████████| 40/40 [00:04<00:00,  9.49it/s, SmoothL1Loss=0.00153, MAE=0.000821, RegLoss=0]\n",
      "WARNING: nprophet - fit: Parts of code may break if using other than daily data.\n",
      "Epoch[40/40]: 100%|██████████████████████| 40/40 [00:04<00:00,  8.10it/s, SmoothL1Loss=0.00158, MAE=0.00172, RegLoss=0]\n",
      "WARNING: nprophet - fit: Parts of code may break if using other than daily data.\n",
      "Epoch[40/40]: 100%|███████████████████████| 40/40 [00:04<00:00,  8.38it/s, SmoothL1Loss=0.0016, MAE=0.00188, RegLoss=0]\n",
      "WARNING: nprophet - fit: Parts of code may break if using other than daily data.\n",
      "Epoch[2/40]:   0%|                                 | 0/40 [00:00<?, ?it/s, SmoothL1Loss=0.0905, MAE=0.00422, RegLoss=0]"
     ]
    },
    {
     "name": "stdout",
     "output_type": "stream",
     "text": [
      "\n",
      "Total MSE Error------------------------------------ 113.33389756045969\n",
      "\n",
      " current parameters is {'changepoints_range': 0.9, 'd_hidden': 50, 'n_changepoints': 5, 'num_hidden_layers': 0}\n",
      "\n"
     ]
    },
    {
     "name": "stderr",
     "output_type": "stream",
     "text": [
      "Epoch[40/40]: 100%|██████████████████████| 40/40 [00:03<00:00, 10.68it/s, SmoothL1Loss=0.00759, MAE=0.00113, RegLoss=0]\n",
      "WARNING: nprophet - fit: Parts of code may break if using other than daily data.\n",
      "Epoch[40/40]: 100%|██████████████████████| 40/40 [00:04<00:00,  9.98it/s, SmoothL1Loss=0.00373, MAE=0.00481, RegLoss=0]\n",
      "WARNING: nprophet - fit: Parts of code may break if using other than daily data.\n",
      "Epoch[40/40]: 100%|██████████████████████| 40/40 [00:04<00:00,  9.90it/s, SmoothL1Loss=0.00469, MAE=0.00144, RegLoss=0]\n",
      "WARNING: nprophet - fit: Parts of code may break if using other than daily data.\n",
      "Epoch[40/40]: 100%|███████████████████████| 40/40 [00:05<00:00,  7.75it/s, SmoothL1Loss=0.00372, MAE=0.0026, RegLoss=0]\n",
      "WARNING: nprophet - fit: Parts of code may break if using other than daily data.\n",
      "Epoch[40/40]: 100%|██████████████████████| 40/40 [00:05<00:00,  7.82it/s, SmoothL1Loss=0.00158, MAE=0.00196, RegLoss=0]\n",
      "WARNING: nprophet - fit: Parts of code may break if using other than daily data.\n",
      "Epoch[1/40]:   2%|▋                           | 1/40 [00:00<00:04,  9.37it/s, SmoothL1Loss=1.05, MAE=0.0177, RegLoss=0]"
     ]
    },
    {
     "name": "stdout",
     "output_type": "stream",
     "text": [
      "\n",
      "Total MSE Error------------------------------------ 145.05876531787362\n",
      "\n",
      " current parameters is {'changepoints_range': 0.9, 'd_hidden': 50, 'n_changepoints': 5, 'num_hidden_layers': 1}\n",
      "\n"
     ]
    },
    {
     "name": "stderr",
     "output_type": "stream",
     "text": [
      "Epoch[40/40]: 100%|██████████████████████| 40/40 [00:04<00:00,  8.36it/s, SmoothL1Loss=0.00805, MAE=0.00116, RegLoss=0]\n",
      "WARNING: nprophet - fit: Parts of code may break if using other than daily data.\n",
      "Epoch[40/40]: 100%|██████████████████████| 40/40 [00:04<00:00,  8.72it/s, SmoothL1Loss=0.00385, MAE=0.00494, RegLoss=0]\n",
      "WARNING: nprophet - fit: Parts of code may break if using other than daily data.\n",
      "Epoch[40/40]: 100%|██████████████████████| 40/40 [00:04<00:00,  9.46it/s, SmoothL1Loss=0.00372, MAE=0.00126, RegLoss=0]\n",
      "WARNING: nprophet - fit: Parts of code may break if using other than daily data.\n",
      "Epoch[40/40]: 100%|██████████████████████| 40/40 [00:04<00:00,  8.25it/s, SmoothL1Loss=0.00371, MAE=0.00259, RegLoss=0]\n",
      "WARNING: nprophet - fit: Parts of code may break if using other than daily data.\n",
      "Epoch[40/40]: 100%|██████████████████████| 40/40 [00:04<00:00,  9.28it/s, SmoothL1Loss=0.00195, MAE=0.00224, RegLoss=0]\n",
      "WARNING: nprophet - fit: Parts of code may break if using other than daily data.\n",
      "Epoch[1/40]:   2%|▋                          | 1/40 [00:00<00:04,  8.29it/s, SmoothL1Loss=0.799, MAE=0.0148, RegLoss=0]"
     ]
    },
    {
     "name": "stdout",
     "output_type": "stream",
     "text": [
      "\n",
      "Total MSE Error------------------------------------ 152.46183515221406\n",
      "\n",
      " current parameters is {'changepoints_range': 0.9, 'd_hidden': 50, 'n_changepoints': 5, 'num_hidden_layers': 2}\n",
      "\n"
     ]
    },
    {
     "name": "stderr",
     "output_type": "stream",
     "text": [
      "Epoch[40/40]: 100%|██████████████████████| 40/40 [00:05<00:00,  7.33it/s, SmoothL1Loss=0.00806, MAE=0.00116, RegLoss=0]\n",
      "WARNING: nprophet - fit: Parts of code may break if using other than daily data.\n",
      "Epoch[40/40]: 100%|███████████████████████| 40/40 [00:04<00:00,  8.50it/s, SmoothL1Loss=0.00326, MAE=0.0044, RegLoss=0]\n",
      "WARNING: nprophet - fit: Parts of code may break if using other than daily data.\n",
      "Epoch[40/40]: 100%|██████████████████████| 40/40 [00:06<00:00,  5.96it/s, SmoothL1Loss=0.00398, MAE=0.00131, RegLoss=0]\n",
      "WARNING: nprophet - fit: Parts of code may break if using other than daily data.\n",
      "Epoch[40/40]: 100%|███████████████████████| 40/40 [00:05<00:00,  7.45it/s, SmoothL1Loss=0.00375, MAE=0.0026, RegLoss=0]\n",
      "WARNING: nprophet - fit: Parts of code may break if using other than daily data.\n",
      "Epoch[40/40]: 100%|██████████████████████| 40/40 [00:04<00:00,  9.21it/s, SmoothL1Loss=0.00154, MAE=0.00192, RegLoss=0]\n",
      "WARNING: nprophet - fit: Parts of code may break if using other than daily data.\n",
      "Epoch[1/40]:   2%|▋                          | 1/40 [00:00<00:04,  8.80it/s, SmoothL1Loss=0.775, MAE=0.0145, RegLoss=0]"
     ]
    },
    {
     "name": "stdout",
     "output_type": "stream",
     "text": [
      "\n",
      "Total MSE Error------------------------------------ 147.52785414747407\n",
      "\n",
      " current parameters is {'changepoints_range': 0.9, 'd_hidden': 50, 'n_changepoints': 10, 'num_hidden_layers': 0}\n",
      "\n"
     ]
    },
    {
     "name": "stderr",
     "output_type": "stream",
     "text": [
      "Epoch[40/40]: 100%|█████████████████████| 40/40 [00:05<00:00,  7.86it/s, SmoothL1Loss=0.00545, MAE=0.000974, RegLoss=0]\n",
      "WARNING: nprophet - fit: Parts of code may break if using other than daily data.\n",
      "Epoch[40/40]: 100%|██████████████████████| 40/40 [00:04<00:00,  8.48it/s, SmoothL1Loss=0.00233, MAE=0.00372, RegLoss=0]\n",
      "WARNING: nprophet - fit: Parts of code may break if using other than daily data.\n",
      "Epoch[40/40]: 100%|██████████████████████| 40/40 [00:05<00:00,  7.24it/s, SmoothL1Loss=0.00281, MAE=0.00112, RegLoss=0]\n",
      "WARNING: nprophet - fit: Parts of code may break if using other than daily data.\n",
      "Epoch[40/40]: 100%|██████████████████████| 40/40 [00:05<00:00,  7.08it/s, SmoothL1Loss=0.00241, MAE=0.00214, RegLoss=0]\n",
      "WARNING: nprophet - fit: Parts of code may break if using other than daily data.\n",
      "Epoch[40/40]: 100%|██████████████████████| 40/40 [00:05<00:00,  7.42it/s, SmoothL1Loss=0.00166, MAE=0.00195, RegLoss=0]\n",
      "WARNING: nprophet - fit: Parts of code may break if using other than daily data.\n",
      "Epoch[1/40]:   2%|▋                           | 1/40 [00:00<00:05,  6.73it/s, SmoothL1Loss=0.632, MAE=0.012, RegLoss=0]"
     ]
    },
    {
     "name": "stdout",
     "output_type": "stream",
     "text": [
      "\n",
      "Total MSE Error------------------------------------ 100.89073474306423\n",
      "\n",
      " current parameters is {'changepoints_range': 0.9, 'd_hidden': 50, 'n_changepoints': 10, 'num_hidden_layers': 1}\n",
      "\n"
     ]
    },
    {
     "name": "stderr",
     "output_type": "stream",
     "text": [
      "Epoch[40/40]: 100%|█████████████████████| 40/40 [00:04<00:00,  8.07it/s, SmoothL1Loss=0.00516, MAE=0.000949, RegLoss=0]\n",
      "WARNING: nprophet - fit: Parts of code may break if using other than daily data.\n",
      "Epoch[40/40]: 100%|██████████████████████| 40/40 [00:06<00:00,  6.51it/s, SmoothL1Loss=0.00277, MAE=0.00414, RegLoss=0]\n",
      "WARNING: nprophet - fit: Parts of code may break if using other than daily data.\n",
      "Epoch[40/40]: 100%|██████████████████████| 40/40 [00:05<00:00,  6.72it/s, SmoothL1Loss=0.00317, MAE=0.00118, RegLoss=0]\n",
      "WARNING: nprophet - fit: Parts of code may break if using other than daily data.\n",
      "Epoch[40/40]: 100%|██████████████████████| 40/40 [00:04<00:00,  8.56it/s, SmoothL1Loss=0.00269, MAE=0.00225, RegLoss=0]\n",
      "WARNING: nprophet - fit: Parts of code may break if using other than daily data.\n",
      "Epoch[40/40]: 100%|██████████████████████| 40/40 [00:05<00:00,  7.36it/s, SmoothL1Loss=0.00132, MAE=0.00167, RegLoss=0]\n",
      "WARNING: nprophet - fit: Parts of code may break if using other than daily data.\n",
      "Epoch[2/40]:   5%|█▍                           | 2/40 [00:00<00:02, 12.85it/s, SmoothL1Loss=2.4, MAE=0.0341, RegLoss=0]"
     ]
    },
    {
     "name": "stdout",
     "output_type": "stream",
     "text": [
      "\n",
      "Total MSE Error------------------------------------ 98.27440542409241\n",
      "\n",
      " current parameters is {'changepoints_range': 0.9, 'd_hidden': 50, 'n_changepoints': 10, 'num_hidden_layers': 2}\n",
      "\n"
     ]
    },
    {
     "name": "stderr",
     "output_type": "stream",
     "text": [
      "Epoch[40/40]: 100%|██████████████████████| 40/40 [00:04<00:00,  8.62it/s, SmoothL1Loss=0.00587, MAE=0.00102, RegLoss=0]\n",
      "WARNING: nprophet - fit: Parts of code may break if using other than daily data.\n",
      "Epoch[40/40]: 100%|██████████████████████| 40/40 [00:06<00:00,  6.22it/s, SmoothL1Loss=0.00217, MAE=0.00357, RegLoss=0]\n",
      "WARNING: nprophet - fit: Parts of code may break if using other than daily data.\n",
      "Epoch[40/40]: 100%|██████████████████████| 40/40 [00:07<00:00,  5.47it/s, SmoothL1Loss=0.00258, MAE=0.00106, RegLoss=0]\n",
      "WARNING: nprophet - fit: Parts of code may break if using other than daily data.\n",
      "Epoch[40/40]: 100%|██████████████████████| 40/40 [00:05<00:00,  6.72it/s, SmoothL1Loss=0.00269, MAE=0.00225, RegLoss=0]\n",
      "WARNING: nprophet - fit: Parts of code may break if using other than daily data.\n",
      "Epoch[40/40]: 100%|██████████████████████| 40/40 [00:05<00:00,  7.86it/s, SmoothL1Loss=0.00131, MAE=0.00165, RegLoss=0]\n",
      "WARNING: nprophet - fit: Parts of code may break if using other than daily data.\n",
      "Epoch[1/40]:   2%|▋                           | 1/40 [00:00<00:04,  8.87it/s, SmoothL1Loss=0.664, MAE=0.013, RegLoss=0]"
     ]
    },
    {
     "name": "stdout",
     "output_type": "stream",
     "text": [
      "\n",
      "Total MSE Error------------------------------------ 99.35193378843478\n",
      "\n",
      " current parameters is {'changepoints_range': 0.9, 'd_hidden': 50, 'n_changepoints': 15, 'num_hidden_layers': 0}\n",
      "\n"
     ]
    },
    {
     "name": "stderr",
     "output_type": "stream",
     "text": [
      "Epoch[40/40]: 100%|██████████████████████| 40/40 [00:04<00:00,  8.89it/s, SmoothL1Loss=0.00536, MAE=0.00094, RegLoss=0]\n",
      "WARNING: nprophet - fit: Parts of code may break if using other than daily data.\n",
      "Epoch[40/40]: 100%|██████████████████████| 40/40 [00:05<00:00,  7.70it/s, SmoothL1Loss=0.00206, MAE=0.00353, RegLoss=0]\n",
      "WARNING: nprophet - fit: Parts of code may break if using other than daily data.\n",
      "Epoch[40/40]: 100%|██████████████████████| 40/40 [00:05<00:00,  6.78it/s, SmoothL1Loss=0.00287, MAE=0.00113, RegLoss=0]\n",
      "WARNING: nprophet - fit: Parts of code may break if using other than daily data.\n",
      "Epoch[40/40]: 100%|██████████████████████| 40/40 [00:05<00:00,  7.33it/s, SmoothL1Loss=0.00212, MAE=0.00196, RegLoss=0]\n",
      "WARNING: nprophet - fit: Parts of code may break if using other than daily data.\n",
      "Epoch[40/40]: 100%|██████████████████████| 40/40 [00:03<00:00, 10.64it/s, SmoothL1Loss=0.00118, MAE=0.00155, RegLoss=0]\n",
      "WARNING: nprophet - fit: Parts of code may break if using other than daily data.\n",
      "Epoch[1/40]:   0%|                                  | 0/40 [00:00<?, ?it/s, SmoothL1Loss=0.146, MAE=0.00528, RegLoss=0]"
     ]
    },
    {
     "name": "stdout",
     "output_type": "stream",
     "text": [
      "\n",
      "Total MSE Error------------------------------------ 97.92444866070207\n",
      "\n",
      " current parameters is {'changepoints_range': 0.9, 'd_hidden': 50, 'n_changepoints': 15, 'num_hidden_layers': 1}\n",
      "\n"
     ]
    },
    {
     "name": "stderr",
     "output_type": "stream",
     "text": [
      "Epoch[40/40]: 100%|█████████████████████| 40/40 [00:05<00:00,  7.30it/s, SmoothL1Loss=0.00443, MAE=0.000835, RegLoss=0]\n",
      "WARNING: nprophet - fit: Parts of code may break if using other than daily data.\n",
      "Epoch[40/40]: 100%|██████████████████████| 40/40 [00:04<00:00,  8.57it/s, SmoothL1Loss=0.00217, MAE=0.00365, RegLoss=0]\n",
      "WARNING: nprophet - fit: Parts of code may break if using other than daily data.\n",
      "Epoch[40/40]: 100%|██████████████████████| 40/40 [00:04<00:00,  9.47it/s, SmoothL1Loss=0.00169, MAE=0.00086, RegLoss=0]\n",
      "WARNING: nprophet - fit: Parts of code may break if using other than daily data.\n",
      "Epoch[40/40]: 100%|██████████████████████| 40/40 [00:04<00:00,  9.19it/s, SmoothL1Loss=0.00229, MAE=0.00204, RegLoss=0]\n",
      "WARNING: nprophet - fit: Parts of code may break if using other than daily data.\n",
      "Epoch[40/40]: 100%|██████████████████████| 40/40 [00:03<00:00, 10.64it/s, SmoothL1Loss=0.00145, MAE=0.00177, RegLoss=0]\n",
      "WARNING: nprophet - fit: Parts of code may break if using other than daily data.\n",
      "Epoch[1/40]:   2%|▋                         | 1/40 [00:00<00:04,  8.09it/s, SmoothL1Loss=0.397, MAE=0.00888, RegLoss=0]"
     ]
    },
    {
     "name": "stdout",
     "output_type": "stream",
     "text": [
      "\n",
      "Total MSE Error------------------------------------ 98.70416109493478\n",
      "\n",
      " current parameters is {'changepoints_range': 0.9, 'd_hidden': 50, 'n_changepoints': 15, 'num_hidden_layers': 2}\n",
      "\n"
     ]
    },
    {
     "name": "stderr",
     "output_type": "stream",
     "text": [
      "Epoch[40/40]: 100%|█████████████████████| 40/40 [00:04<00:00,  9.70it/s, SmoothL1Loss=0.00514, MAE=0.000914, RegLoss=0]\n",
      "WARNING: nprophet - fit: Parts of code may break if using other than daily data.\n",
      "Epoch[40/40]: 100%|██████████████████████| 40/40 [00:04<00:00,  9.20it/s, SmoothL1Loss=0.00147, MAE=0.00291, RegLoss=0]\n",
      "WARNING: nprophet - fit: Parts of code may break if using other than daily data.\n",
      "Epoch[40/40]: 100%|██████████████████████| 40/40 [00:04<00:00,  9.68it/s, SmoothL1Loss=0.0018, MAE=0.000893, RegLoss=0]\n",
      "WARNING: nprophet - fit: Parts of code may break if using other than daily data.\n",
      "Epoch[40/40]: 100%|██████████████████████| 40/40 [00:05<00:00,  6.87it/s, SmoothL1Loss=0.00151, MAE=0.00169, RegLoss=0]\n",
      "WARNING: nprophet - fit: Parts of code may break if using other than daily data.\n",
      "Epoch[40/40]: 100%|██████████████████████| 40/40 [00:04<00:00,  8.17it/s, SmoothL1Loss=0.00151, MAE=0.00181, RegLoss=0]\n",
      "WARNING: nprophet - fit: Parts of code may break if using other than daily data.\n",
      "Epoch[1/40]:   0%|                                   | 0/40 [00:00<?, ?it/s, SmoothL1Loss=0.454, MAE=0.0104, RegLoss=0]"
     ]
    },
    {
     "name": "stdout",
     "output_type": "stream",
     "text": [
      "\n",
      "Total MSE Error------------------------------------ 111.0297067324533\n",
      "\n",
      " current parameters is {'changepoints_range': 0.9, 'd_hidden': 50, 'n_changepoints': 20, 'num_hidden_layers': 0}\n",
      "\n"
     ]
    },
    {
     "name": "stderr",
     "output_type": "stream",
     "text": [
      "Epoch[40/40]: 100%|█████████████████████| 40/40 [00:04<00:00,  8.54it/s, SmoothL1Loss=0.00421, MAE=0.000844, RegLoss=0]\n",
      "WARNING: nprophet - fit: Parts of code may break if using other than daily data.\n",
      "Epoch[40/40]: 100%|██████████████████████| 40/40 [00:04<00:00,  9.67it/s, SmoothL1Loss=0.00165, MAE=0.00308, RegLoss=0]\n",
      "WARNING: nprophet - fit: Parts of code may break if using other than daily data.\n",
      "Epoch[40/40]: 100%|██████████████████████| 40/40 [00:04<00:00,  8.68it/s, SmoothL1Loss=0.00271, MAE=0.00109, RegLoss=0]\n",
      "WARNING: nprophet - fit: Parts of code may break if using other than daily data.\n",
      "Epoch[40/40]: 100%|██████████████████████| 40/40 [00:04<00:00,  9.29it/s, SmoothL1Loss=0.00206, MAE=0.00193, RegLoss=0]\n",
      "WARNING: nprophet - fit: Parts of code may break if using other than daily data.\n",
      "Epoch[40/40]: 100%|██████████████████████| 40/40 [00:05<00:00,  7.96it/s, SmoothL1Loss=0.00122, MAE=0.00162, RegLoss=0]\n",
      "WARNING: nprophet - fit: Parts of code may break if using other than daily data.\n",
      "Epoch[1/40]:   2%|▋                          | 1/40 [00:00<00:05,  7.37it/s, SmoothL1Loss=0.499, MAE=0.0109, RegLoss=0]"
     ]
    },
    {
     "name": "stdout",
     "output_type": "stream",
     "text": [
      "\n",
      "Total MSE Error------------------------------------ 115.54962294351131\n",
      "\n",
      " current parameters is {'changepoints_range': 0.9, 'd_hidden': 50, 'n_changepoints': 20, 'num_hidden_layers': 1}\n",
      "\n"
     ]
    },
    {
     "name": "stderr",
     "output_type": "stream",
     "text": [
      "Epoch[40/40]: 100%|█████████████████████| 40/40 [00:05<00:00,  7.90it/s, SmoothL1Loss=0.00432, MAE=0.000855, RegLoss=0]\n",
      "WARNING: nprophet - fit: Parts of code may break if using other than daily data.\n",
      "Epoch[40/40]: 100%|██████████████████████| 40/40 [00:04<00:00,  8.04it/s, SmoothL1Loss=0.00186, MAE=0.00328, RegLoss=0]\n",
      "WARNING: nprophet - fit: Parts of code may break if using other than daily data.\n",
      "Epoch[40/40]: 100%|██████████████████████| 40/40 [00:05<00:00,  7.82it/s, SmoothL1Loss=0.00232, MAE=0.00101, RegLoss=0]\n",
      "WARNING: nprophet - fit: Parts of code may break if using other than daily data.\n",
      "Epoch[40/40]: 100%|███████████████████████| 40/40 [00:04<00:00,  9.58it/s, SmoothL1Loss=0.0023, MAE=0.00203, RegLoss=0]\n",
      "WARNING: nprophet - fit: Parts of code may break if using other than daily data.\n",
      "Epoch[40/40]: 100%|██████████████████████| 40/40 [00:03<00:00, 10.86it/s, SmoothL1Loss=0.00102, MAE=0.00146, RegLoss=0]\n",
      "WARNING: nprophet - fit: Parts of code may break if using other than daily data.\n",
      "Epoch[2/40]:   0%|                                   | 0/40 [00:00<?, ?it/s, SmoothL1Loss=0.559, MAE=0.0109, RegLoss=0]"
     ]
    },
    {
     "name": "stdout",
     "output_type": "stream",
     "text": [
      "\n",
      "Total MSE Error------------------------------------ 112.37866223450959\n",
      "\n",
      " current parameters is {'changepoints_range': 0.9, 'd_hidden': 50, 'n_changepoints': 20, 'num_hidden_layers': 2}\n",
      "\n"
     ]
    },
    {
     "name": "stderr",
     "output_type": "stream",
     "text": [
      "Epoch[40/40]: 100%|██████████████████████| 40/40 [00:03<00:00, 10.11it/s, SmoothL1Loss=0.0045, MAE=0.000872, RegLoss=0]\n",
      "WARNING: nprophet - fit: Parts of code may break if using other than daily data.\n",
      "Epoch[40/40]: 100%|██████████████████████| 40/40 [00:03<00:00, 10.32it/s, SmoothL1Loss=0.00145, MAE=0.00287, RegLoss=0]\n",
      "WARNING: nprophet - fit: Parts of code may break if using other than daily data.\n",
      "Epoch[40/40]: 100%|█████████████████████| 40/40 [00:04<00:00,  9.81it/s, SmoothL1Loss=0.00226, MAE=0.000991, RegLoss=0]\n",
      "WARNING: nprophet - fit: Parts of code may break if using other than daily data.\n",
      "Epoch[40/40]: 100%|██████████████████████| 40/40 [00:04<00:00,  9.15it/s, SmoothL1Loss=0.00253, MAE=0.00213, RegLoss=0]\n",
      "WARNING: nprophet - fit: Parts of code may break if using other than daily data.\n",
      "Epoch[40/40]: 100%|██████████████████████| 40/40 [00:05<00:00,  7.90it/s, SmoothL1Loss=0.00112, MAE=0.00153, RegLoss=0]\n",
      "WARNING: nprophet - fit: Parts of code may break if using other than daily data.\n",
      "Epoch[1/40]:   0%|                                  | 0/40 [00:00<?, ?it/s, SmoothL1Loss=0.447, MAE=0.00934, RegLoss=0]"
     ]
    },
    {
     "name": "stdout",
     "output_type": "stream",
     "text": [
      "\n",
      "Total MSE Error------------------------------------ 121.22949230522643\n",
      "\n",
      " current parameters is {'changepoints_range': 0.95, 'd_hidden': 10, 'n_changepoints': 5, 'num_hidden_layers': 0}\n",
      "\n"
     ]
    },
    {
     "name": "stderr",
     "output_type": "stream",
     "text": [
      "Epoch[40/40]: 100%|██████████████████████| 40/40 [00:04<00:00,  9.33it/s, SmoothL1Loss=0.00644, MAE=0.00107, RegLoss=0]\n",
      "WARNING: nprophet - fit: Parts of code may break if using other than daily data.\n",
      "Epoch[40/40]: 100%|██████████████████████| 40/40 [00:05<00:00,  7.09it/s, SmoothL1Loss=0.00322, MAE=0.00431, RegLoss=0]\n",
      "WARNING: nprophet - fit: Parts of code may break if using other than daily data.\n",
      "Epoch[40/40]: 100%|██████████████████████| 40/40 [00:04<00:00,  9.67it/s, SmoothL1Loss=0.00356, MAE=0.00124, RegLoss=0]\n",
      "WARNING: nprophet - fit: Parts of code may break if using other than daily data.\n",
      "Epoch[40/40]: 100%|███████████████████████| 40/40 [00:04<00:00,  9.04it/s, SmoothL1Loss=0.00324, MAE=0.0025, RegLoss=0]\n",
      "WARNING: nprophet - fit: Parts of code may break if using other than daily data.\n",
      "Epoch[40/40]: 100%|██████████████████████| 40/40 [00:04<00:00,  8.58it/s, SmoothL1Loss=0.00176, MAE=0.00209, RegLoss=0]\n",
      "WARNING: nprophet - fit: Parts of code may break if using other than daily data.\n",
      "Epoch[1/40]:   2%|▋                           | 1/40 [00:00<00:03,  9.93it/s, SmoothL1Loss=3.48, MAE=0.0467, RegLoss=0]"
     ]
    },
    {
     "name": "stdout",
     "output_type": "stream",
     "text": [
      "\n",
      "Total MSE Error------------------------------------ 128.8253338276016\n",
      "\n",
      " current parameters is {'changepoints_range': 0.95, 'd_hidden': 10, 'n_changepoints': 5, 'num_hidden_layers': 1}\n",
      "\n"
     ]
    },
    {
     "name": "stderr",
     "output_type": "stream",
     "text": [
      "Epoch[40/40]: 100%|███████████████████████| 40/40 [00:05<00:00,  7.70it/s, SmoothL1Loss=0.00696, MAE=0.0011, RegLoss=0]\n",
      "WARNING: nprophet - fit: Parts of code may break if using other than daily data.\n",
      "Epoch[40/40]: 100%|██████████████████████| 40/40 [00:04<00:00,  9.37it/s, SmoothL1Loss=0.00298, MAE=0.00415, RegLoss=0]\n",
      "WARNING: nprophet - fit: Parts of code may break if using other than daily data.\n",
      "Epoch[40/40]: 100%|███████████████████████| 40/40 [00:03<00:00, 10.20it/s, SmoothL1Loss=0.00331, MAE=0.0012, RegLoss=0]\n",
      "WARNING: nprophet - fit: Parts of code may break if using other than daily data.\n",
      "Epoch[40/40]: 100%|███████████████████████| 40/40 [00:05<00:00,  7.53it/s, SmoothL1Loss=0.00323, MAE=0.0025, RegLoss=0]\n",
      "WARNING: nprophet - fit: Parts of code may break if using other than daily data.\n",
      "Epoch[40/40]: 100%|██████████████████████| 40/40 [00:05<00:00,  7.57it/s, SmoothL1Loss=0.00194, MAE=0.00223, RegLoss=0]\n",
      "WARNING: nprophet - fit: Parts of code may break if using other than daily data.\n",
      "Epoch[1/40]:   0%|                                    | 0/40 [00:00<?, ?it/s, SmoothL1Loss=1.02, MAE=0.0173, RegLoss=0]"
     ]
    },
    {
     "name": "stdout",
     "output_type": "stream",
     "text": [
      "\n",
      "Total MSE Error------------------------------------ 131.6105203884217\n",
      "\n",
      " current parameters is {'changepoints_range': 0.95, 'd_hidden': 10, 'n_changepoints': 5, 'num_hidden_layers': 2}\n",
      "\n"
     ]
    },
    {
     "name": "stderr",
     "output_type": "stream",
     "text": [
      "Epoch[40/40]: 100%|██████████████████████| 40/40 [00:04<00:00,  9.15it/s, SmoothL1Loss=0.00676, MAE=0.00108, RegLoss=0]\n",
      "WARNING: nprophet - fit: Parts of code may break if using other than daily data.\n",
      "Epoch[40/40]: 100%|██████████████████████| 40/40 [00:06<00:00,  6.14it/s, SmoothL1Loss=0.00321, MAE=0.00431, RegLoss=0]\n",
      "WARNING: nprophet - fit: Parts of code may break if using other than daily data.\n",
      "Epoch[40/40]: 100%|██████████████████████| 40/40 [00:05<00:00,  6.93it/s, SmoothL1Loss=0.00351, MAE=0.00123, RegLoss=0]\n",
      "WARNING: nprophet - fit: Parts of code may break if using other than daily data.\n",
      "Epoch[40/40]: 100%|██████████████████████| 40/40 [00:05<00:00,  7.76it/s, SmoothL1Loss=0.00369, MAE=0.00261, RegLoss=0]\n",
      "WARNING: nprophet - fit: Parts of code may break if using other than daily data.\n",
      "Epoch[40/40]: 100%|██████████████████████| 40/40 [00:04<00:00,  9.93it/s, SmoothL1Loss=0.00223, MAE=0.00243, RegLoss=0]\n",
      "WARNING: nprophet - fit: Parts of code may break if using other than daily data.\n",
      "Epoch[2/40]:   5%|█▎                       | 2/40 [00:00<00:02, 13.11it/s, SmoothL1Loss=0.0762, MAE=0.00391, RegLoss=0]"
     ]
    },
    {
     "name": "stdout",
     "output_type": "stream",
     "text": [
      "\n",
      "Total MSE Error------------------------------------ 134.8840696590987\n",
      "\n",
      " current parameters is {'changepoints_range': 0.95, 'd_hidden': 10, 'n_changepoints': 10, 'num_hidden_layers': 0}\n",
      "\n"
     ]
    },
    {
     "name": "stderr",
     "output_type": "stream",
     "text": [
      "Epoch[40/40]: 100%|█████████████████████| 40/40 [00:04<00:00,  8.35it/s, SmoothL1Loss=0.00482, MAE=0.000873, RegLoss=0]\n",
      "WARNING: nprophet - fit: Parts of code may break if using other than daily data.\n",
      "Epoch[40/40]: 100%|██████████████████████| 40/40 [00:04<00:00,  8.52it/s, SmoothL1Loss=0.00262, MAE=0.00399, RegLoss=0]\n",
      "WARNING: nprophet - fit: Parts of code may break if using other than daily data.\n",
      "Epoch[40/40]: 100%|██████████████████████| 40/40 [00:03<00:00, 10.19it/s, SmoothL1Loss=0.00253, MAE=0.00106, RegLoss=0]\n",
      "WARNING: nprophet - fit: Parts of code may break if using other than daily data.\n",
      "Epoch[40/40]: 100%|███████████████████████| 40/40 [00:03<00:00, 12.30it/s, SmoothL1Loss=0.0022, MAE=0.00199, RegLoss=0]\n",
      "WARNING: nprophet - fit: Parts of code may break if using other than daily data.\n",
      "Epoch[40/40]: 100%|██████████████████████| 40/40 [00:03<00:00, 12.28it/s, SmoothL1Loss=0.00182, MAE=0.00203, RegLoss=0]\n",
      "WARNING: nprophet - fit: Parts of code may break if using other than daily data.\n",
      "Epoch[2/40]:   5%|█▎                        | 2/40 [00:00<00:02, 12.77it/s, SmoothL1Loss=0.0338, MAE=0.0024, RegLoss=0]"
     ]
    },
    {
     "name": "stdout",
     "output_type": "stream",
     "text": [
      "\n",
      "Total MSE Error------------------------------------ 106.57973548123417\n",
      "\n",
      " current parameters is {'changepoints_range': 0.95, 'd_hidden': 10, 'n_changepoints': 10, 'num_hidden_layers': 1}\n",
      "\n"
     ]
    },
    {
     "name": "stderr",
     "output_type": "stream",
     "text": [
      "Epoch[40/40]: 100%|██████████████████████| 40/40 [00:03<00:00, 12.02it/s, SmoothL1Loss=0.0047, MAE=0.000861, RegLoss=0]\n",
      "WARNING: nprophet - fit: Parts of code may break if using other than daily data.\n",
      "Epoch[40/40]: 100%|██████████████████████| 40/40 [00:03<00:00, 12.02it/s, SmoothL1Loss=0.00193, MAE=0.00335, RegLoss=0]\n",
      "WARNING: nprophet - fit: Parts of code may break if using other than daily data.\n",
      "Epoch[40/40]: 100%|██████████████████████| 40/40 [00:03<00:00, 12.27it/s, SmoothL1Loss=0.00238, MAE=0.00103, RegLoss=0]\n",
      "WARNING: nprophet - fit: Parts of code may break if using other than daily data.\n",
      "Epoch[40/40]: 100%|██████████████████████| 40/40 [00:03<00:00, 11.93it/s, SmoothL1Loss=0.00231, MAE=0.00203, RegLoss=0]\n",
      "WARNING: nprophet - fit: Parts of code may break if using other than daily data.\n",
      "Epoch[40/40]: 100%|██████████████████████| 40/40 [00:03<00:00, 12.21it/s, SmoothL1Loss=0.00101, MAE=0.00147, RegLoss=0]\n",
      "WARNING: nprophet - fit: Parts of code may break if using other than daily data.\n",
      "Epoch[2/40]:   5%|█▎                         | 2/40 [00:00<00:02, 13.11it/s, SmoothL1Loss=0.36, MAE=0.00872, RegLoss=0]"
     ]
    },
    {
     "name": "stdout",
     "output_type": "stream",
     "text": [
      "\n",
      "Total MSE Error------------------------------------ 110.52900221019466\n",
      "\n",
      " current parameters is {'changepoints_range': 0.95, 'd_hidden': 10, 'n_changepoints': 10, 'num_hidden_layers': 2}\n",
      "\n"
     ]
    },
    {
     "name": "stderr",
     "output_type": "stream",
     "text": [
      "Epoch[40/40]: 100%|█████████████████████| 40/40 [00:03<00:00, 12.03it/s, SmoothL1Loss=0.00514, MAE=0.000895, RegLoss=0]\n",
      "WARNING: nprophet - fit: Parts of code may break if using other than daily data.\n",
      "Epoch[40/40]: 100%|██████████████████████| 40/40 [00:03<00:00, 12.11it/s, SmoothL1Loss=0.00209, MAE=0.00347, RegLoss=0]\n",
      "WARNING: nprophet - fit: Parts of code may break if using other than daily data.\n",
      "Epoch[40/40]: 100%|█████████████████████| 40/40 [00:03<00:00, 10.83it/s, SmoothL1Loss=0.00223, MAE=0.000982, RegLoss=0]\n",
      "WARNING: nprophet - fit: Parts of code may break if using other than daily data.\n",
      "Epoch[40/40]: 100%|███████████████████████| 40/40 [00:03<00:00, 12.18it/s, SmoothL1Loss=0.00196, MAE=0.0019, RegLoss=0]\n",
      "WARNING: nprophet - fit: Parts of code may break if using other than daily data.\n",
      "Epoch[40/40]: 100%|██████████████████████| 40/40 [00:03<00:00, 12.12it/s, SmoothL1Loss=0.00146, MAE=0.00178, RegLoss=0]\n",
      "WARNING: nprophet - fit: Parts of code may break if using other than daily data.\n",
      "Epoch[2/40]:   5%|█▎                       | 2/40 [00:00<00:02, 13.28it/s, SmoothL1Loss=0.0655, MAE=0.00349, RegLoss=0]"
     ]
    },
    {
     "name": "stdout",
     "output_type": "stream",
     "text": [
      "\n",
      "Total MSE Error------------------------------------ 103.76354053545805\n",
      "\n",
      " current parameters is {'changepoints_range': 0.95, 'd_hidden': 10, 'n_changepoints': 15, 'num_hidden_layers': 0}\n",
      "\n"
     ]
    },
    {
     "name": "stderr",
     "output_type": "stream",
     "text": [
      "Epoch[40/40]: 100%|██████████████████████| 40/40 [00:03<00:00, 11.83it/s, SmoothL1Loss=0.0033, MAE=0.000749, RegLoss=0]\n",
      "WARNING: nprophet - fit: Parts of code may break if using other than daily data.\n",
      "Epoch[40/40]: 100%|██████████████████████| 40/40 [00:03<00:00, 12.36it/s, SmoothL1Loss=0.00166, MAE=0.00313, RegLoss=0]\n",
      "WARNING: nprophet - fit: Parts of code may break if using other than daily data.\n",
      "Epoch[40/40]: 100%|██████████████████████| 40/40 [00:03<00:00, 11.18it/s, SmoothL1Loss=0.00245, MAE=0.00105, RegLoss=0]\n",
      "WARNING: nprophet - fit: Parts of code may break if using other than daily data.\n",
      "Epoch[40/40]: 100%|██████████████████████| 40/40 [00:03<00:00, 11.77it/s, SmoothL1Loss=0.00207, MAE=0.00193, RegLoss=0]\n",
      "WARNING: nprophet - fit: Parts of code may break if using other than daily data.\n",
      "Epoch[40/40]: 100%|██████████████████████| 40/40 [00:03<00:00, 12.27it/s, SmoothL1Loss=0.00136, MAE=0.00165, RegLoss=0]\n",
      "WARNING: nprophet - fit: Parts of code may break if using other than daily data.\n",
      "Epoch[2/40]:   5%|█▎                        | 2/40 [00:00<00:03, 11.80it/s, SmoothL1Loss=0.109, MAE=0.00478, RegLoss=0]"
     ]
    },
    {
     "name": "stdout",
     "output_type": "stream",
     "text": [
      "\n",
      "Total MSE Error------------------------------------ 110.24245739497096\n",
      "\n",
      " current parameters is {'changepoints_range': 0.95, 'd_hidden': 10, 'n_changepoints': 15, 'num_hidden_layers': 1}\n",
      "\n"
     ]
    },
    {
     "name": "stderr",
     "output_type": "stream",
     "text": [
      "Epoch[40/40]: 100%|█████████████████████| 40/40 [00:03<00:00, 12.05it/s, SmoothL1Loss=0.00393, MAE=0.000815, RegLoss=0]\n",
      "WARNING: nprophet - fit: Parts of code may break if using other than daily data.\n",
      "Epoch[40/40]: 100%|███████████████████████| 40/40 [00:03<00:00, 12.42it/s, SmoothL1Loss=0.00171, MAE=0.0032, RegLoss=0]\n",
      "WARNING: nprophet - fit: Parts of code may break if using other than daily data.\n",
      "Epoch[40/40]: 100%|█████████████████████| 40/40 [00:03<00:00, 11.80it/s, SmoothL1Loss=0.00228, MAE=0.000999, RegLoss=0]\n",
      "WARNING: nprophet - fit: Parts of code may break if using other than daily data.\n",
      "Epoch[40/40]: 100%|██████████████████████| 40/40 [00:03<00:00, 12.37it/s, SmoothL1Loss=0.00221, MAE=0.00199, RegLoss=0]\n",
      "WARNING: nprophet - fit: Parts of code may break if using other than daily data.\n",
      "Epoch[40/40]: 100%|███████████████████████| 40/40 [00:03<00:00, 12.12it/s, SmoothL1Loss=0.00103, MAE=0.0014, RegLoss=0]\n",
      "WARNING: nprophet - fit: Parts of code may break if using other than daily data.\n",
      "Epoch[2/40]:   5%|█▎                        | 2/40 [00:00<00:03, 12.38it/s, SmoothL1Loss=0.0863, MAE=0.0035, RegLoss=0]"
     ]
    },
    {
     "name": "stdout",
     "output_type": "stream",
     "text": [
      "\n",
      "Total MSE Error------------------------------------ 106.82370107000216\n",
      "\n",
      " current parameters is {'changepoints_range': 0.95, 'd_hidden': 10, 'n_changepoints': 15, 'num_hidden_layers': 2}\n",
      "\n"
     ]
    },
    {
     "name": "stderr",
     "output_type": "stream",
     "text": [
      "Epoch[40/40]: 100%|█████████████████████| 40/40 [00:03<00:00, 11.84it/s, SmoothL1Loss=0.00386, MAE=0.000806, RegLoss=0]\n",
      "WARNING: nprophet - fit: Parts of code may break if using other than daily data.\n",
      "Epoch[40/40]: 100%|██████████████████████| 40/40 [00:03<00:00, 12.02it/s, SmoothL1Loss=0.00247, MAE=0.00388, RegLoss=0]\n",
      "WARNING: nprophet - fit: Parts of code may break if using other than daily data.\n",
      "Epoch[40/40]: 100%|█████████████████████| 40/40 [00:03<00:00, 12.45it/s, SmoothL1Loss=0.00216, MAE=0.000997, RegLoss=0]\n",
      "WARNING: nprophet - fit: Parts of code may break if using other than daily data.\n",
      "Epoch[40/40]: 100%|██████████████████████| 40/40 [00:03<00:00, 12.20it/s, SmoothL1Loss=0.00243, MAE=0.00208, RegLoss=0]\n",
      "WARNING: nprophet - fit: Parts of code may break if using other than daily data.\n",
      "Epoch[40/40]: 100%|████████████████████████| 40/40 [00:03<00:00, 11.75it/s, SmoothL1Loss=0.00185, MAE=0.002, RegLoss=0]\n",
      "WARNING: nprophet - fit: Parts of code may break if using other than daily data.\n",
      "Epoch[1/40]:   2%|▋                           | 1/40 [00:00<00:04,  9.12it/s, SmoothL1Loss=0.992, MAE=0.017, RegLoss=0]"
     ]
    },
    {
     "name": "stdout",
     "output_type": "stream",
     "text": [
      "\n",
      "Total MSE Error------------------------------------ 110.48432020685298\n",
      "\n",
      " current parameters is {'changepoints_range': 0.95, 'd_hidden': 10, 'n_changepoints': 20, 'num_hidden_layers': 0}\n",
      "\n"
     ]
    },
    {
     "name": "stderr",
     "output_type": "stream",
     "text": [
      "Epoch[40/40]: 100%|█████████████████████| 40/40 [00:03<00:00, 10.67it/s, SmoothL1Loss=0.00432, MAE=0.000856, RegLoss=0]\n",
      "WARNING: nprophet - fit: Parts of code may break if using other than daily data.\n",
      "Epoch[40/40]: 100%|███████████████████████| 40/40 [00:03<00:00, 11.57it/s, SmoothL1Loss=0.0018, MAE=0.00325, RegLoss=0]\n",
      "WARNING: nprophet - fit: Parts of code may break if using other than daily data.\n",
      "Epoch[40/40]: 100%|██████████████████████| 40/40 [00:03<00:00, 10.70it/s, SmoothL1Loss=0.00283, MAE=0.00113, RegLoss=0]\n",
      "WARNING: nprophet - fit: Parts of code may break if using other than daily data.\n",
      "Epoch[40/40]: 100%|██████████████████████| 40/40 [00:03<00:00, 11.33it/s, SmoothL1Loss=0.00165, MAE=0.00177, RegLoss=0]\n",
      "WARNING: nprophet - fit: Parts of code may break if using other than daily data.\n",
      "Epoch[40/40]: 100%|█████████████████████| 40/40 [00:03<00:00, 11.22it/s, SmoothL1Loss=0.000875, MAE=0.00129, RegLoss=0]\n",
      "WARNING: nprophet - fit: Parts of code may break if using other than daily data.\n",
      "Epoch[1/40]:   0%|                                    | 0/40 [00:00<?, ?it/s, SmoothL1Loss=0.46, MAE=0.0104, RegLoss=0]"
     ]
    },
    {
     "name": "stdout",
     "output_type": "stream",
     "text": [
      "\n",
      "Total MSE Error------------------------------------ 91.26829865924896\n",
      "\n",
      " current parameters is {'changepoints_range': 0.95, 'd_hidden': 10, 'n_changepoints': 20, 'num_hidden_layers': 1}\n",
      "\n"
     ]
    },
    {
     "name": "stderr",
     "output_type": "stream",
     "text": [
      "Epoch[40/40]: 100%|█████████████████████| 40/40 [00:03<00:00, 11.75it/s, SmoothL1Loss=0.00419, MAE=0.000841, RegLoss=0]\n",
      "WARNING: nprophet - fit: Parts of code may break if using other than daily data.\n",
      "Epoch[40/40]: 100%|██████████████████████| 40/40 [00:03<00:00, 12.05it/s, SmoothL1Loss=0.00171, MAE=0.00314, RegLoss=0]\n",
      "WARNING: nprophet - fit: Parts of code may break if using other than daily data.\n",
      "Epoch[40/40]: 100%|██████████████████████| 40/40 [00:03<00:00, 12.24it/s, SmoothL1Loss=0.00238, MAE=0.00103, RegLoss=0]\n",
      "WARNING: nprophet - fit: Parts of code may break if using other than daily data.\n",
      "Epoch[40/40]: 100%|██████████████████████| 40/40 [00:03<00:00, 12.13it/s, SmoothL1Loss=0.00211, MAE=0.00197, RegLoss=0]\n",
      "WARNING: nprophet - fit: Parts of code may break if using other than daily data.\n",
      "Epoch[40/40]: 100%|██████████████████████| 40/40 [00:03<00:00, 11.96it/s, SmoothL1Loss=0.000893, MAE=0.0013, RegLoss=0]\n",
      "WARNING: nprophet - fit: Parts of code may break if using other than daily data.\n",
      "Epoch[2/40]:   5%|█▎                       | 2/40 [00:00<00:02, 13.02it/s, SmoothL1Loss=0.0582, MAE=0.00335, RegLoss=0]"
     ]
    },
    {
     "name": "stdout",
     "output_type": "stream",
     "text": [
      "\n",
      "Total MSE Error------------------------------------ 91.00895606947513\n",
      "\n",
      " current parameters is {'changepoints_range': 0.95, 'd_hidden': 10, 'n_changepoints': 20, 'num_hidden_layers': 2}\n",
      "\n"
     ]
    },
    {
     "name": "stderr",
     "output_type": "stream",
     "text": [
      "Epoch[40/40]: 100%|██████████████████████| 40/40 [00:03<00:00, 12.24it/s, SmoothL1Loss=0.00332, MAE=0.00075, RegLoss=0]\n",
      "WARNING: nprophet - fit: Parts of code may break if using other than daily data.\n",
      "Epoch[40/40]: 100%|██████████████████████| 40/40 [00:03<00:00, 12.06it/s, SmoothL1Loss=0.00144, MAE=0.00286, RegLoss=0]\n",
      "WARNING: nprophet - fit: Parts of code may break if using other than daily data.\n",
      "Epoch[40/40]: 100%|██████████████████████| 40/40 [00:03<00:00, 11.97it/s, SmoothL1Loss=0.0014, MAE=0.000811, RegLoss=0]\n",
      "WARNING: nprophet - fit: Parts of code may break if using other than daily data.\n",
      "Epoch[40/40]: 100%|██████████████████████| 40/40 [00:03<00:00, 12.23it/s, SmoothL1Loss=0.00173, MAE=0.00181, RegLoss=0]\n",
      "WARNING: nprophet - fit: Parts of code may break if using other than daily data.\n",
      "Epoch[40/40]: 100%|█████████████████████| 40/40 [00:03<00:00, 12.16it/s, SmoothL1Loss=0.000921, MAE=0.00134, RegLoss=0]\n",
      "WARNING: nprophet - fit: Parts of code may break if using other than daily data.\n",
      "Epoch[2/40]:   5%|█▎                        | 2/40 [00:00<00:02, 13.55it/s, SmoothL1Loss=0.281, MAE=0.00766, RegLoss=0]"
     ]
    },
    {
     "name": "stdout",
     "output_type": "stream",
     "text": [
      "\n",
      "Total MSE Error------------------------------------ 98.66405173071973\n",
      "\n",
      " current parameters is {'changepoints_range': 0.95, 'd_hidden': 30, 'n_changepoints': 5, 'num_hidden_layers': 0}\n",
      "\n"
     ]
    },
    {
     "name": "stderr",
     "output_type": "stream",
     "text": [
      "Epoch[40/40]: 100%|██████████████████████| 40/40 [00:03<00:00, 12.08it/s, SmoothL1Loss=0.00635, MAE=0.00107, RegLoss=0]\n",
      "WARNING: nprophet - fit: Parts of code may break if using other than daily data.\n",
      "Epoch[40/40]: 100%|██████████████████████| 40/40 [00:03<00:00, 12.26it/s, SmoothL1Loss=0.00316, MAE=0.00428, RegLoss=0]\n",
      "WARNING: nprophet - fit: Parts of code may break if using other than daily data.\n",
      "Epoch[40/40]: 100%|██████████████████████| 40/40 [00:03<00:00, 11.48it/s, SmoothL1Loss=0.00349, MAE=0.00123, RegLoss=0]\n",
      "WARNING: nprophet - fit: Parts of code may break if using other than daily data.\n",
      "Epoch[40/40]: 100%|██████████████████████| 40/40 [00:03<00:00, 12.32it/s, SmoothL1Loss=0.00351, MAE=0.00256, RegLoss=0]\n",
      "WARNING: nprophet - fit: Parts of code may break if using other than daily data.\n",
      "Epoch[40/40]: 100%|███████████████████████| 40/40 [00:03<00:00, 11.79it/s, SmoothL1Loss=0.00218, MAE=0.0024, RegLoss=0]\n",
      "WARNING: nprophet - fit: Parts of code may break if using other than daily data.\n",
      "Epoch[2/40]:   5%|█▎                       | 2/40 [00:00<00:02, 13.37it/s, SmoothL1Loss=0.0408, MAE=0.00274, RegLoss=0]"
     ]
    },
    {
     "name": "stdout",
     "output_type": "stream",
     "text": [
      "\n",
      "Total MSE Error------------------------------------ 129.61557461161152\n",
      "\n",
      " current parameters is {'changepoints_range': 0.95, 'd_hidden': 30, 'n_changepoints': 5, 'num_hidden_layers': 1}\n",
      "\n"
     ]
    },
    {
     "name": "stderr",
     "output_type": "stream",
     "text": [
      "Epoch[40/40]: 100%|██████████████████████| 40/40 [00:03<00:00, 12.22it/s, SmoothL1Loss=0.00624, MAE=0.00107, RegLoss=0]\n",
      "WARNING: nprophet - fit: Parts of code may break if using other than daily data.\n",
      "Epoch[40/40]: 100%|██████████████████████| 40/40 [00:03<00:00, 12.33it/s, SmoothL1Loss=0.00297, MAE=0.00414, RegLoss=0]\n",
      "WARNING: nprophet - fit: Parts of code may break if using other than daily data.\n",
      "Epoch[40/40]: 100%|███████████████████████| 40/40 [00:03<00:00, 11.52it/s, SmoothL1Loss=0.0032, MAE=0.00119, RegLoss=0]\n",
      "WARNING: nprophet - fit: Parts of code may break if using other than daily data.\n",
      "Epoch[40/40]: 100%|███████████████████████| 40/40 [00:03<00:00, 12.08it/s, SmoothL1Loss=0.00322, MAE=0.0025, RegLoss=0]\n",
      "WARNING: nprophet - fit: Parts of code may break if using other than daily data.\n",
      "Epoch[40/40]: 100%|██████████████████████| 40/40 [00:03<00:00, 12.52it/s, SmoothL1Loss=0.00203, MAE=0.00229, RegLoss=0]\n",
      "WARNING: nprophet - fit: Parts of code may break if using other than daily data.\n",
      "Epoch[2/40]:   5%|█▎                        | 2/40 [00:00<00:02, 13.55it/s, SmoothL1Loss=0.327, MAE=0.00888, RegLoss=0]"
     ]
    },
    {
     "name": "stdout",
     "output_type": "stream",
     "text": [
      "\n",
      "Total MSE Error------------------------------------ 131.54834631915094\n",
      "\n",
      " current parameters is {'changepoints_range': 0.95, 'd_hidden': 30, 'n_changepoints': 5, 'num_hidden_layers': 2}\n",
      "\n"
     ]
    },
    {
     "name": "stderr",
     "output_type": "stream",
     "text": [
      "Epoch[40/40]: 100%|██████████████████████| 40/40 [00:03<00:00, 12.20it/s, SmoothL1Loss=0.00675, MAE=0.00109, RegLoss=0]\n",
      "WARNING: nprophet - fit: Parts of code may break if using other than daily data.\n",
      "Epoch[40/40]: 100%|██████████████████████| 40/40 [00:03<00:00, 12.11it/s, SmoothL1Loss=0.00379, MAE=0.00479, RegLoss=0]\n",
      "WARNING: nprophet - fit: Parts of code may break if using other than daily data.\n",
      "Epoch[40/40]: 100%|███████████████████████| 40/40 [00:03<00:00, 11.02it/s, SmoothL1Loss=0.00329, MAE=0.0012, RegLoss=0]\n",
      "WARNING: nprophet - fit: Parts of code may break if using other than daily data.\n",
      "Epoch[40/40]: 100%|██████████████████████| 40/40 [00:03<00:00, 11.96it/s, SmoothL1Loss=0.00334, MAE=0.00252, RegLoss=0]\n",
      "WARNING: nprophet - fit: Parts of code may break if using other than daily data.\n",
      "Epoch[40/40]: 100%|██████████████████████| 40/40 [00:05<00:00,  7.75it/s, SmoothL1Loss=0.00151, MAE=0.00187, RegLoss=0]\n",
      "WARNING: nprophet - fit: Parts of code may break if using other than daily data.\n",
      "  0%|                                                                                           | 0/40 [00:00<?, ?it/s]"
     ]
    },
    {
     "name": "stdout",
     "output_type": "stream",
     "text": [
      "\n",
      "Total MSE Error------------------------------------ 133.3763858902455\n",
      "\n",
      " current parameters is {'changepoints_range': 0.95, 'd_hidden': 30, 'n_changepoints': 10, 'num_hidden_layers': 0}\n",
      "\n"
     ]
    },
    {
     "name": "stderr",
     "output_type": "stream",
     "text": [
      "Epoch[40/40]: 100%|█████████████████████| 40/40 [00:04<00:00,  9.45it/s, SmoothL1Loss=0.00524, MAE=0.000916, RegLoss=0]\n",
      "WARNING: nprophet - fit: Parts of code may break if using other than daily data.\n",
      "Epoch[40/40]: 100%|██████████████████████| 40/40 [00:04<00:00,  9.91it/s, SmoothL1Loss=0.00198, MAE=0.00339, RegLoss=0]\n",
      "WARNING: nprophet - fit: Parts of code may break if using other than daily data.\n",
      "Epoch[40/40]: 100%|███████████████████████| 40/40 [00:04<00:00,  8.89it/s, SmoothL1Loss=0.00272, MAE=0.0011, RegLoss=0]\n",
      "WARNING: nprophet - fit: Parts of code may break if using other than daily data.\n",
      "Epoch[40/40]: 100%|██████████████████████| 40/40 [00:03<00:00, 10.02it/s, SmoothL1Loss=0.00266, MAE=0.00217, RegLoss=0]\n",
      "WARNING: nprophet - fit: Parts of code may break if using other than daily data.\n",
      "Epoch[40/40]: 100%|██████████████████████| 40/40 [00:05<00:00,  7.56it/s, SmoothL1Loss=0.00102, MAE=0.00147, RegLoss=0]\n",
      "WARNING: nprophet - fit: Parts of code may break if using other than daily data.\n",
      "Epoch[2/40]:   5%|█▎                        | 2/40 [00:00<00:02, 13.37it/s, SmoothL1Loss=0.436, MAE=0.00998, RegLoss=0]"
     ]
    },
    {
     "name": "stdout",
     "output_type": "stream",
     "text": [
      "\n",
      "Total MSE Error------------------------------------ 105.84550645186609\n",
      "\n",
      " current parameters is {'changepoints_range': 0.95, 'd_hidden': 30, 'n_changepoints': 10, 'num_hidden_layers': 1}\n",
      "\n"
     ]
    },
    {
     "name": "stderr",
     "output_type": "stream",
     "text": [
      "Epoch[40/40]: 100%|█████████████████████| 40/40 [00:03<00:00, 11.44it/s, SmoothL1Loss=0.00572, MAE=0.000957, RegLoss=0]\n",
      "WARNING: nprophet - fit: Parts of code may break if using other than daily data.\n",
      "Epoch[40/40]: 100%|███████████████████████| 40/40 [00:03<00:00, 11.94it/s, SmoothL1Loss=0.00188, MAE=0.0033, RegLoss=0]\n",
      "WARNING: nprophet - fit: Parts of code may break if using other than daily data.\n",
      "Epoch[40/40]: 100%|██████████████████████| 40/40 [00:03<00:00, 10.51it/s, SmoothL1Loss=0.00286, MAE=0.00113, RegLoss=0]\n",
      "WARNING: nprophet - fit: Parts of code may break if using other than daily data.\n",
      "Epoch[40/40]: 100%|██████████████████████| 40/40 [00:04<00:00,  8.21it/s, SmoothL1Loss=0.00247, MAE=0.00211, RegLoss=0]\n",
      "WARNING: nprophet - fit: Parts of code may break if using other than daily data.\n",
      "Epoch[40/40]: 100%|██████████████████████| 40/40 [00:05<00:00,  7.72it/s, SmoothL1Loss=0.00129, MAE=0.00166, RegLoss=0]\n",
      "WARNING: nprophet - fit: Parts of code may break if using other than daily data.\n",
      "Epoch[1/40]:   0%|                                    | 0/40 [00:00<?, ?it/s, SmoothL1Loss=1.22, MAE=0.0196, RegLoss=0]"
     ]
    },
    {
     "name": "stdout",
     "output_type": "stream",
     "text": [
      "\n",
      "Total MSE Error------------------------------------ 114.13059200826554\n",
      "\n",
      " current parameters is {'changepoints_range': 0.95, 'd_hidden': 30, 'n_changepoints': 10, 'num_hidden_layers': 2}\n",
      "\n"
     ]
    },
    {
     "name": "stderr",
     "output_type": "stream",
     "text": [
      "Epoch[40/40]: 100%|█████████████████████| 40/40 [00:04<00:00,  9.16it/s, SmoothL1Loss=0.00592, MAE=0.000971, RegLoss=0]\n",
      "WARNING: nprophet - fit: Parts of code may break if using other than daily data.\n",
      "Epoch[40/40]: 100%|██████████████████████| 40/40 [00:04<00:00,  9.38it/s, SmoothL1Loss=0.00214, MAE=0.00355, RegLoss=0]\n",
      "WARNING: nprophet - fit: Parts of code may break if using other than daily data.\n",
      "Epoch[40/40]: 100%|█████████████████████| 40/40 [00:06<00:00,  6.47it/s, SmoothL1Loss=0.00188, MAE=0.000905, RegLoss=0]\n",
      "WARNING: nprophet - fit: Parts of code may break if using other than daily data.\n",
      "Epoch[40/40]: 100%|██████████████████████| 40/40 [00:04<00:00,  8.37it/s, SmoothL1Loss=0.00194, MAE=0.00188, RegLoss=0]\n",
      "WARNING: nprophet - fit: Parts of code may break if using other than daily data.\n",
      "Epoch[40/40]: 100%|██████████████████████| 40/40 [00:04<00:00,  8.00it/s, SmoothL1Loss=0.00144, MAE=0.00177, RegLoss=0]\n",
      "WARNING: nprophet - fit: Parts of code may break if using other than daily data.\n",
      "Epoch[1/40]:   2%|▋                            | 1/40 [00:00<00:04,  7.90it/s, SmoothL1Loss=0.74, MAE=0.014, RegLoss=0]"
     ]
    },
    {
     "name": "stdout",
     "output_type": "stream",
     "text": [
      "\n",
      "Total MSE Error------------------------------------ 101.08145573341287\n",
      "\n",
      " current parameters is {'changepoints_range': 0.95, 'd_hidden': 30, 'n_changepoints': 15, 'num_hidden_layers': 0}\n",
      "\n"
     ]
    },
    {
     "name": "stderr",
     "output_type": "stream",
     "text": [
      "Epoch[40/40]: 100%|█████████████████████| 40/40 [00:04<00:00,  9.84it/s, SmoothL1Loss=0.00428, MAE=0.000845, RegLoss=0]\n",
      "WARNING: nprophet - fit: Parts of code may break if using other than daily data.\n",
      "Epoch[40/40]: 100%|███████████████████████| 40/40 [00:03<00:00, 12.31it/s, SmoothL1Loss=0.00218, MAE=0.0036, RegLoss=0]\n",
      "WARNING: nprophet - fit: Parts of code may break if using other than daily data.\n",
      "Epoch[40/40]: 100%|███████████████████████| 40/40 [00:03<00:00, 10.90it/s, SmoothL1Loss=0.00265, MAE=0.0011, RegLoss=0]\n",
      "WARNING: nprophet - fit: Parts of code may break if using other than daily data.\n",
      "Epoch[40/40]: 100%|██████████████████████| 40/40 [00:03<00:00, 12.28it/s, SmoothL1Loss=0.00226, MAE=0.00201, RegLoss=0]\n",
      "WARNING: nprophet - fit: Parts of code may break if using other than daily data.\n",
      "Epoch[40/40]: 100%|███████████████████████| 40/40 [00:03<00:00, 12.52it/s, SmoothL1Loss=0.0019, MAE=0.00204, RegLoss=0]\n",
      "WARNING: nprophet - fit: Parts of code may break if using other than daily data.\n",
      "Epoch[2/40]:   5%|█▍                          | 2/40 [00:00<00:03, 12.53it/s, SmoothL1Loss=1.92, MAE=0.0287, RegLoss=0]"
     ]
    },
    {
     "name": "stdout",
     "output_type": "stream",
     "text": [
      "\n",
      "Total MSE Error------------------------------------ 107.98838625672597\n",
      "\n",
      " current parameters is {'changepoints_range': 0.95, 'd_hidden': 30, 'n_changepoints': 15, 'num_hidden_layers': 1}\n",
      "\n"
     ]
    },
    {
     "name": "stderr",
     "output_type": "stream",
     "text": [
      "Epoch[40/40]: 100%|█████████████████████| 40/40 [00:03<00:00, 11.97it/s, SmoothL1Loss=0.00476, MAE=0.000896, RegLoss=0]\n",
      "WARNING: nprophet - fit: Parts of code may break if using other than daily data.\n",
      "Epoch[40/40]: 100%|██████████████████████| 40/40 [00:03<00:00, 12.27it/s, SmoothL1Loss=0.00181, MAE=0.00329, RegLoss=0]\n",
      "WARNING: nprophet - fit: Parts of code may break if using other than daily data.\n",
      "Epoch[40/40]: 100%|██████████████████████| 40/40 [00:03<00:00, 11.87it/s, SmoothL1Loss=0.00262, MAE=0.00109, RegLoss=0]\n",
      "WARNING: nprophet - fit: Parts of code may break if using other than daily data.\n",
      "Epoch[40/40]: 100%|███████████████████████| 40/40 [00:03<00:00, 12.29it/s, SmoothL1Loss=0.0018, MAE=0.00183, RegLoss=0]\n",
      "WARNING: nprophet - fit: Parts of code may break if using other than daily data.\n",
      "Epoch[40/40]: 100%|██████████████████████| 40/40 [00:03<00:00, 11.74it/s, SmoothL1Loss=0.00179, MAE=0.00198, RegLoss=0]\n",
      "WARNING: nprophet - fit: Parts of code may break if using other than daily data.\n",
      "Epoch[1/40]:   0%|                                  | 0/40 [00:00<?, ?it/s, SmoothL1Loss=0.143, MAE=0.00537, RegLoss=0]"
     ]
    },
    {
     "name": "stdout",
     "output_type": "stream",
     "text": [
      "\n",
      "Total MSE Error------------------------------------ 102.01980687420193\n",
      "\n",
      " current parameters is {'changepoints_range': 0.95, 'd_hidden': 30, 'n_changepoints': 15, 'num_hidden_layers': 2}\n",
      "\n"
     ]
    },
    {
     "name": "stderr",
     "output_type": "stream",
     "text": [
      "Epoch[40/40]: 100%|██████████████████████| 40/40 [00:03<00:00, 12.30it/s, SmoothL1Loss=0.0033, MAE=0.000743, RegLoss=0]\n",
      "WARNING: nprophet - fit: Parts of code may break if using other than daily data.\n",
      "Epoch[40/40]: 100%|██████████████████████| 40/40 [00:03<00:00, 12.13it/s, SmoothL1Loss=0.00248, MAE=0.00389, RegLoss=0]\n",
      "WARNING: nprophet - fit: Parts of code may break if using other than daily data.\n",
      "Epoch[40/40]: 100%|██████████████████████| 40/40 [00:03<00:00, 11.90it/s, SmoothL1Loss=0.00257, MAE=0.00107, RegLoss=0]\n",
      "WARNING: nprophet - fit: Parts of code may break if using other than daily data.\n",
      "Epoch[40/40]: 100%|██████████████████████| 40/40 [00:03<00:00, 12.22it/s, SmoothL1Loss=0.00237, MAE=0.00206, RegLoss=0]\n",
      "WARNING: nprophet - fit: Parts of code may break if using other than daily data.\n",
      "Epoch[40/40]: 100%|██████████████████████| 40/40 [00:03<00:00, 12.34it/s, SmoothL1Loss=0.00172, MAE=0.00193, RegLoss=0]\n",
      "WARNING: nprophet - fit: Parts of code may break if using other than daily data.\n",
      "Epoch[2/40]:   5%|█▎                        | 2/40 [00:00<00:03, 12.15it/s, SmoothL1Loss=0.123, MAE=0.00518, RegLoss=0]"
     ]
    },
    {
     "name": "stdout",
     "output_type": "stream",
     "text": [
      "\n",
      "Total MSE Error------------------------------------ 110.73771654987257\n",
      "\n",
      " current parameters is {'changepoints_range': 0.95, 'd_hidden': 30, 'n_changepoints': 20, 'num_hidden_layers': 0}\n",
      "\n"
     ]
    },
    {
     "name": "stderr",
     "output_type": "stream",
     "text": [
      "Epoch[40/40]: 100%|██████████████████████| 40/40 [00:03<00:00, 12.25it/s, SmoothL1Loss=0.00326, MAE=0.00074, RegLoss=0]\n",
      "WARNING: nprophet - fit: Parts of code may break if using other than daily data.\n",
      "Epoch[40/40]: 100%|██████████████████████| 40/40 [00:03<00:00, 11.84it/s, SmoothL1Loss=0.00222, MAE=0.00365, RegLoss=0]\n",
      "WARNING: nprophet - fit: Parts of code may break if using other than daily data.\n",
      "Epoch[40/40]: 100%|██████████████████████| 40/40 [00:03<00:00, 12.35it/s, SmoothL1Loss=0.00267, MAE=0.00108, RegLoss=0]\n",
      "WARNING: nprophet - fit: Parts of code may break if using other than daily data.\n",
      "Epoch[40/40]: 100%|██████████████████████| 40/40 [00:03<00:00, 12.17it/s, SmoothL1Loss=0.00224, MAE=0.00202, RegLoss=0]\n",
      "WARNING: nprophet - fit: Parts of code may break if using other than daily data.\n",
      "Epoch[40/40]: 100%|██████████████████████| 40/40 [00:03<00:00, 12.03it/s, SmoothL1Loss=0.00147, MAE=0.00175, RegLoss=0]\n",
      "WARNING: nprophet - fit: Parts of code may break if using other than daily data.\n",
      "Epoch[2/40]:   5%|█▍                           | 2/40 [00:00<00:02, 12.86it/s, SmoothL1Loss=1.5, MAE=0.0233, RegLoss=0]"
     ]
    },
    {
     "name": "stdout",
     "output_type": "stream",
     "text": [
      "\n",
      "Total MSE Error------------------------------------ 100.45069137755513\n",
      "\n",
      " current parameters is {'changepoints_range': 0.95, 'd_hidden': 30, 'n_changepoints': 20, 'num_hidden_layers': 1}\n",
      "\n"
     ]
    },
    {
     "name": "stderr",
     "output_type": "stream",
     "text": [
      "Epoch[40/40]: 100%|█████████████████████| 40/40 [00:03<00:00, 11.29it/s, SmoothL1Loss=0.00487, MAE=0.000904, RegLoss=0]\n",
      "WARNING: nprophet - fit: Parts of code may break if using other than daily data.\n",
      "Epoch[40/40]: 100%|██████████████████████| 40/40 [00:03<00:00, 12.15it/s, SmoothL1Loss=0.00205, MAE=0.00349, RegLoss=0]\n",
      "WARNING: nprophet - fit: Parts of code may break if using other than daily data.\n",
      "Epoch[40/40]: 100%|██████████████████████| 40/40 [00:03<00:00, 12.14it/s, SmoothL1Loss=0.00276, MAE=0.00111, RegLoss=0]\n",
      "WARNING: nprophet - fit: Parts of code may break if using other than daily data.\n",
      "Epoch[40/40]: 100%|███████████████████████| 40/40 [00:03<00:00, 12.04it/s, SmoothL1Loss=0.0021, MAE=0.00196, RegLoss=0]\n",
      "WARNING: nprophet - fit: Parts of code may break if using other than daily data.\n",
      "Epoch[40/40]: 100%|█████████████████████| 40/40 [00:03<00:00, 12.30it/s, SmoothL1Loss=0.000871, MAE=0.00129, RegLoss=0]\n",
      "WARNING: nprophet - fit: Parts of code may break if using other than daily data.\n",
      "Epoch[2/40]:   5%|█▎                        | 2/40 [00:00<00:03, 12.30it/s, SmoothL1Loss=0.242, MAE=0.00739, RegLoss=0]"
     ]
    },
    {
     "name": "stdout",
     "output_type": "stream",
     "text": [
      "\n",
      "Total MSE Error------------------------------------ 90.08978870935384\n",
      "\n",
      " current parameters is {'changepoints_range': 0.95, 'd_hidden': 30, 'n_changepoints': 20, 'num_hidden_layers': 2}\n",
      "\n"
     ]
    },
    {
     "name": "stderr",
     "output_type": "stream",
     "text": [
      "Epoch[40/40]: 100%|█████████████████████| 40/40 [00:03<00:00, 11.58it/s, SmoothL1Loss=0.00415, MAE=0.000838, RegLoss=0]\n",
      "WARNING: nprophet - fit: Parts of code may break if using other than daily data.\n",
      "Epoch[40/40]: 100%|██████████████████████| 40/40 [00:03<00:00, 11.88it/s, SmoothL1Loss=0.00148, MAE=0.00293, RegLoss=0]\n",
      "WARNING: nprophet - fit: Parts of code may break if using other than daily data.\n",
      "Epoch[40/40]: 100%|██████████████████████| 40/40 [00:03<00:00, 11.98it/s, SmoothL1Loss=0.00258, MAE=0.00107, RegLoss=0]\n",
      "WARNING: nprophet - fit: Parts of code may break if using other than daily data.\n",
      "Epoch[40/40]: 100%|██████████████████████| 40/40 [00:03<00:00, 12.36it/s, SmoothL1Loss=0.00163, MAE=0.00176, RegLoss=0]\n",
      "WARNING: nprophet - fit: Parts of code may break if using other than daily data.\n",
      "Epoch[40/40]: 100%|██████████████████████| 40/40 [00:03<00:00, 11.93it/s, SmoothL1Loss=0.00172, MAE=0.00194, RegLoss=0]\n",
      "WARNING: nprophet - fit: Parts of code may break if using other than daily data.\n",
      "Epoch[2/40]:   5%|█▎                        | 2/40 [00:00<00:03, 12.38it/s, SmoothL1Loss=0.106, MAE=0.00428, RegLoss=0]"
     ]
    },
    {
     "name": "stdout",
     "output_type": "stream",
     "text": [
      "\n",
      "Total MSE Error------------------------------------ 90.95571889966189\n",
      "\n",
      " current parameters is {'changepoints_range': 0.95, 'd_hidden': 50, 'n_changepoints': 5, 'num_hidden_layers': 0}\n",
      "\n"
     ]
    },
    {
     "name": "stderr",
     "output_type": "stream",
     "text": [
      "Epoch[40/40]: 100%|██████████████████████| 40/40 [00:03<00:00, 12.22it/s, SmoothL1Loss=0.00665, MAE=0.00108, RegLoss=0]\n",
      "WARNING: nprophet - fit: Parts of code may break if using other than daily data.\n",
      "Epoch[40/40]: 100%|██████████████████████| 40/40 [00:03<00:00, 12.27it/s, SmoothL1Loss=0.00296, MAE=0.00413, RegLoss=0]\n",
      "WARNING: nprophet - fit: Parts of code may break if using other than daily data.\n",
      "Epoch[40/40]: 100%|██████████████████████| 40/40 [00:03<00:00, 12.12it/s, SmoothL1Loss=0.00377, MAE=0.00128, RegLoss=0]\n",
      "WARNING: nprophet - fit: Parts of code may break if using other than daily data.\n",
      "Epoch[40/40]: 100%|███████████████████████| 40/40 [00:03<00:00, 12.04it/s, SmoothL1Loss=0.00324, MAE=0.0025, RegLoss=0]\n",
      "WARNING: nprophet - fit: Parts of code may break if using other than daily data.\n",
      "Epoch[40/40]: 100%|██████████████████████| 40/40 [00:03<00:00, 12.26it/s, SmoothL1Loss=0.00183, MAE=0.00213, RegLoss=0]\n",
      "WARNING: nprophet - fit: Parts of code may break if using other than daily data.\n",
      "Epoch[2/40]:   5%|█▎                        | 2/40 [00:00<00:02, 12.85it/s, SmoothL1Loss=0.168, MAE=0.00624, RegLoss=0]"
     ]
    },
    {
     "name": "stdout",
     "output_type": "stream",
     "text": [
      "\n",
      "Total MSE Error------------------------------------ 131.30099313904955\n",
      "\n",
      " current parameters is {'changepoints_range': 0.95, 'd_hidden': 50, 'n_changepoints': 5, 'num_hidden_layers': 1}\n",
      "\n"
     ]
    },
    {
     "name": "stderr",
     "output_type": "stream",
     "text": [
      "Epoch[40/40]: 100%|██████████████████████| 40/40 [00:03<00:00, 12.25it/s, SmoothL1Loss=0.00663, MAE=0.00109, RegLoss=0]\n",
      "WARNING: nprophet - fit: Parts of code may break if using other than daily data.\n",
      "Epoch[40/40]: 100%|██████████████████████| 40/40 [00:03<00:00, 11.95it/s, SmoothL1Loss=0.00296, MAE=0.00413, RegLoss=0]\n",
      "WARNING: nprophet - fit: Parts of code may break if using other than daily data.\n",
      "Epoch[40/40]: 100%|██████████████████████| 40/40 [00:03<00:00, 12.32it/s, SmoothL1Loss=0.00331, MAE=0.00121, RegLoss=0]\n",
      "WARNING: nprophet - fit: Parts of code may break if using other than daily data.\n",
      "Epoch[40/40]: 100%|███████████████████████| 40/40 [00:03<00:00, 11.42it/s, SmoothL1Loss=0.00367, MAE=0.0026, RegLoss=0]\n",
      "WARNING: nprophet - fit: Parts of code may break if using other than daily data.\n",
      "Epoch[40/40]: 100%|███████████████████████| 40/40 [00:03<00:00, 12.27it/s, SmoothL1Loss=0.0018, MAE=0.00212, RegLoss=0]\n",
      "WARNING: nprophet - fit: Parts of code may break if using other than daily data.\n",
      "Epoch[2/40]:   5%|█▎                         | 2/40 [00:00<00:03, 12.61it/s, SmoothL1Loss=0.12, MAE=0.00487, RegLoss=0]"
     ]
    },
    {
     "name": "stdout",
     "output_type": "stream",
     "text": [
      "\n",
      "Total MSE Error------------------------------------ 130.39898001947486\n",
      "\n",
      " current parameters is {'changepoints_range': 0.95, 'd_hidden': 50, 'n_changepoints': 5, 'num_hidden_layers': 2}\n",
      "\n"
     ]
    },
    {
     "name": "stderr",
     "output_type": "stream",
     "text": [
      "Epoch[40/40]: 100%|██████████████████████| 40/40 [00:04<00:00,  9.31it/s, SmoothL1Loss=0.00651, MAE=0.00107, RegLoss=0]\n",
      "WARNING: nprophet - fit: Parts of code may break if using other than daily data.\n",
      "Epoch[40/40]: 100%|██████████████████████| 40/40 [00:03<00:00, 10.68it/s, SmoothL1Loss=0.00325, MAE=0.00435, RegLoss=0]\n",
      "WARNING: nprophet - fit: Parts of code may break if using other than daily data.\n",
      "Epoch[40/40]: 100%|██████████████████████| 40/40 [00:03<00:00, 11.26it/s, SmoothL1Loss=0.00322, MAE=0.00119, RegLoss=0]\n",
      "WARNING: nprophet - fit: Parts of code may break if using other than daily data.\n",
      "Epoch[40/40]: 100%|██████████████████████| 40/40 [00:04<00:00,  9.45it/s, SmoothL1Loss=0.00348, MAE=0.00254, RegLoss=0]\n",
      "WARNING: nprophet - fit: Parts of code may break if using other than daily data.\n",
      "Epoch[40/40]: 100%|██████████████████████| 40/40 [00:03<00:00, 10.99it/s, SmoothL1Loss=0.00162, MAE=0.00197, RegLoss=0]\n",
      "WARNING: nprophet - fit: Parts of code may break if using other than daily data.\n",
      "Epoch[1/40]:   2%|▋                         | 1/40 [00:00<00:04,  9.46it/s, SmoothL1Loss=0.201, MAE=0.00598, RegLoss=0]"
     ]
    },
    {
     "name": "stdout",
     "output_type": "stream",
     "text": [
      "\n",
      "Total MSE Error------------------------------------ 131.25943329871006\n",
      "\n",
      " current parameters is {'changepoints_range': 0.95, 'd_hidden': 50, 'n_changepoints': 10, 'num_hidden_layers': 0}\n",
      "\n"
     ]
    },
    {
     "name": "stderr",
     "output_type": "stream",
     "text": [
      "Epoch[40/40]: 100%|█████████████████████| 40/40 [00:04<00:00,  8.92it/s, SmoothL1Loss=0.00497, MAE=0.000891, RegLoss=0]\n",
      "WARNING: nprophet - fit: Parts of code may break if using other than daily data.\n",
      "Epoch[40/40]: 100%|██████████████████████| 40/40 [00:04<00:00,  9.66it/s, SmoothL1Loss=0.00212, MAE=0.00352, RegLoss=0]\n",
      "WARNING: nprophet - fit: Parts of code may break if using other than daily data.\n",
      "Epoch[40/40]: 100%|██████████████████████| 40/40 [00:04<00:00,  9.61it/s, SmoothL1Loss=0.00291, MAE=0.00114, RegLoss=0]\n",
      "WARNING: nprophet - fit: Parts of code may break if using other than daily data.\n",
      "Epoch[40/40]: 100%|██████████████████████| 40/40 [00:04<00:00,  8.80it/s, SmoothL1Loss=0.00228, MAE=0.00203, RegLoss=0]\n",
      "WARNING: nprophet - fit: Parts of code may break if using other than daily data.\n",
      "Epoch[40/40]: 100%|██████████████████████| 40/40 [00:04<00:00,  9.17it/s, SmoothL1Loss=0.00202, MAE=0.00216, RegLoss=0]\n",
      "WARNING: nprophet - fit: Parts of code may break if using other than daily data.\n",
      "Epoch[1/40]:   2%|▋                        | 1/40 [00:00<00:05,  6.69it/s, SmoothL1Loss=0.0831, MAE=0.00394, RegLoss=0]"
     ]
    },
    {
     "name": "stdout",
     "output_type": "stream",
     "text": [
      "\n",
      "Total MSE Error------------------------------------ 109.45264874383864\n",
      "\n",
      " current parameters is {'changepoints_range': 0.95, 'd_hidden': 50, 'n_changepoints': 10, 'num_hidden_layers': 1}\n",
      "\n"
     ]
    },
    {
     "name": "stderr",
     "output_type": "stream",
     "text": [
      "Epoch[40/40]: 100%|█████████████████████| 40/40 [00:04<00:00,  9.30it/s, SmoothL1Loss=0.00465, MAE=0.000857, RegLoss=0]\n",
      "WARNING: nprophet - fit: Parts of code may break if using other than daily data.\n",
      "Epoch[40/40]: 100%|██████████████████████| 40/40 [00:04<00:00,  8.96it/s, SmoothL1Loss=0.00247, MAE=0.00382, RegLoss=0]\n",
      "WARNING: nprophet - fit: Parts of code may break if using other than daily data.\n",
      "Epoch[40/40]: 100%|█████████████████████| 40/40 [00:03<00:00, 11.80it/s, SmoothL1Loss=0.00223, MAE=0.000991, RegLoss=0]\n",
      "WARNING: nprophet - fit: Parts of code may break if using other than daily data.\n",
      "Epoch[40/40]: 100%|███████████████████████| 40/40 [00:03<00:00, 10.75it/s, SmoothL1Loss=0.0021, MAE=0.00195, RegLoss=0]\n",
      "WARNING: nprophet - fit: Parts of code may break if using other than daily data.\n",
      "Epoch[40/40]: 100%|██████████████████████| 40/40 [00:03<00:00, 10.85it/s, SmoothL1Loss=0.00111, MAE=0.00154, RegLoss=0]\n",
      "WARNING: nprophet - fit: Parts of code may break if using other than daily data.\n",
      "Epoch[2/40]:   0%|                                  | 0/40 [00:00<?, ?it/s, SmoothL1Loss=0.191, MAE=0.00622, RegLoss=0]"
     ]
    },
    {
     "name": "stdout",
     "output_type": "stream",
     "text": [
      "\n",
      "Total MSE Error------------------------------------ 100.59162606612632\n",
      "\n",
      " current parameters is {'changepoints_range': 0.95, 'd_hidden': 50, 'n_changepoints': 10, 'num_hidden_layers': 2}\n",
      "\n"
     ]
    },
    {
     "name": "stderr",
     "output_type": "stream",
     "text": [
      "Epoch[40/40]: 100%|██████████████████████| 40/40 [00:03<00:00, 11.33it/s, SmoothL1Loss=0.0049, MAE=0.000875, RegLoss=0]\n",
      "WARNING: nprophet - fit: Parts of code may break if using other than daily data.\n",
      "Epoch[40/40]: 100%|██████████████████████| 40/40 [00:04<00:00,  9.88it/s, SmoothL1Loss=0.00216, MAE=0.00356, RegLoss=0]\n",
      "WARNING: nprophet - fit: Parts of code may break if using other than daily data.\n",
      "Epoch[40/40]: 100%|█████████████████████| 40/40 [00:04<00:00,  9.06it/s, SmoothL1Loss=0.00205, MAE=0.000948, RegLoss=0]\n",
      "WARNING: nprophet - fit: Parts of code may break if using other than daily data.\n",
      "Epoch[40/40]: 100%|███████████████████████| 40/40 [00:03<00:00, 11.61it/s, SmoothL1Loss=0.00198, MAE=0.0019, RegLoss=0]\n",
      "WARNING: nprophet - fit: Parts of code may break if using other than daily data.\n",
      "Epoch[40/40]: 100%|██████████████████████| 40/40 [00:03<00:00, 11.66it/s, SmoothL1Loss=0.00156, MAE=0.00186, RegLoss=0]\n",
      "WARNING: nprophet - fit: Parts of code may break if using other than daily data.\n",
      "Epoch[2/40]:   5%|█▍                          | 2/40 [00:00<00:03, 12.15it/s, SmoothL1Loss=0.287, MAE=0.008, RegLoss=0]"
     ]
    },
    {
     "name": "stdout",
     "output_type": "stream",
     "text": [
      "\n",
      "Total MSE Error------------------------------------ 105.33076272117461\n",
      "\n",
      " current parameters is {'changepoints_range': 0.95, 'd_hidden': 50, 'n_changepoints': 15, 'num_hidden_layers': 0}\n",
      "\n"
     ]
    },
    {
     "name": "stderr",
     "output_type": "stream",
     "text": [
      "Epoch[40/40]: 100%|█████████████████████| 40/40 [00:03<00:00, 11.16it/s, SmoothL1Loss=0.00393, MAE=0.000816, RegLoss=0]\n",
      "WARNING: nprophet - fit: Parts of code may break if using other than daily data.\n",
      "Epoch[40/40]: 100%|██████████████████████| 40/40 [00:03<00:00, 10.97it/s, SmoothL1Loss=0.00184, MAE=0.00331, RegLoss=0]\n",
      "WARNING: nprophet - fit: Parts of code may break if using other than daily data.\n",
      "Epoch[40/40]: 100%|███████████████████████| 40/40 [00:03<00:00, 10.70it/s, SmoothL1Loss=0.002, MAE=0.000955, RegLoss=0]\n",
      "WARNING: nprophet - fit: Parts of code may break if using other than daily data.\n",
      "Epoch[40/40]: 100%|██████████████████████| 40/40 [00:03<00:00, 10.45it/s, SmoothL1Loss=0.00188, MAE=0.00185, RegLoss=0]\n",
      "WARNING: nprophet - fit: Parts of code may break if using other than daily data.\n",
      "Epoch[40/40]: 100%|██████████████████████| 40/40 [00:03<00:00, 11.06it/s, SmoothL1Loss=0.00107, MAE=0.00143, RegLoss=0]\n",
      "WARNING: nprophet - fit: Parts of code may break if using other than daily data.\n",
      "Epoch[2/40]:   0%|                                     | 0/40 [00:00<?, ?it/s, SmoothL1Loss=2.1, MAE=0.0304, RegLoss=0]"
     ]
    },
    {
     "name": "stdout",
     "output_type": "stream",
     "text": [
      "\n",
      "Total MSE Error------------------------------------ 110.36324949621086\n",
      "\n",
      " current parameters is {'changepoints_range': 0.95, 'd_hidden': 50, 'n_changepoints': 15, 'num_hidden_layers': 1}\n",
      "\n"
     ]
    },
    {
     "name": "stderr",
     "output_type": "stream",
     "text": [
      "Epoch[40/40]: 100%|█████████████████████| 40/40 [00:03<00:00, 11.59it/s, SmoothL1Loss=0.00464, MAE=0.000882, RegLoss=0]\n",
      "WARNING: nprophet - fit: Parts of code may break if using other than daily data.\n",
      "Epoch[40/40]: 100%|██████████████████████| 40/40 [00:03<00:00, 11.69it/s, SmoothL1Loss=0.00191, MAE=0.00336, RegLoss=0]\n",
      "WARNING: nprophet - fit: Parts of code may break if using other than daily data.\n",
      "Epoch[40/40]: 100%|██████████████████████| 40/40 [00:03<00:00, 11.98it/s, SmoothL1Loss=0.00238, MAE=0.00104, RegLoss=0]\n",
      "WARNING: nprophet - fit: Parts of code may break if using other than daily data.\n",
      "Epoch[40/40]: 100%|███████████████████████| 40/40 [00:03<00:00, 10.70it/s, SmoothL1Loss=0.0024, MAE=0.00206, RegLoss=0]\n",
      "WARNING: nprophet - fit: Parts of code may break if using other than daily data.\n",
      "Epoch[40/40]: 100%|██████████████████████| 40/40 [00:04<00:00,  9.71it/s, SmoothL1Loss=0.00132, MAE=0.00163, RegLoss=0]\n",
      "WARNING: nprophet - fit: Parts of code may break if using other than daily data.\n",
      "Epoch[2/40]:   5%|█▍                          | 2/40 [00:00<00:02, 12.70it/s, SmoothL1Loss=1.27, MAE=0.0203, RegLoss=0]"
     ]
    },
    {
     "name": "stdout",
     "output_type": "stream",
     "text": [
      "\n",
      "Total MSE Error------------------------------------ 102.53545430585926\n",
      "\n",
      " current parameters is {'changepoints_range': 0.95, 'd_hidden': 50, 'n_changepoints': 15, 'num_hidden_layers': 2}\n",
      "\n"
     ]
    },
    {
     "name": "stderr",
     "output_type": "stream",
     "text": [
      "Epoch[40/40]: 100%|█████████████████████| 40/40 [00:03<00:00, 11.59it/s, SmoothL1Loss=0.00445, MAE=0.000872, RegLoss=0]\n",
      "WARNING: nprophet - fit: Parts of code may break if using other than daily data.\n",
      "Epoch[40/40]: 100%|██████████████████████| 40/40 [00:03<00:00, 10.20it/s, SmoothL1Loss=0.00187, MAE=0.00332, RegLoss=0]\n",
      "WARNING: nprophet - fit: Parts of code may break if using other than daily data.\n",
      "Epoch[40/40]: 100%|██████████████████████| 40/40 [00:04<00:00,  9.78it/s, SmoothL1Loss=0.00263, MAE=0.00109, RegLoss=0]\n",
      "WARNING: nprophet - fit: Parts of code may break if using other than daily data.\n",
      "Epoch[40/40]: 100%|██████████████████████| 40/40 [00:05<00:00,  7.89it/s, SmoothL1Loss=0.00192, MAE=0.00187, RegLoss=0]\n",
      "WARNING: nprophet - fit: Parts of code may break if using other than daily data.\n",
      "Epoch[40/40]: 100%|██████████████████████| 40/40 [00:04<00:00,  9.66it/s, SmoothL1Loss=0.00101, MAE=0.00138, RegLoss=0]\n",
      "WARNING: nprophet - fit: Parts of code may break if using other than daily data.\n",
      "Epoch[1/40]:   2%|▋                         | 1/40 [00:00<00:04,  8.60it/s, SmoothL1Loss=0.211, MAE=0.00617, RegLoss=0]"
     ]
    },
    {
     "name": "stdout",
     "output_type": "stream",
     "text": [
      "\n",
      "Total MSE Error------------------------------------ 98.60315434565908\n",
      "\n",
      " current parameters is {'changepoints_range': 0.95, 'd_hidden': 50, 'n_changepoints': 20, 'num_hidden_layers': 0}\n",
      "\n"
     ]
    },
    {
     "name": "stderr",
     "output_type": "stream",
     "text": [
      "Epoch[40/40]: 100%|█████████████████████| 40/40 [00:04<00:00,  9.51it/s, SmoothL1Loss=0.00345, MAE=0.000765, RegLoss=0]\n",
      "WARNING: nprophet - fit: Parts of code may break if using other than daily data.\n",
      "Epoch[40/40]: 100%|██████████████████████| 40/40 [00:04<00:00,  9.99it/s, SmoothL1Loss=0.00233, MAE=0.00374, RegLoss=0]\n",
      "WARNING: nprophet - fit: Parts of code may break if using other than daily data.\n",
      "Epoch[40/40]: 100%|██████████████████████| 40/40 [00:04<00:00,  9.85it/s, SmoothL1Loss=0.00254, MAE=0.00106, RegLoss=0]\n",
      "WARNING: nprophet - fit: Parts of code may break if using other than daily data.\n",
      "Epoch[40/40]: 100%|██████████████████████| 40/40 [00:03<00:00, 10.10it/s, SmoothL1Loss=0.00215, MAE=0.00199, RegLoss=0]\n",
      "WARNING: nprophet - fit: Parts of code may break if using other than daily data.\n",
      "Epoch[40/40]: 100%|██████████████████████| 40/40 [00:04<00:00,  9.98it/s, SmoothL1Loss=0.00161, MAE=0.00186, RegLoss=0]\n",
      "WARNING: nprophet - fit: Parts of code may break if using other than daily data.\n",
      "Epoch[1/40]:   2%|▋                           | 1/40 [00:00<00:03,  9.93it/s, SmoothL1Loss=1.29, MAE=0.0207, RegLoss=0]"
     ]
    },
    {
     "name": "stdout",
     "output_type": "stream",
     "text": [
      "\n",
      "Total MSE Error------------------------------------ 101.55710864069653\n",
      "\n",
      " current parameters is {'changepoints_range': 0.95, 'd_hidden': 50, 'n_changepoints': 20, 'num_hidden_layers': 1}\n",
      "\n"
     ]
    },
    {
     "name": "stderr",
     "output_type": "stream",
     "text": [
      "Epoch[40/40]: 100%|█████████████████████| 40/40 [00:05<00:00,  7.47it/s, SmoothL1Loss=0.00444, MAE=0.000866, RegLoss=0]\n",
      "WARNING: nprophet - fit: Parts of code may break if using other than daily data.\n",
      "Epoch[40/40]: 100%|██████████████████████| 40/40 [00:04<00:00,  8.86it/s, SmoothL1Loss=0.00214, MAE=0.00359, RegLoss=0]\n",
      "WARNING: nprophet - fit: Parts of code may break if using other than daily data.\n",
      "Epoch[40/40]: 100%|█████████████████████| 40/40 [00:03<00:00, 11.55it/s, SmoothL1Loss=0.00173, MAE=0.000873, RegLoss=0]\n",
      "WARNING: nprophet - fit: Parts of code may break if using other than daily data.\n",
      "Epoch[40/40]: 100%|██████████████████████| 40/40 [00:03<00:00, 11.22it/s, SmoothL1Loss=0.00159, MAE=0.00175, RegLoss=0]\n",
      "WARNING: nprophet - fit: Parts of code may break if using other than daily data.\n",
      "Epoch[40/40]: 100%|██████████████████████| 40/40 [00:05<00:00,  7.42it/s, SmoothL1Loss=0.00126, MAE=0.00161, RegLoss=0]\n",
      "WARNING: nprophet - fit: Parts of code may break if using other than daily data.\n",
      "Epoch[1/40]:   0%|                                   | 0/40 [00:00<?, ?it/s, SmoothL1Loss=0.888, MAE=0.0159, RegLoss=0]"
     ]
    },
    {
     "name": "stdout",
     "output_type": "stream",
     "text": [
      "\n",
      "Total MSE Error------------------------------------ 95.04640589718471\n",
      "\n",
      " current parameters is {'changepoints_range': 0.95, 'd_hidden': 50, 'n_changepoints': 20, 'num_hidden_layers': 2}\n",
      "\n"
     ]
    },
    {
     "name": "stderr",
     "output_type": "stream",
     "text": [
      "Epoch[40/40]: 100%|██████████████████████| 40/40 [00:04<00:00,  8.93it/s, SmoothL1Loss=0.0041, MAE=0.000832, RegLoss=0]\n",
      "WARNING: nprophet - fit: Parts of code may break if using other than daily data.\n",
      "Epoch[40/40]: 100%|██████████████████████| 40/40 [00:04<00:00,  8.73it/s, SmoothL1Loss=0.00189, MAE=0.00332, RegLoss=0]\n",
      "WARNING: nprophet - fit: Parts of code may break if using other than daily data.\n",
      "Epoch[40/40]: 100%|██████████████████████| 40/40 [00:04<00:00,  9.19it/s, SmoothL1Loss=0.00252, MAE=0.00106, RegLoss=0]\n",
      "WARNING: nprophet - fit: Parts of code may break if using other than daily data.\n",
      "Epoch[40/40]: 100%|██████████████████████| 40/40 [00:04<00:00,  9.69it/s, SmoothL1Loss=0.00156, MAE=0.00173, RegLoss=0]\n",
      "WARNING: nprophet - fit: Parts of code may break if using other than daily data.\n",
      "Epoch[40/40]: 100%|██████████████████████| 40/40 [00:03<00:00, 10.43it/s, SmoothL1Loss=0.00108, MAE=0.00145, RegLoss=0]\n",
      "WARNING: nprophet - fit: Parts of code may break if using other than daily data.\n",
      "Epoch[2/40]:   5%|█▎                         | 2/40 [00:00<00:02, 13.11it/s, SmoothL1Loss=0.979, MAE=0.0166, RegLoss=0]"
     ]
    },
    {
     "name": "stdout",
     "output_type": "stream",
     "text": [
      "\n",
      "Total MSE Error------------------------------------ 98.39995242660495\n",
      "\n",
      " current parameters is {'changepoints_range': 1.0, 'd_hidden': 10, 'n_changepoints': 5, 'num_hidden_layers': 0}\n",
      "\n"
     ]
    },
    {
     "name": "stderr",
     "output_type": "stream",
     "text": [
      "Epoch[40/40]: 100%|██████████████████████| 40/40 [00:03<00:00, 11.36it/s, SmoothL1Loss=0.00665, MAE=0.00109, RegLoss=0]\n",
      "WARNING: nprophet - fit: Parts of code may break if using other than daily data.\n",
      "Epoch[40/40]: 100%|██████████████████████| 40/40 [00:03<00:00, 11.50it/s, SmoothL1Loss=0.00246, MAE=0.00378, RegLoss=0]\n",
      "WARNING: nprophet - fit: Parts of code may break if using other than daily data.\n",
      "Epoch[40/40]: 100%|██████████████████████| 40/40 [00:03<00:00, 12.08it/s, SmoothL1Loss=0.00334, MAE=0.00122, RegLoss=0]\n",
      "WARNING: nprophet - fit: Parts of code may break if using other than daily data.\n",
      "Epoch[40/40]: 100%|██████████████████████| 40/40 [00:03<00:00, 11.89it/s, SmoothL1Loss=0.00264, MAE=0.00224, RegLoss=0]\n",
      "WARNING: nprophet - fit: Parts of code may break if using other than daily data.\n",
      "Epoch[40/40]: 100%|██████████████████████| 40/40 [00:03<00:00, 12.01it/s, SmoothL1Loss=0.00218, MAE=0.00232, RegLoss=0]\n",
      "WARNING: nprophet - fit: Parts of code may break if using other than daily data.\n",
      "Epoch[1/40]:   0%|                                   | 0/40 [00:00<?, ?it/s, SmoothL1Loss=0.727, MAE=0.0132, RegLoss=0]"
     ]
    },
    {
     "name": "stdout",
     "output_type": "stream",
     "text": [
      "\n",
      "Total MSE Error------------------------------------ 107.54338725558183\n",
      "\n",
      " current parameters is {'changepoints_range': 1.0, 'd_hidden': 10, 'n_changepoints': 5, 'num_hidden_layers': 1}\n",
      "\n"
     ]
    },
    {
     "name": "stderr",
     "output_type": "stream",
     "text": [
      "Epoch[40/40]: 100%|██████████████████████| 40/40 [00:03<00:00, 12.19it/s, SmoothL1Loss=0.00618, MAE=0.00106, RegLoss=0]\n",
      "WARNING: nprophet - fit: Parts of code may break if using other than daily data.\n",
      "Epoch[40/40]: 100%|██████████████████████| 40/40 [00:03<00:00, 12.18it/s, SmoothL1Loss=0.00297, MAE=0.00423, RegLoss=0]\n",
      "WARNING: nprophet - fit: Parts of code may break if using other than daily data.\n",
      "Epoch[40/40]: 100%|███████████████████████| 40/40 [00:03<00:00, 12.10it/s, SmoothL1Loss=0.0038, MAE=0.00131, RegLoss=0]\n",
      "WARNING: nprophet - fit: Parts of code may break if using other than daily data.\n",
      "Epoch[40/40]: 100%|██████████████████████| 40/40 [00:03<00:00, 11.89it/s, SmoothL1Loss=0.00282, MAE=0.00232, RegLoss=0]\n",
      "WARNING: nprophet - fit: Parts of code may break if using other than daily data.\n",
      "Epoch[40/40]: 100%|██████████████████████| 40/40 [00:03<00:00, 11.56it/s, SmoothL1Loss=0.00171, MAE=0.00196, RegLoss=0]\n",
      "WARNING: nprophet - fit: Parts of code may break if using other than daily data.\n",
      "Epoch[1/40]:   0%|                                   | 0/40 [00:00<?, ?it/s, SmoothL1Loss=0.487, MAE=0.0106, RegLoss=0]"
     ]
    },
    {
     "name": "stdout",
     "output_type": "stream",
     "text": [
      "\n",
      "Total MSE Error------------------------------------ 103.25094703661111\n",
      "\n",
      " current parameters is {'changepoints_range': 1.0, 'd_hidden': 10, 'n_changepoints': 5, 'num_hidden_layers': 2}\n",
      "\n"
     ]
    },
    {
     "name": "stderr",
     "output_type": "stream",
     "text": [
      "Epoch[40/40]: 100%|██████████████████████| 40/40 [00:03<00:00, 11.55it/s, SmoothL1Loss=0.00634, MAE=0.00107, RegLoss=0]\n",
      "WARNING: nprophet - fit: Parts of code may break if using other than daily data.\n",
      "Epoch[40/40]: 100%|██████████████████████| 40/40 [00:03<00:00, 11.50it/s, SmoothL1Loss=0.00235, MAE=0.00369, RegLoss=0]\n",
      "WARNING: nprophet - fit: Parts of code may break if using other than daily data.\n",
      "Epoch[40/40]: 100%|███████████████████████| 40/40 [00:03<00:00, 11.98it/s, SmoothL1Loss=0.00376, MAE=0.0013, RegLoss=0]\n",
      "WARNING: nprophet - fit: Parts of code may break if using other than daily data.\n",
      "Epoch[40/40]: 100%|██████████████████████| 40/40 [00:03<00:00, 11.70it/s, SmoothL1Loss=0.00263, MAE=0.00225, RegLoss=0]\n",
      "WARNING: nprophet - fit: Parts of code may break if using other than daily data.\n",
      "Epoch[40/40]: 100%|██████████████████████| 40/40 [00:03<00:00, 11.79it/s, SmoothL1Loss=0.00189, MAE=0.00212, RegLoss=0]\n",
      "WARNING: nprophet - fit: Parts of code may break if using other than daily data.\n",
      "Epoch[1/40]:   0%|                                   | 0/40 [00:00<?, ?it/s, SmoothL1Loss=0.18, MAE=0.00645, RegLoss=0]"
     ]
    },
    {
     "name": "stdout",
     "output_type": "stream",
     "text": [
      "\n",
      "Total MSE Error------------------------------------ 105.46117620850248\n",
      "\n",
      " current parameters is {'changepoints_range': 1.0, 'd_hidden': 10, 'n_changepoints': 10, 'num_hidden_layers': 0}\n",
      "\n"
     ]
    },
    {
     "name": "stderr",
     "output_type": "stream",
     "text": [
      "Epoch[40/40]: 100%|█████████████████████| 40/40 [00:03<00:00, 11.95it/s, SmoothL1Loss=0.00353, MAE=0.000787, RegLoss=0]\n",
      "WARNING: nprophet - fit: Parts of code may break if using other than daily data.\n",
      "Epoch[40/40]: 100%|██████████████████████| 40/40 [00:03<00:00, 11.99it/s, SmoothL1Loss=0.00264, MAE=0.00403, RegLoss=0]\n",
      "WARNING: nprophet - fit: Parts of code may break if using other than daily data.\n",
      "Epoch[40/40]: 100%|██████████████████████| 40/40 [00:03<00:00, 12.16it/s, SmoothL1Loss=0.00323, MAE=0.00122, RegLoss=0]\n",
      "WARNING: nprophet - fit: Parts of code may break if using other than daily data.\n",
      "Epoch[40/40]: 100%|██████████████████████| 40/40 [00:03<00:00, 11.74it/s, SmoothL1Loss=0.00249, MAE=0.00214, RegLoss=0]\n",
      "WARNING: nprophet - fit: Parts of code may break if using other than daily data.\n",
      "Epoch[40/40]: 100%|██████████████████████| 40/40 [00:03<00:00, 11.98it/s, SmoothL1Loss=0.00177, MAE=0.00204, RegLoss=0]\n",
      "WARNING: nprophet - fit: Parts of code may break if using other than daily data.\n",
      "Epoch[2/40]:   0%|                                  | 0/40 [00:00<?, ?it/s, SmoothL1Loss=0.306, MAE=0.00762, RegLoss=0]"
     ]
    },
    {
     "name": "stdout",
     "output_type": "stream",
     "text": [
      "\n",
      "Total MSE Error------------------------------------ 109.56633216675112\n",
      "\n",
      " current parameters is {'changepoints_range': 1.0, 'd_hidden': 10, 'n_changepoints': 10, 'num_hidden_layers': 1}\n",
      "\n"
     ]
    },
    {
     "name": "stderr",
     "output_type": "stream",
     "text": [
      "Epoch[40/40]: 100%|█████████████████████| 40/40 [00:03<00:00, 12.10it/s, SmoothL1Loss=0.00367, MAE=0.000792, RegLoss=0]\n",
      "WARNING: nprophet - fit: Parts of code may break if using other than daily data.\n",
      "Epoch[40/40]: 100%|██████████████████████| 40/40 [00:03<00:00, 10.99it/s, SmoothL1Loss=0.00225, MAE=0.00367, RegLoss=0]\n",
      "WARNING: nprophet - fit: Parts of code may break if using other than daily data.\n",
      "Epoch[40/40]: 100%|██████████████████████| 40/40 [00:03<00:00, 12.13it/s, SmoothL1Loss=0.00261, MAE=0.00108, RegLoss=0]\n",
      "WARNING: nprophet - fit: Parts of code may break if using other than daily data.\n",
      "Epoch[40/40]: 100%|██████████████████████| 40/40 [00:03<00:00, 11.94it/s, SmoothL1Loss=0.00249, MAE=0.00214, RegLoss=0]\n",
      "WARNING: nprophet - fit: Parts of code may break if using other than daily data.\n",
      "Epoch[40/40]: 100%|██████████████████████| 40/40 [00:03<00:00, 12.05it/s, SmoothL1Loss=0.00172, MAE=0.00199, RegLoss=0]\n",
      "WARNING: nprophet - fit: Parts of code may break if using other than daily data.\n",
      "Epoch[1/40]:   2%|▋                         | 1/40 [00:00<00:03,  9.83it/s, SmoothL1Loss=0.193, MAE=0.00671, RegLoss=0]"
     ]
    },
    {
     "name": "stdout",
     "output_type": "stream",
     "text": [
      "\n",
      "Total MSE Error------------------------------------ 100.46169814540781\n",
      "\n",
      " current parameters is {'changepoints_range': 1.0, 'd_hidden': 10, 'n_changepoints': 10, 'num_hidden_layers': 2}\n",
      "\n"
     ]
    },
    {
     "name": "stderr",
     "output_type": "stream",
     "text": [
      "Epoch[40/40]: 100%|█████████████████████| 40/40 [00:03<00:00, 11.81it/s, SmoothL1Loss=0.00378, MAE=0.000811, RegLoss=0]\n",
      "WARNING: nprophet - fit: Parts of code may break if using other than daily data.\n",
      "Epoch[40/40]: 100%|██████████████████████| 40/40 [00:04<00:00,  9.21it/s, SmoothL1Loss=0.00233, MAE=0.00373, RegLoss=0]\n",
      "WARNING: nprophet - fit: Parts of code may break if using other than daily data.\n",
      "Epoch[40/40]: 100%|███████████████████████| 40/40 [00:04<00:00,  8.40it/s, SmoothL1Loss=0.00268, MAE=0.0011, RegLoss=0]\n",
      "WARNING: nprophet - fit: Parts of code may break if using other than daily data.\n",
      "Epoch[40/40]: 100%|██████████████████████| 40/40 [00:04<00:00,  9.21it/s, SmoothL1Loss=0.00305, MAE=0.00234, RegLoss=0]\n",
      "WARNING: nprophet - fit: Parts of code may break if using other than daily data.\n",
      "Epoch[40/40]: 100%|██████████████████████| 40/40 [00:03<00:00, 10.79it/s, SmoothL1Loss=0.00172, MAE=0.00199, RegLoss=0]\n",
      "WARNING: nprophet - fit: Parts of code may break if using other than daily data.\n",
      "Epoch[1/40]:   0%|                                    | 0/40 [00:00<?, ?it/s, SmoothL1Loss=1.86, MAE=0.0276, RegLoss=0]"
     ]
    },
    {
     "name": "stdout",
     "output_type": "stream",
     "text": [
      "\n",
      "Total MSE Error------------------------------------ 103.51385081586155\n",
      "\n",
      " current parameters is {'changepoints_range': 1.0, 'd_hidden': 10, 'n_changepoints': 15, 'num_hidden_layers': 0}\n",
      "\n"
     ]
    },
    {
     "name": "stderr",
     "output_type": "stream",
     "text": [
      "Epoch[40/40]: 100%|█████████████████████| 40/40 [00:03<00:00, 10.64it/s, SmoothL1Loss=0.00485, MAE=0.000894, RegLoss=0]\n",
      "WARNING: nprophet - fit: Parts of code may break if using other than daily data.\n",
      "Epoch[40/40]: 100%|██████████████████████| 40/40 [00:03<00:00, 11.17it/s, SmoothL1Loss=0.00209, MAE=0.00351, RegLoss=0]\n",
      "WARNING: nprophet - fit: Parts of code may break if using other than daily data.\n",
      "Epoch[40/40]: 100%|█████████████████████| 40/40 [00:03<00:00, 11.33it/s, SmoothL1Loss=0.00194, MAE=0.000915, RegLoss=0]\n",
      "WARNING: nprophet - fit: Parts of code may break if using other than daily data.\n",
      "Epoch[40/40]: 100%|██████████████████████| 40/40 [00:03<00:00, 10.95it/s, SmoothL1Loss=0.00183, MAE=0.00189, RegLoss=0]\n",
      "WARNING: nprophet - fit: Parts of code may break if using other than daily data.\n",
      "Epoch[40/40]: 100%|██████████████████████| 40/40 [00:03<00:00, 11.29it/s, SmoothL1Loss=0.00134, MAE=0.00166, RegLoss=0]\n",
      "WARNING: nprophet - fit: Parts of code may break if using other than daily data.\n",
      "Epoch[2/40]:   5%|█▎                        | 2/40 [00:00<00:03, 12.62it/s, SmoothL1Loss=0.056, MAE=0.00312, RegLoss=0]"
     ]
    },
    {
     "name": "stdout",
     "output_type": "stream",
     "text": [
      "\n",
      "Total MSE Error------------------------------------ 146.10053747607205\n",
      "\n",
      " current parameters is {'changepoints_range': 1.0, 'd_hidden': 10, 'n_changepoints': 15, 'num_hidden_layers': 1}\n",
      "\n"
     ]
    },
    {
     "name": "stderr",
     "output_type": "stream",
     "text": [
      "Epoch[40/40]: 100%|█████████████████████| 40/40 [00:03<00:00, 11.45it/s, SmoothL1Loss=0.00358, MAE=0.000766, RegLoss=0]\n",
      "WARNING: nprophet - fit: Parts of code may break if using other than daily data.\n",
      "Epoch[40/40]: 100%|██████████████████████| 40/40 [00:03<00:00, 11.04it/s, SmoothL1Loss=0.00213, MAE=0.00355, RegLoss=0]\n",
      "WARNING: nprophet - fit: Parts of code may break if using other than daily data.\n",
      "Epoch[40/40]: 100%|██████████████████████| 40/40 [00:03<00:00, 11.42it/s, SmoothL1Loss=0.00293, MAE=0.00113, RegLoss=0]\n",
      "WARNING: nprophet - fit: Parts of code may break if using other than daily data.\n",
      "Epoch[40/40]: 100%|██████████████████████| 40/40 [00:03<00:00, 11.18it/s, SmoothL1Loss=0.00183, MAE=0.00188, RegLoss=0]\n",
      "WARNING: nprophet - fit: Parts of code may break if using other than daily data.\n",
      "Epoch[40/40]: 100%|███████████████████████| 40/40 [00:03<00:00, 11.06it/s, SmoothL1Loss=0.0012, MAE=0.00158, RegLoss=0]\n",
      "WARNING: nprophet - fit: Parts of code may break if using other than daily data.\n",
      "Epoch[2/40]:   0%|                                   | 0/40 [00:00<?, ?it/s, SmoothL1Loss=0.784, MAE=0.0143, RegLoss=0]"
     ]
    },
    {
     "name": "stdout",
     "output_type": "stream",
     "text": [
      "\n",
      "Total MSE Error------------------------------------ 146.90055288705648\n",
      "\n",
      " current parameters is {'changepoints_range': 1.0, 'd_hidden': 10, 'n_changepoints': 15, 'num_hidden_layers': 2}\n",
      "\n"
     ]
    },
    {
     "name": "stderr",
     "output_type": "stream",
     "text": [
      "Epoch[40/40]: 100%|██████████████████████| 40/40 [00:03<00:00, 11.06it/s, SmoothL1Loss=0.0044, MAE=0.000854, RegLoss=0]\n",
      "WARNING: nprophet - fit: Parts of code may break if using other than daily data.\n",
      "Epoch[40/40]: 100%|██████████████████████| 40/40 [00:03<00:00, 11.15it/s, SmoothL1Loss=0.00181, MAE=0.00322, RegLoss=0]\n",
      "WARNING: nprophet - fit: Parts of code may break if using other than daily data.\n",
      "Epoch[40/40]: 100%|██████████████████████| 40/40 [00:03<00:00, 11.56it/s, SmoothL1Loss=0.00251, MAE=0.00105, RegLoss=0]\n",
      "WARNING: nprophet - fit: Parts of code may break if using other than daily data.\n",
      "Epoch[40/40]: 100%|██████████████████████| 40/40 [00:03<00:00, 10.29it/s, SmoothL1Loss=0.00166, MAE=0.00182, RegLoss=0]\n",
      "WARNING: nprophet - fit: Parts of code may break if using other than daily data.\n",
      "Epoch[40/40]: 100%|██████████████████████| 40/40 [00:03<00:00, 11.52it/s, SmoothL1Loss=0.00192, MAE=0.00205, RegLoss=0]\n",
      "WARNING: nprophet - fit: Parts of code may break if using other than daily data.\n",
      "Epoch[2/40]:   0%|                                   | 0/40 [00:00<?, ?it/s, SmoothL1Loss=0.475, MAE=0.0107, RegLoss=0]"
     ]
    },
    {
     "name": "stdout",
     "output_type": "stream",
     "text": [
      "\n",
      "Total MSE Error------------------------------------ 165.6437711147579\n",
      "\n",
      " current parameters is {'changepoints_range': 1.0, 'd_hidden': 10, 'n_changepoints': 20, 'num_hidden_layers': 0}\n",
      "\n"
     ]
    },
    {
     "name": "stderr",
     "output_type": "stream",
     "text": [
      "Epoch[40/40]: 100%|█████████████████████| 40/40 [00:03<00:00, 11.33it/s, SmoothL1Loss=0.00399, MAE=0.000818, RegLoss=0]\n",
      "WARNING: nprophet - fit: Parts of code may break if using other than daily data.\n",
      "Epoch[40/40]: 100%|██████████████████████| 40/40 [00:03<00:00, 10.42it/s, SmoothL1Loss=0.00148, MAE=0.00294, RegLoss=0]\n",
      "WARNING: nprophet - fit: Parts of code may break if using other than daily data.\n",
      "Epoch[40/40]: 100%|█████████████████████| 40/40 [00:03<00:00, 11.35it/s, SmoothL1Loss=0.00227, MAE=0.000992, RegLoss=0]\n",
      "WARNING: nprophet - fit: Parts of code may break if using other than daily data.\n",
      "Epoch[40/40]: 100%|██████████████████████| 40/40 [00:03<00:00, 11.28it/s, SmoothL1Loss=0.00155, MAE=0.00172, RegLoss=0]\n",
      "WARNING: nprophet - fit: Parts of code may break if using other than daily data.\n",
      "Epoch[40/40]: 100%|██████████████████████| 40/40 [00:03<00:00, 11.12it/s, SmoothL1Loss=0.00168, MAE=0.00189, RegLoss=0]\n",
      "WARNING: nprophet - fit: Parts of code may break if using other than daily data.\n",
      "Epoch[1/40]:   0%|                                    | 0/40 [00:00<?, ?it/s, SmoothL1Loss=0.978, MAE=0.017, RegLoss=0]"
     ]
    },
    {
     "name": "stdout",
     "output_type": "stream",
     "text": [
      "\n",
      "Total MSE Error------------------------------------ 271.30287985525484\n",
      "\n",
      " current parameters is {'changepoints_range': 1.0, 'd_hidden': 10, 'n_changepoints': 20, 'num_hidden_layers': 1}\n",
      "\n"
     ]
    },
    {
     "name": "stderr",
     "output_type": "stream",
     "text": [
      "Epoch[40/40]: 100%|█████████████████████| 40/40 [00:03<00:00, 11.38it/s, SmoothL1Loss=0.00436, MAE=0.000853, RegLoss=0]\n",
      "WARNING: nprophet - fit: Parts of code may break if using other than daily data.\n",
      "Epoch[40/40]: 100%|██████████████████████| 40/40 [00:03<00:00, 11.45it/s, SmoothL1Loss=0.00149, MAE=0.00292, RegLoss=0]\n",
      "WARNING: nprophet - fit: Parts of code may break if using other than daily data.\n",
      "Epoch[40/40]: 100%|███████████████████████| 40/40 [00:03<00:00, 11.01it/s, SmoothL1Loss=0.0027, MAE=0.00109, RegLoss=0]\n",
      "WARNING: nprophet - fit: Parts of code may break if using other than daily data.\n",
      "Epoch[40/40]: 100%|██████████████████████| 40/40 [00:03<00:00, 11.20it/s, SmoothL1Loss=0.00213, MAE=0.00197, RegLoss=0]\n",
      "WARNING: nprophet - fit: Parts of code may break if using other than daily data.\n",
      "Epoch[40/40]: 100%|█████████████████████| 40/40 [00:03<00:00, 11.09it/s, SmoothL1Loss=0.000996, MAE=0.00136, RegLoss=0]\n",
      "WARNING: nprophet - fit: Parts of code may break if using other than daily data.\n",
      "Epoch[2/40]:   0%|                                   | 0/40 [00:00<?, ?it/s, SmoothL1Loss=0.607, MAE=0.0114, RegLoss=0]"
     ]
    },
    {
     "name": "stdout",
     "output_type": "stream",
     "text": [
      "\n",
      "Total MSE Error------------------------------------ 249.37233480522784\n",
      "\n",
      " current parameters is {'changepoints_range': 1.0, 'd_hidden': 10, 'n_changepoints': 20, 'num_hidden_layers': 2}\n",
      "\n"
     ]
    },
    {
     "name": "stderr",
     "output_type": "stream",
     "text": [
      "Epoch[40/40]: 100%|█████████████████████| 40/40 [00:04<00:00,  9.81it/s, SmoothL1Loss=0.00411, MAE=0.000828, RegLoss=0]\n",
      "WARNING: nprophet - fit: Parts of code may break if using other than daily data.\n",
      "Epoch[40/40]: 100%|██████████████████████| 40/40 [00:03<00:00, 11.54it/s, SmoothL1Loss=0.00187, MAE=0.00331, RegLoss=0]\n",
      "WARNING: nprophet - fit: Parts of code may break if using other than daily data.\n",
      "Epoch[40/40]: 100%|█████████████████████| 40/40 [00:03<00:00, 11.40it/s, SmoothL1Loss=0.00213, MAE=0.000962, RegLoss=0]\n",
      "WARNING: nprophet - fit: Parts of code may break if using other than daily data.\n",
      "Epoch[40/40]: 100%|██████████████████████| 40/40 [00:03<00:00, 11.34it/s, SmoothL1Loss=0.00194, MAE=0.00189, RegLoss=0]\n",
      "WARNING: nprophet - fit: Parts of code may break if using other than daily data.\n",
      "Epoch[40/40]: 100%|██████████████████████| 40/40 [00:03<00:00, 10.92it/s, SmoothL1Loss=0.00143, MAE=0.00172, RegLoss=0]\n",
      "WARNING: nprophet - fit: Parts of code may break if using other than daily data.\n",
      "Epoch[1/40]:   2%|▋                         | 1/40 [00:00<00:03,  9.83it/s, SmoothL1Loss=0.432, MAE=0.00967, RegLoss=0]"
     ]
    },
    {
     "name": "stdout",
     "output_type": "stream",
     "text": [
      "\n",
      "Total MSE Error------------------------------------ 217.93805012508852\n",
      "\n",
      " current parameters is {'changepoints_range': 1.0, 'd_hidden': 30, 'n_changepoints': 5, 'num_hidden_layers': 0}\n",
      "\n"
     ]
    },
    {
     "name": "stderr",
     "output_type": "stream",
     "text": [
      "Epoch[40/40]: 100%|██████████████████████| 40/40 [00:03<00:00, 10.87it/s, SmoothL1Loss=0.00593, MAE=0.00105, RegLoss=0]\n",
      "WARNING: nprophet - fit: Parts of code may break if using other than daily data.\n",
      "Epoch[40/40]: 100%|██████████████████████| 40/40 [00:03<00:00, 11.43it/s, SmoothL1Loss=0.00281, MAE=0.00411, RegLoss=0]\n",
      "WARNING: nprophet - fit: Parts of code may break if using other than daily data.\n",
      "Epoch[40/40]: 100%|██████████████████████| 40/40 [00:03<00:00, 11.12it/s, SmoothL1Loss=0.00352, MAE=0.00126, RegLoss=0]\n",
      "WARNING: nprophet - fit: Parts of code may break if using other than daily data.\n",
      "Epoch[40/40]: 100%|██████████████████████| 40/40 [00:03<00:00, 10.83it/s, SmoothL1Loss=0.00265, MAE=0.00225, RegLoss=0]\n",
      "WARNING: nprophet - fit: Parts of code may break if using other than daily data.\n",
      "Epoch[40/40]: 100%|███████████████████████| 40/40 [00:03<00:00, 11.40it/s, SmoothL1Loss=0.00163, MAE=0.0019, RegLoss=0]\n",
      "WARNING: nprophet - fit: Parts of code may break if using other than daily data.\n",
      "Epoch[2/40]:   0%|                                    | 0/40 [00:00<?, ?it/s, SmoothL1Loss=2.06, MAE=0.0299, RegLoss=0]"
     ]
    },
    {
     "name": "stdout",
     "output_type": "stream",
     "text": [
      "\n",
      "Total MSE Error------------------------------------ 106.19488448935957\n",
      "\n",
      " current parameters is {'changepoints_range': 1.0, 'd_hidden': 30, 'n_changepoints': 5, 'num_hidden_layers': 1}\n",
      "\n"
     ]
    },
    {
     "name": "stderr",
     "output_type": "stream",
     "text": [
      "Epoch[40/40]: 100%|██████████████████████| 40/40 [00:03<00:00, 11.23it/s, SmoothL1Loss=0.00623, MAE=0.00107, RegLoss=0]\n",
      "WARNING: nprophet - fit: Parts of code may break if using other than daily data.\n",
      "Epoch[40/40]: 100%|██████████████████████| 40/40 [00:03<00:00, 11.16it/s, SmoothL1Loss=0.00268, MAE=0.00399, RegLoss=0]\n",
      "WARNING: nprophet - fit: Parts of code may break if using other than daily data.\n",
      "Epoch[40/40]: 100%|██████████████████████| 40/40 [00:03<00:00, 11.09it/s, SmoothL1Loss=0.00349, MAE=0.00125, RegLoss=0]\n",
      "WARNING: nprophet - fit: Parts of code may break if using other than daily data.\n",
      "Epoch[40/40]: 100%|██████████████████████| 40/40 [00:03<00:00, 11.16it/s, SmoothL1Loss=0.00245, MAE=0.00219, RegLoss=0]\n",
      "WARNING: nprophet - fit: Parts of code may break if using other than daily data.\n",
      "Epoch[40/40]: 100%|██████████████████████| 40/40 [00:03<00:00, 11.24it/s, SmoothL1Loss=0.00161, MAE=0.00186, RegLoss=0]\n",
      "WARNING: nprophet - fit: Parts of code may break if using other than daily data.\n",
      "Epoch[2/40]:   0%|                                    | 0/40 [00:00<?, ?it/s, SmoothL1Loss=1.32, MAE=0.0213, RegLoss=0]"
     ]
    },
    {
     "name": "stdout",
     "output_type": "stream",
     "text": [
      "\n",
      "Total MSE Error------------------------------------ 109.08913012720808\n",
      "\n",
      " current parameters is {'changepoints_range': 1.0, 'd_hidden': 30, 'n_changepoints': 5, 'num_hidden_layers': 2}\n",
      "\n"
     ]
    },
    {
     "name": "stderr",
     "output_type": "stream",
     "text": [
      "Epoch[40/40]: 100%|██████████████████████| 40/40 [00:03<00:00, 11.23it/s, SmoothL1Loss=0.00647, MAE=0.00108, RegLoss=0]\n",
      "WARNING: nprophet - fit: Parts of code may break if using other than daily data.\n",
      "Epoch[40/40]: 100%|███████████████████████| 40/40 [00:03<00:00, 11.09it/s, SmoothL1Loss=0.00262, MAE=0.0039, RegLoss=0]\n",
      "WARNING: nprophet - fit: Parts of code may break if using other than daily data.\n",
      "Epoch[40/40]: 100%|██████████████████████| 40/40 [00:03<00:00, 11.19it/s, SmoothL1Loss=0.00307, MAE=0.00118, RegLoss=0]\n",
      "WARNING: nprophet - fit: Parts of code may break if using other than daily data.\n",
      "Epoch[40/40]: 100%|███████████████████████| 40/40 [00:03<00:00, 11.18it/s, SmoothL1Loss=0.00248, MAE=0.0022, RegLoss=0]\n",
      "WARNING: nprophet - fit: Parts of code may break if using other than daily data.\n",
      "Epoch[40/40]: 100%|██████████████████████| 40/40 [00:03<00:00, 10.87it/s, SmoothL1Loss=0.00167, MAE=0.00194, RegLoss=0]\n",
      "WARNING: nprophet - fit: Parts of code may break if using other than daily data.\n",
      "Epoch[2/40]:   0%|                                    | 0/40 [00:00<?, ?it/s, SmoothL1Loss=1.01, MAE=0.0176, RegLoss=0]"
     ]
    },
    {
     "name": "stdout",
     "output_type": "stream",
     "text": [
      "\n",
      "Total MSE Error------------------------------------ 105.9887205848633\n",
      "\n",
      " current parameters is {'changepoints_range': 1.0, 'd_hidden': 30, 'n_changepoints': 10, 'num_hidden_layers': 0}\n",
      "\n"
     ]
    },
    {
     "name": "stderr",
     "output_type": "stream",
     "text": [
      "Epoch[40/40]: 100%|█████████████████████| 40/40 [00:03<00:00, 10.19it/s, SmoothL1Loss=0.00445, MAE=0.000879, RegLoss=0]\n",
      "WARNING: nprophet - fit: Parts of code may break if using other than daily data.\n",
      "Epoch[40/40]: 100%|██████████████████████| 40/40 [00:08<00:00,  4.58it/s, SmoothL1Loss=0.00236, MAE=0.00378, RegLoss=0]\n",
      "WARNING: nprophet - fit: Parts of code may break if using other than daily data.\n",
      "Epoch[40/40]: 100%|██████████████████████| 40/40 [00:05<00:00,  7.01it/s, SmoothL1Loss=0.00227, MAE=0.00101, RegLoss=0]\n",
      "WARNING: nprophet - fit: Parts of code may break if using other than daily data.\n",
      "Epoch[40/40]: 100%|███████████████████████| 40/40 [00:04<00:00,  9.04it/s, SmoothL1Loss=0.00294, MAE=0.0023, RegLoss=0]\n",
      "WARNING: nprophet - fit: Parts of code may break if using other than daily data.\n",
      "Epoch[40/40]: 100%|██████████████████████| 40/40 [00:03<00:00, 11.60it/s, SmoothL1Loss=0.00179, MAE=0.00204, RegLoss=0]\n",
      "WARNING: nprophet - fit: Parts of code may break if using other than daily data.\n",
      "Epoch[1/40]:   0%|                                   | 0/40 [00:00<?, ?it/s, SmoothL1Loss=0.718, MAE=0.0132, RegLoss=0]"
     ]
    },
    {
     "name": "stdout",
     "output_type": "stream",
     "text": [
      "\n",
      "Total MSE Error------------------------------------ 101.36084050609264\n",
      "\n",
      " current parameters is {'changepoints_range': 1.0, 'd_hidden': 30, 'n_changepoints': 10, 'num_hidden_layers': 1}\n",
      "\n"
     ]
    },
    {
     "name": "stderr",
     "output_type": "stream",
     "text": [
      "Epoch[40/40]: 100%|█████████████████████| 40/40 [00:03<00:00, 11.90it/s, SmoothL1Loss=0.00404, MAE=0.000834, RegLoss=0]\n",
      "WARNING: nprophet - fit: Parts of code may break if using other than daily data.\n",
      "Epoch[40/40]: 100%|███████████████████████| 40/40 [00:03<00:00, 11.91it/s, SmoothL1Loss=0.0023, MAE=0.00372, RegLoss=0]\n",
      "WARNING: nprophet - fit: Parts of code may break if using other than daily data.\n",
      "Epoch[40/40]: 100%|██████████████████████| 40/40 [00:03<00:00, 11.84it/s, SmoothL1Loss=0.00252, MAE=0.00107, RegLoss=0]\n",
      "WARNING: nprophet - fit: Parts of code may break if using other than daily data.\n",
      "Epoch[40/40]: 100%|██████████████████████| 40/40 [00:03<00:00, 11.91it/s, SmoothL1Loss=0.00256, MAE=0.00216, RegLoss=0]\n",
      "WARNING: nprophet - fit: Parts of code may break if using other than daily data.\n",
      "Epoch[40/40]: 100%|██████████████████████| 40/40 [00:03<00:00, 11.94it/s, SmoothL1Loss=0.00141, MAE=0.00178, RegLoss=0]\n",
      "WARNING: nprophet - fit: Parts of code may break if using other than daily data.\n",
      "Epoch[2/40]:   0%|                                   | 0/40 [00:00<?, ?it/s, SmoothL1Loss=0.14, MAE=0.00572, RegLoss=0]"
     ]
    },
    {
     "name": "stdout",
     "output_type": "stream",
     "text": [
      "\n",
      "Total MSE Error------------------------------------ 103.19648540635364\n",
      "\n",
      " current parameters is {'changepoints_range': 1.0, 'd_hidden': 30, 'n_changepoints': 10, 'num_hidden_layers': 2}\n",
      "\n"
     ]
    },
    {
     "name": "stderr",
     "output_type": "stream",
     "text": [
      "Epoch[40/40]: 100%|█████████████████████| 40/40 [00:03<00:00, 11.74it/s, SmoothL1Loss=0.00347, MAE=0.000781, RegLoss=0]\n",
      "WARNING: nprophet - fit: Parts of code may break if using other than daily data.\n",
      "Epoch[40/40]: 100%|██████████████████████| 40/40 [00:03<00:00, 10.61it/s, SmoothL1Loss=0.00273, MAE=0.00413, RegLoss=0]\n",
      "WARNING: nprophet - fit: Parts of code may break if using other than daily data.\n",
      "Epoch[40/40]: 100%|████████████████████████| 40/40 [00:03<00:00, 12.05it/s, SmoothL1Loss=0.00207, MAE=0.001, RegLoss=0]\n",
      "WARNING: nprophet - fit: Parts of code may break if using other than daily data.\n",
      "Epoch[40/40]: 100%|███████████████████████| 40/40 [00:03<00:00, 12.03it/s, SmoothL1Loss=0.0031, MAE=0.00236, RegLoss=0]\n",
      "WARNING: nprophet - fit: Parts of code may break if using other than daily data.\n",
      "Epoch[40/40]: 100%|██████████████████████| 40/40 [00:03<00:00, 11.83it/s, SmoothL1Loss=0.00159, MAE=0.00192, RegLoss=0]\n",
      "WARNING: nprophet - fit: Parts of code may break if using other than daily data.\n",
      "Epoch[2/40]:   5%|█▎                        | 2/40 [00:00<00:03, 12.08it/s, SmoothL1Loss=0.163, MAE=0.00562, RegLoss=0]"
     ]
    },
    {
     "name": "stdout",
     "output_type": "stream",
     "text": [
      "\n",
      "Total MSE Error------------------------------------ 106.93210224938318\n",
      "\n",
      " current parameters is {'changepoints_range': 1.0, 'd_hidden': 30, 'n_changepoints': 15, 'num_hidden_layers': 0}\n",
      "\n"
     ]
    },
    {
     "name": "stderr",
     "output_type": "stream",
     "text": [
      "Epoch[40/40]: 100%|█████████████████████| 40/40 [00:03<00:00, 12.36it/s, SmoothL1Loss=0.00367, MAE=0.000789, RegLoss=0]\n",
      "WARNING: nprophet - fit: Parts of code may break if using other than daily data.\n",
      "Epoch[40/40]: 100%|██████████████████████| 40/40 [00:03<00:00, 11.17it/s, SmoothL1Loss=0.00223, MAE=0.00364, RegLoss=0]\n",
      "WARNING: nprophet - fit: Parts of code may break if using other than daily data.\n",
      "Epoch[40/40]: 100%|██████████████████████| 40/40 [00:03<00:00, 11.97it/s, SmoothL1Loss=0.00246, MAE=0.00103, RegLoss=0]\n",
      "WARNING: nprophet - fit: Parts of code may break if using other than daily data.\n",
      "Epoch[40/40]: 100%|██████████████████████| 40/40 [00:03<00:00, 10.26it/s, SmoothL1Loss=0.00211, MAE=0.00199, RegLoss=0]\n",
      "WARNING: nprophet - fit: Parts of code may break if using other than daily data.\n",
      "Epoch[40/40]: 100%|████████████████████████| 40/40 [00:03<00:00, 10.40it/s, SmoothL1Loss=0.00183, MAE=0.002, RegLoss=0]\n",
      "WARNING: nprophet - fit: Parts of code may break if using other than daily data.\n",
      "Epoch[1/40]:   2%|▋                           | 1/40 [00:00<00:04,  8.57it/s, SmoothL1Loss=2.52, MAE=0.0355, RegLoss=0]"
     ]
    },
    {
     "name": "stdout",
     "output_type": "stream",
     "text": [
      "\n",
      "Total MSE Error------------------------------------ 129.92812961837677\n",
      "\n",
      " current parameters is {'changepoints_range': 1.0, 'd_hidden': 30, 'n_changepoints': 15, 'num_hidden_layers': 1}\n",
      "\n"
     ]
    },
    {
     "name": "stderr",
     "output_type": "stream",
     "text": [
      "Epoch[40/40]: 100%|█████████████████████| 40/40 [00:04<00:00,  9.66it/s, SmoothL1Loss=0.00482, MAE=0.000892, RegLoss=0]\n",
      "WARNING: nprophet - fit: Parts of code may break if using other than daily data.\n",
      "Epoch[40/40]: 100%|██████████████████████| 40/40 [00:03<00:00, 12.30it/s, SmoothL1Loss=0.00183, MAE=0.00324, RegLoss=0]\n",
      "WARNING: nprophet - fit: Parts of code may break if using other than daily data.\n",
      "Epoch[40/40]: 100%|██████████████████████| 40/40 [00:03<00:00, 12.31it/s, SmoothL1Loss=0.00237, MAE=0.00102, RegLoss=0]\n",
      "WARNING: nprophet - fit: Parts of code may break if using other than daily data.\n",
      "Epoch[40/40]: 100%|██████████████████████| 40/40 [00:03<00:00, 11.82it/s, SmoothL1Loss=0.00159, MAE=0.00177, RegLoss=0]\n",
      "WARNING: nprophet - fit: Parts of code may break if using other than daily data.\n",
      "Epoch[40/40]: 100%|██████████████████████| 40/40 [00:03<00:00, 12.11it/s, SmoothL1Loss=0.00154, MAE=0.00183, RegLoss=0]\n",
      "WARNING: nprophet - fit: Parts of code may break if using other than daily data.\n",
      "Epoch[2/40]:   5%|█▎                       | 2/40 [00:00<00:03, 12.46it/s, SmoothL1Loss=0.0707, MAE=0.00373, RegLoss=0]"
     ]
    },
    {
     "name": "stdout",
     "output_type": "stream",
     "text": [
      "\n",
      "Total MSE Error------------------------------------ 157.80770879940687\n",
      "\n",
      " current parameters is {'changepoints_range': 1.0, 'd_hidden': 30, 'n_changepoints': 15, 'num_hidden_layers': 2}\n",
      "\n"
     ]
    },
    {
     "name": "stderr",
     "output_type": "stream",
     "text": [
      "Epoch[40/40]: 100%|██████████████████████| 40/40 [00:03<00:00, 12.05it/s, SmoothL1Loss=0.0039, MAE=0.000806, RegLoss=0]\n",
      "WARNING: nprophet - fit: Parts of code may break if using other than daily data.\n",
      "Epoch[40/40]: 100%|██████████████████████| 40/40 [00:03<00:00, 12.28it/s, SmoothL1Loss=0.00221, MAE=0.00364, RegLoss=0]\n",
      "WARNING: nprophet - fit: Parts of code may break if using other than daily data.\n",
      "Epoch[40/40]: 100%|█████████████████████| 40/40 [00:03<00:00, 11.70it/s, SmoothL1Loss=0.00187, MAE=0.000894, RegLoss=0]\n",
      "WARNING: nprophet - fit: Parts of code may break if using other than daily data.\n",
      "Epoch[40/40]: 100%|██████████████████████| 40/40 [00:03<00:00, 12.35it/s, SmoothL1Loss=0.00189, MAE=0.00191, RegLoss=0]\n",
      "WARNING: nprophet - fit: Parts of code may break if using other than daily data.\n",
      "Epoch[40/40]: 100%|██████████████████████| 40/40 [00:03<00:00, 12.02it/s, SmoothL1Loss=0.00108, MAE=0.00146, RegLoss=0]\n",
      "WARNING: nprophet - fit: Parts of code may break if using other than daily data.\n",
      "Epoch[2/40]:   5%|█▎                        | 2/40 [00:00<00:02, 12.78it/s, SmoothL1Loss=0.111, MAE=0.00478, RegLoss=0]"
     ]
    },
    {
     "name": "stdout",
     "output_type": "stream",
     "text": [
      "\n",
      "Total MSE Error------------------------------------ 147.3681979399604\n",
      "\n",
      " current parameters is {'changepoints_range': 1.0, 'd_hidden': 30, 'n_changepoints': 20, 'num_hidden_layers': 0}\n",
      "\n"
     ]
    },
    {
     "name": "stderr",
     "output_type": "stream",
     "text": [
      "Epoch[40/40]: 100%|█████████████████████| 40/40 [00:03<00:00, 11.80it/s, SmoothL1Loss=0.00375, MAE=0.000793, RegLoss=0]\n",
      "WARNING: nprophet - fit: Parts of code may break if using other than daily data.\n",
      "Epoch[40/40]: 100%|██████████████████████| 40/40 [00:03<00:00, 12.19it/s, SmoothL1Loss=0.00224, MAE=0.00364, RegLoss=0]\n",
      "WARNING: nprophet - fit: Parts of code may break if using other than daily data.\n",
      "Epoch[40/40]: 100%|██████████████████████| 40/40 [00:03<00:00, 11.83it/s, SmoothL1Loss=0.00283, MAE=0.00112, RegLoss=0]\n",
      "WARNING: nprophet - fit: Parts of code may break if using other than daily data.\n",
      "Epoch[40/40]: 100%|██████████████████████| 40/40 [00:03<00:00, 11.21it/s, SmoothL1Loss=0.00211, MAE=0.00196, RegLoss=0]\n",
      "WARNING: nprophet - fit: Parts of code may break if using other than daily data.\n",
      "Epoch[40/40]: 100%|███████████████████████| 40/40 [00:03<00:00, 11.78it/s, SmoothL1Loss=0.00129, MAE=0.0016, RegLoss=0]\n",
      "WARNING: nprophet - fit: Parts of code may break if using other than daily data.\n",
      "Epoch[1/40]:   0%|                                   | 0/40 [00:00<?, ?it/s, SmoothL1Loss=0.902, MAE=0.0155, RegLoss=0]"
     ]
    },
    {
     "name": "stdout",
     "output_type": "stream",
     "text": [
      "\n",
      "Total MSE Error------------------------------------ 194.13986899365932\n",
      "\n",
      " current parameters is {'changepoints_range': 1.0, 'd_hidden': 30, 'n_changepoints': 20, 'num_hidden_layers': 1}\n",
      "\n"
     ]
    },
    {
     "name": "stderr",
     "output_type": "stream",
     "text": [
      "Epoch[40/40]: 100%|█████████████████████| 40/40 [00:04<00:00,  8.76it/s, SmoothL1Loss=0.00429, MAE=0.000851, RegLoss=0]\n",
      "WARNING: nprophet - fit: Parts of code may break if using other than daily data.\n",
      "Epoch[40/40]: 100%|████████████████████████| 40/40 [00:05<00:00,  7.72it/s, SmoothL1Loss=0.002, MAE=0.00341, RegLoss=0]\n",
      "WARNING: nprophet - fit: Parts of code may break if using other than daily data.\n",
      "Epoch[40/40]: 100%|██████████████████████| 40/40 [00:06<00:00,  5.79it/s, SmoothL1Loss=0.00177, MAE=0.00088, RegLoss=0]\n",
      "WARNING: nprophet - fit: Parts of code may break if using other than daily data.\n",
      "Epoch[40/40]: 100%|██████████████████████| 40/40 [00:04<00:00,  8.29it/s, SmoothL1Loss=0.00197, MAE=0.00191, RegLoss=0]\n",
      "WARNING: nprophet - fit: Parts of code may break if using other than daily data.\n",
      "Epoch[40/40]: 100%|█████████████████████| 40/40 [00:04<00:00,  9.07it/s, SmoothL1Loss=0.000959, MAE=0.00133, RegLoss=0]\n",
      "WARNING: nprophet - fit: Parts of code may break if using other than daily data.\n",
      "Epoch[1/40]:   2%|▋                           | 1/40 [00:00<00:04,  9.64it/s, SmoothL1Loss=1.53, MAE=0.0232, RegLoss=0]"
     ]
    },
    {
     "name": "stdout",
     "output_type": "stream",
     "text": [
      "\n",
      "Total MSE Error------------------------------------ 185.429575550759\n",
      "\n",
      " current parameters is {'changepoints_range': 1.0, 'd_hidden': 30, 'n_changepoints': 20, 'num_hidden_layers': 2}\n",
      "\n"
     ]
    },
    {
     "name": "stderr",
     "output_type": "stream",
     "text": [
      "Epoch[40/40]: 100%|█████████████████████| 40/40 [00:04<00:00,  9.20it/s, SmoothL1Loss=0.00446, MAE=0.000859, RegLoss=0]\n",
      "WARNING: nprophet - fit: Parts of code may break if using other than daily data.\n",
      "Epoch[40/40]: 100%|██████████████████████| 40/40 [00:04<00:00,  8.87it/s, SmoothL1Loss=0.00207, MAE=0.00348, RegLoss=0]\n",
      "WARNING: nprophet - fit: Parts of code may break if using other than daily data.\n",
      "Epoch[40/40]: 100%|█████████████████████| 40/40 [00:04<00:00,  9.50it/s, SmoothL1Loss=0.00207, MAE=0.000953, RegLoss=0]\n",
      "WARNING: nprophet - fit: Parts of code may break if using other than daily data.\n",
      "Epoch[40/40]: 100%|██████████████████████| 40/40 [00:03<00:00, 11.73it/s, SmoothL1Loss=0.00167, MAE=0.00178, RegLoss=0]\n",
      "WARNING: nprophet - fit: Parts of code may break if using other than daily data.\n",
      "Epoch[40/40]: 100%|█████████████████████| 40/40 [00:03<00:00, 12.12it/s, SmoothL1Loss=0.000996, MAE=0.00137, RegLoss=0]\n",
      "WARNING: nprophet - fit: Parts of code may break if using other than daily data.\n",
      "Epoch[2/40]:   5%|█▍                          | 2/40 [00:00<00:03, 12.38it/s, SmoothL1Loss=2.05, MAE=0.0301, RegLoss=0]"
     ]
    },
    {
     "name": "stdout",
     "output_type": "stream",
     "text": [
      "\n",
      "Total MSE Error------------------------------------ 193.60646454232506\n",
      "\n",
      " current parameters is {'changepoints_range': 1.0, 'd_hidden': 50, 'n_changepoints': 5, 'num_hidden_layers': 0}\n",
      "\n"
     ]
    },
    {
     "name": "stderr",
     "output_type": "stream",
     "text": [
      "Epoch[40/40]: 100%|██████████████████████| 40/40 [00:03<00:00, 12.20it/s, SmoothL1Loss=0.00653, MAE=0.00109, RegLoss=0]\n",
      "WARNING: nprophet - fit: Parts of code may break if using other than daily data.\n",
      "Epoch[40/40]: 100%|██████████████████████| 40/40 [00:03<00:00, 12.39it/s, SmoothL1Loss=0.00256, MAE=0.00386, RegLoss=0]\n",
      "WARNING: nprophet - fit: Parts of code may break if using other than daily data.\n",
      "Epoch[40/40]: 100%|███████████████████████| 40/40 [00:03<00:00, 11.82it/s, SmoothL1Loss=0.00313, MAE=0.0012, RegLoss=0]\n",
      "WARNING: nprophet - fit: Parts of code may break if using other than daily data.\n",
      "Epoch[40/40]: 100%|██████████████████████| 40/40 [00:03<00:00, 11.41it/s, SmoothL1Loss=0.00273, MAE=0.00229, RegLoss=0]\n",
      "WARNING: nprophet - fit: Parts of code may break if using other than daily data.\n",
      "Epoch[40/40]: 100%|██████████████████████| 40/40 [00:03<00:00, 11.77it/s, SmoothL1Loss=0.00179, MAE=0.00204, RegLoss=0]\n",
      "WARNING: nprophet - fit: Parts of code may break if using other than daily data.\n",
      "Epoch[2/40]:   5%|█▎                       | 2/40 [00:00<00:02, 13.19it/s, SmoothL1Loss=0.0407, MAE=0.00273, RegLoss=0]"
     ]
    },
    {
     "name": "stdout",
     "output_type": "stream",
     "text": [
      "\n",
      "Total MSE Error------------------------------------ 104.34620846400105\n",
      "\n",
      " current parameters is {'changepoints_range': 1.0, 'd_hidden': 50, 'n_changepoints': 5, 'num_hidden_layers': 1}\n",
      "\n"
     ]
    },
    {
     "name": "stderr",
     "output_type": "stream",
     "text": [
      "Epoch[40/40]: 100%|██████████████████████| 40/40 [00:03<00:00, 11.71it/s, SmoothL1Loss=0.00589, MAE=0.00104, RegLoss=0]\n",
      "WARNING: nprophet - fit: Parts of code may break if using other than daily data.\n",
      "Epoch[40/40]: 100%|██████████████████████| 40/40 [00:03<00:00, 11.66it/s, SmoothL1Loss=0.00285, MAE=0.00414, RegLoss=0]\n",
      "WARNING: nprophet - fit: Parts of code may break if using other than daily data.\n",
      "Epoch[40/40]: 100%|██████████████████████| 40/40 [00:03<00:00, 11.95it/s, SmoothL1Loss=0.00382, MAE=0.00131, RegLoss=0]\n",
      "WARNING: nprophet - fit: Parts of code may break if using other than daily data.\n",
      "Epoch[40/40]: 100%|██████████████████████| 40/40 [00:03<00:00, 12.04it/s, SmoothL1Loss=0.00254, MAE=0.00221, RegLoss=0]\n",
      "WARNING: nprophet - fit: Parts of code may break if using other than daily data.\n",
      "Epoch[40/40]: 100%|██████████████████████| 40/40 [00:03<00:00, 12.25it/s, SmoothL1Loss=0.00209, MAE=0.00227, RegLoss=0]\n",
      "WARNING: nprophet - fit: Parts of code may break if using other than daily data.\n",
      "Epoch[2/40]:   0%|                                  | 0/40 [00:00<?, ?it/s, SmoothL1Loss=0.374, MAE=0.00966, RegLoss=0]"
     ]
    },
    {
     "name": "stdout",
     "output_type": "stream",
     "text": [
      "\n",
      "Total MSE Error------------------------------------ 107.35597666415094\n",
      "\n",
      " current parameters is {'changepoints_range': 1.0, 'd_hidden': 50, 'n_changepoints': 5, 'num_hidden_layers': 2}\n",
      "\n"
     ]
    },
    {
     "name": "stderr",
     "output_type": "stream",
     "text": [
      "Epoch[40/40]: 100%|██████████████████████| 40/40 [00:03<00:00, 12.11it/s, SmoothL1Loss=0.00635, MAE=0.00107, RegLoss=0]\n",
      "WARNING: nprophet - fit: Parts of code may break if using other than daily data.\n",
      "Epoch[40/40]: 100%|██████████████████████| 40/40 [00:03<00:00, 11.74it/s, SmoothL1Loss=0.00299, MAE=0.00427, RegLoss=0]\n",
      "WARNING: nprophet - fit: Parts of code may break if using other than daily data.\n",
      "Epoch[40/40]: 100%|██████████████████████| 40/40 [00:03<00:00, 11.96it/s, SmoothL1Loss=0.00308, MAE=0.00119, RegLoss=0]\n",
      "WARNING: nprophet - fit: Parts of code may break if using other than daily data.\n",
      "Epoch[40/40]: 100%|██████████████████████| 40/40 [00:03<00:00, 12.11it/s, SmoothL1Loss=0.00256, MAE=0.00223, RegLoss=0]\n",
      "WARNING: nprophet - fit: Parts of code may break if using other than daily data.\n",
      "Epoch[40/40]: 100%|██████████████████████| 40/40 [00:03<00:00, 12.24it/s, SmoothL1Loss=0.00163, MAE=0.00189, RegLoss=0]\n",
      "WARNING: nprophet - fit: Parts of code may break if using other than daily data.\n",
      "Epoch[2/40]:   5%|█▍                           | 2/40 [00:00<00:02, 13.28it/s, SmoothL1Loss=1.2, MAE=0.0193, RegLoss=0]"
     ]
    },
    {
     "name": "stdout",
     "output_type": "stream",
     "text": [
      "\n",
      "Total MSE Error------------------------------------ 107.21997553693168\n",
      "\n",
      " current parameters is {'changepoints_range': 1.0, 'd_hidden': 50, 'n_changepoints': 10, 'num_hidden_layers': 0}\n",
      "\n"
     ]
    },
    {
     "name": "stderr",
     "output_type": "stream",
     "text": [
      "Epoch[40/40]: 100%|█████████████████████| 40/40 [00:03<00:00, 11.92it/s, SmoothL1Loss=0.00505, MAE=0.000928, RegLoss=0]\n",
      "WARNING: nprophet - fit: Parts of code may break if using other than daily data.\n",
      "Epoch[40/40]: 100%|██████████████████████| 40/40 [00:03<00:00, 11.38it/s, SmoothL1Loss=0.00206, MAE=0.00349, RegLoss=0]\n",
      "WARNING: nprophet - fit: Parts of code may break if using other than daily data.\n",
      "Epoch[40/40]: 100%|██████████████████████| 40/40 [00:04<00:00,  9.87it/s, SmoothL1Loss=0.00247, MAE=0.00106, RegLoss=0]\n",
      "WARNING: nprophet - fit: Parts of code may break if using other than daily data.\n",
      "Epoch[40/40]: 100%|██████████████████████| 40/40 [00:03<00:00, 10.18it/s, SmoothL1Loss=0.00276, MAE=0.00224, RegLoss=0]\n",
      "WARNING: nprophet - fit: Parts of code may break if using other than daily data.\n",
      "Epoch[40/40]: 100%|███████████████████████| 40/40 [00:03<00:00, 10.75it/s, SmoothL1Loss=0.0016, MAE=0.00191, RegLoss=0]\n",
      "WARNING: nprophet - fit: Parts of code may break if using other than daily data.\n",
      "Epoch[1/40]:   0%|                                  | 0/40 [00:00<?, ?it/s, SmoothL1Loss=0.0969, MAE=0.0044, RegLoss=0]"
     ]
    },
    {
     "name": "stdout",
     "output_type": "stream",
     "text": [
      "\n",
      "Total MSE Error------------------------------------ 97.97256558303008\n",
      "\n",
      " current parameters is {'changepoints_range': 1.0, 'd_hidden': 50, 'n_changepoints': 10, 'num_hidden_layers': 1}\n",
      "\n"
     ]
    },
    {
     "name": "stderr",
     "output_type": "stream",
     "text": [
      "Epoch[40/40]: 100%|██████████████████████| 40/40 [00:04<00:00,  9.19it/s, SmoothL1Loss=0.00341, MAE=0.00077, RegLoss=0]\n",
      "WARNING: nprophet - fit: Parts of code may break if using other than daily data.\n",
      "Epoch[40/40]: 100%|██████████████████████| 40/40 [00:03<00:00, 11.51it/s, SmoothL1Loss=0.00216, MAE=0.00357, RegLoss=0]\n",
      "WARNING: nprophet - fit: Parts of code may break if using other than daily data.\n",
      "Epoch[40/40]: 100%|██████████████████████| 40/40 [00:03<00:00, 11.02it/s, SmoothL1Loss=0.00295, MAE=0.00116, RegLoss=0]\n",
      "WARNING: nprophet - fit: Parts of code may break if using other than daily data.\n",
      "Epoch[40/40]: 100%|██████████████████████| 40/40 [00:03<00:00, 11.69it/s, SmoothL1Loss=0.00248, MAE=0.00214, RegLoss=0]\n",
      "WARNING: nprophet - fit: Parts of code may break if using other than daily data.\n",
      "Epoch[40/40]: 100%|███████████████████████| 40/40 [00:03<00:00, 11.65it/s, SmoothL1Loss=0.00129, MAE=0.0017, RegLoss=0]\n",
      "WARNING: nprophet - fit: Parts of code may break if using other than daily data.\n",
      "Epoch[1/40]:   2%|▋                         | 1/40 [00:00<00:04,  9.55it/s, SmoothL1Loss=0.369, MAE=0.00887, RegLoss=0]"
     ]
    },
    {
     "name": "stdout",
     "output_type": "stream",
     "text": [
      "\n",
      "Total MSE Error------------------------------------ 105.9146279192012\n",
      "\n",
      " current parameters is {'changepoints_range': 1.0, 'd_hidden': 50, 'n_changepoints': 10, 'num_hidden_layers': 2}\n",
      "\n"
     ]
    },
    {
     "name": "stderr",
     "output_type": "stream",
     "text": [
      "Epoch[40/40]: 100%|█████████████████████| 40/40 [00:03<00:00, 11.55it/s, SmoothL1Loss=0.00359, MAE=0.000792, RegLoss=0]\n",
      "WARNING: nprophet - fit: Parts of code may break if using other than daily data.\n",
      "Epoch[40/40]: 100%|██████████████████████| 40/40 [00:03<00:00, 12.10it/s, SmoothL1Loss=0.00223, MAE=0.00363, RegLoss=0]\n",
      "WARNING: nprophet - fit: Parts of code may break if using other than daily data.\n",
      "Epoch[40/40]: 100%|███████████████████████| 40/40 [00:03<00:00, 11.70it/s, SmoothL1Loss=0.0027, MAE=0.00111, RegLoss=0]\n",
      "WARNING: nprophet - fit: Parts of code may break if using other than daily data.\n",
      "Epoch[40/40]: 100%|██████████████████████| 40/40 [00:04<00:00,  9.89it/s, SmoothL1Loss=0.00278, MAE=0.00225, RegLoss=0]\n",
      "WARNING: nprophet - fit: Parts of code may break if using other than daily data.\n",
      "Epoch[40/40]: 100%|███████████████████████| 40/40 [00:03<00:00, 11.02it/s, SmoothL1Loss=0.0011, MAE=0.00155, RegLoss=0]\n",
      "WARNING: nprophet - fit: Parts of code may break if using other than daily data.\n",
      "Epoch[2/40]:   5%|█▎                         | 2/40 [00:00<00:03, 12.30it/s, SmoothL1Loss=0.316, MAE=0.0086, RegLoss=0]"
     ]
    },
    {
     "name": "stdout",
     "output_type": "stream",
     "text": [
      "\n",
      "Total MSE Error------------------------------------ 104.02903080327263\n",
      "\n",
      " current parameters is {'changepoints_range': 1.0, 'd_hidden': 50, 'n_changepoints': 15, 'num_hidden_layers': 0}\n",
      "\n"
     ]
    },
    {
     "name": "stderr",
     "output_type": "stream",
     "text": [
      "Epoch[40/40]: 100%|█████████████████████| 40/40 [00:03<00:00, 11.32it/s, SmoothL1Loss=0.00459, MAE=0.000871, RegLoss=0]\n",
      "WARNING: nprophet - fit: Parts of code may break if using other than daily data.\n",
      "Epoch[40/40]: 100%|██████████████████████| 40/40 [00:03<00:00, 11.67it/s, SmoothL1Loss=0.00215, MAE=0.00358, RegLoss=0]\n",
      "WARNING: nprophet - fit: Parts of code may break if using other than daily data.\n",
      "Epoch[40/40]: 100%|███████████████████████| 40/40 [00:03<00:00, 11.88it/s, SmoothL1Loss=0.0024, MAE=0.00102, RegLoss=0]\n",
      "WARNING: nprophet - fit: Parts of code may break if using other than daily data.\n",
      "Epoch[40/40]: 100%|██████████████████████| 40/40 [00:03<00:00, 11.36it/s, SmoothL1Loss=0.00218, MAE=0.00203, RegLoss=0]\n",
      "WARNING: nprophet - fit: Parts of code may break if using other than daily data.\n",
      "Epoch[40/40]: 100%|███████████████████████| 40/40 [00:05<00:00,  7.63it/s, SmoothL1Loss=0.00165, MAE=0.0019, RegLoss=0]\n",
      "WARNING: nprophet - fit: Parts of code may break if using other than daily data.\n",
      "Epoch[1/40]:   2%|▋                         | 1/40 [00:00<00:04,  9.64it/s, SmoothL1Loss=0.436, MAE=0.00947, RegLoss=0]"
     ]
    },
    {
     "name": "stdout",
     "output_type": "stream",
     "text": [
      "\n",
      "Total MSE Error------------------------------------ 142.1176839680943\n",
      "\n",
      " current parameters is {'changepoints_range': 1.0, 'd_hidden': 50, 'n_changepoints': 15, 'num_hidden_layers': 1}\n",
      "\n"
     ]
    },
    {
     "name": "stderr",
     "output_type": "stream",
     "text": [
      "Epoch[40/40]: 100%|██████████████████████| 40/40 [00:04<00:00,  9.59it/s, SmoothL1Loss=0.00422, MAE=0.00084, RegLoss=0]\n",
      "WARNING: nprophet - fit: Parts of code may break if using other than daily data.\n",
      "Epoch[40/40]: 100%|██████████████████████| 40/40 [00:05<00:00,  7.78it/s, SmoothL1Loss=0.00196, MAE=0.00338, RegLoss=0]\n",
      "WARNING: nprophet - fit: Parts of code may break if using other than daily data.\n",
      "Epoch[40/40]: 100%|██████████████████████| 40/40 [00:04<00:00,  9.76it/s, SmoothL1Loss=0.00239, MAE=0.00103, RegLoss=0]\n",
      "WARNING: nprophet - fit: Parts of code may break if using other than daily data.\n",
      "Epoch[40/40]: 100%|███████████████████████| 40/40 [00:05<00:00,  7.80it/s, SmoothL1Loss=0.0018, MAE=0.00186, RegLoss=0]\n",
      "WARNING: nprophet - fit: Parts of code may break if using other than daily data.\n",
      "Epoch[40/40]: 100%|██████████████████████| 40/40 [00:03<00:00, 11.55it/s, SmoothL1Loss=0.00115, MAE=0.00151, RegLoss=0]\n",
      "WARNING: nprophet - fit: Parts of code may break if using other than daily data.\n",
      "Epoch[1/40]:   0%|                                    | 0/40 [00:00<?, ?it/s, SmoothL1Loss=2.49, MAE=0.0348, RegLoss=0]"
     ]
    },
    {
     "name": "stdout",
     "output_type": "stream",
     "text": [
      "\n",
      "Total MSE Error------------------------------------ 149.06606271220363\n",
      "\n",
      " current parameters is {'changepoints_range': 1.0, 'd_hidden': 50, 'n_changepoints': 15, 'num_hidden_layers': 2}\n",
      "\n"
     ]
    },
    {
     "name": "stderr",
     "output_type": "stream",
     "text": [
      "Epoch[40/40]: 100%|█████████████████████| 40/40 [00:03<00:00, 12.22it/s, SmoothL1Loss=0.00493, MAE=0.000903, RegLoss=0]\n",
      "WARNING: nprophet - fit: Parts of code may break if using other than daily data.\n",
      "Epoch[40/40]: 100%|██████████████████████| 40/40 [00:03<00:00, 11.97it/s, SmoothL1Loss=0.00164, MAE=0.00302, RegLoss=0]\n",
      "WARNING: nprophet - fit: Parts of code may break if using other than daily data.\n",
      "Epoch[40/40]: 100%|██████████████████████| 40/40 [00:03<00:00, 12.16it/s, SmoothL1Loss=0.00302, MAE=0.00115, RegLoss=0]\n",
      "WARNING: nprophet - fit: Parts of code may break if using other than daily data.\n",
      "Epoch[40/40]: 100%|██████████████████████| 40/40 [00:03<00:00, 12.12it/s, SmoothL1Loss=0.00168, MAE=0.00181, RegLoss=0]\n",
      "WARNING: nprophet - fit: Parts of code may break if using other than daily data.\n",
      "Epoch[40/40]: 100%|██████████████████████| 40/40 [00:03<00:00, 12.04it/s, SmoothL1Loss=0.00116, MAE=0.00151, RegLoss=0]\n",
      "WARNING: nprophet - fit: Parts of code may break if using other than daily data.\n",
      "Epoch[2/40]:   5%|█▎                         | 2/40 [00:00<00:02, 13.28it/s, SmoothL1Loss=0.991, MAE=0.0173, RegLoss=0]"
     ]
    },
    {
     "name": "stdout",
     "output_type": "stream",
     "text": [
      "\n",
      "Total MSE Error------------------------------------ 177.72485004551697\n",
      "\n",
      " current parameters is {'changepoints_range': 1.0, 'd_hidden': 50, 'n_changepoints': 20, 'num_hidden_layers': 0}\n",
      "\n"
     ]
    },
    {
     "name": "stderr",
     "output_type": "stream",
     "text": [
      "Epoch[40/40]: 100%|█████████████████████| 40/40 [00:03<00:00, 12.45it/s, SmoothL1Loss=0.00462, MAE=0.000878, RegLoss=0]\n",
      "WARNING: nprophet - fit: Parts of code may break if using other than daily data.\n",
      "Epoch[40/40]: 100%|██████████████████████| 40/40 [00:03<00:00, 11.83it/s, SmoothL1Loss=0.00147, MAE=0.00291, RegLoss=0]\n",
      "WARNING: nprophet - fit: Parts of code may break if using other than daily data.\n",
      "Epoch[40/40]: 100%|██████████████████████| 40/40 [00:03<00:00, 12.31it/s, SmoothL1Loss=0.00247, MAE=0.00104, RegLoss=0]\n",
      "WARNING: nprophet - fit: Parts of code may break if using other than daily data.\n",
      "Epoch[40/40]: 100%|██████████████████████| 40/40 [00:03<00:00, 12.28it/s, SmoothL1Loss=0.00217, MAE=0.00198, RegLoss=0]\n",
      "WARNING: nprophet - fit: Parts of code may break if using other than daily data.\n",
      "Epoch[40/40]: 100%|██████████████████████| 40/40 [00:03<00:00, 11.99it/s, SmoothL1Loss=0.00156, MAE=0.00181, RegLoss=0]\n",
      "WARNING: nprophet - fit: Parts of code may break if using other than daily data.\n",
      "Epoch[2/40]:   5%|█▎                        | 2/40 [00:00<00:02, 12.69it/s, SmoothL1Loss=0.0777, MAE=0.0038, RegLoss=0]"
     ]
    },
    {
     "name": "stdout",
     "output_type": "stream",
     "text": [
      "\n",
      "Total MSE Error------------------------------------ 240.59713998205754\n",
      "\n",
      " current parameters is {'changepoints_range': 1.0, 'd_hidden': 50, 'n_changepoints': 20, 'num_hidden_layers': 1}\n",
      "\n"
     ]
    },
    {
     "name": "stderr",
     "output_type": "stream",
     "text": [
      "Epoch[40/40]: 100%|█████████████████████| 40/40 [00:03<00:00, 11.79it/s, SmoothL1Loss=0.00376, MAE=0.000793, RegLoss=0]\n",
      "WARNING: nprophet - fit: Parts of code may break if using other than daily data.\n",
      "Epoch[40/40]: 100%|██████████████████████| 40/40 [00:03<00:00, 12.38it/s, SmoothL1Loss=0.00191, MAE=0.00332, RegLoss=0]\n",
      "WARNING: nprophet - fit: Parts of code may break if using other than daily data.\n",
      "Epoch[40/40]: 100%|█████████████████████| 40/40 [00:03<00:00, 10.16it/s, SmoothL1Loss=0.00209, MAE=0.000954, RegLoss=0]\n",
      "WARNING: nprophet - fit: Parts of code may break if using other than daily data.\n",
      "Epoch[40/40]: 100%|██████████████████████| 40/40 [00:04<00:00,  9.20it/s, SmoothL1Loss=0.00178, MAE=0.00183, RegLoss=0]\n",
      "WARNING: nprophet - fit: Parts of code may break if using other than daily data.\n",
      "Epoch[40/40]: 100%|██████████████████████| 40/40 [00:03<00:00, 11.29it/s, SmoothL1Loss=0.00146, MAE=0.00176, RegLoss=0]\n",
      "WARNING: nprophet - fit: Parts of code may break if using other than daily data.\n",
      "Epoch[2/40]:   5%|█▎                        | 2/40 [00:00<00:03, 12.08it/s, SmoothL1Loss=0.154, MAE=0.00605, RegLoss=0]"
     ]
    },
    {
     "name": "stdout",
     "output_type": "stream",
     "text": [
      "\n",
      "Total MSE Error------------------------------------ 203.27440719087897\n",
      "\n",
      " current parameters is {'changepoints_range': 1.0, 'd_hidden': 50, 'n_changepoints': 20, 'num_hidden_layers': 2}\n",
      "\n"
     ]
    },
    {
     "name": "stderr",
     "output_type": "stream",
     "text": [
      "Epoch[40/40]: 100%|█████████████████████| 40/40 [00:03<00:00, 10.96it/s, SmoothL1Loss=0.00425, MAE=0.000838, RegLoss=0]\n",
      "WARNING: nprophet - fit: Parts of code may break if using other than daily data.\n",
      "Epoch[40/40]: 100%|███████████████████████| 40/40 [00:03<00:00, 11.47it/s, SmoothL1Loss=0.0014, MAE=0.00284, RegLoss=0]\n",
      "WARNING: nprophet - fit: Parts of code may break if using other than daily data.\n",
      "Epoch[40/40]: 100%|████████████████████████| 40/40 [00:03<00:00, 11.56it/s, SmoothL1Loss=0.00231, MAE=0.001, RegLoss=0]\n",
      "WARNING: nprophet - fit: Parts of code may break if using other than daily data.\n",
      "Epoch[40/40]: 100%|██████████████████████| 40/40 [00:03<00:00, 11.47it/s, SmoothL1Loss=0.00178, MAE=0.00184, RegLoss=0]\n",
      "WARNING: nprophet - fit: Parts of code may break if using other than daily data.\n",
      "Epoch[40/40]: 100%|██████████████████████| 40/40 [00:03<00:00, 11.13it/s, SmoothL1Loss=0.00104, MAE=0.00139, RegLoss=0]"
     ]
    },
    {
     "name": "stdout",
     "output_type": "stream",
     "text": [
      "\n",
      "Total MSE Error------------------------------------ 273.4156465341368\n"
     ]
    },
    {
     "name": "stderr",
     "output_type": "stream",
     "text": [
      "\n"
     ]
    }
   ],
   "source": [
    "result = experiment(train_x_array, train_y_array, deepcopy(args))"
   ]
  },
  {
   "cell_type": "code",
   "execution_count": 50,
   "metadata": {},
   "outputs": [],
   "source": [
    "result = result.sort_values(by =['MSE*10E5'])\n",
    "result = result.reset_index(drop=True)\n"
   ]
  },
  {
   "cell_type": "code",
   "execution_count": 51,
   "metadata": {},
   "outputs": [
    {
     "data": {
      "text/html": [
       "<div>\n",
       "<style scoped>\n",
       "    .dataframe tbody tr th:only-of-type {\n",
       "        vertical-align: middle;\n",
       "    }\n",
       "\n",
       "    .dataframe tbody tr th {\n",
       "        vertical-align: top;\n",
       "    }\n",
       "\n",
       "    .dataframe thead th {\n",
       "        text-align: right;\n",
       "    }\n",
       "</style>\n",
       "<table border=\"1\" class=\"dataframe\">\n",
       "  <thead>\n",
       "    <tr style=\"text-align: right;\">\n",
       "      <th></th>\n",
       "      <th>MSE*10E5</th>\n",
       "      <th>PARAMETERS</th>\n",
       "    </tr>\n",
       "  </thead>\n",
       "  <tbody>\n",
       "    <tr>\n",
       "      <th>0</th>\n",
       "      <td>90.089789</td>\n",
       "      <td>{'changepoints_range': 0.95, 'd_hidden': 30, '...</td>\n",
       "    </tr>\n",
       "    <tr>\n",
       "      <th>1</th>\n",
       "      <td>90.955719</td>\n",
       "      <td>{'changepoints_range': 0.95, 'd_hidden': 30, '...</td>\n",
       "    </tr>\n",
       "    <tr>\n",
       "      <th>2</th>\n",
       "      <td>91.008956</td>\n",
       "      <td>{'changepoints_range': 0.95, 'd_hidden': 10, '...</td>\n",
       "    </tr>\n",
       "    <tr>\n",
       "      <th>3</th>\n",
       "      <td>91.268299</td>\n",
       "      <td>{'changepoints_range': 0.95, 'd_hidden': 10, '...</td>\n",
       "    </tr>\n",
       "    <tr>\n",
       "      <th>4</th>\n",
       "      <td>94.842062</td>\n",
       "      <td>{'changepoints_range': 0.9, 'd_hidden': 30, 'n...</td>\n",
       "    </tr>\n",
       "  </tbody>\n",
       "</table>\n",
       "</div>"
      ],
      "text/plain": [
       "    MSE*10E5                                         PARAMETERS\n",
       "0  90.089789  {'changepoints_range': 0.95, 'd_hidden': 30, '...\n",
       "1  90.955719  {'changepoints_range': 0.95, 'd_hidden': 30, '...\n",
       "2  91.008956  {'changepoints_range': 0.95, 'd_hidden': 10, '...\n",
       "3  91.268299  {'changepoints_range': 0.95, 'd_hidden': 10, '...\n",
       "4  94.842062  {'changepoints_range': 0.9, 'd_hidden': 30, 'n..."
      ]
     },
     "execution_count": 51,
     "metadata": {},
     "output_type": "execute_result"
    }
   ],
   "source": [
    "result.head()"
   ]
  },
  {
   "cell_type": "code",
   "execution_count": 52,
   "metadata": {},
   "outputs": [],
   "source": [
    "result.to_csv('hyperparameteer_grid_search.csv')"
   ]
  },
  {
   "cell_type": "code",
   "execution_count": 53,
   "metadata": {
    "scrolled": true
   },
   "outputs": [
    {
     "data": {
      "text/plain": [
       "{'changepoints_range': 0.95,\n",
       " 'd_hidden': 30,\n",
       " 'n_changepoints': 20,\n",
       " 'num_hidden_layers': 1}"
      ]
     },
     "execution_count": 53,
     "metadata": {},
     "output_type": "execute_result"
    }
   ],
   "source": [
    "result['PARAMETERS'][0]"
   ]
  },
  {
   "cell_type": "code",
   "execution_count": 35,
   "metadata": {},
   "outputs": [
    {
     "data": {
      "text/plain": [
       "(0.041666666666666664, 0.08333333333333333)"
      ]
     },
     "execution_count": 35,
     "metadata": {},
     "output_type": "execute_result"
    }
   ],
   "source": [
    "1/24, 1/12"
   ]
  },
  {
   "cell_type": "code",
   "execution_count": 77,
   "metadata": {},
   "outputs": [],
   "source": [
    "# plt.plot(np.arange(1380, 1380+120), y_series, label = 'True series')\n",
    "# plt.plot(np.arange(1380, 1380+120), forecast.yhat1.values[-120:], label = 'Neural Prophet1')\n",
    "# plt.legend()\n",
    "# plt.show()\n",
    "\n",
    "# error = mean_squared_error(y_series, forecast.yhat1.values[-120:])\n",
    "# print(\"Prophet MSE*10E5 is {}\".format(error * 10E5))\n"
   ]
  },
  {
   "cell_type": "code",
   "execution_count": null,
   "metadata": {},
   "outputs": [],
   "source": []
  }
 ],
 "metadata": {
  "colab": {
   "name": "Neural Prophet pilot.ipynb",
   "provenance": [],
   "toc_visible": true
  },
  "kernelspec": {
   "display_name": "Python 3",
   "language": "python",
   "name": "python3"
  },
  "language_info": {
   "codemirror_mode": {
    "name": "ipython",
    "version": 3
   },
   "file_extension": ".py",
   "mimetype": "text/x-python",
   "name": "python",
   "nbconvert_exporter": "python",
   "pygments_lexer": "ipython3",
   "version": "3.7.10"
  },
  "widgets": {
   "application/vnd.jupyter.widget-state+json": {
    "0bebe5ddaedb4ef1b3d684b6272aa51e": {
     "model_module": "@jupyter-widgets/base",
     "model_name": "LayoutModel",
     "state": {
      "_model_module": "@jupyter-widgets/base",
      "_model_module_version": "1.2.0",
      "_model_name": "LayoutModel",
      "_view_count": null,
      "_view_module": "@jupyter-widgets/base",
      "_view_module_version": "1.2.0",
      "_view_name": "LayoutView",
      "align_content": null,
      "align_items": null,
      "align_self": null,
      "border": null,
      "bottom": null,
      "display": null,
      "flex": null,
      "flex_flow": null,
      "grid_area": null,
      "grid_auto_columns": null,
      "grid_auto_flow": null,
      "grid_auto_rows": null,
      "grid_column": null,
      "grid_gap": null,
      "grid_row": null,
      "grid_template_areas": null,
      "grid_template_columns": null,
      "grid_template_rows": null,
      "height": null,
      "justify_content": null,
      "justify_items": null,
      "left": null,
      "margin": null,
      "max_height": null,
      "max_width": null,
      "min_height": null,
      "min_width": null,
      "object_fit": null,
      "object_position": null,
      "order": null,
      "overflow": null,
      "overflow_x": null,
      "overflow_y": null,
      "padding": null,
      "right": null,
      "top": null,
      "visibility": null,
      "width": null
     }
    },
    "31d3bd3231134e0092b50310ca65635c": {
     "model_module": "@jupyter-widgets/base",
     "model_name": "LayoutModel",
     "state": {
      "_model_module": "@jupyter-widgets/base",
      "_model_module_version": "1.2.0",
      "_model_name": "LayoutModel",
      "_view_count": null,
      "_view_module": "@jupyter-widgets/base",
      "_view_module_version": "1.2.0",
      "_view_name": "LayoutView",
      "align_content": null,
      "align_items": null,
      "align_self": null,
      "border": null,
      "bottom": null,
      "display": null,
      "flex": null,
      "flex_flow": null,
      "grid_area": null,
      "grid_auto_columns": null,
      "grid_auto_flow": null,
      "grid_auto_rows": null,
      "grid_column": null,
      "grid_gap": null,
      "grid_row": null,
      "grid_template_areas": null,
      "grid_template_columns": null,
      "grid_template_rows": null,
      "height": null,
      "justify_content": null,
      "justify_items": null,
      "left": null,
      "margin": null,
      "max_height": null,
      "max_width": null,
      "min_height": null,
      "min_width": null,
      "object_fit": null,
      "object_position": null,
      "order": null,
      "overflow": null,
      "overflow_x": null,
      "overflow_y": null,
      "padding": null,
      "right": null,
      "top": null,
      "visibility": null,
      "width": null
     }
    },
    "3646ec6f78be4fe69691ada465ee562a": {
     "model_module": "@jupyter-widgets/controls",
     "model_name": "DescriptionStyleModel",
     "state": {
      "_model_module": "@jupyter-widgets/controls",
      "_model_module_version": "1.5.0",
      "_model_name": "DescriptionStyleModel",
      "_view_count": null,
      "_view_module": "@jupyter-widgets/base",
      "_view_module_version": "1.2.0",
      "_view_name": "StyleView",
      "description_width": ""
     }
    },
    "4cc9a6fc233a4f3798ea54be7bd07be3": {
     "model_module": "@jupyter-widgets/base",
     "model_name": "LayoutModel",
     "state": {
      "_model_module": "@jupyter-widgets/base",
      "_model_module_version": "1.2.0",
      "_model_name": "LayoutModel",
      "_view_count": null,
      "_view_module": "@jupyter-widgets/base",
      "_view_module_version": "1.2.0",
      "_view_name": "LayoutView",
      "align_content": null,
      "align_items": null,
      "align_self": null,
      "border": null,
      "bottom": null,
      "display": null,
      "flex": null,
      "flex_flow": null,
      "grid_area": null,
      "grid_auto_columns": null,
      "grid_auto_flow": null,
      "grid_auto_rows": null,
      "grid_column": null,
      "grid_gap": null,
      "grid_row": null,
      "grid_template_areas": null,
      "grid_template_columns": null,
      "grid_template_rows": null,
      "height": null,
      "justify_content": null,
      "justify_items": null,
      "left": null,
      "margin": null,
      "max_height": null,
      "max_width": null,
      "min_height": null,
      "min_width": null,
      "object_fit": null,
      "object_position": null,
      "order": null,
      "overflow": null,
      "overflow_x": null,
      "overflow_y": null,
      "padding": null,
      "right": null,
      "top": null,
      "visibility": null,
      "width": null
     }
    },
    "58f26ed8aebc48228d9b0450ec647275": {
     "model_module": "@jupyter-widgets/controls",
     "model_name": "HTMLModel",
     "state": {
      "_dom_classes": [],
      "_model_module": "@jupyter-widgets/controls",
      "_model_module_version": "1.5.0",
      "_model_name": "HTMLModel",
      "_view_count": null,
      "_view_module": "@jupyter-widgets/controls",
      "_view_module_version": "1.5.0",
      "_view_name": "HTMLView",
      "description": "",
      "description_tooltip": null,
      "layout": "IPY_MODEL_0bebe5ddaedb4ef1b3d684b6272aa51e",
      "placeholder": "​",
      "style": "IPY_MODEL_91940526832e49b49e2c08063927172c",
      "value": " 93/100 [00:00&lt;00:00, 278.72it/s]"
     }
    },
    "5c30be5c01ed4831899375837878db39": {
     "model_module": "@jupyter-widgets/controls",
     "model_name": "ProgressStyleModel",
     "state": {
      "_model_module": "@jupyter-widgets/controls",
      "_model_module_version": "1.5.0",
      "_model_name": "ProgressStyleModel",
      "_view_count": null,
      "_view_module": "@jupyter-widgets/base",
      "_view_module_version": "1.2.0",
      "_view_name": "StyleView",
      "bar_color": null,
      "description_width": ""
     }
    },
    "5c908be6355b41b4b1d7ae6253cad6cf": {
     "model_module": "@jupyter-widgets/controls",
     "model_name": "HBoxModel",
     "state": {
      "_dom_classes": [],
      "_model_module": "@jupyter-widgets/controls",
      "_model_module_version": "1.5.0",
      "_model_name": "HBoxModel",
      "_view_count": null,
      "_view_module": "@jupyter-widgets/controls",
      "_view_module_version": "1.5.0",
      "_view_name": "HBoxView",
      "box_style": "",
      "children": [
       "IPY_MODEL_6638f804ae184a5bb0a4e60227cf34cc",
       "IPY_MODEL_ac377a7d5247448aadd1a136b507bc5a",
       "IPY_MODEL_58f26ed8aebc48228d9b0450ec647275"
      ],
      "layout": "IPY_MODEL_df737edb2bd74ee49bb6556f37067985"
     }
    },
    "5d1ae580312f48df9f3a931e680e4371": {
     "model_module": "@jupyter-widgets/base",
     "model_name": "LayoutModel",
     "state": {
      "_model_module": "@jupyter-widgets/base",
      "_model_module_version": "1.2.0",
      "_model_name": "LayoutModel",
      "_view_count": null,
      "_view_module": "@jupyter-widgets/base",
      "_view_module_version": "1.2.0",
      "_view_name": "LayoutView",
      "align_content": null,
      "align_items": null,
      "align_self": null,
      "border": null,
      "bottom": null,
      "display": null,
      "flex": null,
      "flex_flow": null,
      "grid_area": null,
      "grid_auto_columns": null,
      "grid_auto_flow": null,
      "grid_auto_rows": null,
      "grid_column": null,
      "grid_gap": null,
      "grid_row": null,
      "grid_template_areas": null,
      "grid_template_columns": null,
      "grid_template_rows": null,
      "height": null,
      "justify_content": null,
      "justify_items": null,
      "left": null,
      "margin": null,
      "max_height": null,
      "max_width": null,
      "min_height": null,
      "min_width": null,
      "object_fit": null,
      "object_position": null,
      "order": null,
      "overflow": null,
      "overflow_x": null,
      "overflow_y": null,
      "padding": null,
      "right": null,
      "top": null,
      "visibility": null,
      "width": null
     }
    },
    "6638f804ae184a5bb0a4e60227cf34cc": {
     "model_module": "@jupyter-widgets/controls",
     "model_name": "HTMLModel",
     "state": {
      "_dom_classes": [],
      "_model_module": "@jupyter-widgets/controls",
      "_model_module_version": "1.5.0",
      "_model_name": "HTMLModel",
      "_view_count": null,
      "_view_module": "@jupyter-widgets/controls",
      "_view_module_version": "1.5.0",
      "_view_name": "HTMLView",
      "description": "",
      "description_tooltip": null,
      "layout": "IPY_MODEL_9a8af6a903024b87960537b357f87b78",
      "placeholder": "​",
      "style": "IPY_MODEL_6cb2f77e9d234465ae4fc742258e2331",
      "value": " 93%"
     }
    },
    "6cb2f77e9d234465ae4fc742258e2331": {
     "model_module": "@jupyter-widgets/controls",
     "model_name": "DescriptionStyleModel",
     "state": {
      "_model_module": "@jupyter-widgets/controls",
      "_model_module_version": "1.5.0",
      "_model_name": "DescriptionStyleModel",
      "_view_count": null,
      "_view_module": "@jupyter-widgets/base",
      "_view_module_version": "1.2.0",
      "_view_name": "StyleView",
      "description_width": ""
     }
    },
    "71a408cf181e4adcbd4a626f864ed7f3": {
     "model_module": "@jupyter-widgets/base",
     "model_name": "LayoutModel",
     "state": {
      "_model_module": "@jupyter-widgets/base",
      "_model_module_version": "1.2.0",
      "_model_name": "LayoutModel",
      "_view_count": null,
      "_view_module": "@jupyter-widgets/base",
      "_view_module_version": "1.2.0",
      "_view_name": "LayoutView",
      "align_content": null,
      "align_items": null,
      "align_self": null,
      "border": null,
      "bottom": null,
      "display": null,
      "flex": null,
      "flex_flow": null,
      "grid_area": null,
      "grid_auto_columns": null,
      "grid_auto_flow": null,
      "grid_auto_rows": null,
      "grid_column": null,
      "grid_gap": null,
      "grid_row": null,
      "grid_template_areas": null,
      "grid_template_columns": null,
      "grid_template_rows": null,
      "height": null,
      "justify_content": null,
      "justify_items": null,
      "left": null,
      "margin": null,
      "max_height": null,
      "max_width": null,
      "min_height": null,
      "min_width": null,
      "object_fit": null,
      "object_position": null,
      "order": null,
      "overflow": null,
      "overflow_x": null,
      "overflow_y": null,
      "padding": null,
      "right": null,
      "top": null,
      "visibility": null,
      "width": null
     }
    },
    "71d6ebf0b91948bd841b51f4ded387b2": {
     "model_module": "@jupyter-widgets/controls",
     "model_name": "HTMLModel",
     "state": {
      "_dom_classes": [],
      "_model_module": "@jupyter-widgets/controls",
      "_model_module_version": "1.5.0",
      "_model_name": "HTMLModel",
      "_view_count": null,
      "_view_module": "@jupyter-widgets/controls",
      "_view_module_version": "1.5.0",
      "_view_name": "HTMLView",
      "description": "",
      "description_tooltip": null,
      "layout": "IPY_MODEL_31d3bd3231134e0092b50310ca65635c",
      "placeholder": "​",
      "style": "IPY_MODEL_3646ec6f78be4fe69691ada465ee562a",
      "value": " 90%"
     }
    },
    "76ca9f189a5e4d0a929e215e456315c3": {
     "model_module": "@jupyter-widgets/base",
     "model_name": "LayoutModel",
     "state": {
      "_model_module": "@jupyter-widgets/base",
      "_model_module_version": "1.2.0",
      "_model_name": "LayoutModel",
      "_view_count": null,
      "_view_module": "@jupyter-widgets/base",
      "_view_module_version": "1.2.0",
      "_view_name": "LayoutView",
      "align_content": null,
      "align_items": null,
      "align_self": null,
      "border": null,
      "bottom": null,
      "display": null,
      "flex": null,
      "flex_flow": null,
      "grid_area": null,
      "grid_auto_columns": null,
      "grid_auto_flow": null,
      "grid_auto_rows": null,
      "grid_column": null,
      "grid_gap": null,
      "grid_row": null,
      "grid_template_areas": null,
      "grid_template_columns": null,
      "grid_template_rows": null,
      "height": null,
      "justify_content": null,
      "justify_items": null,
      "left": null,
      "margin": null,
      "max_height": null,
      "max_width": null,
      "min_height": null,
      "min_width": null,
      "object_fit": null,
      "object_position": null,
      "order": null,
      "overflow": null,
      "overflow_x": null,
      "overflow_y": null,
      "padding": null,
      "right": null,
      "top": null,
      "visibility": null,
      "width": null
     }
    },
    "91940526832e49b49e2c08063927172c": {
     "model_module": "@jupyter-widgets/controls",
     "model_name": "DescriptionStyleModel",
     "state": {
      "_model_module": "@jupyter-widgets/controls",
      "_model_module_version": "1.5.0",
      "_model_name": "DescriptionStyleModel",
      "_view_count": null,
      "_view_module": "@jupyter-widgets/base",
      "_view_module_version": "1.2.0",
      "_view_name": "StyleView",
      "description_width": ""
     }
    },
    "9a8af6a903024b87960537b357f87b78": {
     "model_module": "@jupyter-widgets/base",
     "model_name": "LayoutModel",
     "state": {
      "_model_module": "@jupyter-widgets/base",
      "_model_module_version": "1.2.0",
      "_model_name": "LayoutModel",
      "_view_count": null,
      "_view_module": "@jupyter-widgets/base",
      "_view_module_version": "1.2.0",
      "_view_name": "LayoutView",
      "align_content": null,
      "align_items": null,
      "align_self": null,
      "border": null,
      "bottom": null,
      "display": null,
      "flex": null,
      "flex_flow": null,
      "grid_area": null,
      "grid_auto_columns": null,
      "grid_auto_flow": null,
      "grid_auto_rows": null,
      "grid_column": null,
      "grid_gap": null,
      "grid_row": null,
      "grid_template_areas": null,
      "grid_template_columns": null,
      "grid_template_rows": null,
      "height": null,
      "justify_content": null,
      "justify_items": null,
      "left": null,
      "margin": null,
      "max_height": null,
      "max_width": null,
      "min_height": null,
      "min_width": null,
      "object_fit": null,
      "object_position": null,
      "order": null,
      "overflow": null,
      "overflow_x": null,
      "overflow_y": null,
      "padding": null,
      "right": null,
      "top": null,
      "visibility": null,
      "width": null
     }
    },
    "ac377a7d5247448aadd1a136b507bc5a": {
     "model_module": "@jupyter-widgets/controls",
     "model_name": "FloatProgressModel",
     "state": {
      "_dom_classes": [],
      "_model_module": "@jupyter-widgets/controls",
      "_model_module_version": "1.5.0",
      "_model_name": "FloatProgressModel",
      "_view_count": null,
      "_view_module": "@jupyter-widgets/controls",
      "_view_module_version": "1.5.0",
      "_view_name": "ProgressView",
      "bar_style": "danger",
      "description": "",
      "description_tooltip": null,
      "layout": "IPY_MODEL_4cc9a6fc233a4f3798ea54be7bd07be3",
      "max": 100,
      "min": 0,
      "orientation": "horizontal",
      "style": "IPY_MODEL_5c30be5c01ed4831899375837878db39",
      "value": 93
     }
    },
    "b171f801d25b4aa7a7ce3f8852b80c75": {
     "model_module": "@jupyter-widgets/controls",
     "model_name": "HBoxModel",
     "state": {
      "_dom_classes": [],
      "_model_module": "@jupyter-widgets/controls",
      "_model_module_version": "1.5.0",
      "_model_name": "HBoxModel",
      "_view_count": null,
      "_view_module": "@jupyter-widgets/controls",
      "_view_module_version": "1.5.0",
      "_view_name": "HBoxView",
      "box_style": "",
      "children": [
       "IPY_MODEL_71d6ebf0b91948bd841b51f4ded387b2",
       "IPY_MODEL_f753f90d69d84df881dcd82640e14873",
       "IPY_MODEL_ed0b902c8e3046ba86d34bb0d2a5f586"
      ],
      "layout": "IPY_MODEL_76ca9f189a5e4d0a929e215e456315c3"
     }
    },
    "d186efc3594940e6be65b068885298bd": {
     "model_module": "@jupyter-widgets/controls",
     "model_name": "ProgressStyleModel",
     "state": {
      "_model_module": "@jupyter-widgets/controls",
      "_model_module_version": "1.5.0",
      "_model_name": "ProgressStyleModel",
      "_view_count": null,
      "_view_module": "@jupyter-widgets/base",
      "_view_module_version": "1.2.0",
      "_view_name": "StyleView",
      "bar_color": null,
      "description_width": ""
     }
    },
    "df737edb2bd74ee49bb6556f37067985": {
     "model_module": "@jupyter-widgets/base",
     "model_name": "LayoutModel",
     "state": {
      "_model_module": "@jupyter-widgets/base",
      "_model_module_version": "1.2.0",
      "_model_name": "LayoutModel",
      "_view_count": null,
      "_view_module": "@jupyter-widgets/base",
      "_view_module_version": "1.2.0",
      "_view_name": "LayoutView",
      "align_content": null,
      "align_items": null,
      "align_self": null,
      "border": null,
      "bottom": null,
      "display": null,
      "flex": null,
      "flex_flow": null,
      "grid_area": null,
      "grid_auto_columns": null,
      "grid_auto_flow": null,
      "grid_auto_rows": null,
      "grid_column": null,
      "grid_gap": null,
      "grid_row": null,
      "grid_template_areas": null,
      "grid_template_columns": null,
      "grid_template_rows": null,
      "height": null,
      "justify_content": null,
      "justify_items": null,
      "left": null,
      "margin": null,
      "max_height": null,
      "max_width": null,
      "min_height": null,
      "min_width": null,
      "object_fit": null,
      "object_position": null,
      "order": null,
      "overflow": null,
      "overflow_x": null,
      "overflow_y": null,
      "padding": null,
      "right": null,
      "top": null,
      "visibility": null,
      "width": null
     }
    },
    "e7d63586dc1b44ad8175f0666499f009": {
     "model_module": "@jupyter-widgets/controls",
     "model_name": "DescriptionStyleModel",
     "state": {
      "_model_module": "@jupyter-widgets/controls",
      "_model_module_version": "1.5.0",
      "_model_name": "DescriptionStyleModel",
      "_view_count": null,
      "_view_module": "@jupyter-widgets/base",
      "_view_module_version": "1.2.0",
      "_view_name": "StyleView",
      "description_width": ""
     }
    },
    "ed0b902c8e3046ba86d34bb0d2a5f586": {
     "model_module": "@jupyter-widgets/controls",
     "model_name": "HTMLModel",
     "state": {
      "_dom_classes": [],
      "_model_module": "@jupyter-widgets/controls",
      "_model_module_version": "1.5.0",
      "_model_name": "HTMLModel",
      "_view_count": null,
      "_view_module": "@jupyter-widgets/controls",
      "_view_module_version": "1.5.0",
      "_view_name": "HTMLView",
      "description": "",
      "description_tooltip": null,
      "layout": "IPY_MODEL_71a408cf181e4adcbd4a626f864ed7f3",
      "placeholder": "​",
      "style": "IPY_MODEL_e7d63586dc1b44ad8175f0666499f009",
      "value": " 90/100 [00:00&lt;00:00, 289.40it/s]"
     }
    },
    "f753f90d69d84df881dcd82640e14873": {
     "model_module": "@jupyter-widgets/controls",
     "model_name": "FloatProgressModel",
     "state": {
      "_dom_classes": [],
      "_model_module": "@jupyter-widgets/controls",
      "_model_module_version": "1.5.0",
      "_model_name": "FloatProgressModel",
      "_view_count": null,
      "_view_module": "@jupyter-widgets/controls",
      "_view_module_version": "1.5.0",
      "_view_name": "ProgressView",
      "bar_style": "danger",
      "description": "",
      "description_tooltip": null,
      "layout": "IPY_MODEL_5d1ae580312f48df9f3a931e680e4371",
      "max": 100,
      "min": 0,
      "orientation": "horizontal",
      "style": "IPY_MODEL_d186efc3594940e6be65b068885298bd",
      "value": 90
     }
    }
   }
  }
 },
 "nbformat": 4,
 "nbformat_minor": 1
}
