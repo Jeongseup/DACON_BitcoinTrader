{
 "cells": [
  {
   "cell_type": "markdown",
   "metadata": {
    "id": "O96S8VwXZvoZ"
   },
   "source": [
    "### 데이콘 비트코인 가격 예측 - Prophet"
   ]
  },
  {
   "cell_type": "code",
   "execution_count": 1,
   "metadata": {
    "colab": {
     "base_uri": "https://localhost:8080/"
    },
    "id": "_KXCuk9-Zsqv",
    "outputId": "051fdaed-faad-4c68-c7d0-f0d6d089be89"
   },
   "outputs": [],
   "source": [
    "import os, datetime\n",
    "import numpy as np\n",
    "import pandas as pd\n",
    "from tqdm import tqdm\n",
    "\n",
    "import IPython\n",
    "import IPython.display\n",
    "import matplotlib.pyplot as plt\n",
    "\n",
    "from neuralprophet import NeuralProphet\n",
    "import preprocessor, coin_simulation\n",
    "\n",
    "# modeling programing\n",
    "def neural_prophet_modeling(input_array):\n",
    "    ''' 함수 설명 : prophet fitting & prediction'''\n",
    "    \n",
    "    #미래 데이터 저장을 위한 빈 array 생성\n",
    "    valid_pred_array =  np.zeros([input_array.shape[0], 120])\n",
    "    error_counter = 0\n",
    "    \n",
    "    #모델 돌리기 및 결과 저장\n",
    "    for idx in tqdm(range(input_array.shape[0])):\n",
    "        try:\n",
    "            x_series = input_array[idx,:].reshape(-1)\n",
    "            x_df = prophet_preprocessor(x_series)\n",
    "\n",
    "            model = NeuralProphet(\n",
    "                          n_changepoints = 20,\n",
    "                          d_hidden = 30,\n",
    "                          changepoints_range = 0.95,\n",
    "                          num_hidden_layers = 1,\n",
    "\n",
    "                          learning_rate = 0.1, epochs=40, batch_size = 32, loss_func=\"Huber\",\n",
    "                          seasonality_mode = 'multiplicative',\n",
    "                          yearly_seasonality = False, weekly_seasonality = False, daily_seasonality = False,\n",
    "                          normalize='off' # Type of normalization ('minmax', 'standardize', 'soft', 'off')\n",
    "                         )\n",
    "    \n",
    "            model.add_seasonality(name='first_seasonality', period=1/24, fourier_order= 7 ) \n",
    "            model.add_seasonality(name='second_seasonality', period=1/12, fourier_order= 15)\n",
    "\n",
    "            metrics = model.fit(x_df, freq=\"min\")\n",
    "\n",
    "            future = model.make_future_dataframe(x_df, periods=120)\n",
    "            forecast = model.predict(future)\n",
    "    \n",
    "            valid_pred_array[idx,:] = forecast.yhat1.values[-120:]\n",
    "            IPython.display.clear_output()\n",
    "            \n",
    "        except:\n",
    "            error_counter += 1\n",
    "            print(f'Neural Prophet modeling error!')\n",
    "            IPython.display.clear_output()\n",
    "            pass\n",
    "    \n",
    "    # clear display\n",
    "    IPython.display.clear_output()\n",
    "    print(f'''\n",
    "    NOTE : {len(input_array)}의 샘플 내 {error_counter}개의 샘플에서 에러가 발생했습니다.\\n\n",
    "    Prediction Complete!'\n",
    "    '''\n",
    "    )        \n",
    "\n",
    "    return valid_pred_array\n",
    "\n",
    "def prophet_preprocessor(x_series):\n",
    "    ''' 함수 설명 : 빈 x_df 만들기'''\n",
    "    # start time initialization\n",
    "    start_time = '2021-01-01 00:00:00'\n",
    "    start_dt = datetime.datetime.strptime(start_time, '%Y-%m-%d %H:%M:%S')\n",
    "\n",
    "    # datafram 만들기\n",
    "    x_df = pd.DataFrame()\n",
    "    # 분당 시간 데이터 시리즈 입력\n",
    "    x_df['ds'] = [start_dt + datetime.timedelta(minutes = time_min) for time_min in np.arange(1, x_series.shape[0]+1).tolist()]\n",
    "    # 가격 데이터 시리즈 입력\n",
    "    x_df['y'] = x_series.tolist()\n",
    "\n",
    "    return x_df"
   ]
  },
  {
   "cell_type": "code",
   "execution_count": 2,
   "metadata": {
    "colab": {
     "base_uri": "https://localhost:8080/",
     "height": 265
    },
    "id": "FUSMdnpycLs0",
    "outputId": "4cdf9c0d-601e-4c14-f107-04bedf414a0b"
   },
   "outputs": [
    {
     "name": "stdout",
     "output_type": "stream",
     "text": [
      "Reading Complete!\n"
     ]
    }
   ],
   "source": [
    "### ------------ Data upload part ---------------- ###\n",
    "\n",
    "# 데이터가 위치한 폴더 경로\n",
    "dir_path = './data'\n",
    "\n",
    "# 파일명 설정\n",
    "x_file_name, y_file_name = 'train_x_df.csv', 'train_y_df.csv'\n",
    "x_file_path = os.path.join(dir_path, x_file_name)\n",
    "y_file_path = os.path.join(dir_path, y_file_name)\n",
    "\n",
    "#파일 업로드\n",
    "train_x_df = pd.read_csv(x_file_path)\n",
    "train_y_df = pd.read_csv(y_file_path)\n",
    "print(\"Reading Complete!\")\n",
    "\n",
    "\n",
    "\n",
    "### --------------- Modeling part ---------------- ###\n",
    "\n",
    "# 데이터 전처리 1 : dafaframe to array \n",
    "train_x_array = preprocessor.df2d_to_array3d(train_x_df)\n",
    "train_y_array = preprocessor.df2d_to_array3d(train_y_df)\n",
    "\n",
    "# 데이터 전처리 2 : 실수 차분(Fractional Differencing)\n",
    "FFD_train_x_array = preprocessor.FFD_smoothing(train_x_array) #자동으로 383개만 추출 시켜둠.\n",
    "\n",
    "# 데이터 전처리 2-2 : 비차분 open 데이터 추출\n",
    "# normal_x_array = train_x_array[:383, :, 1].reshape(383, 1380, 1) # open col is 1"
   ]
  },
  {
   "cell_type": "code",
   "execution_count": 3,
   "metadata": {},
   "outputs": [
    {
     "name": "stdout",
     "output_type": "stream",
     "text": [
      "1232131\n"
     ]
    }
   ],
   "source": [
    "print(1232131)"
   ]
  },
  {
   "cell_type": "code",
   "execution_count": 4,
   "metadata": {},
   "outputs": [
    {
     "name": "stdout",
     "output_type": "stream",
     "text": [
      "\n",
      "    NOTE : 383의 샘플 내 0개의 샘플에서 에러가 발생했습니다.\n",
      "\n",
      "    Prediction Complete!'\n",
      "    \n"
     ]
    }
   ],
   "source": [
    "# 모델링 시작\n",
    "valid_pred_array = neural_prophet_modeling(FFD_train_x_array)\n",
    "save_file_name = 'FFD_neural_prophet_result2.csv'\n",
    "np.savetxt(save_file_name, valid_pred_array, delimiter = \",\")\n"
   ]
  },
  {
   "cell_type": "code",
   "execution_count": 50,
   "metadata": {},
   "outputs": [],
   "source": [
    "import profit_function\n",
    "\n",
    "# arguments : pred array, start_idx, increase_rate\n",
    "valid_submission = profit_function.array_to_submission(valid_pred_array, start_idx = 0, increase_rate = 1.01)\n",
    "valid_y_array = train_y_array[:383, :, 1]\n",
    "total_money, total_money_list = profit_function.COIN(y_array=valid_y_array, submission=valid_submission)"
   ]
  },
  {
   "cell_type": "code",
   "execution_count": 51,
   "metadata": {},
   "outputs": [
    {
     "name": "stdout",
     "output_type": "stream",
     "text": [
      "11406.797940622964\n"
     ]
    },
    {
     "data": {
      "image/png": "[encoded data removed]",
      "text/plain": [
       "<Figure size 432x288 with 1 Axes>"
      ]
     },
     "metadata": {
      "needs_background": "light"
     },
     "output_type": "display_data"
    }
   ],
   "source": [
    "print(total_money)\n",
    "plt.plot(total_money_list)\n",
    "plt.title(total_money)\n",
    "plt.show()"
   ]
  },
  {
   "cell_type": "code",
   "execution_count": null,
   "metadata": {},
   "outputs": [],
   "source": []
  }
 ],
 "metadata": {
  "colab": {
   "name": "Prophet pilot.ipynb",
   "provenance": []
  },
  "kernelspec": {
   "display_name": "Python 3",
   "language": "python",
   "name": "python3"
  },
  "language_info": {
   "codemirror_mode": {
    "name": "ipython",
    "version": 3
   },
   "file_extension": ".py",
   "mimetype": "text/x-python",
   "name": "python",
   "nbconvert_exporter": "python",
   "pygments_lexer": "ipython3",
   "version": "3.7.10"
  }
 },
 "nbformat": 4,
 "nbformat_minor": 1
}
