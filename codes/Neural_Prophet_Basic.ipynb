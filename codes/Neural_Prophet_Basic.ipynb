{
 "cells": [
  {
   "cell_type": "markdown",
   "metadata": {
    "id": "jjd_FYTo-5sJ"
   },
   "source": [
    "## 데이콘 비트코인 가격 예측 - Neural Prophet pilot"
   ]
  },
  {
   "cell_type": "markdown",
   "metadata": {
    "id": "gBfguJyLAHXi"
   },
   "source": [
    "### library install & import, data load"
   ]
  },
  {
   "cell_type": "code",
   "execution_count": 1,
   "metadata": {
    "id": "6qWnerYW_Mlj"
   },
   "outputs": [],
   "source": [
    "# !pip install neuralprophet"
   ]
  },
  {
   "cell_type": "code",
   "execution_count": 1,
   "metadata": {
    "colab": {
     "base_uri": "https://localhost:8080/"
    },
    "id": "iVWECeL7_r1k",
    "outputId": "d4b3618c-f231-45c6-a70f-3b63ac4eb470"
   },
   "outputs": [
    {
     "name": "stdout",
     "output_type": "stream",
     "text": [
      "Reading Complete!\n"
     ]
    }
   ],
   "source": [
    "# import library\n",
    "import math\n",
    "import os\n",
    "import gc\n",
    "import time\n",
    "from datetime import timedelta, datetime\n",
    "from dateutil import parser\n",
    "import copy\n",
    "import random as ran\n",
    "import datetime\n",
    "\n",
    "import pandas as pd\n",
    "import numpy as np\n",
    "from sklearn.metrics import mean_squared_error\n",
    "\n",
    "from tqdm import tqdm\n",
    "import matplotlib.pyplot as plt\n",
    "%matplotlib inline\n",
    "\n",
    "# model\n",
    "from neuralprophet import NeuralProphet\n",
    "from neuralprophet import set_random_seed\n",
    "\n",
    "set_random_seed(777)\n",
    "\n",
    "# read file\n",
    "train_x_df = pd.read_csv(\"./data/train_x_df.csv\")\n",
    "train_y_df = pd.read_csv(\"./data/train_y_df.csv\")\n",
    "print(\"Reading Complete!\")\n",
    "\n"
   ]
  },
  {
   "cell_type": "markdown",
   "metadata": {
    "id": "dlz8emTXAazD"
   },
   "source": [
    "### data preprocess functions"
   ]
  },
  {
   "cell_type": "code",
   "execution_count": 2,
   "metadata": {
    "id": "lll_1nWKABKS"
   },
   "outputs": [],
   "source": [
    "def df2d_to_array3d(df_2d):\n",
    "\n",
    "    ''' 입력 받은 2차원 데이터 프레임을 3차원 numpy array로 변경하는 함수 '''\n",
    "\n",
    "    feature_size = df_2d.iloc[:,2:].shape[1]\n",
    "    time_size = len(df_2d.time.value_counts())\n",
    "    sample_size = len(df_2d.sample_id.value_counts())\n",
    "    array_3d = df_2d.iloc[:,2:].values.reshape([sample_size, time_size, feature_size])\n",
    "    return array_3d\n",
    "\n",
    "def plot_series(train_x_df, train_y_df):\n",
    "    \n",
    "    ''' 입력 series와 출력 series를 연속적으로 연결하여 시각적으로 보여주는 함수 '''\n",
    "    \n",
    "    plt.plot(train_x_df, label = 'input_series')\n",
    "    plt.plot(np.arange(len(train_x_df), len(train_x_df)+len(train_y_df)),\n",
    "             train_y_df, label = 'output_series')\n",
    "    plt.axhline(1, c = 'red')\n",
    "    plt.legend()"
   ]
  },
  {
   "cell_type": "markdown",
   "metadata": {
    "id": "AtNfJy4jBPaZ"
   },
   "source": [
    "### data reshaping"
   ]
  },
  {
   "cell_type": "code",
   "execution_count": 3,
   "metadata": {
    "colab": {
     "base_uri": "https://localhost:8080/"
    },
    "id": "jWCGF6i8A13L",
    "outputId": "18f71509-c848-4fe3-ed32-9ddac4ac0fe8"
   },
   "outputs": [
    {
     "name": "stdout",
     "output_type": "stream",
     "text": [
      "\n",
      "\n",
      "train_x_array (1380,)\n",
      "train_y_array (120,)\n",
      "\n",
      "\n"
     ]
    }
   ],
   "source": [
    "train_x_array = df2d_to_array3d(train_x_df)\n",
    "train_y_array = df2d_to_array3d(train_y_df)\n",
    "\n",
    "idx = 7657 #coin num = 9, sammple id = 7657 \n",
    "data_col_idx = 1 # 1 open, 2 high\n",
    "\n",
    "# open 가격만 가지고 arima 시행\n",
    "x_series = train_x_array[idx,:,data_col_idx] \n",
    "y_series = train_y_array[idx,:,data_col_idx]\n",
    "\n",
    "print(f'''\n",
    "\n",
    "train_x_array {x_series.shape}\n",
    "train_y_array {y_series.shape}\n",
    "\n",
    "''')"
   ]
  },
  {
   "cell_type": "markdown",
   "metadata": {
    "id": "5rvNuKg6Bcpj"
   },
   "source": [
    "### data preprocess for prophet"
   ]
  },
  {
   "cell_type": "code",
   "execution_count": 4,
   "metadata": {
    "colab": {
     "base_uri": "https://localhost:8080/",
     "height": 204
    },
    "id": "JqjzrEe1BMXa",
    "outputId": "5e223b54-a399-4b60-ebac-92ffed14535e"
   },
   "outputs": [],
   "source": [
    "\n",
    "start_time = '2021-01-31 00:00:00'\n",
    "start_dt = datetime.datetime.strptime(start_time, '%Y-%m-%d %H:%M:%S')\n",
    "\n",
    "# datafram 만들기\n",
    "x_df = pd.DataFrame()\n",
    "# 분당 시간 데이터 시리즈 입력\n",
    "x_df['ds'] = [start_dt + datetime.timedelta(minutes = time_min) for time_min in np.arange(1, x_series.shape[0]+1).tolist()]\n",
    "# 가격 데이터 시리즈 입력\n",
    "x_df['y'] = x_series.tolist()\n",
    "\n",
    "# x_df.head()"
   ]
  },
  {
   "cell_type": "markdown",
   "metadata": {
    "id": "gNaL9Xl_B1AB"
   },
   "source": [
    "### modeling1 - original prophet drive"
   ]
  },
  {
   "cell_type": "code",
   "execution_count": 5,
   "metadata": {},
   "outputs": [
    {
     "ename": "TypeError",
     "evalue": "add_seasonality() got an unexpected keyword argument 'seasonality_mode'",
     "output_type": "error",
     "traceback": [
      "\u001b[1;31m---------------------------------------------------------------------------\u001b[0m",
      "\u001b[1;31mTypeError\u001b[0m                                 Traceback (most recent call last)",
      "\u001b[1;32m<ipython-input-5-002d184ceeeb>\u001b[0m in \u001b[0;36m<module>\u001b[1;34m\u001b[0m\n\u001b[0;32m      5\u001b[0m )\n\u001b[0;32m      6\u001b[0m \u001b[1;33m\u001b[0m\u001b[0m\n\u001b[1;32m----> 7\u001b[1;33m \u001b[0mm\u001b[0m\u001b[1;33m.\u001b[0m\u001b[0madd_seasonality\u001b[0m\u001b[1;33m(\u001b[0m\u001b[0mname\u001b[0m\u001b[1;33m=\u001b[0m\u001b[1;34m'first_seasonality'\u001b[0m\u001b[1;33m,\u001b[0m \u001b[0mperiod\u001b[0m\u001b[1;33m=\u001b[0m\u001b[1;36m1\u001b[0m\u001b[1;33m/\u001b[0m\u001b[1;36m12\u001b[0m\u001b[1;33m,\u001b[0m \u001b[0mfourier_order\u001b[0m\u001b[1;33m=\u001b[0m\u001b[1;36m7\u001b[0m\u001b[1;33m,\u001b[0m \u001b[0mseasonality_mode\u001b[0m\u001b[1;33m=\u001b[0m\u001b[1;34m\"multiplicative\"\u001b[0m\u001b[1;33m)\u001b[0m \u001b[1;31m# seasonality 추가\u001b[0m\u001b[1;33m\u001b[0m\u001b[1;33m\u001b[0m\u001b[0m\n\u001b[0m\u001b[0;32m      8\u001b[0m \u001b[0mm\u001b[0m\u001b[1;33m.\u001b[0m\u001b[0madd_seasonality\u001b[0m\u001b[1;33m(\u001b[0m\u001b[0mname\u001b[0m\u001b[1;33m=\u001b[0m\u001b[1;34m'second_seasonality'\u001b[0m\u001b[1;33m,\u001b[0m \u001b[0mperiod\u001b[0m\u001b[1;33m=\u001b[0m\u001b[1;36m1\u001b[0m\u001b[1;33m/\u001b[0m\u001b[1;36m8\u001b[0m\u001b[1;33m,\u001b[0m \u001b[0mfourier_order\u001b[0m\u001b[1;33m=\u001b[0m\u001b[1;36m15\u001b[0m\u001b[1;33m)\u001b[0m \u001b[1;31m# seasonality 추가\u001b[0m\u001b[1;33m\u001b[0m\u001b[1;33m\u001b[0m\u001b[0m\n\u001b[0;32m      9\u001b[0m \u001b[1;33m\u001b[0m\u001b[0m\n",
      "\u001b[1;31mTypeError\u001b[0m: add_seasonality() got an unexpected keyword argument 'seasonality_mode'"
     ]
    }
   ],
   "source": [
    "m = NeuralProphet(\n",
    "    seasonality_mode = 'multiplicative',\n",
    "    n_changepoints= 10, # changepoint_prior_scale, in original prophet\n",
    "    changepoints_range=0.90, \n",
    ")\n",
    "\n",
    "m.add_seasonality(name='first_seasonality', period=1/12, fourier_order=7) # seasonality 추가\n",
    "m.add_seasonality(name='second_seasonality', period=1/8, fourier_order=15) # seasonality 추가\n",
    "\n",
    "metrics = m.fit(x_df, freq=\"min\")\n",
    "future = m.make_future_dataframe(x_df, periods=120, n_historic_predictions=len(x_df))\n",
    "forecast = m.predict(future)"
   ]
  },
  {
   "cell_type": "code",
   "execution_count": null,
   "metadata": {},
   "outputs": [],
   "source": [
    "# fig = m.plot_components(forecast, residuals=True)\n",
    "# fig2 = m.plot_parameters()\n",
    "fig1 = m.plot(forecast)"
   ]
  },
  {
   "cell_type": "code",
   "execution_count": 135,
   "metadata": {},
   "outputs": [
    {
     "data": {
      "image/png": "[encoded data removed]",
      "text/plain": [
       "<Figure size 432x288 with 1 Axes>"
      ]
     },
     "metadata": {
      "needs_background": "light"
     },
     "output_type": "display_data"
    }
   ],
   "source": [
    "plt.plot(np.arange(1380, 1380+120), y_series, label = 'True series')\n",
    "plt.plot(np.arange(1380, 1380+120), forecast.yhat1.values[-120:], label = 'Neural Prophet1')\n",
    "plt.legend()\n",
    "plt.show()\n",
    "\n",
    "error = mean_squared_error(y_series, forecast.yhat1.values[-120:])\n",
    "print(\"Prophet MSE*10E5 is {}\".format(error * 10E5))\n"
   ]
  },
  {
   "cell_type": "code",
   "execution_count": 137,
   "metadata": {},
   "outputs": [
    {
     "name": "stdout",
     "output_type": "stream",
     "text": [
      "Prophet MSE*10E5 is 0.9410592763418618\n"
     ]
    }
   ],
   "source": [
    "error = mean_squared_error(y_series, forecast.yhat1.values[-120:])\n",
    "print(\"Prophet MSE*10E5 is {}\".format(error * 10E5))\n"
   ]
  },
  {
   "cell_type": "markdown",
   "metadata": {},
   "source": [
    "### modeling2 - neural prophet drive with seasonality_reg"
   ]
  },
  {
   "cell_type": "code",
   "execution_count": 184,
   "metadata": {},
   "outputs": [
    {
     "name": "stderr",
     "output_type": "stream",
     "text": [
      "INFO: nprophet.config - __post_init__: Note: Fourier-based seasonality regularization is experimental.\n",
      "WARNING: nprophet - fit: Parts of code may break if using other than daily data.\n",
      "INFO: nprophet.utils - set_auto_seasonalities: Disabling yearly seasonality. Run NeuralProphet with yearly_seasonality=True to override this.\n",
      "INFO: nprophet.utils - set_auto_seasonalities: Disabling weekly seasonality. Run NeuralProphet with weekly_seasonality=True to override this.\n",
      "INFO: nprophet.utils - set_auto_seasonalities: Disabling daily seasonality. Run NeuralProphet with daily_seasonality=True to override this.\n",
      "INFO: nprophet.config - set_auto_batch_epoch: Auto-set batch_size to 32\n",
      "INFO: nprophet.config - set_auto_batch_epoch: Auto-set epochs to 46\n"
     ]
    },
    {
     "data": {
      "application/vnd.jupyter.widget-view+json": {
       "model_id": "2c10133d5ccc455daf2754622c941eef",
       "version_major": 2,
       "version_minor": 0
      },
      "text/plain": [
       "  0%|          | 0/100 [00:00<?, ?it/s]"
      ]
     },
     "metadata": {},
     "output_type": "display_data"
    },
    {
     "name": "stderr",
     "output_type": "stream",
     "text": [
      "INFO: nprophet - _lr_range_test: learning rate range test found optimal lr: 2.31E-01\n",
      "Epoch[46/46]: 100%|█| 46/46 [00:04<00:00,  9.22it/s, SmoothL1Loss=0.00966, MAE=0.00173, RegL\n"
     ]
    }
   ],
   "source": [
    "m = NeuralProphet(\n",
    "    seasonality_mode = 'multiplicative',\n",
    "    n_changepoints= 10, # changepoint_prior_scale, in original prophet\n",
    "    seasonality_reg = 0.1, #seasonality regularization, 좀 더 선형적으로 그려줌\n",
    "    changepoints_range=0.90, \n",
    "    \n",
    ")\n",
    "\n",
    "m.add_seasonality(name='first_seasonality', period=1/12, fourier_order=7) # seasonality 추가\n",
    "m.add_seasonality(name='second_seasonality', period=1/8, fourier_order=15) # seasonality 추가\n",
    "\n",
    "metrics = m.fit(x_df, freq=\"min\")\n",
    "future = m.make_future_dataframe(x_df, periods=120, n_historic_predictions=len(x_df))\n",
    "forecast = m.predict(future)"
   ]
  },
  {
   "cell_type": "code",
   "execution_count": 185,
   "metadata": {},
   "outputs": [
    {
     "data": {
      "image/png": "[encoded data removed]",
      "text/plain": [
       "<Figure size 432x288 with 1 Axes>"
      ]
     },
     "metadata": {
      "needs_background": "light"
     },
     "output_type": "display_data"
    },
    {
     "name": "stdout",
     "output_type": "stream",
     "text": [
      "Prophet MSE*10E5 is 0.6396943151780092\n"
     ]
    }
   ],
   "source": [
    "plt.plot(np.arange(1380, 1380+120), y_series, label = 'True series')\n",
    "plt.plot(np.arange(1380, 1380+120), forecast.yhat1.values[-120:], label = 'Neural Prophet1')\n",
    "plt.legend()\n",
    "plt.show()\n",
    "\n",
    "error = mean_squared_error(y_series, forecast.yhat1.values[-120:])\n",
    "print(\"Prophet MSE*10E5 is {}\".format(error * 10E5))\n"
   ]
  },
  {
   "cell_type": "markdown",
   "metadata": {},
   "source": [
    "### modeling3 - neural prophet drive using AR-Net -> 구닥다리..."
   ]
  },
  {
   "cell_type": "code",
   "execution_count": 229,
   "metadata": {},
   "outputs": [
    {
     "name": "stderr",
     "output_type": "stream",
     "text": [
      "WARNING: nprophet - fit: Parts of code may break if using other than daily data.\n",
      "INFO: nprophet.utils - set_auto_seasonalities: Disabling yearly seasonality. Run NeuralProphet with yearly_seasonality=True to override this.\n",
      "INFO: nprophet.utils - set_auto_seasonalities: Disabling weekly seasonality. Run NeuralProphet with weekly_seasonality=True to override this.\n",
      "INFO: nprophet.utils - set_auto_seasonalities: Disabling daily seasonality. Run NeuralProphet with daily_seasonality=True to override this.\n",
      "INFO: nprophet.config - set_auto_batch_epoch: Auto-set batch_size to 32\n",
      "INFO: nprophet.config - set_auto_batch_epoch: Auto-set epochs to 46\n"
     ]
    },
    {
     "data": {
      "application/vnd.jupyter.widget-view+json": {
       "model_id": "d1afb1c64dda4209abc199297bc3e39f",
       "version_major": 2,
       "version_minor": 0
      },
      "text/plain": [
       "  0%|          | 0/100 [00:00<?, ?it/s]"
      ]
     },
     "metadata": {},
     "output_type": "display_data"
    },
    {
     "name": "stderr",
     "output_type": "stream",
     "text": [
      "INFO: nprophet - _lr_range_test: learning rate range test found optimal lr: 4.33E-03\n",
      "Epoch[46/46]: 100%|█| 46/46 [00:15<00:00,  2.92it/s, SmoothL1Loss=0.00206, MAE=0.000818, Smo\n",
      "WARNING: nprophet - make_future_dataframe: Insufficient data for 1380 historic forecasts, reduced to 1140.\n"
     ]
    }
   ],
   "source": [
    "m = NeuralProphet(\n",
    "#     # trend & seasonal\n",
    "#     seasonality_mode=\"multiplicative\",\n",
    "#     n_changepoints=10,\n",
    "#     seasonality_reg=0.1,\n",
    "#     changepoints_range=0.9,\n",
    "    \n",
    "    # AR-Net\n",
    "    n_forecasts= 120,\n",
    "    n_lags= 240,\n",
    "    \n",
    "    yearly_seasonality='auto',\n",
    "    weekly_seasonality='auto',\n",
    "    daily_seasonality='auto',\n",
    "    \n",
    "    num_hidden_layers=2,\n",
    ")\n",
    "\n",
    "metrics = m.fit(x_df, freq=\"min\")\n",
    "future = m.make_future_dataframe(x_df, periods=120, n_historic_predictions=len(x_df))\n",
    "forecast = m.predict(future)"
   ]
  },
  {
   "cell_type": "code",
   "execution_count": 237,
   "metadata": {},
   "outputs": [
    {
     "data": {
      "image/png": "[encoded data removed]",
      "text/plain": [
       "<Figure size 432x288 with 1 Axes>"
      ]
     },
     "metadata": {
      "needs_background": "light"
     },
     "output_type": "display_data"
    },
    {
     "name": "stdout",
     "output_type": "stream",
     "text": [
      "Prophet MSE*10E5 is 983474.6284859496\n"
     ]
    }
   ],
   "source": [
    "plt.plot(np.arange(1380, 1380+120), y_series, label = 'True series')\n",
    "plt.plot(np.arange(1380, 1380+120), forecast.ar120.values[-120:], label = 'Neural Prophet1') # ar120 으로 해야함 기존 yhat이 아니라.\n",
    "plt.legend()\n",
    "plt.show()\n",
    "\n",
    "error = mean_squared_error(y_series, forecast.ar120.values[-120:])\n",
    "print(\"Prophet MSE*10E5 is {}\".format(error * 10E5))\n"
   ]
  }
 ],
 "metadata": {
  "colab": {
   "name": "Neural Prophet pilot.ipynb",
   "provenance": [],
   "toc_visible": true
  },
  "kernelspec": {
   "display_name": "Python 3",
   "language": "python",
   "name": "python3"
  },
  "language_info": {
   "codemirror_mode": {
    "name": "ipython",
    "version": 3
   },
   "file_extension": ".py",
   "mimetype": "text/x-python",
   "name": "python",
   "nbconvert_exporter": "python",
   "pygments_lexer": "ipython3",
   "version": "3.7.10"
  },
  "widgets": {
   "application/vnd.jupyter.widget-state+json": {
    "0bebe5ddaedb4ef1b3d684b6272aa51e": {
     "model_module": "@jupyter-widgets/base",
     "model_name": "LayoutModel",
     "state": {
      "_model_module": "@jupyter-widgets/base",
      "_model_module_version": "1.2.0",
      "_model_name": "LayoutModel",
      "_view_count": null,
      "_view_module": "@jupyter-widgets/base",
      "_view_module_version": "1.2.0",
      "_view_name": "LayoutView",
      "align_content": null,
      "align_items": null,
      "align_self": null,
      "border": null,
      "bottom": null,
      "display": null,
      "flex": null,
      "flex_flow": null,
      "grid_area": null,
      "grid_auto_columns": null,
      "grid_auto_flow": null,
      "grid_auto_rows": null,
      "grid_column": null,
      "grid_gap": null,
      "grid_row": null,
      "grid_template_areas": null,
      "grid_template_columns": null,
      "grid_template_rows": null,
      "height": null,
      "justify_content": null,
      "justify_items": null,
      "left": null,
      "margin": null,
      "max_height": null,
      "max_width": null,
      "min_height": null,
      "min_width": null,
      "object_fit": null,
      "object_position": null,
      "order": null,
      "overflow": null,
      "overflow_x": null,
      "overflow_y": null,
      "padding": null,
      "right": null,
      "top": null,
      "visibility": null,
      "width": null
     }
    },
    "31d3bd3231134e0092b50310ca65635c": {
     "model_module": "@jupyter-widgets/base",
     "model_name": "LayoutModel",
     "state": {
      "_model_module": "@jupyter-widgets/base",
      "_model_module_version": "1.2.0",
      "_model_name": "LayoutModel",
      "_view_count": null,
      "_view_module": "@jupyter-widgets/base",
      "_view_module_version": "1.2.0",
      "_view_name": "LayoutView",
      "align_content": null,
      "align_items": null,
      "align_self": null,
      "border": null,
      "bottom": null,
      "display": null,
      "flex": null,
      "flex_flow": null,
      "grid_area": null,
      "grid_auto_columns": null,
      "grid_auto_flow": null,
      "grid_auto_rows": null,
      "grid_column": null,
      "grid_gap": null,
      "grid_row": null,
      "grid_template_areas": null,
      "grid_template_columns": null,
      "grid_template_rows": null,
      "height": null,
      "justify_content": null,
      "justify_items": null,
      "left": null,
      "margin": null,
      "max_height": null,
      "max_width": null,
      "min_height": null,
      "min_width": null,
      "object_fit": null,
      "object_position": null,
      "order": null,
      "overflow": null,
      "overflow_x": null,
      "overflow_y": null,
      "padding": null,
      "right": null,
      "top": null,
      "visibility": null,
      "width": null
     }
    },
    "3646ec6f78be4fe69691ada465ee562a": {
     "model_module": "@jupyter-widgets/controls",
     "model_name": "DescriptionStyleModel",
     "state": {
      "_model_module": "@jupyter-widgets/controls",
      "_model_module_version": "1.5.0",
      "_model_name": "DescriptionStyleModel",
      "_view_count": null,
      "_view_module": "@jupyter-widgets/base",
      "_view_module_version": "1.2.0",
      "_view_name": "StyleView",
      "description_width": ""
     }
    },
    "4cc9a6fc233a4f3798ea54be7bd07be3": {
     "model_module": "@jupyter-widgets/base",
     "model_name": "LayoutModel",
     "state": {
      "_model_module": "@jupyter-widgets/base",
      "_model_module_version": "1.2.0",
      "_model_name": "LayoutModel",
      "_view_count": null,
      "_view_module": "@jupyter-widgets/base",
      "_view_module_version": "1.2.0",
      "_view_name": "LayoutView",
      "align_content": null,
      "align_items": null,
      "align_self": null,
      "border": null,
      "bottom": null,
      "display": null,
      "flex": null,
      "flex_flow": null,
      "grid_area": null,
      "grid_auto_columns": null,
      "grid_auto_flow": null,
      "grid_auto_rows": null,
      "grid_column": null,
      "grid_gap": null,
      "grid_row": null,
      "grid_template_areas": null,
      "grid_template_columns": null,
      "grid_template_rows": null,
      "height": null,
      "justify_content": null,
      "justify_items": null,
      "left": null,
      "margin": null,
      "max_height": null,
      "max_width": null,
      "min_height": null,
      "min_width": null,
      "object_fit": null,
      "object_position": null,
      "order": null,
      "overflow": null,
      "overflow_x": null,
      "overflow_y": null,
      "padding": null,
      "right": null,
      "top": null,
      "visibility": null,
      "width": null
     }
    },
    "58f26ed8aebc48228d9b0450ec647275": {
     "model_module": "@jupyter-widgets/controls",
     "model_name": "HTMLModel",
     "state": {
      "_dom_classes": [],
      "_model_module": "@jupyter-widgets/controls",
      "_model_module_version": "1.5.0",
      "_model_name": "HTMLModel",
      "_view_count": null,
      "_view_module": "@jupyter-widgets/controls",
      "_view_module_version": "1.5.0",
      "_view_name": "HTMLView",
      "description": "",
      "description_tooltip": null,
      "layout": "IPY_MODEL_0bebe5ddaedb4ef1b3d684b6272aa51e",
      "placeholder": "​",
      "style": "IPY_MODEL_91940526832e49b49e2c08063927172c",
      "value": " 93/100 [00:00&lt;00:00, 278.72it/s]"
     }
    },
    "5c30be5c01ed4831899375837878db39": {
     "model_module": "@jupyter-widgets/controls",
     "model_name": "ProgressStyleModel",
     "state": {
      "_model_module": "@jupyter-widgets/controls",
      "_model_module_version": "1.5.0",
      "_model_name": "ProgressStyleModel",
      "_view_count": null,
      "_view_module": "@jupyter-widgets/base",
      "_view_module_version": "1.2.0",
      "_view_name": "StyleView",
      "bar_color": null,
      "description_width": ""
     }
    },
    "5c908be6355b41b4b1d7ae6253cad6cf": {
     "model_module": "@jupyter-widgets/controls",
     "model_name": "HBoxModel",
     "state": {
      "_dom_classes": [],
      "_model_module": "@jupyter-widgets/controls",
      "_model_module_version": "1.5.0",
      "_model_name": "HBoxModel",
      "_view_count": null,
      "_view_module": "@jupyter-widgets/controls",
      "_view_module_version": "1.5.0",
      "_view_name": "HBoxView",
      "box_style": "",
      "children": [
       "IPY_MODEL_6638f804ae184a5bb0a4e60227cf34cc",
       "IPY_MODEL_ac377a7d5247448aadd1a136b507bc5a",
       "IPY_MODEL_58f26ed8aebc48228d9b0450ec647275"
      ],
      "layout": "IPY_MODEL_df737edb2bd74ee49bb6556f37067985"
     }
    },
    "5d1ae580312f48df9f3a931e680e4371": {
     "model_module": "@jupyter-widgets/base",
     "model_name": "LayoutModel",
     "state": {
      "_model_module": "@jupyter-widgets/base",
      "_model_module_version": "1.2.0",
      "_model_name": "LayoutModel",
      "_view_count": null,
      "_view_module": "@jupyter-widgets/base",
      "_view_module_version": "1.2.0",
      "_view_name": "LayoutView",
      "align_content": null,
      "align_items": null,
      "align_self": null,
      "border": null,
      "bottom": null,
      "display": null,
      "flex": null,
      "flex_flow": null,
      "grid_area": null,
      "grid_auto_columns": null,
      "grid_auto_flow": null,
      "grid_auto_rows": null,
      "grid_column": null,
      "grid_gap": null,
      "grid_row": null,
      "grid_template_areas": null,
      "grid_template_columns": null,
      "grid_template_rows": null,
      "height": null,
      "justify_content": null,
      "justify_items": null,
      "left": null,
      "margin": null,
      "max_height": null,
      "max_width": null,
      "min_height": null,
      "min_width": null,
      "object_fit": null,
      "object_position": null,
      "order": null,
      "overflow": null,
      "overflow_x": null,
      "overflow_y": null,
      "padding": null,
      "right": null,
      "top": null,
      "visibility": null,
      "width": null
     }
    },
    "6638f804ae184a5bb0a4e60227cf34cc": {
     "model_module": "@jupyter-widgets/controls",
     "model_name": "HTMLModel",
     "state": {
      "_dom_classes": [],
      "_model_module": "@jupyter-widgets/controls",
      "_model_module_version": "1.5.0",
      "_model_name": "HTMLModel",
      "_view_count": null,
      "_view_module": "@jupyter-widgets/controls",
      "_view_module_version": "1.5.0",
      "_view_name": "HTMLView",
      "description": "",
      "description_tooltip": null,
      "layout": "IPY_MODEL_9a8af6a903024b87960537b357f87b78",
      "placeholder": "​",
      "style": "IPY_MODEL_6cb2f77e9d234465ae4fc742258e2331",
      "value": " 93%"
     }
    },
    "6cb2f77e9d234465ae4fc742258e2331": {
     "model_module": "@jupyter-widgets/controls",
     "model_name": "DescriptionStyleModel",
     "state": {
      "_model_module": "@jupyter-widgets/controls",
      "_model_module_version": "1.5.0",
      "_model_name": "DescriptionStyleModel",
      "_view_count": null,
      "_view_module": "@jupyter-widgets/base",
      "_view_module_version": "1.2.0",
      "_view_name": "StyleView",
      "description_width": ""
     }
    },
    "71a408cf181e4adcbd4a626f864ed7f3": {
     "model_module": "@jupyter-widgets/base",
     "model_name": "LayoutModel",
     "state": {
      "_model_module": "@jupyter-widgets/base",
      "_model_module_version": "1.2.0",
      "_model_name": "LayoutModel",
      "_view_count": null,
      "_view_module": "@jupyter-widgets/base",
      "_view_module_version": "1.2.0",
      "_view_name": "LayoutView",
      "align_content": null,
      "align_items": null,
      "align_self": null,
      "border": null,
      "bottom": null,
      "display": null,
      "flex": null,
      "flex_flow": null,
      "grid_area": null,
      "grid_auto_columns": null,
      "grid_auto_flow": null,
      "grid_auto_rows": null,
      "grid_column": null,
      "grid_gap": null,
      "grid_row": null,
      "grid_template_areas": null,
      "grid_template_columns": null,
      "grid_template_rows": null,
      "height": null,
      "justify_content": null,
      "justify_items": null,
      "left": null,
      "margin": null,
      "max_height": null,
      "max_width": null,
      "min_height": null,
      "min_width": null,
      "object_fit": null,
      "object_position": null,
      "order": null,
      "overflow": null,
      "overflow_x": null,
      "overflow_y": null,
      "padding": null,
      "right": null,
      "top": null,
      "visibility": null,
      "width": null
     }
    },
    "71d6ebf0b91948bd841b51f4ded387b2": {
     "model_module": "@jupyter-widgets/controls",
     "model_name": "HTMLModel",
     "state": {
      "_dom_classes": [],
      "_model_module": "@jupyter-widgets/controls",
      "_model_module_version": "1.5.0",
      "_model_name": "HTMLModel",
      "_view_count": null,
      "_view_module": "@jupyter-widgets/controls",
      "_view_module_version": "1.5.0",
      "_view_name": "HTMLView",
      "description": "",
      "description_tooltip": null,
      "layout": "IPY_MODEL_31d3bd3231134e0092b50310ca65635c",
      "placeholder": "​",
      "style": "IPY_MODEL_3646ec6f78be4fe69691ada465ee562a",
      "value": " 90%"
     }
    },
    "76ca9f189a5e4d0a929e215e456315c3": {
     "model_module": "@jupyter-widgets/base",
     "model_name": "LayoutModel",
     "state": {
      "_model_module": "@jupyter-widgets/base",
      "_model_module_version": "1.2.0",
      "_model_name": "LayoutModel",
      "_view_count": null,
      "_view_module": "@jupyter-widgets/base",
      "_view_module_version": "1.2.0",
      "_view_name": "LayoutView",
      "align_content": null,
      "align_items": null,
      "align_self": null,
      "border": null,
      "bottom": null,
      "display": null,
      "flex": null,
      "flex_flow": null,
      "grid_area": null,
      "grid_auto_columns": null,
      "grid_auto_flow": null,
      "grid_auto_rows": null,
      "grid_column": null,
      "grid_gap": null,
      "grid_row": null,
      "grid_template_areas": null,
      "grid_template_columns": null,
      "grid_template_rows": null,
      "height": null,
      "justify_content": null,
      "justify_items": null,
      "left": null,
      "margin": null,
      "max_height": null,
      "max_width": null,
      "min_height": null,
      "min_width": null,
      "object_fit": null,
      "object_position": null,
      "order": null,
      "overflow": null,
      "overflow_x": null,
      "overflow_y": null,
      "padding": null,
      "right": null,
      "top": null,
      "visibility": null,
      "width": null
     }
    },
    "91940526832e49b49e2c08063927172c": {
     "model_module": "@jupyter-widgets/controls",
     "model_name": "DescriptionStyleModel",
     "state": {
      "_model_module": "@jupyter-widgets/controls",
      "_model_module_version": "1.5.0",
      "_model_name": "DescriptionStyleModel",
      "_view_count": null,
      "_view_module": "@jupyter-widgets/base",
      "_view_module_version": "1.2.0",
      "_view_name": "StyleView",
      "description_width": ""
     }
    },
    "9a8af6a903024b87960537b357f87b78": {
     "model_module": "@jupyter-widgets/base",
     "model_name": "LayoutModel",
     "state": {
      "_model_module": "@jupyter-widgets/base",
      "_model_module_version": "1.2.0",
      "_model_name": "LayoutModel",
      "_view_count": null,
      "_view_module": "@jupyter-widgets/base",
      "_view_module_version": "1.2.0",
      "_view_name": "LayoutView",
      "align_content": null,
      "align_items": null,
      "align_self": null,
      "border": null,
      "bottom": null,
      "display": null,
      "flex": null,
      "flex_flow": null,
      "grid_area": null,
      "grid_auto_columns": null,
      "grid_auto_flow": null,
      "grid_auto_rows": null,
      "grid_column": null,
      "grid_gap": null,
      "grid_row": null,
      "grid_template_areas": null,
      "grid_template_columns": null,
      "grid_template_rows": null,
      "height": null,
      "justify_content": null,
      "justify_items": null,
      "left": null,
      "margin": null,
      "max_height": null,
      "max_width": null,
      "min_height": null,
      "min_width": null,
      "object_fit": null,
      "object_position": null,
      "order": null,
      "overflow": null,
      "overflow_x": null,
      "overflow_y": null,
      "padding": null,
      "right": null,
      "top": null,
      "visibility": null,
      "width": null
     }
    },
    "ac377a7d5247448aadd1a136b507bc5a": {
     "model_module": "@jupyter-widgets/controls",
     "model_name": "FloatProgressModel",
     "state": {
      "_dom_classes": [],
      "_model_module": "@jupyter-widgets/controls",
      "_model_module_version": "1.5.0",
      "_model_name": "FloatProgressModel",
      "_view_count": null,
      "_view_module": "@jupyter-widgets/controls",
      "_view_module_version": "1.5.0",
      "_view_name": "ProgressView",
      "bar_style": "danger",
      "description": "",
      "description_tooltip": null,
      "layout": "IPY_MODEL_4cc9a6fc233a4f3798ea54be7bd07be3",
      "max": 100,
      "min": 0,
      "orientation": "horizontal",
      "style": "IPY_MODEL_5c30be5c01ed4831899375837878db39",
      "value": 93
     }
    },
    "b171f801d25b4aa7a7ce3f8852b80c75": {
     "model_module": "@jupyter-widgets/controls",
     "model_name": "HBoxModel",
     "state": {
      "_dom_classes": [],
      "_model_module": "@jupyter-widgets/controls",
      "_model_module_version": "1.5.0",
      "_model_name": "HBoxModel",
      "_view_count": null,
      "_view_module": "@jupyter-widgets/controls",
      "_view_module_version": "1.5.0",
      "_view_name": "HBoxView",
      "box_style": "",
      "children": [
       "IPY_MODEL_71d6ebf0b91948bd841b51f4ded387b2",
       "IPY_MODEL_f753f90d69d84df881dcd82640e14873",
       "IPY_MODEL_ed0b902c8e3046ba86d34bb0d2a5f586"
      ],
      "layout": "IPY_MODEL_76ca9f189a5e4d0a929e215e456315c3"
     }
    },
    "d186efc3594940e6be65b068885298bd": {
     "model_module": "@jupyter-widgets/controls",
     "model_name": "ProgressStyleModel",
     "state": {
      "_model_module": "@jupyter-widgets/controls",
      "_model_module_version": "1.5.0",
      "_model_name": "ProgressStyleModel",
      "_view_count": null,
      "_view_module": "@jupyter-widgets/base",
      "_view_module_version": "1.2.0",
      "_view_name": "StyleView",
      "bar_color": null,
      "description_width": ""
     }
    },
    "df737edb2bd74ee49bb6556f37067985": {
     "model_module": "@jupyter-widgets/base",
     "model_name": "LayoutModel",
     "state": {
      "_model_module": "@jupyter-widgets/base",
      "_model_module_version": "1.2.0",
      "_model_name": "LayoutModel",
      "_view_count": null,
      "_view_module": "@jupyter-widgets/base",
      "_view_module_version": "1.2.0",
      "_view_name": "LayoutView",
      "align_content": null,
      "align_items": null,
      "align_self": null,
      "border": null,
      "bottom": null,
      "display": null,
      "flex": null,
      "flex_flow": null,
      "grid_area": null,
      "grid_auto_columns": null,
      "grid_auto_flow": null,
      "grid_auto_rows": null,
      "grid_column": null,
      "grid_gap": null,
      "grid_row": null,
      "grid_template_areas": null,
      "grid_template_columns": null,
      "grid_template_rows": null,
      "height": null,
      "justify_content": null,
      "justify_items": null,
      "left": null,
      "margin": null,
      "max_height": null,
      "max_width": null,
      "min_height": null,
      "min_width": null,
      "object_fit": null,
      "object_position": null,
      "order": null,
      "overflow": null,
      "overflow_x": null,
      "overflow_y": null,
      "padding": null,
      "right": null,
      "top": null,
      "visibility": null,
      "width": null
     }
    },
    "e7d63586dc1b44ad8175f0666499f009": {
     "model_module": "@jupyter-widgets/controls",
     "model_name": "DescriptionStyleModel",
     "state": {
      "_model_module": "@jupyter-widgets/controls",
      "_model_module_version": "1.5.0",
      "_model_name": "DescriptionStyleModel",
      "_view_count": null,
      "_view_module": "@jupyter-widgets/base",
      "_view_module_version": "1.2.0",
      "_view_name": "StyleView",
      "description_width": ""
     }
    },
    "ed0b902c8e3046ba86d34bb0d2a5f586": {
     "model_module": "@jupyter-widgets/controls",
     "model_name": "HTMLModel",
     "state": {
      "_dom_classes": [],
      "_model_module": "@jupyter-widgets/controls",
      "_model_module_version": "1.5.0",
      "_model_name": "HTMLModel",
      "_view_count": null,
      "_view_module": "@jupyter-widgets/controls",
      "_view_module_version": "1.5.0",
      "_view_name": "HTMLView",
      "description": "",
      "description_tooltip": null,
      "layout": "IPY_MODEL_71a408cf181e4adcbd4a626f864ed7f3",
      "placeholder": "​",
      "style": "IPY_MODEL_e7d63586dc1b44ad8175f0666499f009",
      "value": " 90/100 [00:00&lt;00:00, 289.40it/s]"
     }
    },
    "f753f90d69d84df881dcd82640e14873": {
     "model_module": "@jupyter-widgets/controls",
     "model_name": "FloatProgressModel",
     "state": {
      "_dom_classes": [],
      "_model_module": "@jupyter-widgets/controls",
      "_model_module_version": "1.5.0",
      "_model_name": "FloatProgressModel",
      "_view_count": null,
      "_view_module": "@jupyter-widgets/controls",
      "_view_module_version": "1.5.0",
      "_view_name": "ProgressView",
      "bar_style": "danger",
      "description": "",
      "description_tooltip": null,
      "layout": "IPY_MODEL_5d1ae580312f48df9f3a931e680e4371",
      "max": 100,
      "min": 0,
      "orientation": "horizontal",
      "style": "IPY_MODEL_d186efc3594940e6be65b068885298bd",
      "value": 90
     }
    }
   }
  }
 },
 "nbformat": 4,
 "nbformat_minor": 1
}
