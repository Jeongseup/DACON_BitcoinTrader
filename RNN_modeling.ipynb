{
 "metadata": {
  "language_info": {
   "codemirror_mode": {
    "name": "ipython",
    "version": 3
   },
   "file_extension": ".py",
   "mimetype": "text/x-python",
   "name": "python",
   "nbconvert_exporter": "python",
   "pygments_lexer": "ipython3",
   "version": "3.6.10-final"
  },
  "orig_nbformat": 2,
  "kernelspec": {
   "name": "python3610jvsc74a57bd0b0fbd356cc5c5b89dd70bc5680998fc740c898d3795764a6f6a48ac42a502a54",
   "display_name": "Python 3.6.10 64-bit ('venv': conda)"
  }
 },
 "nbformat": 4,
 "nbformat_minor": 2,
 "cells": [
  {
   "cell_type": "code",
   "execution_count": 1,
   "metadata": {},
   "outputs": [
    {
     "output_type": "stream",
     "name": "stdout",
     "text": [
      "1.7.1\nPopulating the interactive namespace from numpy and matplotlib\n"
     ]
    }
   ],
   "source": [
    "# others\n",
    "import pandas as pd\n",
    "import numpy as np\n",
    "import argparse\n",
    "import datetime\n",
    "from copy import deepcopy # Add Deepcopy for args\n",
    "import pickle \n",
    "import seaborn as sns \n",
    "import matplotlib.pyplot as plt\n",
    "from sklearn.preprocessing import StandardScaler\n",
    "from sklearn.metrics import mean_absolute_error\n",
    "\n",
    "# pytorch\n",
    "import torch\n",
    "import torch.nn as nn\n",
    "from torch.utils.data import Dataset, DataLoader\n",
    "import torch.optim as optim\n",
    "\n",
    "\n",
    "print(torch.__version__)\n",
    "%matplotlib inline\n",
    "%pylab inline\n",
    "pylab.rcParams['figure.figsize'] = (15, 9)\n"
   ]
  },
  {
   "cell_type": "code",
   "execution_count": 2,
   "metadata": {},
   "outputs": [],
   "source": [
    "# read file\n",
    "train_x_df = pd.read_csv(\"./data/train_x_df.csv\")\n",
    "train_y_df = pd.read_csv(\"./data/train_y_df.csv\")\n",
    "\n"
   ]
  },
  {
   "cell_type": "code",
   "execution_count": 2,
   "metadata": {},
   "outputs": [
    {
     "output_type": "execute_result",
     "data": {
      "text/plain": [
       "' greedy feature handleing'"
      ]
     },
     "metadata": {},
     "execution_count": 2
    }
   ],
   "source": [
    "''' greedy feature handleing'''\n",
    "# test_df = train_x_df[train_x_df['volume'] != 0]\n",
    "# test_df['rest_asset'] = test_df['volume'] - test_df['tb_base_av']\n",
    "# test_df['greedy'] = test_df['tb_base_av'] / test_df['volume']\n",
    "\n",
    "# test_df2 = test_df[['time', 'coin_index', 'open', 'high', 'low', 'close', 'volume', 'trades', 'tb_base_av','rest_asset', 'greedy']]\n",
    "# test_df2[['coin_index','trades', 'volume', 'tb_base_av','rest_asset', 'greedy']].head()\n",
    "# test_df2[test_df2['greedy'] == 1][['coin_index','trades', 'volume', 'tb_base_av','rest_asset', 'greedy']].head()"
   ]
  },
  {
   "cell_type": "code",
   "execution_count": 6,
   "metadata": {},
   "outputs": [],
   "source": [
    "# numpy arrary conversion\n",
    "\n",
    "def df2d_to_array3d(df_2d):\n",
    "    # 입력 받은 2차원 데이터 프레임을 3차원 numpy array로 변경하는 함수\n",
    "    feature_size = df_2d.iloc[:,2:].shape[1]\n",
    "    time_size = len(df_2d.time.value_counts())\n",
    "    sample_size = len(df_2d.sample_id.value_counts())\n",
    "\n",
    "    # 2위 팀에서 임의로 넣어둠\n",
    "    # sample_index = df_2d.sample_id.value_counts().index\n",
    "    array_3d = df_2d.iloc[:,2:].values.reshape([sample_size, time_size, feature_size])\n",
    "    return array_3d\n"
   ]
  },
  {
   "cell_type": "code",
   "execution_count": 76,
   "metadata": {},
   "outputs": [
    {
     "output_type": "stream",
     "name": "stdout",
     "text": [
      "\n        coin_9_x_df (1667040, 12)\n        coin_9_y_df (144960, 12)\n        merged_df (1812000, 12)\n        \n"
     ]
    }
   ],
   "source": [
    "print(\n",
    "        f'''\n",
    "        coin_9_x_df {coin_9_x_df.shape}\n",
    "        coin_9_y_df {coin_9_y_df.shape}\n",
    "        merged_df ({coin_9_x_df.shape[0] + coin_9_y_df.shape[0]}, {coin_9_x_df.shape[1] })\n",
    "        '''\n",
    "    )"
   ]
  },
  {
   "cell_type": "code",
   "execution_count": 82,
   "metadata": {},
   "outputs": [],
   "source": [
    "def coindata_preprocessor(train_x_df = train_x_df, train_y_df = train_y_df, coin_num = 9):\n",
    "\n",
    "    # df에서 지정된 코인 데이터만 추출\n",
    "    coin_num_x_df = train_x_df[train_x_df['coin_index'] ==  coin_num]\n",
    "    coin_num_y_df = train_y_df[train_y_df['coin_index'] ==  coin_num]\n",
    "\n",
    "    # y dataframe time value에 1380 씩 adding\n",
    "    coin_num_y_df.time = coin_num_y_df.time.copy() + 1380\n",
    "\n",
    "    # x,y df merge하고 sample_id와 time 순으로 sorting\n",
    "    merged_df = pd.concat([coin_num_x_df, coin_num_y_df])\n",
    "    merged_df = merged_df.sort_values(by = ['sample_id','time']).reset_index(drop=True)\n",
    "\n",
    "    # sample_id series orderly indexing\n",
    "    sample_id_series = merged_df.sample_id.value_counts().reset_index().rename(columns = {\"index\" : \"sample_id\"})\n",
    "    reset_index_series = sample_id_series.iloc[:,:1].sort_values(by = ['sample_id']).reset_index(drop=True)\n",
    "    new_sample_dict = reset_index_series.reset_index().set_index('sample_id').to_dict()\n",
    "\n",
    "    # sample_id value initialization\n",
    "    merged_df['sample_id'] = merged_df['sample_id'].map(new_sample_dict['index'])\n",
    "\n",
    "    return merged_df"
   ]
  },
  {
   "cell_type": "code",
   "execution_count": 42,
   "metadata": {},
   "outputs": [],
   "source": [
    "merged_df.to_hdf('./data/merged_data.h5',  key = 'merged_df')"
   ]
  },
  {
   "cell_type": "code",
   "execution_count": 85,
   "metadata": {},
   "outputs": [],
   "source": [
    "file_path = './data/merged_data.h5'\n",
    "file_key = 'merged_df'\n",
    "\n",
    "merged_coin_9_df = pd.read_hdf(file_path, file_key)"
   ]
  },
  {
   "cell_type": "code",
   "execution_count": 88,
   "metadata": {},
   "outputs": [
    {
     "output_type": "execute_result",
     "data": {
      "text/plain": [
       "         sample_id  time  coin_index      open      high       low     close  \\\n",
       "0                0     0           9  0.983614  0.983614  0.983128  0.983246   \n",
       "1                0     1           9  0.983245  0.983612  0.982453  0.982693   \n",
       "2                0     2           9  0.982694  0.983612  0.982403  0.983002   \n",
       "3                0     3           9  0.983009  0.984848  0.983009  0.984486   \n",
       "4                0     4           9  0.984233  0.984606  0.983612  0.984164   \n",
       "...            ...   ...         ...       ...       ...       ...       ...   \n",
       "1811995       1207  1495           9  1.005850  1.008398  1.005714  1.008084   \n",
       "1811996       1207  1496           9  1.008109  1.008259  1.006929  1.007139   \n",
       "1811997       1207  1497           9  1.007186  1.007418  1.005802  1.006216   \n",
       "1811998       1207  1498           9  1.006092  1.007211  1.004988  1.005507   \n",
       "1811999       1207  1499           9  1.005371  1.006296  1.005029  1.006165   \n",
       "\n",
       "           volume    quote_av    trades  tb_base_av  tb_quote_av  \n",
       "0        0.001334   10.650987  0.009855    0.000848     6.771755  \n",
       "1        0.001425   11.375689  0.016137    0.000697     5.565188  \n",
       "2        0.001542   12.301942  0.014166    0.000905     7.225459  \n",
       "3        0.002520   20.134695  0.021557    0.001171     9.353000  \n",
       "4        0.002818   22.515448  0.021434    0.001799    14.372534  \n",
       "...           ...         ...       ...         ...          ...  \n",
       "1811995  0.018440  132.533844  0.166922    0.011676    83.914566  \n",
       "1811996  0.016465  118.390549  0.097126    0.006409    46.085777  \n",
       "1811997  0.006134   44.051334  0.060266    0.001914    13.744169  \n",
       "1811998  0.010358   74.361237  0.086474    0.004091    29.376879  \n",
       "1811999  0.003317   23.800573  0.039523    0.001091     7.826694  \n",
       "\n",
       "[1812000 rows x 12 columns]"
      ],
      "text/html": "<div>\n<style scoped>\n    .dataframe tbody tr th:only-of-type {\n        vertical-align: middle;\n    }\n\n    .dataframe tbody tr th {\n        vertical-align: top;\n    }\n\n    .dataframe thead th {\n        text-align: right;\n    }\n</style>\n<table border=\"1\" class=\"dataframe\">\n  <thead>\n    <tr style=\"text-align: right;\">\n      <th></th>\n      <th>sample_id</th>\n      <th>time</th>\n      <th>coin_index</th>\n      <th>open</th>\n      <th>high</th>\n      <th>low</th>\n      <th>close</th>\n      <th>volume</th>\n      <th>quote_av</th>\n      <th>trades</th>\n      <th>tb_base_av</th>\n      <th>tb_quote_av</th>\n    </tr>\n  </thead>\n  <tbody>\n    <tr>\n      <th>0</th>\n      <td>0</td>\n      <td>0</td>\n      <td>9</td>\n      <td>0.983614</td>\n      <td>0.983614</td>\n      <td>0.983128</td>\n      <td>0.983246</td>\n      <td>0.001334</td>\n      <td>10.650987</td>\n      <td>0.009855</td>\n      <td>0.000848</td>\n      <td>6.771755</td>\n    </tr>\n    <tr>\n      <th>1</th>\n      <td>0</td>\n      <td>1</td>\n      <td>9</td>\n      <td>0.983245</td>\n      <td>0.983612</td>\n      <td>0.982453</td>\n      <td>0.982693</td>\n      <td>0.001425</td>\n      <td>11.375689</td>\n      <td>0.016137</td>\n      <td>0.000697</td>\n      <td>5.565188</td>\n    </tr>\n    <tr>\n      <th>2</th>\n      <td>0</td>\n      <td>2</td>\n      <td>9</td>\n      <td>0.982694</td>\n      <td>0.983612</td>\n      <td>0.982403</td>\n      <td>0.983002</td>\n      <td>0.001542</td>\n      <td>12.301942</td>\n      <td>0.014166</td>\n      <td>0.000905</td>\n      <td>7.225459</td>\n    </tr>\n    <tr>\n      <th>3</th>\n      <td>0</td>\n      <td>3</td>\n      <td>9</td>\n      <td>0.983009</td>\n      <td>0.984848</td>\n      <td>0.983009</td>\n      <td>0.984486</td>\n      <td>0.002520</td>\n      <td>20.134695</td>\n      <td>0.021557</td>\n      <td>0.001171</td>\n      <td>9.353000</td>\n    </tr>\n    <tr>\n      <th>4</th>\n      <td>0</td>\n      <td>4</td>\n      <td>9</td>\n      <td>0.984233</td>\n      <td>0.984606</td>\n      <td>0.983612</td>\n      <td>0.984164</td>\n      <td>0.002818</td>\n      <td>22.515448</td>\n      <td>0.021434</td>\n      <td>0.001799</td>\n      <td>14.372534</td>\n    </tr>\n    <tr>\n      <th>...</th>\n      <td>...</td>\n      <td>...</td>\n      <td>...</td>\n      <td>...</td>\n      <td>...</td>\n      <td>...</td>\n      <td>...</td>\n      <td>...</td>\n      <td>...</td>\n      <td>...</td>\n      <td>...</td>\n      <td>...</td>\n    </tr>\n    <tr>\n      <th>1811995</th>\n      <td>1207</td>\n      <td>1495</td>\n      <td>9</td>\n      <td>1.005850</td>\n      <td>1.008398</td>\n      <td>1.005714</td>\n      <td>1.008084</td>\n      <td>0.018440</td>\n      <td>132.533844</td>\n      <td>0.166922</td>\n      <td>0.011676</td>\n      <td>83.914566</td>\n    </tr>\n    <tr>\n      <th>1811996</th>\n      <td>1207</td>\n      <td>1496</td>\n      <td>9</td>\n      <td>1.008109</td>\n      <td>1.008259</td>\n      <td>1.006929</td>\n      <td>1.007139</td>\n      <td>0.016465</td>\n      <td>118.390549</td>\n      <td>0.097126</td>\n      <td>0.006409</td>\n      <td>46.085777</td>\n    </tr>\n    <tr>\n      <th>1811997</th>\n      <td>1207</td>\n      <td>1497</td>\n      <td>9</td>\n      <td>1.007186</td>\n      <td>1.007418</td>\n      <td>1.005802</td>\n      <td>1.006216</td>\n      <td>0.006134</td>\n      <td>44.051334</td>\n      <td>0.060266</td>\n      <td>0.001914</td>\n      <td>13.744169</td>\n    </tr>\n    <tr>\n      <th>1811998</th>\n      <td>1207</td>\n      <td>1498</td>\n      <td>9</td>\n      <td>1.006092</td>\n      <td>1.007211</td>\n      <td>1.004988</td>\n      <td>1.005507</td>\n      <td>0.010358</td>\n      <td>74.361237</td>\n      <td>0.086474</td>\n      <td>0.004091</td>\n      <td>29.376879</td>\n    </tr>\n    <tr>\n      <th>1811999</th>\n      <td>1207</td>\n      <td>1499</td>\n      <td>9</td>\n      <td>1.005371</td>\n      <td>1.006296</td>\n      <td>1.005029</td>\n      <td>1.006165</td>\n      <td>0.003317</td>\n      <td>23.800573</td>\n      <td>0.039523</td>\n      <td>0.001091</td>\n      <td>7.826694</td>\n    </tr>\n  </tbody>\n</table>\n<p>1812000 rows × 12 columns</p>\n</div>"
     },
     "metadata": {},
     "execution_count": 88
    }
   ],
   "source": [
    "merged_coin_9_df"
   ]
  },
  {
   "cell_type": "code",
   "execution_count": 122,
   "metadata": {},
   "outputs": [],
   "source": [
    "class DatasetGenerater(Dataset):\n",
    "    '''설명 : '''\n",
    "    \n",
    "    def __init__(self, dataframe, x_frames, y_frames):\n",
    "\n",
    "        '''\n",
    "        : param dataframe:   Raw data to load for making dataset\n",
    "        : param x_frames:    the number of input day size\n",
    "        : param y_frames:    the number of output day size\n",
    "        '''\n",
    "        self.dataframe = dataframe\n",
    "        self.x_frames = x_frames\n",
    "        self.y_frames = y_frames\n",
    "\n",
    "        check_null = self.dataframe.isna().sum().sum()\n",
    "        print(\"null clear\") if check_null == 0 else print(\"null exist\")\n",
    "        \n",
    "        \n",
    "    def __len__(self):\n",
    "        return len(self.dataframe) - (self.x_frames + self.y_frames) + 1\n",
    "    \n",
    "    \n",
    "    def __getitem__(self, idx):\n",
    "        idx += self.x_frames\n",
    "        \n",
    "        dataframe = self.dataframe.iloc[idx-self.x_frames:idx+self.y_frames]\n",
    "        dataframe = dataframe.values\n",
    "        \n",
    "        X = dataframe[:self.x_frames]\n",
    "        y = dataframe[self.x_frames:]\n",
    "        \n",
    "        return X, y"
   ]
  }
 ]
}