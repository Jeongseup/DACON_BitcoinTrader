{
 "cells": [
  {
   "cell_type": "code",
   "execution_count": 1,
   "id": "542760f4",
   "metadata": {},
   "outputs": [
    {
     "name": "stdout",
     "output_type": "stream",
     "text": [
      "1.6.0+cpu\n",
      "Populating the interactive namespace from numpy and matplotlib\n"
     ]
    }
   ],
   "source": [
    "import pandas as pd\n",
    "import numpy as np\n",
    "from copy import deepcopy # Add Deepcopy for args\n",
    "\n",
    "import seaborn as sns \n",
    "import matplotlib.pyplot as plt\n",
    "import os, pickle, joblib, argparse\n",
    "\n",
    "from sklearn.metrics import mean_absolute_error\n",
    "from sklearn.preprocessing import MinMaxScaler\n",
    "from sklearn.model_selection import train_test_split\n",
    "from sklearn.preprocessing import KBinsDiscretizer\n",
    "from statsmodels.tsa.api import SimpleExpSmoothing\n",
    "from sklearn.preprocessing import LabelEncoder\n",
    "\n",
    "# pytorch\n",
    "import torch\n",
    "import torch.nn as nn\n",
    "from torch.nn import functional as F\n",
    "from torch.utils.data import TensorDataset, DataLoader\n",
    "import torch.optim as optim\n",
    "from torch.optim.lr_scheduler import _LRScheduler\n",
    " \n",
    "print(torch.__version__)\n",
    "%matplotlib inline\n",
    "%pylab inline\n",
    "pylab.rcParams['figure.figsize'] = (8, 6)"
   ]
  },
  {
   "cell_type": "code",
   "execution_count": 2,
   "id": "11489e4e",
   "metadata": {},
   "outputs": [
    {
     "name": "stdout",
     "output_type": "stream",
     "text": [
      "Read files Complete!\n"
     ]
    }
   ],
   "source": [
    "# read file\n",
    "raw_x_df = pd.read_csv('./data/train_x_df.csv')\n",
    "raw_y_df = pd.read_csv('./data/train_y_df.csv')\n",
    "\n",
    "print('Read files Complete!')"
   ]
  },
  {
   "cell_type": "code",
   "execution_count": 13,
   "id": "a5a24dc0",
   "metadata": {},
   "outputs": [],
   "source": [
    "def coindata_preprocessor(coin_num_x_df, coin_num_y_df):\n",
    "    \n",
    "    # y dataframe time value에 1380 씩 adding\n",
    "    coin_num_y_df.time = coin_num_y_df.time.copy() + 1380\n",
    "\n",
    "    # x,y df merge하고 sample_id와 time 순으로 sorting\n",
    "    merged_df = pd.concat([coin_num_x_df, coin_num_y_df])\n",
    "    merged_df = merged_df.sort_values(by = ['sample_id','time']).reset_index(drop=True)\n",
    "\n",
    "    merged_df.to_hdf('./data/merged_allcoin.h5',  key = 'merged_df')\n"
   ]
  },
  {
   "cell_type": "code",
   "execution_count": 14,
   "id": "17d5ea55",
   "metadata": {},
   "outputs": [],
   "source": [
    "coindata_preprocessor(raw_x_df, raw_y_df)"
   ]
  },
  {
   "cell_type": "code",
   "execution_count": 3,
   "id": "5bc9353f",
   "metadata": {},
   "outputs": [],
   "source": [
    "# ================================================= #\n",
    "def df2d_to_array3d(df_2d):\n",
    "    \n",
    "    # 입력 받은 2차원 데이터 프레임을 3차원 numpy array로 변경하는 함수\n",
    "    feature_size = df_2d.iloc[:,2:].shape[1]\n",
    "    time_size = len(df_2d.time.value_counts())\n",
    "    sample_size = len(df_2d.sample_id.value_counts())\n",
    "    array_3d = df_2d.iloc[:,2:].values.reshape([sample_size, time_size, feature_size])\n",
    "    \n",
    "    print('DataFrame to array, Complete!')\n",
    "    \n",
    "    return array_3d"
   ]
  },
  {
   "cell_type": "code",
   "execution_count": 4,
   "id": "4c84c218",
   "metadata": {},
   "outputs": [],
   "source": [
    "# ================================================= #\n",
    "\n",
    "def simple_exponetial_smoothing_fory(arr, alpha=0.3):\n",
    "    \n",
    "    y_series = list()\n",
    "\n",
    "    for temp_arr in arr:\n",
    "        target_series = temp_arr[:, 1].reshape(-1) # open col is 1 index\n",
    "\n",
    "        smoother = SimpleExpSmoothing(target_series, initialization_method=\"heuristic\").fit(smoothing_level=alpha,optimized=False)\n",
    "        smoothing_series = smoother.fittedvalues\n",
    "\n",
    "        y_series.append(smoothing_series)\n",
    "            \n",
    "    return np.array(y_series)\n",
    "\n",
    "# ================================================= #\n",
    "\n",
    "def simple_exponetial_smoothing_forX(arr, alpha=0.3):\n",
    "    \n",
    "    # initialization\n",
    "    sample_size = int(arr.shape[0])\n",
    "    time_size = int(arr.shape[1])\n",
    "    feature_size = int(arr.shape[2])\n",
    "    \n",
    "    # create empty array\n",
    "    smoothing_arr = np.zeros((sample_size, time_size, feature_size - 1))\n",
    "\n",
    "    for idx, temp_arr in enumerate(arr):\n",
    "        for col in range(1, feature_size): # open col is 1 index\n",
    "            if col < 5:\n",
    "\n",
    "                temp_series = temp_arr[:, col].reshape(-1) \n",
    "                smoother = SimpleExpSmoothing(temp_series, initialization_method=\"heuristic\").fit(smoothing_level=0.3,optimized=False)\n",
    "                temp_smoothing_series = smoother.fittedvalues\n",
    "                smoothing_arr[idx, :, col-1] = temp_smoothing_series\n",
    "\n",
    "            else:\n",
    "                \n",
    "                pass_series = temp_arr[:, col].reshape(-1)\n",
    "                smoothing_arr[idx, :, col-1] = pass_series\n",
    "\n",
    "    return smoothing_arr\n",
    "\n",
    "# ================================================= #\n",
    "\n",
    "\n",
    "def kbindiscreter(input_array):\n",
    "  kb = KBinsDiscretizer(n_bins=100, strategy='uniform', encode='ordinal')\n",
    "  processed_data = np.zeros((input_array.shape[0], input_array.shape[1], 1))\n",
    "  for i in range(input_array.shape[0]):\n",
    "    # coin_index_export args : (input_array, coin_num)\n",
    "    processing_array = input_array[i,:,1]\n",
    "    #globals()['outliery_array{}'.format(i)] = train_y_array[outlier[i],:,1]\n",
    "    kb.fit(processing_array.reshape(input_array.shape[1],1))\n",
    "    processed_fit = kb.transform(processing_array.reshape(input_array.shape[1],1))\n",
    "    #globals()['outliery_fit{}'.format(i)] = kb.transform(globals()['outliery_array{}'.format(i)].reshape(120,1))\n",
    "    processed_data[i,:,:] = processed_fit\n",
    "  return processed_data\n"
   ]
  },
  {
   "cell_type": "code",
   "execution_count": 5,
   "id": "5bc445ca",
   "metadata": {},
   "outputs": [
    {
     "name": "stdout",
     "output_type": "stream",
     "text": [
      "DataFrame to array, Complete!\n",
      "DataFrame to array, Complete!\n"
     ]
    }
   ],
   "source": [
    "# df to array \n",
    "raw_x_arr = df2d_to_array3d(raw_x_df)\n",
    "raw_y_arr = df2d_to_array3d(raw_y_df)\n",
    "# # train set smoothing\n",
    "# train_x_arr = simple_exponetial_smoothing_forX(train_x_arr)\n"
   ]
  },
  {
   "cell_type": "code",
   "execution_count": 6,
   "id": "86e7df07",
   "metadata": {},
   "outputs": [],
   "source": [
    "\n",
    "xarray = kbindiscreter(raw_x_arr)\n",
    "yarray = kbindiscreter(raw_y_arr)"
   ]
  },
  {
   "cell_type": "code",
   "execution_count": 10,
   "id": "7739f5b2",
   "metadata": {},
   "outputs": [],
   "source": [
    "def one_hot_encoder(X_train):\n",
    "    new_arr = np.zeros((X_train.shape[0],X_train.shape[1],100))\n",
    "\n",
    "    for i in range(X_train.shape[0]):\n",
    "        for j in range(X_train.shape[1]):\n",
    "            for k in range(100):\n",
    "                if X_train[i,j,:] == k:\n",
    "                    new_arr[i,j,k] = 1\n",
    "    \n",
    "    return new_arr"
   ]
  },
  {
   "cell_type": "code",
   "execution_count": 11,
   "id": "2ce27710",
   "metadata": {},
   "outputs": [
    {
     "ename": "KeyboardInterrupt",
     "evalue": "",
     "output_type": "error",
     "traceback": [
      "\u001b[1;31m---------------------------------------------------------------------------\u001b[0m",
      "\u001b[1;31mKeyboardInterrupt\u001b[0m                         Traceback (most recent call last)",
      "\u001b[1;32m<ipython-input-11-c26ff41d15cc>\u001b[0m in \u001b[0;36m<module>\u001b[1;34m\u001b[0m\n\u001b[1;32m----> 1\u001b[1;33m \u001b[0mX_train\u001b[0m \u001b[1;33m=\u001b[0m \u001b[0mone_hot_encoder\u001b[0m\u001b[1;33m(\u001b[0m\u001b[0mxarray\u001b[0m\u001b[1;33m)\u001b[0m\u001b[1;33m\u001b[0m\u001b[1;33m\u001b[0m\u001b[0m\n\u001b[0m",
      "\u001b[1;32m<ipython-input-10-15f3d7d0070f>\u001b[0m in \u001b[0;36mone_hot_encoder\u001b[1;34m(X_train)\u001b[0m\n\u001b[0;32m      5\u001b[0m         \u001b[1;32mfor\u001b[0m \u001b[0mj\u001b[0m \u001b[1;32min\u001b[0m \u001b[0mrange\u001b[0m\u001b[1;33m(\u001b[0m\u001b[0mX_train\u001b[0m\u001b[1;33m.\u001b[0m\u001b[0mshape\u001b[0m\u001b[1;33m[\u001b[0m\u001b[1;36m1\u001b[0m\u001b[1;33m]\u001b[0m\u001b[1;33m)\u001b[0m\u001b[1;33m:\u001b[0m\u001b[1;33m\u001b[0m\u001b[1;33m\u001b[0m\u001b[0m\n\u001b[0;32m      6\u001b[0m             \u001b[1;32mfor\u001b[0m \u001b[0mk\u001b[0m \u001b[1;32min\u001b[0m \u001b[0mrange\u001b[0m\u001b[1;33m(\u001b[0m\u001b[1;36m100\u001b[0m\u001b[1;33m)\u001b[0m\u001b[1;33m:\u001b[0m\u001b[1;33m\u001b[0m\u001b[1;33m\u001b[0m\u001b[0m\n\u001b[1;32m----> 7\u001b[1;33m                 \u001b[1;32mif\u001b[0m \u001b[0mX_train\u001b[0m\u001b[1;33m[\u001b[0m\u001b[0mi\u001b[0m\u001b[1;33m,\u001b[0m\u001b[0mj\u001b[0m\u001b[1;33m,\u001b[0m\u001b[1;33m:\u001b[0m\u001b[1;33m]\u001b[0m \u001b[1;33m==\u001b[0m \u001b[0mk\u001b[0m\u001b[1;33m:\u001b[0m\u001b[1;33m\u001b[0m\u001b[1;33m\u001b[0m\u001b[0m\n\u001b[0m\u001b[0;32m      8\u001b[0m                     \u001b[0mnew_arr\u001b[0m\u001b[1;33m[\u001b[0m\u001b[0mi\u001b[0m\u001b[1;33m,\u001b[0m\u001b[0mj\u001b[0m\u001b[1;33m,\u001b[0m\u001b[0mk\u001b[0m\u001b[1;33m]\u001b[0m \u001b[1;33m=\u001b[0m \u001b[1;36m1\u001b[0m\u001b[1;33m\u001b[0m\u001b[1;33m\u001b[0m\u001b[0m\n\u001b[0;32m      9\u001b[0m \u001b[1;33m\u001b[0m\u001b[0m\n",
      "\u001b[1;31mKeyboardInterrupt\u001b[0m: "
     ]
    }
   ],
   "source": [
    "X_train = one_hot_encoder(xarray)"
   ]
  },
  {
   "cell_type": "code",
   "execution_count": null,
   "id": "582bfc2a",
   "metadata": {},
   "outputs": [],
   "source": [
    "X_train.shape"
   ]
  },
  {
   "cell_type": "code",
   "execution_count": 9,
   "id": "674c2140",
   "metadata": {},
   "outputs": [
    {
     "data": {
      "text/plain": [
       "(7661, 120, 1)"
      ]
     },
     "execution_count": 9,
     "metadata": {},
     "output_type": "execute_result"
    }
   ],
   "source": [
    "yarray.shape"
   ]
  },
  {
   "cell_type": "code",
   "execution_count": 12,
   "id": "5e8511bf",
   "metadata": {},
   "outputs": [
    {
     "name": "stdout",
     "output_type": "stream",
     "text": [
      "\n",
      "======================================================\n",
      "Origin length is 7661, then total split length is 7661 + 767 = 7661\n",
      "======================================================\n",
      "train X length is (6894, 1380, 9), train y length is (6894,),\n",
      "val X length is (767, 1380, 9), val y length is (767,),\n",
      "\n"
     ]
    }
   ],
   "source": [
    "# train & val set\n",
    "train_X, val_X, train_y, val_y = train_test_split(raw_x_arr[:, :, 1:], y_train, test_size = 0.1, shuffle=False)\n",
    "\n",
    "print(\n",
    "f'''\n",
    "======================================================\n",
    "Origin length is {len(raw_x_arr)}, then total split length is {len(raw_x_arr)} + {len(val_X)} = {len(train_X)+len(val_X)}\n",
    "======================================================\n",
    "train X length is {train_X.shape}, train y length is {train_y.shape},\n",
    "val X length is {val_X.shape}, val y length is {val_y.shape},\n",
    "'''\n",
    "# test X length is {test_X.shape}, test y length is {test_y.shape}\n",
    ")"
   ]
  },
  {
   "cell_type": "code",
   "execution_count": 14,
   "id": "7adb19c6",
   "metadata": {},
   "outputs": [],
   "source": [
    "def one_hot_encoder(train_y):\n",
    "    y_one_hot = torch.zeros(train_y.shape[0], 5)\n",
    "    train_y = torch.LongTensor(train_y)\n",
    "    train_y = y_one_hot.scatter_(1, train_y.unsqueeze(1), 1)\n",
    "\n",
    "    return train_y\n",
    "\n",
    "# train_y = one_hot_encoder(train_y)\n",
    "# val_y = one_hot_encoder(val_y)"
   ]
  },
  {
   "cell_type": "code",
   "execution_count": 15,
   "id": "c3db513c",
   "metadata": {},
   "outputs": [
    {
     "name": "stdout",
     "output_type": "stream",
     "text": [
      "device is cpu\n"
     ]
    }
   ],
   "source": [
    "# ====== initialization\n",
    "parser = argparse.ArgumentParser()\n",
    "args = parser.parse_args(\"\")\n",
    "args.device = 'cuda' if torch.cuda.is_available() else 'cpu'\n",
    "print(\"device is\",args.device)\n",
    "\n",
    "seed = 777\n",
    "np.random.seed(seed)\n",
    "torch.manual_seed(seed)\n",
    "\n",
    "# ====== Model Capacity options ===== #\n",
    "args.input_dim = 9\n",
    "args.hidden_dim = 100\n",
    "args.output_dim = 9\n",
    "args.n_layers = 1\n",
    "args.batch_size = 16\n",
    "args.dropout = 0.2\n",
    "args.use_bn = True\n",
    "\n",
    "args.x_frames = 1380\n",
    "\n",
    "# ====== Model training options ===== #\n",
    "args.num_epoch = 20\n",
    "args.learning_rate = 0.0001\n",
    "args.L2_rate = 0.0001\n"
   ]
  },
  {
   "cell_type": "code",
   "execution_count": null,
   "id": "d9cb0fd2",
   "metadata": {},
   "outputs": [],
   "source": [
    "class WindowGenerator():\n",
    "    ''' Dataset Generate'''\n",
    "    def __init__(self, input_width, label_width, stride, data_arr, column_indices = column_indices,\n",
    "                 shfit = None, label_columns=None):\n",
    "    \n",
    "        # Store the raw data\n",
    "        self.data_arr = data_arr\n",
    "        # Work out the label column indices.\n",
    "        self.label_columns = label_columns\n",
    "        if label_columns is not None:\n",
    "            self.label_columns_indices = {name: i for i, name in enumerate(label_columns)}\n",
    "        self.column_indices = column_indices\n",
    "                \n",
    "        # Work out the window parameters.\n",
    "        self.input_width = input_width\n",
    "        self.label_width = label_width\n",
    "        self.shift = 1\n",
    "        if shfit is not None:\n",
    "            self.shift = shfit\n",
    "        self.stride = stride\n",
    "        \n",
    "        self.label_start = self.input_width + self.shift\n",
    "        self.total_window_size = self.label_start + self.label_width\n",
    "        \n",
    "        # input, label indices\n",
    "        self.input_slice = slice(0, self.input_width)\n",
    "        self.input_indices = np.arange(self.total_window_size)[self.input_slice]\n",
    "        \n",
    "        self.labels_slice = slice(self.label_start, None)\n",
    "        self.label_indices = np.arange(self.total_window_size)[self.labels_slice]\n",
    "        \n",
    "        self.X_arr, self.y_arr = self.split_windows()\n",
    "        \n",
    "    def __repr__(self):\n",
    "        return '\\n'.join([\n",
    "            f'Total window size: {self.total_window_size -1}',\n",
    "            f'Input indices: {self.input_indices}',\n",
    "            f'Label indices: {self.label_indices}',\n",
    "            f'Label column name(s): open'\n",
    "        ])\n",
    "\n",
    "    def split_windows(self):\n",
    "\n",
    "        X, y = list(), list()\n",
    "        sample_length = int(self.data_arr.shape[0])\n",
    "        split_length = int((self.data_arr.shape[1] - self.total_window_size)/self.stride) + 1\n",
    "        \n",
    "        for temp_id in range(sample_length):\n",
    "            for i in range(split_length):\n",
    "                \n",
    "                X.append(self.data_arr[temp_id, (i*self.stride) : (i*self.stride)+self.input_width])\n",
    "                y.append(self.data_arr[temp_id, (i*self.stride)+self.label_start : (i*self.stride)+self.total_window_size])\n",
    "\n",
    "        return np.array(X), np.array(y)\n",
    "\n",
    "    def __len__(self):\n",
    "        return len(self.X_arr)\n",
    "\n",
    "    def __getitem__(self, idx):\n",
    "        \n",
    "        X = self.X_arr[idx, :, :]\n",
    "        y = self.y_arr[idx, :, :]\n",
    "\n",
    "        return X, y"
   ]
  },
  {
   "cell_type": "code",
   "execution_count": 22,
   "id": "52b7d8e0",
   "metadata": {},
   "outputs": [],
   "source": [
    "class WindowGenerator(TensorDataset):\n",
    "    ''' Dataset Generate'''\n",
    "    def __init__(self, X_arr, y_arr, x_frames):\n",
    "    \n",
    "        self.X_arr = X_arr\n",
    "        self.y_arr = y_arr\n",
    "        self.x_frames = x_frames\n",
    "\n",
    "    def __len__(self):\n",
    "        return len(self.y_arr)\n",
    "\n",
    "    def __getitem__(self, idx):\n",
    "        \n",
    "        X = self.X_arr[idx, -self.x_frames:, :]\n",
    "        X = np.log(X + 1) - np.log(X[-1, :] + 1) \n",
    "\n",
    "\n",
    "        y = self.y_arr[idx]\n",
    "        return X, y"
   ]
  },
  {
   "cell_type": "code",
   "execution_count": 23,
   "id": "7a96bc60",
   "metadata": {},
   "outputs": [],
   "source": [
    "class LSTM(nn.Module):\n",
    "    \n",
    "    def __init__(self, input_dim, hidden_dim, output_dim, num_layers, dropout, use_bn):\n",
    "        super(LSTM, self).__init__()\n",
    "        self.input_dim = input_dim\n",
    "        self.hidden_dim = hidden_dim\n",
    "        self.output_dim = output_dim\n",
    "        self.num_layers = num_layers\n",
    "\n",
    "        self.dropout = dropout\n",
    "        self.use_bn = use_bn \n",
    "        self.lstm = nn.LSTM(self.input_dim, self.hidden_dim, self.num_layers, batch_first =True)\n",
    "\n",
    "        self.fc = self.make_regressor()\n",
    "        \n",
    "    def init_hidden(self, batch_size):\n",
    "        return (torch.zeros(self.num_layers, batch_size, self.hidden_dim),\n",
    "                torch.zeros(self.num_layers, batch_size, self.hidden_dim))\n",
    "    \n",
    "    def make_regressor(self):\n",
    "        layers = []\n",
    "        if self.use_bn:\n",
    "            layers.append(nn.BatchNorm1d(self.hidden_dim))\n",
    "        layers.append(nn.Dropout(self.dropout))\n",
    "        \n",
    "        layers.append(nn.Linear(self.hidden_dim, 200))\n",
    "        layers.append(nn.ReLU())\n",
    "        layers.append(nn.Linear(200, self.output_dim))\n",
    "        regressor = nn.Sequential(*layers)\n",
    "        return regressor\n",
    "    \n",
    "    def forward(self, X):\n",
    "        lstm_out, self.hidden = self.lstm(X)\n",
    "        y_pred = self.fc(lstm_out[:, -1, :])\n",
    "        return y_pred"
   ]
  },
  {
   "cell_type": "code",
   "execution_count": 62,
   "id": "8df48329",
   "metadata": {},
   "outputs": [],
   "source": [
    "def train(model, partition, optimizer, loss_fn, args):\n",
    "    ''' model training '''\n",
    "   \n",
    "    # data load\n",
    "    trainloader = DataLoader(partition['train'],\n",
    "                             batch_size = args.batch_size,\n",
    "                             shuffle = True, drop_last = True)\n",
    "    \n",
    "    # model's mode setting\n",
    "    model.train()\n",
    "    model.zero_grad()\n",
    "    optimizer.zero_grad()\n",
    "    \n",
    "    train_loss = 0.0\n",
    "    for i, (X, y) in enumerate(trainloader):\n",
    "    \n",
    "        X = X.float().to(args.device)\n",
    "        y_true = y.long().to(args.device)\n",
    "        \n",
    "#         print(X.shape, y_true.shape)\n",
    "        \n",
    "        # zero the gradient\n",
    "        model.zero_grad()\n",
    "        optimizer.zero_grad()\n",
    "        model.hidden = model.init_hidden(X.shape[1])\n",
    "\n",
    "        y_pred = model(X)\n",
    "#         print(y_pred.shape)\n",
    "\n",
    "        loss = loss_fn(y_pred, y_true)\n",
    "        loss.backward()\n",
    "        optimizer.step()\n",
    "        \n",
    "        train_loss += loss.item()\n",
    "\n",
    "    train_loss = train_loss / len(trainloader)\n",
    "    return model, train_loss\n",
    "\n",
    "\n",
    "def validate(model, partition, loss_fn, args):\n",
    "    ''' model validate '''\n",
    "    \n",
    "    # data load\n",
    "    valloader = DataLoader(partition['val'], \n",
    "                           batch_size = args.batch_size, \n",
    "                           shuffle = False, drop_last = True)\n",
    "    \n",
    "    # model's mode setting\n",
    "    model.eval()\n",
    "    val_loss = 0.0\n",
    "    correct, total = 0, 0\n",
    "    # evaluate\n",
    "    with torch.no_grad():\n",
    "        for i, (X, y) in enumerate(valloader):\n",
    "            \n",
    "            X = X.to(args.device)\n",
    "            y_true = y.to(args.device)\n",
    "            \n",
    "            model.hidden = model.init_hidden(X.shape[1])\n",
    "            # en-decoder outputs tensor \n",
    "            y_pred = model(X)\n",
    "            \n",
    "            # compute the loss\n",
    "            loss = loss_fn(y_pred, y_true)\n",
    "            val_loss += loss.item()\n",
    "            \n",
    "            preds = F.log_softmax(y_pred, dim=1).argmax(dim=1)\n",
    "            total += y_true.size(0)\n",
    "            correct += (preds == y_val).sum().item()\n",
    "            \n",
    "    val_loss = val_loss / len(valloader)\n",
    "    val_acc = correct / total\n",
    "    return val_loss, val_acc\n"
   ]
  },
  {
   "cell_type": "code",
   "execution_count": 63,
   "id": "851b2276",
   "metadata": {},
   "outputs": [],
   "source": [
    "def experiment(partition, args):\n",
    "\n",
    "    model = LSTM(args.input_dim, args.hidden_dim, args.output_dim, args.n_layers, args.dropout, args.use_bn)\n",
    "    model.to(args.device)\n",
    "    \n",
    "    loss_fn = nn.CrossEntropyLoss()\n",
    "    optimizer = optim.RMSprop(model.parameters(), lr=args.learning_rate, weight_decay=args.L2_rate)\n",
    "    \n",
    "    # epoch-wise loss\n",
    "    train_losses = []\n",
    "    val_losses = []\n",
    "    val_accs = []\n",
    "    \n",
    "    for epoch in range(args.num_epoch):\n",
    "        \n",
    "        start_time = time.time()\n",
    "        model, train_loss = train(model, partition, optimizer, loss_fn, args)\n",
    "        val_loss, val_acc = validate(model, partition, loss_fn, args)\n",
    "        end_time = time.time()\n",
    "        \n",
    "        # add epoch loss\n",
    "        train_losses.append(train_loss)\n",
    "        val_losses.append(val_loss)\n",
    "        train_accs.append(train_acc)\n",
    "        val_accs.append(val_acc)\n",
    "        \n",
    "        print('Epoch {}, Acc(train/val): {:2.2f}/{:2.2f}, Loss(train/val) {:2.5f}/{:2.5f}. Took {:2.2f} sec'.format(\n",
    "            epoch+1, val_acc, train_loss, val_loss, end_time-start_time))\n",
    "    \n",
    "\n",
    "    # ======= Add Result to Dictionary ======= #\n",
    "    result = {}\n",
    "    \n",
    "    result['train_losses'] = train_losses\n",
    "    result['val_losses'] = val_losses\n",
    "        \n",
    "    return vars(args), result, model"
   ]
  },
  {
   "cell_type": "code",
   "execution_count": 64,
   "id": "560baaf4",
   "metadata": {},
   "outputs": [],
   "source": [
    "# train_X, val_X, train_y, val_y = train_test_split(raw_x_arr[:, :, 1:], y_train, test_size = 0.1, shuffle=False)\n",
    "trainset = WindowGenerator(train_X, train_y, args.x_frames)\n",
    "valset = WindowGenerator(val_X, val_y, args.x_frames)\n",
    "\n",
    "partition = {'train': trainset, 'val':valset}"
   ]
  },
  {
   "cell_type": "code",
   "execution_count": 65,
   "id": "d95bbe3e",
   "metadata": {},
   "outputs": [
    {
     "name": "stdout",
     "output_type": "stream",
     "text": [
      "Namespace(L2_rate=0.0001, batch_size=16, device='cpu', dropout=0.2, hidden_dim=100, input_dim=9, learning_rate=0.0001, n_layers=1, num_epoch=20, output_dim=9, use_bn=True, x_frames=1380)\n"
     ]
    },
    {
     "ename": "KeyboardInterrupt",
     "evalue": "",
     "output_type": "error",
     "traceback": [
      "\u001b[1;31m---------------------------------------------------------------------------\u001b[0m",
      "\u001b[1;31mKeyboardInterrupt\u001b[0m                         Traceback (most recent call last)",
      "\u001b[1;32m<ipython-input-65-1629c9e68dc6>\u001b[0m in \u001b[0;36m<module>\u001b[1;34m\u001b[0m\n\u001b[0;32m      1\u001b[0m \u001b[0mprint\u001b[0m\u001b[1;33m(\u001b[0m\u001b[0margs\u001b[0m\u001b[1;33m)\u001b[0m\u001b[1;33m\u001b[0m\u001b[1;33m\u001b[0m\u001b[0m\n\u001b[1;32m----> 2\u001b[1;33m \u001b[0msetting\u001b[0m\u001b[1;33m,\u001b[0m \u001b[0mresult\u001b[0m\u001b[1;33m,\u001b[0m \u001b[0mmodel\u001b[0m \u001b[1;33m=\u001b[0m \u001b[0mexperiment\u001b[0m\u001b[1;33m(\u001b[0m\u001b[0mpartition\u001b[0m\u001b[1;33m,\u001b[0m \u001b[0mdeepcopy\u001b[0m\u001b[1;33m(\u001b[0m\u001b[0margs\u001b[0m\u001b[1;33m)\u001b[0m\u001b[1;33m)\u001b[0m\u001b[1;33m\u001b[0m\u001b[1;33m\u001b[0m\u001b[0m\n\u001b[0m",
      "\u001b[1;32m<ipython-input-63-cddbfb03c8a0>\u001b[0m in \u001b[0;36mexperiment\u001b[1;34m(partition, args)\u001b[0m\n\u001b[0;32m     15\u001b[0m \u001b[1;33m\u001b[0m\u001b[0m\n\u001b[0;32m     16\u001b[0m         \u001b[0mstart_time\u001b[0m \u001b[1;33m=\u001b[0m \u001b[0mtime\u001b[0m\u001b[1;33m.\u001b[0m\u001b[0mtime\u001b[0m\u001b[1;33m(\u001b[0m\u001b[1;33m)\u001b[0m\u001b[1;33m\u001b[0m\u001b[1;33m\u001b[0m\u001b[0m\n\u001b[1;32m---> 17\u001b[1;33m         \u001b[0mmodel\u001b[0m\u001b[1;33m,\u001b[0m \u001b[0mtrain_loss\u001b[0m \u001b[1;33m=\u001b[0m \u001b[0mtrain\u001b[0m\u001b[1;33m(\u001b[0m\u001b[0mmodel\u001b[0m\u001b[1;33m,\u001b[0m \u001b[0mpartition\u001b[0m\u001b[1;33m,\u001b[0m \u001b[0moptimizer\u001b[0m\u001b[1;33m,\u001b[0m \u001b[0mloss_fn\u001b[0m\u001b[1;33m,\u001b[0m \u001b[0margs\u001b[0m\u001b[1;33m)\u001b[0m\u001b[1;33m\u001b[0m\u001b[1;33m\u001b[0m\u001b[0m\n\u001b[0m\u001b[0;32m     18\u001b[0m         \u001b[0mval_loss\u001b[0m\u001b[1;33m,\u001b[0m \u001b[0mval_acc\u001b[0m \u001b[1;33m=\u001b[0m \u001b[0mvalidate\u001b[0m\u001b[1;33m(\u001b[0m\u001b[0mmodel\u001b[0m\u001b[1;33m,\u001b[0m \u001b[0mpartition\u001b[0m\u001b[1;33m,\u001b[0m \u001b[0mloss_fn\u001b[0m\u001b[1;33m,\u001b[0m \u001b[0margs\u001b[0m\u001b[1;33m)\u001b[0m\u001b[1;33m\u001b[0m\u001b[1;33m\u001b[0m\u001b[0m\n\u001b[0;32m     19\u001b[0m         \u001b[0mend_time\u001b[0m \u001b[1;33m=\u001b[0m \u001b[0mtime\u001b[0m\u001b[1;33m.\u001b[0m\u001b[0mtime\u001b[0m\u001b[1;33m(\u001b[0m\u001b[1;33m)\u001b[0m\u001b[1;33m\u001b[0m\u001b[1;33m\u001b[0m\u001b[0m\n",
      "\u001b[1;32m<ipython-input-62-18f2a1429041>\u001b[0m in \u001b[0;36mtrain\u001b[1;34m(model, partition, optimizer, loss_fn, args)\u001b[0m\n\u001b[0;32m     29\u001b[0m \u001b[1;33m\u001b[0m\u001b[0m\n\u001b[0;32m     30\u001b[0m         \u001b[0mloss\u001b[0m \u001b[1;33m=\u001b[0m \u001b[0mloss_fn\u001b[0m\u001b[1;33m(\u001b[0m\u001b[0my_pred\u001b[0m\u001b[1;33m,\u001b[0m \u001b[0my_true\u001b[0m\u001b[1;33m)\u001b[0m\u001b[1;33m\u001b[0m\u001b[1;33m\u001b[0m\u001b[0m\n\u001b[1;32m---> 31\u001b[1;33m         \u001b[0mloss\u001b[0m\u001b[1;33m.\u001b[0m\u001b[0mbackward\u001b[0m\u001b[1;33m(\u001b[0m\u001b[1;33m)\u001b[0m\u001b[1;33m\u001b[0m\u001b[1;33m\u001b[0m\u001b[0m\n\u001b[0m\u001b[0;32m     32\u001b[0m         \u001b[0moptimizer\u001b[0m\u001b[1;33m.\u001b[0m\u001b[0mstep\u001b[0m\u001b[1;33m(\u001b[0m\u001b[1;33m)\u001b[0m\u001b[1;33m\u001b[0m\u001b[1;33m\u001b[0m\u001b[0m\n\u001b[0;32m     33\u001b[0m \u001b[1;33m\u001b[0m\u001b[0m\n",
      "\u001b[1;32mC:\\Anaconda3\\envs\\venv\\lib\\site-packages\\torch\\tensor.py\u001b[0m in \u001b[0;36mbackward\u001b[1;34m(self, gradient, retain_graph, create_graph)\u001b[0m\n\u001b[0;32m    183\u001b[0m                 \u001b[0mproducts\u001b[0m\u001b[1;33m.\u001b[0m \u001b[0mDefaults\u001b[0m \u001b[0mto\u001b[0m\u001b[0;31m \u001b[0m\u001b[0;31m`\u001b[0m\u001b[0;31m`\u001b[0m\u001b[1;32mFalse\u001b[0m\u001b[0;31m`\u001b[0m\u001b[0;31m`\u001b[0m\u001b[1;33m.\u001b[0m\u001b[1;33m\u001b[0m\u001b[1;33m\u001b[0m\u001b[0m\n\u001b[0;32m    184\u001b[0m         \"\"\"\n\u001b[1;32m--> 185\u001b[1;33m         \u001b[0mtorch\u001b[0m\u001b[1;33m.\u001b[0m\u001b[0mautograd\u001b[0m\u001b[1;33m.\u001b[0m\u001b[0mbackward\u001b[0m\u001b[1;33m(\u001b[0m\u001b[0mself\u001b[0m\u001b[1;33m,\u001b[0m \u001b[0mgradient\u001b[0m\u001b[1;33m,\u001b[0m \u001b[0mretain_graph\u001b[0m\u001b[1;33m,\u001b[0m \u001b[0mcreate_graph\u001b[0m\u001b[1;33m)\u001b[0m\u001b[1;33m\u001b[0m\u001b[1;33m\u001b[0m\u001b[0m\n\u001b[0m\u001b[0;32m    186\u001b[0m \u001b[1;33m\u001b[0m\u001b[0m\n\u001b[0;32m    187\u001b[0m     \u001b[1;32mdef\u001b[0m \u001b[0mregister_hook\u001b[0m\u001b[1;33m(\u001b[0m\u001b[0mself\u001b[0m\u001b[1;33m,\u001b[0m \u001b[0mhook\u001b[0m\u001b[1;33m)\u001b[0m\u001b[1;33m:\u001b[0m\u001b[1;33m\u001b[0m\u001b[1;33m\u001b[0m\u001b[0m\n",
      "\u001b[1;32mC:\\Anaconda3\\envs\\venv\\lib\\site-packages\\torch\\autograd\\__init__.py\u001b[0m in \u001b[0;36mbackward\u001b[1;34m(tensors, grad_tensors, retain_graph, create_graph, grad_variables)\u001b[0m\n\u001b[0;32m    125\u001b[0m     Variable._execution_engine.run_backward(\n\u001b[0;32m    126\u001b[0m         \u001b[0mtensors\u001b[0m\u001b[1;33m,\u001b[0m \u001b[0mgrad_tensors\u001b[0m\u001b[1;33m,\u001b[0m \u001b[0mretain_graph\u001b[0m\u001b[1;33m,\u001b[0m \u001b[0mcreate_graph\u001b[0m\u001b[1;33m,\u001b[0m\u001b[1;33m\u001b[0m\u001b[1;33m\u001b[0m\u001b[0m\n\u001b[1;32m--> 127\u001b[1;33m         allow_unreachable=True)  # allow_unreachable flag\n\u001b[0m\u001b[0;32m    128\u001b[0m \u001b[1;33m\u001b[0m\u001b[0m\n\u001b[0;32m    129\u001b[0m \u001b[1;33m\u001b[0m\u001b[0m\n",
      "\u001b[1;31mKeyboardInterrupt\u001b[0m: "
     ]
    }
   ],
   "source": [
    "print(args)\n",
    "setting, result, model = experiment(partition, deepcopy(args))"
   ]
  },
  {
   "cell_type": "code",
   "execution_count": null,
   "id": "563c8828",
   "metadata": {
    "scrolled": false
   },
   "outputs": [],
   "source": [
    "testloader = DataLoader(partition['train'], batch_size = 1, shuffle = True, drop_last = True)\n",
    "model.eval()\n",
    "# evaluate\n",
    "\n",
    "with torch.no_grad():\n",
    "    for i, (X, y) in enumerate(testloader):\n",
    "\n",
    "        X = X.transpose(0, 1).float().to(args.device)\n",
    "        y_true = y.float().to(args.device)\n",
    "        model.hidden = model.init_hidden(X.shape[1])\n",
    "\n",
    "        # en-decoder outputs tensor \n",
    "        y_pred = model(X)\n",
    "        \n",
    "        # y values to cpu\n",
    "        y_true = y_true.cpu().detach().numpy().reshape(-1)\n",
    "        y_pred = y_pred.cpu().detach().numpy().reshape(-1)\n",
    "        \n",
    "        print(y_true.shape, y_pred.shape)\n",
    "\n",
    "        plt.plot(y_true, label = 'True series')\n",
    "        plt.plot(y_pred, '-', label = 'Prediction series')\n",
    "#         plt.plot(.max(), '*')\n",
    "        plt.legend()\n",
    "        plt.show()\n",
    "\n",
    "        loss = mean_absolute_error(y_true, y_pred)\n",
    "        mae =+ loss\n",
    "        if i == 10:\n",
    "            print(args, \"\\nSES 사용\")\n",
    "            print(f'mean absolute error * 10E5 is {(mae/5) * 10E5}')            \n",
    "            break\n"
   ]
  },
  {
   "cell_type": "code",
   "execution_count": null,
   "id": "5168aae0",
   "metadata": {},
   "outputs": [],
   "source": []
  },
  {
   "cell_type": "code",
   "execution_count": null,
   "id": "b8345f11",
   "metadata": {},
   "outputs": [],
   "source": []
  },
  {
   "cell_type": "code",
   "execution_count": null,
   "id": "955bb48b",
   "metadata": {},
   "outputs": [],
   "source": []
  }
 ],
 "metadata": {
  "kernelspec": {
   "display_name": "Python 3",
   "language": "python",
   "name": "python3"
  },
  "language_info": {
   "codemirror_mode": {
    "name": "ipython",
    "version": 3
   },
   "file_extension": ".py",
   "mimetype": "text/x-python",
   "name": "python",
   "nbconvert_exporter": "python",
   "pygments_lexer": "ipython3",
   "version": "3.7.10"
  }
 },
 "nbformat": 4,
 "nbformat_minor": 5
}
