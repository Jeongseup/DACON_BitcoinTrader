{
 "cells": [
  {
   "cell_type": "markdown",
   "metadata": {
    "id": "O96S8VwXZvoZ"
   },
   "source": [
    "### 데이콘 비트코인 가격 예측 - Prophet"
   ]
  },
  {
   "cell_type": "code",
   "execution_count": 25,
   "metadata": {
    "colab": {
     "base_uri": "https://localhost:8080/"
    },
    "id": "_KXCuk9-Zsqv",
    "outputId": "051fdaed-faad-4c68-c7d0-f0d6d089be89"
   },
   "outputs": [],
   "source": [
    "import os, datetime\n",
    "import numpy as np\n",
    "import pandas as pd\n",
    "from tqdm import tqdm\n",
    "\n",
    "import IPython\n",
    "import IPython.display\n",
    "import matplotlib.pyplot as plt\n",
    "\n",
    "from fbprophet import Prophet\n",
    "import preprocessor, coin_simulation"
   ]
  },
  {
   "cell_type": "code",
   "execution_count": 33,
   "metadata": {
    "colab": {
     "base_uri": "https://localhost:8080/",
     "height": 204
    },
    "id": "lFuBlCsdbt6L",
    "outputId": "76502cbb-e576-40ed-d8d5-2e00382834cd"
   },
   "outputs": [],
   "source": [
    "# modeling programing\n",
    "def prophet_modeling(input_array):\n",
    "    ''' 함수 설명 : prophet fitting & prediction'''\n",
    "    \n",
    "    #미래 데이터 저장을 위한 빈 array 생성\n",
    "    valid_pred_array =  np.zeros([input_array.shape[0], 120])\n",
    "    error_counter = 0\n",
    "    \n",
    "    #모델 돌리기 및 결과 저장\n",
    "    for idx in tqdm(range(input_array.shape[0])):\n",
    "        try:\n",
    "            x_series = input_array[idx,:].reshape(-1)\n",
    "            x_df = prophet_preprocessor(x_series)\n",
    "            \n",
    "            # prophet model create\n",
    "            model = Prophet( \n",
    "                            yearly_seasonality=False, \n",
    "                            weekly_seasonality=True, \n",
    "                            daily_seasonality=True,\n",
    "                            changepoint_prior_scale= 0.01,\n",
    "                            changepoint_range= 1,\n",
    "                            interval_width= 0.9,\n",
    "                            seasonality_mode='multiplicative', \n",
    "            )\n",
    "            model.add_seasonality(name='first_seasonality', period=1/24, fourier_order=5) \n",
    "            model.add_seasonality(name='second_seasonality', period=1/12, fourier_order=10)\n",
    "            \n",
    "            # 모델 학습\n",
    "            model.fit(x_df)\n",
    "            future = model.make_future_dataframe(periods=120, freq='min')\n",
    "            forecast = model.predict(future)\n",
    "            valid_pred_array[idx,:] = forecast.yhat.values[-120:]\n",
    "\n",
    "        except:\n",
    "            error_counter += 1\n",
    "            print(f'Prophet modeling error!')\n",
    "            pass\n",
    "    \n",
    "    # clear display\n",
    "    IPython.display.clear_output()\n",
    "    print(f'''\n",
    "    Warning : {len(input_array)}의 샘플 내 {error_counter}개의 샘플에서 에러가 발생했습니다.\\n\n",
    "    Prediction Complete!'\n",
    "    '''\n",
    "    )        \n",
    "\n",
    "    return valid_pred_array\n",
    "\n",
    "def prophet_preprocessor(x_series):\n",
    "    ''' 함수 설명 : 빈 x_df 만들기'''\n",
    "    # start time initialization\n",
    "    start_time = '2021-01-01 00:00:00'\n",
    "    start_dt = datetime.datetime.strptime(start_time, '%Y-%m-%d %H:%M:%S')\n",
    "\n",
    "    # datafram 만들기\n",
    "    x_df = pd.DataFrame()\n",
    "    # 분당 시간 데이터 시리즈 입력\n",
    "    x_df['ds'] = [start_dt + datetime.timedelta(minutes = time_min) for time_min in np.arange(1, x_series.shape[0]+1).tolist()]\n",
    "    # 가격 데이터 시리즈 입력\n",
    "    x_df['y'] = x_series.tolist()\n",
    "\n",
    "    return x_df"
   ]
  },
  {
   "cell_type": "code",
   "execution_count": 4,
   "metadata": {
    "colab": {
     "base_uri": "https://localhost:8080/",
     "height": 265
    },
    "id": "FUSMdnpycLs0",
    "outputId": "4cdf9c0d-601e-4c14-f107-04bedf414a0b"
   },
   "outputs": [
    {
     "name": "stdout",
     "output_type": "stream",
     "text": [
      "Reading Complete!\n"
     ]
    }
   ],
   "source": [
    "### ------------ Data upload part ---------------- ###\n",
    "\n",
    "# 데이터가 위치한 폴더 경로\n",
    "dir_path = './data'\n",
    "\n",
    "# 파일명 설정\n",
    "x_file_name, y_file_name = 'train_x_df.csv', 'train_y_df.csv'\n",
    "x_file_path = os.path.join(dir_path, x_file_name)\n",
    "y_file_path = os.path.join(dir_path, y_file_name)\n",
    "\n",
    "#파일 업로드\n",
    "train_x_df = pd.read_csv(x_file_path)\n",
    "train_y_df = pd.read_csv(y_file_path)\n",
    "print(\"Reading Complete!\")\n",
    "\n",
    "\n",
    "\n",
    "### --------------- Modeling part ---------------- ###\n",
    "\n",
    "# 데이터 전처리 1 : dafaframe to array \n",
    "train_x_array = preprocessor.df2d_to_array3d(train_x_df)\n",
    "train_y_array = preprocessor.df2d_to_array3d(train_y_df)\n",
    "\n",
    "# 데이터 전처리 2-2 : 비차분 open 데이터 추출\n",
    "normal_x_array = train_x_array[:383, :, 1].reshape(383, 1380, 1) # open col is 1"
   ]
  },
  {
   "cell_type": "code",
   "execution_count": null,
   "metadata": {},
   "outputs": [],
   "source": [
    "# 모델링 시작\n",
    "valid_pred_array = prophet_modeling(train_x_array)\n"
   ]
  },
  {
   "cell_type": "code",
   "execution_count": 34,
   "metadata": {},
   "outputs": [
    {
     "ename": "NameError",
     "evalue": "name 'valid_pred_array' is not defined",
     "output_type": "error",
     "traceback": [
      "\u001b[1;31m---------------------------------------------------------------------------\u001b[0m",
      "\u001b[1;31mNameError\u001b[0m                                 Traceback (most recent call last)",
      "\u001b[1;32m<ipython-input-34-c6a47c9003f5>\u001b[0m in \u001b[0;36m<module>\u001b[1;34m\u001b[0m\n\u001b[0;32m      1\u001b[0m \u001b[0msave_file_name\u001b[0m \u001b[1;33m=\u001b[0m \u001b[1;34m'prophet_result.csv'\u001b[0m\u001b[1;33m\u001b[0m\u001b[1;33m\u001b[0m\u001b[0m\n\u001b[1;32m----> 2\u001b[1;33m \u001b[0mnp\u001b[0m\u001b[1;33m.\u001b[0m\u001b[0msavetxt\u001b[0m\u001b[1;33m(\u001b[0m\u001b[0msave_file_name\u001b[0m\u001b[1;33m,\u001b[0m \u001b[0mvalid_pred_array\u001b[0m\u001b[1;33m,\u001b[0m \u001b[0mdelimiter\u001b[0m \u001b[1;33m=\u001b[0m \u001b[1;34m\",\"\u001b[0m\u001b[1;33m)\u001b[0m\u001b[1;33m\u001b[0m\u001b[1;33m\u001b[0m\u001b[0m\n\u001b[0m",
      "\u001b[1;31mNameError\u001b[0m: name 'valid_pred_array' is not defined"
     ]
    }
   ],
   "source": [
    "save_file_name = 'prophet_result.csv'\n",
    "np.savetxt(save_file_name, valid_pred_array, delimiter = \",\")\n"
   ]
  }
 ],
 "metadata": {
  "colab": {
   "name": "Prophet pilot.ipynb",
   "provenance": []
  },
  "kernelspec": {
   "display_name": "Python 3",
   "language": "python",
   "name": "python3"
  },
  "language_info": {
   "codemirror_mode": {
    "name": "ipython",
    "version": 3
   },
   "file_extension": ".py",
   "mimetype": "text/x-python",
   "name": "python",
   "nbconvert_exporter": "python",
   "pygments_lexer": "ipython3",
   "version": "3.7.10"
  }
 },
 "nbformat": 4,
 "nbformat_minor": 1
}
