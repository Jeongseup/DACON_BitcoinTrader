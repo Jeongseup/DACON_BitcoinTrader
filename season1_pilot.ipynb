{
  "nbformat": 4,
  "nbformat_minor": 0,
  "metadata": {
    "colab": {
      "name": "season1_pilot.ipynb",
      "provenance": [],
      "collapsed_sections": [],
      "toc_visible": true
    },
    "kernelspec": {
      "name": "python3",
      "display_name": "Python 3"
    },
    "language_info": {
      "name": "python"
    }
  },
  "cells": [
    {
      "cell_type": "markdown",
      "metadata": {
        "id": "kO6Bm90qThqs"
      },
      "source": [
        "# 데이콘 비트코인 트레이딩 모델 과정"
      ]
    },
    {
      "cell_type": "markdown",
      "metadata": {
        "id": "l5s55P2OV4ss"
      },
      "source": [
        "## 구글 드라이브 마운트 및 파일 업로드\n",
        "\n",
        "\n",
        "\n",
        "\n",
        "\n"
      ]
    },
    {
      "cell_type": "code",
      "metadata": {
        "colab": {
          "base_uri": "https://localhost:8080/"
        },
        "id": "DJhmdrtfTtoy",
        "outputId": "50f83bdc-3d4b-4db3-dcab-afdd1ab5465e"
      },
      "source": [
        "# colab drive mount \n",
        "import os\n",
        "from google.colab import drive\n",
        "from google.colab import files\n",
        "\n",
        "drive.mount('/content/drive')\n"
      ],
      "execution_count": null,
      "outputs": [
        {
          "output_type": "stream",
          "text": [
            "Mounted at /content/drive\n"
          ],
          "name": "stdout"
        }
      ]
    },
    {
      "cell_type": "code",
      "metadata": {
        "id": "5q1n3iFGpDZ_",
        "colab": {
          "base_uri": "https://localhost:8080/"
        },
        "outputId": "becae2be-76f0-44c1-f423-54c6167edb6c"
      },
      "source": [
        "# 폴더 path 설정 및 working directory 변경\n",
        "folder_path = './drive/MyDrive'\n",
        "os.chdir(folder_path)\n",
        "\n",
        "\n",
        "# current working directory 확인\n",
        "print(os.getcwd())\n",
        "''' 정상 경로 : /content/drive/My Drive '''\n",
        "\n",
        "\n",
        "# data uploading folder create\n",
        "dir_name = 'bitcoin_dataset'\n",
        "\n",
        "def make_dir(dir_name):\n",
        "    try:\n",
        "        # Create target Directory\n",
        "        os.mkdir(dir_name)\n",
        "        print(\"Directory \" , dir_name ,  \" Created \") \n",
        "    except FileExistsError:\n",
        "        print(\"Directory \" , dir_name ,  \" already exists\")\n",
        "\n",
        "# 폴더 생성\n",
        "make_dir(dir_name)\n",
        "\n",
        "# 폴더 생성됬는 지 확인 \n",
        "print(os.listdir())\n",
        "\n",
        "# 업로드할 디렉토리 변경\n",
        "os.chdir('./bitcoin_dataset/')\n",
        "\n",
        "# current working directroy confirm\n",
        "print(os.getcwd())"
      ],
      "execution_count": null,
      "outputs": [
        {
          "output_type": "stream",
          "text": [
            "/content/drive/MyDrive\n",
            "Directory  bitcoin_dataset  already exists\n",
            "['Colab Notebooks', '산갱', 'somethings', '.ipynb_checkpoints', '블로그 방문관련 이슈 조사.gform', '제목 없는 설문지.gform', 'bitcoin_dataset']\n",
            "/content/drive/MyDrive/bitcoin_dataset\n"
          ],
          "name": "stdout"
        }
      ]
    },
    {
      "cell_type": "code",
      "metadata": {
        "colab": {
          "base_uri": "https://localhost:8080/",
          "height": 72
        },
        "id": "rw1qR54rW6Ug",
        "outputId": "5b08b65f-1546-4b5c-e428-46a760bc26cf"
      },
      "source": [
        "# dataset upload \n",
        "''' 업로드 아래로 해도 되긴 하는데, 너무 느려서 구글 드라이브 접속해서 직접 업로딩하는 걸 추천'''\n",
        "\n",
        "print(\"구글 드라이브 링크 : {}\".format('https://www.google.co.kr/drive/'))\n",
        "\n",
        "'''\n",
        " uploaded = files.upload()\n",
        "\n",
        " for fn in uploaded.keys():\n",
        "    print('User uploaded file \"{name}\" with length {length} bytes'.format(name=fn, length=len(uploaded[fn])))\n",
        "'''"
      ],
      "execution_count": null,
      "outputs": [
        {
          "output_type": "stream",
          "text": [
            "구글 드라이브 링크 : https://www.google.co.kr/drive/\n"
          ],
          "name": "stdout"
        },
        {
          "output_type": "execute_result",
          "data": {
            "application/vnd.google.colaboratory.intrinsic+json": {
              "type": "string"
            },
            "text/plain": [
              "'\\n uploaded = files.upload()\\n\\n for fn in uploaded.keys():\\n    print(\\'User uploaded file \"{name}\" with length {length} bytes\\'.format(name=fn, length=len(uploaded[fn])))\\n'"
            ]
          },
          "metadata": {
            "tags": []
          },
          "execution_count": 2
        }
      ]
    },
    {
      "cell_type": "markdown",
      "metadata": {
        "id": "PqIyNHUWvM3W"
      },
      "source": [
        "## 2. 시즌 1 2위팀 학습 모델 파일럿"
      ]
    },
    {
      "cell_type": "code",
      "metadata": {
        "id": "t_ig2sDaUBn-"
      },
      "source": [
        "!pip install statsmodels==0.11.1\n",
        "!pip install fbprophet==0.7.1"
      ],
      "execution_count": null,
      "outputs": []
    },
    {
      "cell_type": "code",
      "metadata": {
        "id": "KjTrSsgvqEvr"
      },
      "source": [
        "# import library\n",
        "import pandas as pd\n",
        "import numpy as np\n",
        "import matplotlib.pyplot as plt\n",
        "import datetime\n",
        "from statsmodels.tsa.arima.model import ARIMA\n",
        "import datetime\n",
        "from fbprophet import Prophet\n"
      ],
      "execution_count": null,
      "outputs": []
    },
    {
      "cell_type": "code",
      "metadata": {
        "id": "HmTz6Mo-Ueim"
      },
      "source": [
        "# 데이터 확인\n",
        "print(os.listdir())\n",
        "\n",
        "# read file\n",
        "train_x_df = pd.read_csv(\"./train_x_df.csv\")\n",
        "train_y_df = pd.read_csv(\"./train_y_df.csv\")\n",
        "print(\"Reading Complete!\")"
      ],
      "execution_count": null,
      "outputs": []
    },
    {
      "cell_type": "code",
      "metadata": {
        "id": "SC_R3z6nrS7L"
      },
      "source": [
        "# numpy arrary conversion\n",
        "\n",
        "def df2d_to_array3d(df_2d):\n",
        "    # 입력 받은 2차원 데이터 프레임을 3차원 numpy array로 변경하는 함수\n",
        "    feature_size = df_2d.iloc[:,2:].shape[1]\n",
        "    time_size = len(df_2d.time.value_counts())\n",
        "    sample_size = len(df_2d.sample_id.value_counts())\n",
        "    sample_index = df_2d.sample_id.value_counts().index\n",
        "    array_3d = df_2d.iloc[:,2:].values.reshape([sample_size, time_size, feature_size])\n",
        "    return array_3d"
      ],
      "execution_count": null,
      "outputs": []
    },
    {
      "cell_type": "code",
      "metadata": {
        "id": "cdHQvlbJraIU"
      },
      "source": [
        "train_x_array = df2d_to_array3d(train_x_df)\n",
        "train_y_array = df2d_to_array3d(train_y_df)"
      ],
      "execution_count": null,
      "outputs": []
    },
    {
      "cell_type": "code",
      "metadata": {
        "id": "pzadYX-7rdDN",
        "colab": {
          "base_uri": "https://localhost:8080/"
        },
        "outputId": "46cb0604-eb7c-4f55-fce4-8351f5ce225e"
      },
      "source": [
        "print(f'''\n",
        "\n",
        "train_x_array {train_x_array.shape}\n",
        "train_y_array {train_y_array.shape}\n",
        "\n",
        "''')"
      ],
      "execution_count": null,
      "outputs": [
        {
          "output_type": "stream",
          "text": [
            "\n",
            "\n",
            "train_x_array (7661, 1380, 10)\n",
            "train_y_array (7661, 120, 10)\n",
            "\n",
            "\n"
          ],
          "name": "stdout"
        }
      ]
    },
    {
      "cell_type": "code",
      "metadata": {
        "id": "YxMoCjrFqqoP"
      },
      "source": [
        "# 샘플 확인\n",
        "\n",
        "def plot_series(x_series, y_series):\n",
        "    #입력 series와 출력 series를 연속적으로 연결하여 시각적으로 보여주는 코드 입니다.\n",
        "    plt.plot(x_series, label = 'input_series')\n",
        "    plt.plot(np.arange(len(x_series), len(x_series)+len(y_series)),\n",
        "             y_series, label = 'output_series')\n",
        "    plt.axhline(1, c = 'red')\n",
        "    plt.legend()"
      ],
      "execution_count": null,
      "outputs": []
    },
    {
      "cell_type": "code",
      "metadata": {
        "id": "eIlC5aGhScgB",
        "colab": {
          "base_uri": "https://localhost:8080/",
          "height": 412
        },
        "outputId": "f896acbe-aa4a-4988-eca6-c5d77f298719"
      },
      "source": [
        "train_x_df[train_x_df['sample_id'] == 0]"
      ],
      "execution_count": null,
      "outputs": [
        {
          "output_type": "execute_result",
          "data": {
            "text/html": [
              "<div>\n",
              "<style scoped>\n",
              "    .dataframe tbody tr th:only-of-type {\n",
              "        vertical-align: middle;\n",
              "    }\n",
              "\n",
              "    .dataframe tbody tr th {\n",
              "        vertical-align: top;\n",
              "    }\n",
              "\n",
              "    .dataframe thead th {\n",
              "        text-align: right;\n",
              "    }\n",
              "</style>\n",
              "<table border=\"1\" class=\"dataframe\">\n",
              "  <thead>\n",
              "    <tr style=\"text-align: right;\">\n",
              "      <th></th>\n",
              "      <th>sample_id</th>\n",
              "      <th>time</th>\n",
              "      <th>coin_index</th>\n",
              "      <th>open</th>\n",
              "      <th>high</th>\n",
              "      <th>low</th>\n",
              "      <th>close</th>\n",
              "      <th>volume</th>\n",
              "      <th>quote_av</th>\n",
              "      <th>trades</th>\n",
              "      <th>tb_base_av</th>\n",
              "      <th>tb_quote_av</th>\n",
              "    </tr>\n",
              "  </thead>\n",
              "  <tbody>\n",
              "    <tr>\n",
              "      <th>0</th>\n",
              "      <td>0</td>\n",
              "      <td>0</td>\n",
              "      <td>9</td>\n",
              "      <td>0.983614</td>\n",
              "      <td>0.983614</td>\n",
              "      <td>0.983128</td>\n",
              "      <td>0.983246</td>\n",
              "      <td>0.001334</td>\n",
              "      <td>10.650987</td>\n",
              "      <td>0.009855</td>\n",
              "      <td>0.000848</td>\n",
              "      <td>6.771755</td>\n",
              "    </tr>\n",
              "    <tr>\n",
              "      <th>1</th>\n",
              "      <td>0</td>\n",
              "      <td>1</td>\n",
              "      <td>9</td>\n",
              "      <td>0.983245</td>\n",
              "      <td>0.983612</td>\n",
              "      <td>0.982453</td>\n",
              "      <td>0.982693</td>\n",
              "      <td>0.001425</td>\n",
              "      <td>11.375689</td>\n",
              "      <td>0.016137</td>\n",
              "      <td>0.000697</td>\n",
              "      <td>5.565188</td>\n",
              "    </tr>\n",
              "    <tr>\n",
              "      <th>2</th>\n",
              "      <td>0</td>\n",
              "      <td>2</td>\n",
              "      <td>9</td>\n",
              "      <td>0.982694</td>\n",
              "      <td>0.983612</td>\n",
              "      <td>0.982403</td>\n",
              "      <td>0.983002</td>\n",
              "      <td>0.001542</td>\n",
              "      <td>12.301942</td>\n",
              "      <td>0.014166</td>\n",
              "      <td>0.000905</td>\n",
              "      <td>7.225459</td>\n",
              "    </tr>\n",
              "    <tr>\n",
              "      <th>3</th>\n",
              "      <td>0</td>\n",
              "      <td>3</td>\n",
              "      <td>9</td>\n",
              "      <td>0.983009</td>\n",
              "      <td>0.984848</td>\n",
              "      <td>0.983009</td>\n",
              "      <td>0.984486</td>\n",
              "      <td>0.002520</td>\n",
              "      <td>20.134695</td>\n",
              "      <td>0.021557</td>\n",
              "      <td>0.001171</td>\n",
              "      <td>9.353000</td>\n",
              "    </tr>\n",
              "    <tr>\n",
              "      <th>4</th>\n",
              "      <td>0</td>\n",
              "      <td>4</td>\n",
              "      <td>9</td>\n",
              "      <td>0.984233</td>\n",
              "      <td>0.984606</td>\n",
              "      <td>0.983612</td>\n",
              "      <td>0.984164</td>\n",
              "      <td>0.002818</td>\n",
              "      <td>22.515448</td>\n",
              "      <td>0.021434</td>\n",
              "      <td>0.001799</td>\n",
              "      <td>14.372534</td>\n",
              "    </tr>\n",
              "    <tr>\n",
              "      <th>...</th>\n",
              "      <td>...</td>\n",
              "      <td>...</td>\n",
              "      <td>...</td>\n",
              "      <td>...</td>\n",
              "      <td>...</td>\n",
              "      <td>...</td>\n",
              "      <td>...</td>\n",
              "      <td>...</td>\n",
              "      <td>...</td>\n",
              "      <td>...</td>\n",
              "      <td>...</td>\n",
              "      <td>...</td>\n",
              "    </tr>\n",
              "    <tr>\n",
              "      <th>1375</th>\n",
              "      <td>0</td>\n",
              "      <td>1375</td>\n",
              "      <td>9</td>\n",
              "      <td>0.999015</td>\n",
              "      <td>0.999388</td>\n",
              "      <td>0.998400</td>\n",
              "      <td>0.998400</td>\n",
              "      <td>0.002577</td>\n",
              "      <td>20.899395</td>\n",
              "      <td>0.017492</td>\n",
              "      <td>0.001371</td>\n",
              "      <td>11.117771</td>\n",
              "    </tr>\n",
              "    <tr>\n",
              "      <th>1376</th>\n",
              "      <td>0</td>\n",
              "      <td>1376</td>\n",
              "      <td>9</td>\n",
              "      <td>0.998400</td>\n",
              "      <td>0.999260</td>\n",
              "      <td>0.998400</td>\n",
              "      <td>0.999016</td>\n",
              "      <td>0.001256</td>\n",
              "      <td>10.188805</td>\n",
              "      <td>0.011333</td>\n",
              "      <td>0.000556</td>\n",
              "      <td>4.510879</td>\n",
              "    </tr>\n",
              "    <tr>\n",
              "      <th>1377</th>\n",
              "      <td>0</td>\n",
              "      <td>1377</td>\n",
              "      <td>9</td>\n",
              "      <td>0.999018</td>\n",
              "      <td>0.999629</td>\n",
              "      <td>0.998936</td>\n",
              "      <td>0.999629</td>\n",
              "      <td>0.002902</td>\n",
              "      <td>23.543552</td>\n",
              "      <td>0.014289</td>\n",
              "      <td>0.001761</td>\n",
              "      <td>14.289263</td>\n",
              "    </tr>\n",
              "    <tr>\n",
              "      <th>1378</th>\n",
              "      <td>0</td>\n",
              "      <td>1378</td>\n",
              "      <td>9</td>\n",
              "      <td>0.999629</td>\n",
              "      <td>1.000116</td>\n",
              "      <td>0.999143</td>\n",
              "      <td>1.000000</td>\n",
              "      <td>0.004383</td>\n",
              "      <td>35.568905</td>\n",
              "      <td>0.020941</td>\n",
              "      <td>0.002810</td>\n",
              "      <td>22.806458</td>\n",
              "    </tr>\n",
              "    <tr>\n",
              "      <th>1379</th>\n",
              "      <td>0</td>\n",
              "      <td>1379</td>\n",
              "      <td>9</td>\n",
              "      <td>1.000000</td>\n",
              "      <td>1.000123</td>\n",
              "      <td>0.999388</td>\n",
              "      <td>0.999998</td>\n",
              "      <td>0.001269</td>\n",
              "      <td>10.297554</td>\n",
              "      <td>0.014782</td>\n",
              "      <td>0.000909</td>\n",
              "      <td>7.376117</td>\n",
              "    </tr>\n",
              "  </tbody>\n",
              "</table>\n",
              "<p>1380 rows × 12 columns</p>\n",
              "</div>"
            ],
            "text/plain": [
              "      sample_id  time  coin_index  ...    trades  tb_base_av  tb_quote_av\n",
              "0             0     0           9  ...  0.009855    0.000848     6.771755\n",
              "1             0     1           9  ...  0.016137    0.000697     5.565188\n",
              "2             0     2           9  ...  0.014166    0.000905     7.225459\n",
              "3             0     3           9  ...  0.021557    0.001171     9.353000\n",
              "4             0     4           9  ...  0.021434    0.001799    14.372534\n",
              "...         ...   ...         ...  ...       ...         ...          ...\n",
              "1375          0  1375           9  ...  0.017492    0.001371    11.117771\n",
              "1376          0  1376           9  ...  0.011333    0.000556     4.510879\n",
              "1377          0  1377           9  ...  0.014289    0.001761    14.289263\n",
              "1378          0  1378           9  ...  0.020941    0.002810    22.806458\n",
              "1379          0  1379           9  ...  0.014782    0.000909     7.376117\n",
              "\n",
              "[1380 rows x 12 columns]"
            ]
          },
          "metadata": {
            "tags": []
          },
          "execution_count": 50
        }
      ]
    },
    {
      "cell_type": "code",
      "metadata": {
        "id": "hK4tkDlAq1SB",
        "colab": {
          "base_uri": "https://localhost:8080/",
          "height": 537
        },
        "outputId": "07261f5f-23b7-4e9f-8d2a-632cde2a91d3"
      },
      "source": [
        "# sample_id = 0, coin_index = 9에 해당하는 sample의 분단위 시가 변동 정보 시각화\n",
        "idx = 0\n",
        "plot_series(train_x_array[idx,:,1], train_y_array[idx,:,1])\n",
        "plt.show()"
      ],
      "execution_count": null,
      "outputs": [
        {
          "output_type": "display_data",
          "data": {
            "image/png": "[encoded data removed]",
            "text/plain": [
              "<Figure size 1080x648 with 1 Axes>"
            ]
          },
          "metadata": {
            "tags": [],
            "needs_background": "light"
          }
        }
      ]
    },
    {
      "cell_type": "code",
      "metadata": {
        "id": "sFk1A-bjrzzH"
      },
      "source": [
        "data_col_idx = 1 # 1 open, 2 high"
      ],
      "execution_count": null,
      "outputs": []
    },
    {
      "cell_type": "code",
      "metadata": {
        "id": "ymmNvv68r_7c",
        "colab": {
          "base_uri": "https://localhost:8080/"
        },
        "outputId": "5b36f59e-19b4-407e-97f3-6e912bb47ce3"
      },
      "source": [
        "# 임의의 sample set index\n",
        "idx = 0\n",
        "\n",
        "# open 가격만 가지고 arima 시행\n",
        "x_series = train_x_array[idx,:,data_col_idx] \n",
        "y_series = train_y_array[idx,:,data_col_idx]\n",
        "\n",
        "print(f'''\n",
        "\n",
        "train_x_array {x_series.shape}\n",
        "train_y_array {y_series.shape}\n",
        "\n",
        "''')"
      ],
      "execution_count": null,
      "outputs": [
        {
          "output_type": "stream",
          "text": [
            "\n",
            "\n",
            "train_x_array (1380,)\n",
            "train_y_array (120,)\n",
            "\n",
            "\n"
          ],
          "name": "stdout"
        }
      ]
    },
    {
      "cell_type": "code",
      "metadata": {
        "id": "4KaWklpiQrXn",
        "colab": {
          "base_uri": "https://localhost:8080/"
        },
        "outputId": "1cc68030-15c0-4e2e-f66a-3bb2f5c8e294"
      },
      "source": [
        "x_series"
      ],
      "execution_count": null,
      "outputs": [
        {
          "output_type": "execute_result",
          "data": {
            "text/plain": [
              "array([0.98361421, 0.98324466, 0.98269397, ..., 0.99901819, 0.99962926,\n",
              "       1.        ])"
            ]
          },
          "metadata": {
            "tags": []
          },
          "execution_count": 68
        }
      ]
    },
    {
      "cell_type": "code",
      "metadata": {
        "id": "efEGNIzssssi",
        "colab": {
          "base_uri": "https://localhost:8080/"
        },
        "outputId": "ea0f1602-71df-4a1c-8936-bc4e345f67f9"
      },
      "source": [
        "# ARIMA model fitting : model arguments 는 임의인 듯.?\n",
        "\n",
        "print(\"ARIMA 계수의미 : {}\".format(\"https://otexts.com/fppkr/arima-forecasting.html\"), end='\\n')\n",
        "\n",
        "model = ARIMA(x_series, order=(3,0,1))\n",
        "fit  = model.fit()\n",
        "pred_by_arima = fit.predict(1381,1380+120, typ='levels')"
      ],
      "execution_count": null,
      "outputs": [
        {
          "output_type": "stream",
          "text": [
            "ARIMA 계수의미 : https://otexts.com/fppkr/arima-forecasting.html\n"
          ],
          "name": "stdout"
        }
      ]
    },
    {
      "cell_type": "code",
      "metadata": {
        "id": "r6ssltLZs9Go",
        "colab": {
          "base_uri": "https://localhost:8080/",
          "height": 537
        },
        "outputId": "afc0dd18-a177-4cb4-8467-43bbc8152195"
      },
      "source": [
        "# ARIMA 모델 결과\n",
        "plot_series(x_series, y_series)\n",
        "plt.plot(np.arange(1380, 1380+120), pred_by_arima, label = 'ARIMA prediction')\n",
        "#plt.plot(np.arange(1380, 1380+120), pred_y, label = 'Prophet prediction')\n",
        "plt.legend()\n",
        "plt.show()"
      ],
      "execution_count": null,
      "outputs": [
        {
          "output_type": "display_data",
          "data": {
            "image/png": "[encoded data removed]",
            "text/plain": [
              "<Figure size 1080x648 with 1 Axes>"
            ]
          },
          "metadata": {
            "tags": [],
            "needs_background": "light"
          }
        }
      ]
    },
    {
      "cell_type": "code",
      "metadata": {
        "id": "lxboZHPttNq4"
      },
      "source": [
        "\n",
        "start_time = '2021-01-31 00:00:00'\n",
        "start_dt = datetime.datetime.strptime(start_time, '%Y-%m-%d %H:%M:%S')\n",
        "\n",
        "# datafram 만들기\n",
        "x_df = pd.DataFrame()\n",
        "# 분당 시간 데이터 시리즈 입력\n",
        "x_df['ds'] = [start_dt + datetime.timedelta(minutes = time_min) for time_min in np.arange(1, x_series.shape[0]+1).tolist()]\n",
        "# 가격 데이터 시리즈 입력\n",
        "x_df['y'] = x_series.tolist()\n"
      ],
      "execution_count": null,
      "outputs": []
    },
    {
      "cell_type": "code",
      "metadata": {
        "id": "51_eTrSKuhAb",
        "colab": {
          "base_uri": "https://localhost:8080/"
        },
        "outputId": "de0e28aa-7023-4c71-9a5b-00553b7a1123"
      },
      "source": [
        "# pprophet 모델 학습 \n",
        "prophet = Prophet(seasonality_mode='multiplicative', \n",
        "                  yearly_seasonality=False,\n",
        "                  weekly_seasonality=False, daily_seasonality=True,\n",
        "                  changepoint_prior_scale=0.06)\n",
        "prophet.fit(x_df)"
      ],
      "execution_count": null,
      "outputs": [
        {
          "output_type": "execute_result",
          "data": {
            "text/plain": [
              "<fbprophet.forecaster.Prophet at 0x7f0481bcb750>"
            ]
          },
          "metadata": {
            "tags": []
          },
          "execution_count": 57
        }
      ]
    },
    {
      "cell_type": "markdown",
      "metadata": {
        "id": "qu3jrmLxvmXw"
      },
      "source": [
        "arima 랑 prophet 관련 링크\n",
        "Time Series Forecasting — ARIMA vs Prophet : \n",
        "https://medium.com/analytics-vidhya/time-series-forecasting-arima-vs-prophet-5015928e402a\n",
        "\n",
        "\n",
        "facebook github : https://facebook.github.io/prophet/docs/quick_start.html\n",
        "prophet 설명 블로그 : https://zzsza.github.io/data/2019/02/06/prophet/\n",
        "\n",
        "\n"
      ]
    },
    {
      "cell_type": "code",
      "metadata": {
        "id": "ABjV-lBeu-3s"
      },
      "source": [
        "future_data = prophet.make_future_dataframe(periods=120, freq='min')\n",
        "forecast_data = prophet.predict(future_data)\n"
      ],
      "execution_count": null,
      "outputs": []
    },
    {
      "cell_type": "code",
      "metadata": {
        "id": "VlfALNGNwKBX"
      },
      "source": [
        "# prophet은 이렇게 임의의 예측하려는 시간대 데이터를 생성해서 prediction 하는 듯.\n",
        "future_data"
      ],
      "execution_count": null,
      "outputs": []
    },
    {
      "cell_type": "code",
      "metadata": {
        "id": "rOT495bXwR25"
      },
      "source": [
        "# 그리고 데이터 forecasting 하면 이렇게 뜸.\n",
        "forecast_data"
      ],
      "execution_count": null,
      "outputs": []
    },
    {
      "cell_type": "code",
      "metadata": {
        "id": "xsv4UpMdwefZ",
        "colab": {
          "base_uri": "https://localhost:8080/",
          "height": 200
        },
        "outputId": "b69b8394-3576-4789-d604-c71124ef812e"
      },
      "source": [
        "forecast_data[['ds', 'yhat', 'yhat_lower', 'yhat_upper']].tail(5)"
      ],
      "execution_count": null,
      "outputs": [
        {
          "output_type": "execute_result",
          "data": {
            "text/html": [
              "<div>\n",
              "<style scoped>\n",
              "    .dataframe tbody tr th:only-of-type {\n",
              "        vertical-align: middle;\n",
              "    }\n",
              "\n",
              "    .dataframe tbody tr th {\n",
              "        vertical-align: top;\n",
              "    }\n",
              "\n",
              "    .dataframe thead th {\n",
              "        text-align: right;\n",
              "    }\n",
              "</style>\n",
              "<table border=\"1\" class=\"dataframe\">\n",
              "  <thead>\n",
              "    <tr style=\"text-align: right;\">\n",
              "      <th></th>\n",
              "      <th>ds</th>\n",
              "      <th>yhat</th>\n",
              "      <th>yhat_lower</th>\n",
              "      <th>yhat_upper</th>\n",
              "    </tr>\n",
              "  </thead>\n",
              "  <tbody>\n",
              "    <tr>\n",
              "      <th>1495</th>\n",
              "      <td>2021-02-01 00:56:00</td>\n",
              "      <td>1.044539</td>\n",
              "      <td>1.026771</td>\n",
              "      <td>1.062108</td>\n",
              "    </tr>\n",
              "    <tr>\n",
              "      <th>1496</th>\n",
              "      <td>2021-02-01 00:57:00</td>\n",
              "      <td>1.045238</td>\n",
              "      <td>1.026883</td>\n",
              "      <td>1.063102</td>\n",
              "    </tr>\n",
              "    <tr>\n",
              "      <th>1497</th>\n",
              "      <td>2021-02-01 00:58:00</td>\n",
              "      <td>1.045943</td>\n",
              "      <td>1.027866</td>\n",
              "      <td>1.064366</td>\n",
              "    </tr>\n",
              "    <tr>\n",
              "      <th>1498</th>\n",
              "      <td>2021-02-01 00:59:00</td>\n",
              "      <td>1.046651</td>\n",
              "      <td>1.027429</td>\n",
              "      <td>1.064705</td>\n",
              "    </tr>\n",
              "    <tr>\n",
              "      <th>1499</th>\n",
              "      <td>2021-02-01 01:00:00</td>\n",
              "      <td>1.047365</td>\n",
              "      <td>1.027739</td>\n",
              "      <td>1.065840</td>\n",
              "    </tr>\n",
              "  </tbody>\n",
              "</table>\n",
              "</div>"
            ],
            "text/plain": [
              "                      ds      yhat  yhat_lower  yhat_upper\n",
              "1495 2021-02-01 00:56:00  1.044539    1.026771    1.062108\n",
              "1496 2021-02-01 00:57:00  1.045238    1.026883    1.063102\n",
              "1497 2021-02-01 00:58:00  1.045943    1.027866    1.064366\n",
              "1498 2021-02-01 00:59:00  1.046651    1.027429    1.064705\n",
              "1499 2021-02-01 01:00:00  1.047365    1.027739    1.065840"
            ]
          },
          "metadata": {
            "tags": []
          },
          "execution_count": 64
        }
      ]
    },
    {
      "cell_type": "code",
      "metadata": {
        "id": "svcwhgVlwsNm"
      },
      "source": [
        "pred_by_prophet = forecast_data.yhat.values[-120:]"
      ],
      "execution_count": null,
      "outputs": []
    },
    {
      "cell_type": "code",
      "metadata": {
        "id": "RxkyJC6qwkSD",
        "colab": {
          "base_uri": "https://localhost:8080/",
          "height": 537
        },
        "outputId": "90e7e0b0-1acf-4c32-f143-801f3452852f"
      },
      "source": [
        "plot_series(x_series, y_series)\n",
        "#plt.plot(np.arange(1380, 1380+120), preds1, label = 'ARIMA prediction')\n",
        "plt.plot(np.arange(1380, 1380+120), pred_by_prophet, label = 'Prophet prediction')\n",
        "plt.legend()\n",
        "plt.show()"
      ],
      "execution_count": null,
      "outputs": [
        {
          "output_type": "display_data",
          "data": {
            "image/png": "[encoded data removed]",
            "text/plain": [
              "<Figure size 1080x648 with 1 Axes>"
            ]
          },
          "metadata": {
            "tags": [],
            "needs_background": "light"
          }
        }
      ]
    },
    {
      "cell_type": "code",
      "metadata": {
        "id": "zxri0qKPw2lB",
        "colab": {
          "base_uri": "https://localhost:8080/",
          "height": 537
        },
        "outputId": "ea4ae91a-34d9-4993-a767-eab951572033"
      },
      "source": [
        "plot_series(x_series, y_series)\n",
        "plt.plot(np.arange(1380, 1380+120), pred_by_arima, label = 'ARIMA prediction')\n",
        "plt.plot(np.arange(1380, 1380+120), pred_by_prophet, label = 'Prophet prediction')\n",
        "plt.legend()\n",
        "plt.show()"
      ],
      "execution_count": null,
      "outputs": [
        {
          "output_type": "display_data",
          "data": {
            "image/png": "[encoded data removed]",
            "text/plain": [
              "<Figure size 1080x648 with 1 Axes>"
            ]
          },
          "metadata": {
            "tags": [],
            "needs_background": "light"
          }
        }
      ]
    },
    {
      "cell_type": "markdown",
      "metadata": {
        "id": "pIpttnZ-VK-r"
      },
      "source": [
        "## RNN 모델링\n",
        "\n",
        "deep neural model은 다는 못하고, coin_index = 9, 비트코인에 해당되는 것만 돌려봄."
      ]
    },
    {
      "cell_type": "markdown",
      "metadata": {
        "id": "-eyABCLvVo2Z"
      },
      "source": [
        "### library import"
      ]
    },
    {
      "cell_type": "code",
      "metadata": {
        "colab": {
          "base_uri": "https://localhost:8080/"
        },
        "id": "Gpn_jsZ0VRGk",
        "outputId": "2cc736c0-6ba1-4183-9116-a613da1908e7"
      },
      "source": [
        "# others\n",
        "import pandas as pd\n",
        "import numpy as np\n",
        "import argparse\n",
        "import datetime\n",
        "from copy import deepcopy # Add Deepcopy for args\n",
        "import pickle \n",
        "import seaborn as sns \n",
        "import matplotlib.pyplot as plt\n",
        "from sklearn.preprocessing import StandardScaler\n",
        "from sklearn.metrics import mean_absolute_error\n",
        "\n",
        "# pytorch\n",
        "import torch\n",
        "import torch.nn as nn\n",
        "from torch.utils.data import Dataset, DataLoader\n",
        "import torch.optim as optim\n",
        "\n",
        "\n",
        "print(torch.__version__)\n",
        "%matplotlib inline\n",
        "%pylab inline\n",
        "pylab.rcParams['figure.figsize'] = (15, 9)\n"
      ],
      "execution_count": null,
      "outputs": [
        {
          "output_type": "stream",
          "text": [
            "1.8.1+cu101\n",
            "Populating the interactive namespace from numpy and matplotlib\n"
          ],
          "name": "stdout"
        }
      ]
    },
    {
      "cell_type": "markdown",
      "metadata": {
        "id": "nmb-gQ4cVyK_"
      },
      "source": [
        "### data loading"
      ]
    },
    {
      "cell_type": "code",
      "metadata": {
        "id": "blwwGQIuVjxO"
      },
      "source": [
        "# read file\n",
        "train_x_df = pd.read_csv(\"./train_x_df.csv\")\n",
        "train_y_df = pd.read_csv(\"./train_y_df.csv\")\n",
        "\n",
        "coin_9_x_df = train_x_df[train_x_df['coin_index'] ==  9]\n",
        "coin_9_y_df = train_y_df[train_y_df['coin_index'] ==  9]"
      ],
      "execution_count": null,
      "outputs": []
    },
    {
      "cell_type": "code",
      "metadata": {
        "id": "v3kGmyTdMZaU"
      },
      "source": [
        " test_df = train_x_df[train_x_df['volume'] != 0]"
      ],
      "execution_count": null,
      "outputs": []
    },
    {
      "cell_type": "code",
      "metadata": {
        "id": "psxkFLYzNthi"
      },
      "source": [
        ""
      ],
      "execution_count": null,
      "outputs": []
    },
    {
      "cell_type": "code",
      "metadata": {
        "colab": {
          "base_uri": "https://localhost:8080/"
        },
        "id": "nTaWMzrHMzGd",
        "outputId": "66e3d3b4-10f1-4a20-8566-dfffdd8a392a"
      },
      "source": [
        "test_df['rest_asset'] = test_df['volume'] - test_df['tb_base_av']\n",
        "\n"
      ],
      "execution_count": null,
      "outputs": [
        {
          "output_type": "stream",
          "text": [
            "/usr/local/lib/python3.7/dist-packages/ipykernel_launcher.py:1: SettingWithCopyWarning: \n",
            "A value is trying to be set on a copy of a slice from a DataFrame.\n",
            "Try using .loc[row_indexer,col_indexer] = value instead\n",
            "\n",
            "See the caveats in the documentation: https://pandas.pydata.org/pandas-docs/stable/user_guide/indexing.html#returning-a-view-versus-a-copy\n",
            "  \"\"\"Entry point for launching an IPython kernel.\n"
          ],
          "name": "stderr"
        }
      ]
    },
    {
      "cell_type": "code",
      "metadata": {
        "colab": {
          "base_uri": "https://localhost:8080/"
        },
        "id": "-354q_4dMyjr",
        "outputId": "62bd218f-a5a8-4060-d8e4-779feb5bc4a3"
      },
      "source": [
        "test_df['greedy'] = test_df['tb_base_av'] / test_df['volume']"
      ],
      "execution_count": null,
      "outputs": [
        {
          "output_type": "stream",
          "text": [
            "/usr/local/lib/python3.7/dist-packages/ipykernel_launcher.py:1: SettingWithCopyWarning: \n",
            "A value is trying to be set on a copy of a slice from a DataFrame.\n",
            "Try using .loc[row_indexer,col_indexer] = value instead\n",
            "\n",
            "See the caveats in the documentation: https://pandas.pydata.org/pandas-docs/stable/user_guide/indexing.html#returning-a-view-versus-a-copy\n",
            "  \"\"\"Entry point for launching an IPython kernel.\n"
          ],
          "name": "stderr"
        }
      ]
    },
    {
      "cell_type": "code",
      "metadata": {
        "id": "o3BS4Sv1NkXg"
      },
      "source": [
        "test_df2 = test_df[['time', 'coin_index', 'open', 'high', 'low', 'close', 'volume', 'trades', 'tb_base_av','rest_asset', 'greedy']]"
      ],
      "execution_count": null,
      "outputs": []
    },
    {
      "cell_type": "code",
      "metadata": {
        "colab": {
          "base_uri": "https://localhost:8080/",
          "height": 200
        },
        "id": "abf2QkeoOJeW",
        "outputId": "31818c05-7e92-4a93-9c8f-591483eca6d9"
      },
      "source": [
        "test_df2[['coin_index','trades', 'volume', 'tb_base_av','rest_asset', 'greedy']].head()"
      ],
      "execution_count": null,
      "outputs": [
        {
          "output_type": "execute_result",
          "data": {
            "text/html": [
              "<div>\n",
              "<style scoped>\n",
              "    .dataframe tbody tr th:only-of-type {\n",
              "        vertical-align: middle;\n",
              "    }\n",
              "\n",
              "    .dataframe tbody tr th {\n",
              "        vertical-align: top;\n",
              "    }\n",
              "\n",
              "    .dataframe thead th {\n",
              "        text-align: right;\n",
              "    }\n",
              "</style>\n",
              "<table border=\"1\" class=\"dataframe\">\n",
              "  <thead>\n",
              "    <tr style=\"text-align: right;\">\n",
              "      <th></th>\n",
              "      <th>coin_index</th>\n",
              "      <th>trades</th>\n",
              "      <th>volume</th>\n",
              "      <th>tb_base_av</th>\n",
              "      <th>rest_asset</th>\n",
              "      <th>greedy</th>\n",
              "    </tr>\n",
              "  </thead>\n",
              "  <tbody>\n",
              "    <tr>\n",
              "      <th>0</th>\n",
              "      <td>9</td>\n",
              "      <td>0.009855</td>\n",
              "      <td>0.001334</td>\n",
              "      <td>0.000848</td>\n",
              "      <td>0.000486</td>\n",
              "      <td>0.635791</td>\n",
              "    </tr>\n",
              "    <tr>\n",
              "      <th>1</th>\n",
              "      <td>9</td>\n",
              "      <td>0.016137</td>\n",
              "      <td>0.001425</td>\n",
              "      <td>0.000697</td>\n",
              "      <td>0.000728</td>\n",
              "      <td>0.489180</td>\n",
              "    </tr>\n",
              "    <tr>\n",
              "      <th>2</th>\n",
              "      <td>9</td>\n",
              "      <td>0.014166</td>\n",
              "      <td>0.001542</td>\n",
              "      <td>0.000905</td>\n",
              "      <td>0.000636</td>\n",
              "      <td>0.587194</td>\n",
              "    </tr>\n",
              "    <tr>\n",
              "      <th>3</th>\n",
              "      <td>9</td>\n",
              "      <td>0.021557</td>\n",
              "      <td>0.002520</td>\n",
              "      <td>0.001171</td>\n",
              "      <td>0.001349</td>\n",
              "      <td>0.464522</td>\n",
              "    </tr>\n",
              "    <tr>\n",
              "      <th>4</th>\n",
              "      <td>9</td>\n",
              "      <td>0.021434</td>\n",
              "      <td>0.002818</td>\n",
              "      <td>0.001799</td>\n",
              "      <td>0.001019</td>\n",
              "      <td>0.638314</td>\n",
              "    </tr>\n",
              "  </tbody>\n",
              "</table>\n",
              "</div>"
            ],
            "text/plain": [
              "   coin_index    trades    volume  tb_base_av  rest_asset    greedy\n",
              "0           9  0.009855  0.001334    0.000848    0.000486  0.635791\n",
              "1           9  0.016137  0.001425    0.000697    0.000728  0.489180\n",
              "2           9  0.014166  0.001542    0.000905    0.000636  0.587194\n",
              "3           9  0.021557  0.002520    0.001171    0.001349  0.464522\n",
              "4           9  0.021434  0.002818    0.001799    0.001019  0.638314"
            ]
          },
          "metadata": {
            "tags": []
          },
          "execution_count": 30
        }
      ]
    },
    {
      "cell_type": "code",
      "metadata": {
        "colab": {
          "base_uri": "https://localhost:8080/",
          "height": 200
        },
        "id": "PMGaiK27OwDu",
        "outputId": "3ae04cfd-3eea-4968-edc8-74bbae40d3d3"
      },
      "source": [
        "test_df2[test_df2['greedy'] == 1][['coin_index','trades', 'volume', 'tb_base_av','rest_asset', 'greedy']].head()"
      ],
      "execution_count": null,
      "outputs": [
        {
          "output_type": "execute_result",
          "data": {
            "text/html": [
              "<div>\n",
              "<style scoped>\n",
              "    .dataframe tbody tr th:only-of-type {\n",
              "        vertical-align: middle;\n",
              "    }\n",
              "\n",
              "    .dataframe tbody tr th {\n",
              "        vertical-align: top;\n",
              "    }\n",
              "\n",
              "    .dataframe thead th {\n",
              "        text-align: right;\n",
              "    }\n",
              "</style>\n",
              "<table border=\"1\" class=\"dataframe\">\n",
              "  <thead>\n",
              "    <tr style=\"text-align: right;\">\n",
              "      <th></th>\n",
              "      <th>coin_index</th>\n",
              "      <th>trades</th>\n",
              "      <th>volume</th>\n",
              "      <th>tb_base_av</th>\n",
              "      <th>rest_asset</th>\n",
              "      <th>greedy</th>\n",
              "    </tr>\n",
              "  </thead>\n",
              "  <tbody>\n",
              "    <tr>\n",
              "      <th>2929</th>\n",
              "      <td>4</td>\n",
              "      <td>40.257648</td>\n",
              "      <td>31704.576172</td>\n",
              "      <td>31704.576172</td>\n",
              "      <td>0.0</td>\n",
              "      <td>1.0</td>\n",
              "    </tr>\n",
              "    <tr>\n",
              "      <th>2992</th>\n",
              "      <td>4</td>\n",
              "      <td>50.322063</td>\n",
              "      <td>42596.621094</td>\n",
              "      <td>42596.621094</td>\n",
              "      <td>0.0</td>\n",
              "      <td>1.0</td>\n",
              "    </tr>\n",
              "    <tr>\n",
              "      <th>3070</th>\n",
              "      <td>4</td>\n",
              "      <td>26.838432</td>\n",
              "      <td>18679.884766</td>\n",
              "      <td>18679.884766</td>\n",
              "      <td>0.0</td>\n",
              "      <td>1.0</td>\n",
              "    </tr>\n",
              "    <tr>\n",
              "      <th>3097</th>\n",
              "      <td>4</td>\n",
              "      <td>23.483629</td>\n",
              "      <td>9658.816406</td>\n",
              "      <td>9658.816406</td>\n",
              "      <td>0.0</td>\n",
              "      <td>1.0</td>\n",
              "    </tr>\n",
              "    <tr>\n",
              "      <th>3112</th>\n",
              "      <td>4</td>\n",
              "      <td>23.483629</td>\n",
              "      <td>18480.273438</td>\n",
              "      <td>18480.273438</td>\n",
              "      <td>0.0</td>\n",
              "      <td>1.0</td>\n",
              "    </tr>\n",
              "  </tbody>\n",
              "</table>\n",
              "</div>"
            ],
            "text/plain": [
              "      coin_index     trades        volume    tb_base_av  rest_asset  greedy\n",
              "2929           4  40.257648  31704.576172  31704.576172         0.0     1.0\n",
              "2992           4  50.322063  42596.621094  42596.621094         0.0     1.0\n",
              "3070           4  26.838432  18679.884766  18679.884766         0.0     1.0\n",
              "3097           4  23.483629   9658.816406   9658.816406         0.0     1.0\n",
              "3112           4  23.483629  18480.273438  18480.273438         0.0     1.0"
            ]
          },
          "metadata": {
            "tags": []
          },
          "execution_count": 41
        }
      ]
    },
    {
      "cell_type": "code",
      "metadata": {
        "id": "8EeDUk1IWsN-"
      },
      "source": [
        "# numpy arrary conversion\n",
        "\n",
        "def df2d_to_array3d(df_2d):\n",
        "    # 입력 받은 2차원 데이터 프레임을 3차원 numpy array로 변경하는 함수\n",
        "    feature_size = df_2d.iloc[:,2:].shape[1]\n",
        "    time_size = len(df_2d.time.value_counts())\n",
        "    sample_size = len(df_2d.sample_id.value_counts())\n",
        "\n",
        "    # 2위 팀에서 임의로 넣어둠\n",
        "    # sample_index = df_2d.sample_id.value_counts().index\n",
        "    array_3d = df_2d.iloc[:,2:].values.reshape([sample_size, time_size, feature_size])\n",
        "    return array_3d\n",
        "\n"
      ],
      "execution_count": null,
      "outputs": []
    },
    {
      "cell_type": "code",
      "metadata": {
        "colab": {
          "base_uri": "https://localhost:8080/",
          "height": 201
        },
        "id": "yRTpPqLpeDFK",
        "outputId": "37f69160-19c0-4a4f-9640-5b973154ef0d"
      },
      "source": [
        "coin_9_x_df.head()"
      ],
      "execution_count": null,
      "outputs": [
        {
          "output_type": "execute_result",
          "data": {
            "text/html": [
              "<div>\n",
              "<style scoped>\n",
              "    .dataframe tbody tr th:only-of-type {\n",
              "        vertical-align: middle;\n",
              "    }\n",
              "\n",
              "    .dataframe tbody tr th {\n",
              "        vertical-align: top;\n",
              "    }\n",
              "\n",
              "    .dataframe thead th {\n",
              "        text-align: right;\n",
              "    }\n",
              "</style>\n",
              "<table border=\"1\" class=\"dataframe\">\n",
              "  <thead>\n",
              "    <tr style=\"text-align: right;\">\n",
              "      <th></th>\n",
              "      <th>sample_id</th>\n",
              "      <th>time</th>\n",
              "      <th>coin_index</th>\n",
              "      <th>open</th>\n",
              "      <th>high</th>\n",
              "      <th>low</th>\n",
              "      <th>close</th>\n",
              "      <th>volume</th>\n",
              "      <th>quote_av</th>\n",
              "      <th>trades</th>\n",
              "      <th>tb_base_av</th>\n",
              "      <th>tb_quote_av</th>\n",
              "    </tr>\n",
              "  </thead>\n",
              "  <tbody>\n",
              "    <tr>\n",
              "      <th>0</th>\n",
              "      <td>0</td>\n",
              "      <td>0</td>\n",
              "      <td>9</td>\n",
              "      <td>0.983614</td>\n",
              "      <td>0.983614</td>\n",
              "      <td>0.983128</td>\n",
              "      <td>0.983246</td>\n",
              "      <td>0.001334</td>\n",
              "      <td>10.650987</td>\n",
              "      <td>0.009855</td>\n",
              "      <td>0.000848</td>\n",
              "      <td>6.771755</td>\n",
              "    </tr>\n",
              "    <tr>\n",
              "      <th>1</th>\n",
              "      <td>0</td>\n",
              "      <td>1</td>\n",
              "      <td>9</td>\n",
              "      <td>0.983245</td>\n",
              "      <td>0.983612</td>\n",
              "      <td>0.982453</td>\n",
              "      <td>0.982693</td>\n",
              "      <td>0.001425</td>\n",
              "      <td>11.375689</td>\n",
              "      <td>0.016137</td>\n",
              "      <td>0.000697</td>\n",
              "      <td>5.565188</td>\n",
              "    </tr>\n",
              "    <tr>\n",
              "      <th>2</th>\n",
              "      <td>0</td>\n",
              "      <td>2</td>\n",
              "      <td>9</td>\n",
              "      <td>0.982694</td>\n",
              "      <td>0.983612</td>\n",
              "      <td>0.982403</td>\n",
              "      <td>0.983002</td>\n",
              "      <td>0.001542</td>\n",
              "      <td>12.301942</td>\n",
              "      <td>0.014166</td>\n",
              "      <td>0.000905</td>\n",
              "      <td>7.225459</td>\n",
              "    </tr>\n",
              "    <tr>\n",
              "      <th>3</th>\n",
              "      <td>0</td>\n",
              "      <td>3</td>\n",
              "      <td>9</td>\n",
              "      <td>0.983009</td>\n",
              "      <td>0.984848</td>\n",
              "      <td>0.983009</td>\n",
              "      <td>0.984486</td>\n",
              "      <td>0.002520</td>\n",
              "      <td>20.134695</td>\n",
              "      <td>0.021557</td>\n",
              "      <td>0.001171</td>\n",
              "      <td>9.353000</td>\n",
              "    </tr>\n",
              "    <tr>\n",
              "      <th>4</th>\n",
              "      <td>0</td>\n",
              "      <td>4</td>\n",
              "      <td>9</td>\n",
              "      <td>0.984233</td>\n",
              "      <td>0.984606</td>\n",
              "      <td>0.983612</td>\n",
              "      <td>0.984164</td>\n",
              "      <td>0.002818</td>\n",
              "      <td>22.515448</td>\n",
              "      <td>0.021434</td>\n",
              "      <td>0.001799</td>\n",
              "      <td>14.372534</td>\n",
              "    </tr>\n",
              "  </tbody>\n",
              "</table>\n",
              "</div>"
            ],
            "text/plain": [
              "   sample_id  time  coin_index  ...    trades  tb_base_av  tb_quote_av\n",
              "0          0     0           9  ...  0.009855    0.000848     6.771755\n",
              "1          0     1           9  ...  0.016137    0.000697     5.565188\n",
              "2          0     2           9  ...  0.014166    0.000905     7.225459\n",
              "3          0     3           9  ...  0.021557    0.001171     9.353000\n",
              "4          0     4           9  ...  0.021434    0.001799    14.372534\n",
              "\n",
              "[5 rows x 12 columns]"
            ]
          },
          "metadata": {
            "tags": []
          },
          "execution_count": 78
        }
      ]
    },
    {
      "cell_type": "code",
      "metadata": {
        "colab": {
          "base_uri": "https://localhost:8080/"
        },
        "id": "X4kODbSab6E9",
        "outputId": "8d224fc4-cbe8-4f0f-d981-9b0800f46604"
      },
      "source": [
        "coin_9_x_df.sample_id.value_counts().index"
      ],
      "execution_count": null,
      "outputs": [
        {
          "output_type": "execute_result",
          "data": {
            "text/plain": [
              "Int64Index([2047, 4408, 4409,  315, 6463, 1340, 2364, 4415, 3391, 7484,\n",
              "            ...\n",
              "            5805, 3760, 5812, 4785, 1716, 3765, 4791, 1717, 2743,    0],\n",
              "           dtype='int64', length=1208)"
            ]
          },
          "metadata": {
            "tags": []
          },
          "execution_count": 75
        }
      ]
    },
    {
      "cell_type": "code",
      "metadata": {
        "colab": {
          "base_uri": "https://localhost:8080/"
        },
        "id": "tZPpFuqzYAyL",
        "outputId": "2aa4e187-ece0-477a-cfd0-c6806a08e2fb"
      },
      "source": [
        "print(len(coin_9_x_df) / 1380)\n",
        "print(len(coin_9_y_df) / 120)"
      ],
      "execution_count": null,
      "outputs": [
        {
          "output_type": "stream",
          "text": [
            "1208.0\n",
            "1208.0\n"
          ],
          "name": "stdout"
        }
      ]
    },
    {
      "cell_type": "code",
      "metadata": {
        "colab": {
          "base_uri": "https://localhost:8080/"
        },
        "id": "GOBSyaVJXxo4",
        "outputId": "c1e140cf-dc33-40b2-ce28-7072a57fb93d"
      },
      "source": [
        "train_x_array = df2d_to_array3d(coin_9_x_df)\n",
        "train_y_array = df2d_to_array3d(coin_9_y_df)\n",
        "\n",
        "print(f'''\n",
        "\n",
        "train_x_array {train_x_array.shape}\n",
        "train_y_array {train_y_array.shape}\n",
        "\n",
        "''')"
      ],
      "execution_count": null,
      "outputs": [
        {
          "output_type": "stream",
          "text": [
            "\n",
            "\n",
            "train_x_array (1208, 1380, 10)\n",
            "train_y_array (1208, 120, 10)\n",
            "\n",
            "\n"
          ],
          "name": "stdout"
        }
      ]
    },
    {
      "cell_type": "code",
      "metadata": {
        "colab": {
          "base_uri": "https://localhost:8080/"
        },
        "id": "Jsu4LS9RbtoA",
        "outputId": "9dfbb188-b762-4bf8-aa16-5b1f6de2689c"
      },
      "source": [
        "train_x_array[0, 0, :]"
      ],
      "execution_count": null,
      "outputs": [
        {
          "output_type": "execute_result",
          "data": {
            "text/plain": [
              "array([9.00000000e+00, 9.83614206e-01, 9.83614206e-01, 9.83127594e-01,\n",
              "       9.83245909e-01, 1.33405230e-03, 1.06509867e+01, 9.85464361e-03,\n",
              "       8.48178868e-04, 6.77175522e+00])"
            ]
          },
          "metadata": {
            "tags": []
          },
          "execution_count": 79
        }
      ]
    },
    {
      "cell_type": "code",
      "metadata": {
        "id": "CMVgv3sOeZrg"
      },
      "source": [
        "class DatasetGenerater(object):\n",
        "    '''설명 : '''\n",
        "    \n",
        "    def __init__(self, dataframe, x_frames, y_frames):\n",
        "\n",
        "        '''    \n",
        "        : param dataframe:   Raw data to load for making dataset\n",
        "        : param x_frames:    the number of input day size\n",
        "        : param y_frames:    the number of output day size\n",
        "        '''\n",
        "        self.dataframe = dataframe\n",
        "        self.x_frames = x_frames\n",
        "        self.y_frames = y_frames\n",
        "\n",
        "        check_null = self.dataframe.isna().sum().sum()\n",
        "        print(\"null clear\") if check_null == 0 else print(\"null exist\")\n",
        "        \n",
        "        \n",
        "    def __len__(self):\n",
        "        return len(self.dataframe) - (self.x_frames + self.y_frames) + 1\n",
        "    \n",
        "    \n",
        "    def __getitem__(self, idx):\n",
        "        idx += self.x_frames\n",
        "        \n",
        "        dataframe = self.dataframe.iloc[idx-self.x_frames:idx+self.y_frames]\n",
        "        dataframe = dataframe.values\n",
        "        \n",
        "        X = dataframe[:self.x_frames]\n",
        "        y = dataframe[self.x_frames:]\n",
        "        \n",
        "        return X, y"
      ],
      "execution_count": null,
      "outputs": []
    }
  ]
}