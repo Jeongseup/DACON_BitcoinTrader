{
 "cells": [
  {
   "cell_type": "markdown",
   "metadata": {
    "id": "O96S8VwXZvoZ"
   },
   "source": [
    "### 데이콘 비트코인 가격 예측 - ARIMA"
   ]
  },
  {
   "cell_type": "code",
   "execution_count": 3,
   "metadata": {},
   "outputs": [],
   "source": [
    "import os\n",
    "import numpy as np\n",
    "import pandas as pd\n",
    "from tqdm import tqdm\n",
    "import matplotlib.pyplot as plt\n",
    "import IPython, IPython.display\n",
    "\n",
    "# model library\n",
    "from pmdarima import auto_arima\n",
    "from statsmodels.tsa.arima.model import ARIMA\n",
    "\n",
    "# self-library\n",
    "import preprocessor, simulator"
   ]
  },
  {
   "cell_type": "code",
   "execution_count": 4,
   "metadata": {},
   "outputs": [],
   "source": [
    "\n",
    "# modeling programing\n",
    "def auto_arima_modeling(input_array):\n",
    "    ''' 함수 설명 : auto arima fitting & prediction'''\n",
    "    \n",
    "    #미래 데이터 저장을 위한 빈 array 생성\n",
    "    valid_pred_array =  np.zeros([input_array.shape[0], 120])\n",
    "    zero_para_counter = 0\n",
    "    \n",
    "    #모델 돌리기 및 결과 저장\n",
    "    for idx in tqdm(range(input_array.shape[0])):\n",
    "        try:\n",
    "            x_series = input_array[idx,:].reshape(-1)\n",
    "            \n",
    "            # arima 파라미터 최적화\n",
    "            optim_pararmeter = auto_arima(x_series, stepwise=True, error_action='ignore', seasonal=False)\n",
    "            model = ARIMA(x_series, order=optim_pararmeter.order)\n",
    "            \n",
    "            # 모델 학습\n",
    "            fit = model.fit()\n",
    "            preds = fit.predict(1, 120, typ='levels')\n",
    "            print(preds)\n",
    "            valid_pred_array[idx,:] = preds # - (preds[0]-x_series[-1])\n",
    "        \n",
    "        except:\n",
    "            zero_para_counter += 1\n",
    "            print(\n",
    "                f'{idx}번째 샘플은 수렴하지 않습니다. \\nARIMA 파라미터 (p,d,q) 값을 모두 0으로 설정합니다.'\n",
    "            )\n",
    "            # ARIMA의 (p,d,q) 값이 (5,1,1), (4,1,1)에서 수렴하지 않을 경우\n",
    "            # 모두 0으로 채움\n",
    "            pass\n",
    "        \n",
    "        # clear display\n",
    "        IPython.display.clear_output()\n",
    "    \n",
    "    print(f'''\n",
    "    Warning : {len(input_array)}의 샘플 내 {zero_para_counter}개의 샘플이 수렴하지 못 했습니다.\n",
    "    '''\n",
    "    )\n",
    "    return valid_pred_array"
   ]
  },
  {
   "cell_type": "code",
   "execution_count": 4,
   "metadata": {},
   "outputs": [
    {
     "name": "stdout",
     "output_type": "stream",
     "text": [
      "Reading Complete!\n"
     ]
    }
   ],
   "source": [
    "### ------------ Data upload part ---------------- ###\n",
    "\n",
    "# 데이터가 위치한 폴더 경로\n",
    "dir_path = './data'\n",
    "\n",
    "# 파일명 설정\n",
    "x_file_name, y_file_name = 'train_x_df.csv', 'train_y_df.csv'\n",
    "x_file_path = os.path.join(dir_path, x_file_name)\n",
    "y_file_path = os.path.join(dir_path, y_file_name)\n",
    "\n",
    "#파일 업로드\n",
    "train_x_df = pd.read_csv(x_file_path)\n",
    "train_y_df = pd.read_csv(y_file_path)\n",
    "print(\"Reading Complete!\")"
   ]
  },
  {
   "cell_type": "code",
   "execution_count": 5,
   "metadata": {},
   "outputs": [],
   "source": [
    "### --------------- Modeling part ---------------- ###\n",
    "\n",
    "# 데이터 전처리 1 : dafaframe to array \n",
    "train_x_array = preprocessor.df2d_to_array3d(train_x_df)\n",
    "train_y_array = preprocessor.df2d_to_array3d(train_y_df)\n",
    "\n",
    "# 데이터 전처리 2 : 실수 차분(Fractional Differencing) -> diff_train_open_array \n",
    "FFD_train_x_array = preprocessor.FFD_smoothing(train_x_array)\n",
    "\n",
    "# 데이터 전처리 2-2 : 비차분\n",
    "# normal_x_array = train_x_array[:383, :, 1].reshape(383, 1380, 1) # open col is 1"
   ]
  },
  {
   "cell_type": "code",
   "execution_count": null,
   "metadata": {},
   "outputs": [],
   "source": [
    "# modeling start and save predicted array\n",
    "valid_pred_array = auto_arima_modeling(input_array=FFD_train_x_array)\n",
    "save_file_name = 'arima_result.csv'\n",
    "np.savetxt(save_file_name, valid_pred_array, delimiter = \",\")\n"
   ]
  },
  {
   "cell_type": "code",
   "execution_count": 13,
   "metadata": {},
   "outputs": [],
   "source": [
    "pred_array = pd.read_csv('./results/FFD_neural_prophet_result.csv', header=None)\n",
    "pred_arr = pred_array.values"
   ]
  },
  {
   "cell_type": "code",
   "execution_count": 22,
   "metadata": {},
   "outputs": [],
   "source": [
    "#구매량 및 판매 시점\n",
    "valid_submission = simulator.array_to_submission(pred_arr, start_idx=0, increase_rate = 1.04)\n",
    "\n",
    "#투자 시뮬레이션 vali sample is < 383\n",
    "valid_y_df = train_y_df[train_y_df.sample_id < 383]"
   ]
  },
  {
   "cell_type": "code",
   "execution_count": 26,
   "metadata": {},
   "outputs": [],
   "source": [
    "valid_arr = simulator.df2d_to_answer(valid_y_df)\n",
    "total_momey, total_momey_list = simulator.COIN(valid_arr, valid_submission)"
   ]
  },
  {
   "cell_type": "code",
   "execution_count": 30,
   "metadata": {},
   "outputs": [],
   "source": [
    "\n",
    "exp_name = 'Auto ARIMA with FracDiff'"
   ]
  },
  {
   "cell_type": "code",
   "execution_count": 39,
   "metadata": {},
   "outputs": [],
   "source": [
    "def investing_histroy(exp_name, total_momey_list, total_momey, save_mode):\n",
    "    \n",
    "\n",
    "    # 투자 히스토리\n",
    "    plt.plot(total_momey_list)\n",
    "    plt.title(exp_name + \" Investing History\", fontsize = 12, y = 1.02)\n",
    "    plt.ylabel(\"total asset\")\n",
    "    plt.xlabel(\"trial time\")\n",
    "    plt.text(60, 10000, total_momey)\n",
    "    plt.grid(True)\n",
    "\n",
    "    if save_mode is True:\n",
    "        plt.savefig(f'./images/{exp_name}.png')\n",
    "    plt.show()"
   ]
  },
  {
   "cell_type": "code",
   "execution_count": 40,
   "metadata": {
    "scrolled": true
   },
   "outputs": [
    {
     "data": {
      "image/png": "[encoded data removed]",
      "text/plain": [
       "<Figure size 432x288 with 1 Axes>"
      ]
     },
     "metadata": {
      "needs_background": "light"
     },
     "output_type": "display_data"
    }
   ],
   "source": [
    "investing_histroy(exp_name, total_momey_list, total_momey, save_mode = False)"
   ]
  }
 ],
 "metadata": {
  "colab": {
   "name": "ARIMA(2,0,2)_pilot",
   "provenance": [],
   "toc_visible": true
  },
  "kernelspec": {
   "display_name": "Python 3",
   "language": "python",
   "name": "python3"
  },
  "language_info": {
   "codemirror_mode": {
    "name": "ipython",
    "version": 3
   },
   "file_extension": ".py",
   "mimetype": "text/x-python",
   "name": "python",
   "nbconvert_exporter": "python",
   "pygments_lexer": "ipython3",
   "version": "3.7.10"
  }
 },
 "nbformat": 4,
 "nbformat_minor": 1
}
